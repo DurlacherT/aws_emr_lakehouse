{
 "cells": [
  {
   "cell_type": "code",
   "execution_count": null,
   "metadata": {},
   "outputs": [],
   "source": [
    "Iceberg"
   ]
  },
  {
   "cell_type": "code",
   "execution_count": 1,
   "metadata": {
    "execution": {
     "iopub.execute_input": "2024-01-18T23:34:29.651413Z",
     "iopub.status.busy": "2024-01-18T23:34:29.650790Z",
     "iopub.status.idle": "2024-01-18T23:34:30.411492Z",
     "shell.execute_reply": "2024-01-18T23:34:30.410385Z",
     "shell.execute_reply.started": "2024-01-18T23:34:29.651378Z"
    },
    "tags": []
   },
   "outputs": [
    {
     "data": {
      "text/html": [
       "Current session configs: <tt>{'conf': {'spark.sql.extensions': 'org.apache.iceberg.spark.extensions.IcebergSparkSessionExtensions', 'spark.sql.catalog.dev': 'org.apache.iceberg.spark.SparkCatalog', 'spark.sql.catalog.dev.warehouse': 's3://apacheiceberg/iceberg11', 'spark.sql.catalog.dev.catalog-impl': 'org.apache.iceberg.aws.glue.GlueCatalog', 'spark.sql.catalog.dev.io-impl': 'org.apache.iceberg.aws.s3.S3FileIO', 'spark.sql.catalog.dev.lock-impl': 'org.apache.iceberg.aws.dynamodb.DynamoDbLockManager', 'spark.sql.catalog.dev.lock.table': 'myGlueLockTable'}, 'proxyUser': 'user_lakehouse', 'kind': 'pyspark'}</tt><br>"
      ],
      "text/plain": [
       "<IPython.core.display.HTML object>"
      ]
     },
     "metadata": {},
     "output_type": "display_data"
    },
    {
     "data": {
      "text/html": [
       "No active sessions."
      ],
      "text/plain": [
       "<IPython.core.display.HTML object>"
      ]
     },
     "metadata": {},
     "output_type": "display_data"
    }
   ],
   "source": [
    "%%configure -f\n",
    "{\n",
    "  \"conf\": {\n",
    "    \"spark.sql.extensions\": \"org.apache.iceberg.spark.extensions.IcebergSparkSessionExtensions\",\n",
    "    \"spark.sql.catalog.dev\": \"org.apache.iceberg.spark.SparkCatalog\",\n",
    "    \"spark.sql.catalog.dev.warehouse\": \"s3://apacheiceberg/iceberg11\",\n",
    "    \"spark.sql.catalog.dev.catalog-impl\": \"org.apache.iceberg.aws.glue.GlueCatalog\",\n",
    "    \"spark.sql.catalog.dev.io-impl\": \"org.apache.iceberg.aws.s3.S3FileIO\",\n",
    "    \"spark.sql.catalog.dev.lock-impl\": \"org.apache.iceberg.aws.dynamodb.DynamoDbLockManager\",\n",
    "    \"spark.sql.catalog.dev.lock.table\": \"myGlueLockTable\"\n",
    "  }\n",
    "}"
   ]
  },
  {
   "cell_type": "code",
   "execution_count": 2,
   "metadata": {
    "execution": {
     "iopub.execute_input": "2024-01-15T20:00:25.736562Z",
     "iopub.status.busy": "2024-01-15T20:00:25.736125Z",
     "iopub.status.idle": "2024-01-15T20:01:16.167917Z",
     "shell.execute_reply": "2024-01-15T20:01:16.166930Z",
     "shell.execute_reply.started": "2024-01-15T20:00:25.736511Z"
    },
    "tags": []
   },
   "outputs": [
    {
     "data": {
      "application/vnd.jupyter.widget-view+json": {
       "model_id": "09c099c8ab5d4caebd189b1a9f5f208f",
       "version_major": 2,
       "version_minor": 0
      },
      "text/plain": [
       "VBox()"
      ]
     },
     "metadata": {},
     "output_type": "display_data"
    },
    {
     "name": "stdout",
     "output_type": "stream",
     "text": [
      "Starting Spark application\n"
     ]
    },
    {
     "data": {
      "text/html": [
       "<table>\n",
       "<tbody><tr><th>ID</th><th>YARN Application ID</th><th>Kind</th><th>State</th><th>Spark UI</th><th>Driver log</th><th>User</th><th>Current session?</th></tr><tr><td>0</td><td>application_1705348621891_0001</td><td>pyspark</td><td>idle</td><td><a target=\"_blank\" href=\"http://ip-172-31-56-243.us-west-2.compute.internal:20888/proxy/application_1705348621891_0001/\" class=\"emr-proxy-link j-2IBQ8SPI8NB28 application_1705348621891_0001\" emr-resource=\"j-2IBQ8SPI8NB28\n",
       "\" application-id=\"application_1705348621891_0001\">Link</a></td><td><a target=\"_blank\" href=\"http://ip-172-31-56-175.us-west-2.compute.internal:8042/node/containerlogs/container_1705348621891_0001_01_000001/livy\">Link</a></td><td>None</td><td>✔</td></tr></tbody></table>"
      ],
      "text/plain": [
       "<IPython.core.display.HTML object>"
      ]
     },
     "metadata": {},
     "output_type": "display_data"
    },
    {
     "data": {
      "application/vnd.jupyter.widget-view+json": {
       "model_id": "",
       "version_major": 2,
       "version_minor": 0
      },
      "text/plain": [
       "FloatProgress(value=0.0, bar_style='info', description='Progress:', layout=Layout(height='25px', width='50%'),…"
      ]
     },
     "metadata": {},
     "output_type": "display_data"
    },
    {
     "name": "stdout",
     "output_type": "stream",
     "text": [
      "SparkSession available as 'spark'.\n"
     ]
    },
    {
     "data": {
      "application/vnd.jupyter.widget-view+json": {
       "model_id": "",
       "version_major": 2,
       "version_minor": 0
      },
      "text/plain": [
       "FloatProgress(value=0.0, bar_style='info', description='Progress:', layout=Layout(height='25px', width='50%'),…"
      ]
     },
     "metadata": {},
     "output_type": "display_data"
    }
   ],
   "source": [
    "db = 'dev.iceberg100'\n",
    "db_path = 's3://apacheiceberg/iceberg100/'\n",
    "raw_data = 's3:dev.iceberg100.customer_address.ca_state //dwh100/data/'\n",
    "table_format = 'iceberg'"
   ]
  },
  {
   "cell_type": "code",
   "execution_count": 2,
   "metadata": {
    "execution": {
     "iopub.execute_input": "2024-01-18T23:34:39.062514Z",
     "iopub.status.busy": "2024-01-18T23:34:39.062226Z",
     "iopub.status.idle": "2024-01-18T23:35:33.078357Z",
     "shell.execute_reply": "2024-01-18T23:35:33.076656Z",
     "shell.execute_reply.started": "2024-01-18T23:34:39.062484Z"
    },
    "tags": []
   },
   "outputs": [
    {
     "data": {
      "application/vnd.jupyter.widget-view+json": {
       "model_id": "930b13538b4445ce8415ebd47f31f40d",
       "version_major": 2,
       "version_minor": 0
      },
      "text/plain": [
       "VBox()"
      ]
     },
     "metadata": {},
     "output_type": "display_data"
    },
    {
     "name": "stdout",
     "output_type": "stream",
     "text": [
      "Starting Spark application\n"
     ]
    },
    {
     "data": {
      "text/html": [
       "<table>\n<tbody><tr><th>ID</th><th>YARN Application ID</th><th>Kind</th><th>State</th><th>Spark UI</th><th>Driver log</th><th>User</th><th>Current session?</th></tr><tr><td>0</td><td>application_1705620742334_0001</td><td>pyspark</td><td>idle</td><td><a target=\"_blank\" href=\"http://ip-172-31-55-1.us-west-2.compute.internal:20888/proxy/application_1705620742334_0001/\" class=\"emr-proxy-link j-3OM5VLZQBKP6P application_1705620742334_0001\" emr-resource=\"j-3OM5VLZQBKP6P\n\" application-id=\"application_1705620742334_0001\">Link</a></td><td><a target=\"_blank\" href=\"http://ip-172-31-53-150.us-west-2.compute.internal:8042/node/containerlogs/container_1705620742334_0001_01_000001/livy\">Link</a></td><td>None</td><td>✔</td></tr></tbody></table>"
      ],
      "text/plain": [
       "<IPython.core.display.HTML object>"
      ]
     },
     "metadata": {},
     "output_type": "display_data"
    },
    {
     "data": {
      "application/vnd.jupyter.widget-view+json": {
       "model_id": "",
       "version_major": 2,
       "version_minor": 0
      },
      "text/plain": [
       "FloatProgress(value=0.0, bar_style='info', description='Progress:', layout=Layout(height='25px', width='50%'),…"
      ]
     },
     "metadata": {},
     "output_type": "display_data"
    },
    {
     "name": "stdout",
     "output_type": "stream",
     "text": [
      "SparkSession available as 'spark'.\n"
     ]
    },
    {
     "data": {
      "application/vnd.jupyter.widget-view+json": {
       "model_id": "",
       "version_major": 2,
       "version_minor": 0
      },
      "text/plain": [
       "FloatProgress(value=0.0, bar_style='info', description='Progress:', layout=Layout(height='25px', width='50%'),…"
      ]
     },
     "metadata": {},
     "output_type": "display_data"
    }
   ],
   "source": [
    "db = 'dev.iceberg11'\n",
    "db_path = 's3://apacheiceberg/iceberg11/'\n",
    "raw_data = 's3://raw1tcpds/data/'\n",
    "table_format = 'iceberg'"
   ]
  },
  {
   "cell_type": "code",
   "execution_count": 4,
   "metadata": {
    "execution": {
     "iopub.execute_input": "2024-01-15T19:43:02.233729Z",
     "iopub.status.busy": "2024-01-15T19:43:02.233378Z",
     "iopub.status.idle": "2024-01-15T19:43:03.029402Z",
     "shell.execute_reply": "2024-01-15T19:43:03.027852Z",
     "shell.execute_reply.started": "2024-01-15T19:43:02.233692Z"
    },
    "tags": []
   },
   "outputs": [
    {
     "data": {
      "application/vnd.jupyter.widget-view+json": {
       "model_id": "b9b2a500d0fc4a9d981f07ebef61e590",
       "version_major": 2,
       "version_minor": 0
      },
      "text/plain": [
       "VBox()"
      ]
     },
     "metadata": {},
     "output_type": "display_data"
    },
    {
     "data": {
      "application/vnd.jupyter.widget-view+json": {
       "model_id": "",
       "version_major": 2,
       "version_minor": 0
      },
      "text/plain": [
       "FloatProgress(value=0.0, bar_style='info', description='Progress:', layout=Layout(height='25px', width='50%'),…"
      ]
     },
     "metadata": {},
     "output_type": "display_data"
    },
    {
     "name": "stderr",
     "output_type": "stream",
     "text": [
      "An error was encountered:\n",
      "[SCHEMA_ALREADY_EXISTS] Cannot create schema `iceberg100` because it already exists.\n",
      "Choose a different name, drop the existing schema, or add the IF NOT EXISTS clause to tolerate pre-existing schema.\n",
      "Traceback (most recent call last):\n",
      "  File \"/mnt/yarn/usercache/livy/appcache/application_1705346256285_0003/container_1705346256285_0003_01_000001/pyspark.zip/pyspark/sql/session.py\", line 1440, in sql\n",
      "    return DataFrame(self._jsparkSession.sql(sqlQuery, litArgs), self)\n",
      "  File \"/mnt/yarn/usercache/livy/appcache/application_1705346256285_0003/container_1705346256285_0003_01_000001/py4j-0.10.9.7-src.zip/py4j/java_gateway.py\", line 1323, in __call__\n",
      "    answer, self.gateway_client, self.target_id, self.name)\n",
      "  File \"/mnt/yarn/usercache/livy/appcache/application_1705346256285_0003/container_1705346256285_0003_01_000001/pyspark.zip/pyspark/errors/exceptions/captured.py\", line 175, in deco\n",
      "    raise converted from None\n",
      "pyspark.errors.exceptions.captured.AnalysisException: [SCHEMA_ALREADY_EXISTS] Cannot create schema `iceberg100` because it already exists.\n",
      "Choose a different name, drop the existing schema, or add the IF NOT EXISTS clause to tolerate pre-existing schema.\n",
      "\n"
     ]
    }
   ],
   "source": [
    "# Check if the database exists\n",
    "existing_databases = spark.sql(\"SHOW DATABASES\")\n",
    "existing_databases_list = [row[\"namespace\"] for row in existing_databases.collect()]\n",
    "\n",
    "if db not in existing_databases_list:\n",
    "    # If the database does not exist, create it\n",
    "    spark.sql(f\"CREATE DATABASE {db} LOCATION '{db_path}'\")\n",
    "    print(f\"Database '{db}' created.\")\n",
    "else:\n",
    "    # If the database already exists, print a message\n",
    "    print(f\"Database '{db}' already exists.\")"
   ]
  },
  {
   "cell_type": "code",
   "execution_count": 3,
   "metadata": {
    "execution": {
     "iopub.execute_input": "2024-01-18T23:35:33.080855Z",
     "iopub.status.busy": "2024-01-18T23:35:33.080515Z",
     "iopub.status.idle": "2024-01-18T23:35:33.184008Z",
     "shell.execute_reply": "2024-01-18T23:35:33.182158Z",
     "shell.execute_reply.started": "2024-01-18T23:35:33.080808Z"
    },
    "tags": []
   },
   "outputs": [
    {
     "data": {
      "application/vnd.jupyter.widget-view+json": {
       "model_id": "95cb33ec67ce439a83bb24307fcb8cb6",
       "version_major": 2,
       "version_minor": 0
      },
      "text/plain": [
       "VBox()"
      ]
     },
     "metadata": {},
     "output_type": "display_data"
    },
    {
     "data": {
      "application/vnd.jupyter.widget-view+json": {
       "model_id": "",
       "version_major": 2,
       "version_minor": 0
      },
      "text/plain": [
       "FloatProgress(value=0.0, bar_style='info', description='Progress:', layout=Layout(height='25px', width='50%'),…"
      ]
     },
     "metadata": {},
     "output_type": "display_data"
    }
   ],
   "source": [
    "execution_times = {}\n",
    "import time"
   ]
  },
  {
   "cell_type": "code",
   "execution_count": 5,
   "metadata": {
    "execution": {
     "iopub.execute_input": "2024-01-18T23:17:20.083557Z",
     "iopub.status.busy": "2024-01-18T23:17:20.083272Z",
     "iopub.status.idle": "2024-01-18T23:23:51.330383Z",
     "shell.execute_reply": "2024-01-18T23:23:51.328986Z",
     "shell.execute_reply.started": "2024-01-18T23:17:20.083527Z"
    },
    "tags": []
   },
   "outputs": [
    {
     "data": {
      "application/vnd.jupyter.widget-view+json": {
       "model_id": "9b8077b3c7954b8ab9019a45096a9c26",
       "version_major": 2,
       "version_minor": 0
      },
      "text/plain": [
       "VBox()"
      ]
     },
     "metadata": {},
     "output_type": "display_data"
    },
    {
     "data": {
      "application/vnd.jupyter.widget-view+json": {
       "model_id": "2f3c7a66b98440a99d04de807a630352",
       "version_major": 2,
       "version_minor": 0
      },
      "text/plain": [
       "FloatProgress(value=0.0, bar_style='info', description='Progress:', layout=Layout(height='25px', width='50%'),…"
      ]
     },
     "metadata": {},
     "output_type": "display_data"
    },
    {
     "name": "stderr",
     "output_type": "stream",
     "text": [
      "Interrupted by user\n"
     ]
    }
   ],
   "source": [
    "from pyspark.sql.functions import col\n",
    "from pyspark.sql.types import IntegerType, DecimalType, DateType, StringType, LongType\n",
    "\n",
    "start_time = time.time()\n",
    "\n",
    "\n",
    "table_name = 'store_sales'\n",
    "table_path = db_path + table_name\n",
    "raw_table_data = raw_data + table_name + \".dat\"\n",
    "\n",
    "# Create Iceberg table\n",
    "spark.sql(f\"\"\"CREATE TABLE IF NOT EXISTS {db}.{table_name}(\n",
    "    ss_sold_date_sk           integer                       ,\n",
    "    ss_sold_time_sk           integer                       ,\n",
    "    ss_item_sk                integer                          ,\n",
    "    ss_customer_sk            integer                       ,\n",
    "    ss_cdemo_sk               integer                       ,\n",
    "    ss_hdemo_sk               integer                       ,\n",
    "    ss_addr_sk                integer                       ,\n",
    "    ss_store_sk               integer                       ,\n",
    "    ss_promo_sk               integer                       ,\n",
    "    ss_ticket_number          bigint                           ,\n",
    "    ss_quantity               integer                       ,\n",
    "    ss_wholesale_cost         decimal(7,2)                  ,\n",
    "    ss_list_price             decimal(7,2)                  ,\n",
    "    ss_sales_price            decimal(7,2)                  ,\n",
    "    ss_ext_discount_amt       decimal(7,2)                  ,\n",
    "    ss_ext_sales_price        decimal(7,2)                  ,\n",
    "    ss_ext_wholesale_cost     decimal(7,2)                  ,\n",
    "    ss_ext_list_price         decimal(7,2)                  ,\n",
    "    ss_ext_tax                decimal(7,2)                  ,\n",
    "    ss_coupon_amt             decimal(7,2)                  ,\n",
    "    ss_net_paid               decimal(7,2)                  ,\n",
    "    ss_net_paid_inc_tax       decimal(7,2)                  ,\n",
    "    ss_net_profit             decimal(7,2)    \n",
    ")\n",
    "USING {table_format} \n",
    "LOCATION '{table_path}'\"\"\");\n",
    "\n",
    "# Read CSV file\n",
    "df = (\n",
    "    spark.read.format(\"csv\").\n",
    "    option(\"header\", False)\n",
    "    .option(\"delimiter\", \"|\")\n",
    "    .load(raw_table_data)\n",
    ")\n",
    "df = df.drop(df.columns[-1])\n",
    "\n",
    "# Define column names and types\n",
    "columns_mapping = [\n",
    "    (\"ss_sold_date_sk\", IntegerType()),\n",
    "    (\"ss_sold_time_sk\", IntegerType()),\n",
    "    (\"ss_item_sk\", IntegerType()),\n",
    "    (\"ss_customer_sk\", IntegerType()),\n",
    "    (\"ss_cdemo_sk\", IntegerType()),\n",
    "    (\"ss_hdemo_sk\", IntegerType()),\n",
    "    (\"ss_addr_sk\", IntegerType()),\n",
    "    (\"ss_store_sk\", IntegerType()),\n",
    "    (\"ss_promo_sk\", IntegerType()),\n",
    "    (\"ss_ticket_number\", LongType()),\n",
    "    (\"ss_quantity\", IntegerType()),\n",
    "    (\"ss_wholesale_cost\", DecimalType(7,2)),\n",
    "    (\"ss_list_price\", DecimalType(7,2)),\n",
    "    (\"ss_sales_price\", DecimalType(7,2)),\n",
    "    (\"ss_ext_discount_amt\", DecimalType(7,2)),\n",
    "    (\"ss_ext_sales_price\", DecimalType(7,2)),\n",
    "    (\"ss_ext_wholesale_cost\", DecimalType(7,2)),\n",
    "    (\"ss_ext_list_price\", DecimalType(7,2)),\n",
    "    (\"ss_ext_tax\", DecimalType(7,2)),\n",
    "    (\"ss_coupon_amt\", DecimalType(7,2)),\n",
    "    (\"ss_net_paid\", DecimalType(7,2)),\n",
    "    (\"ss_net_paid_inc_tax\", DecimalType(7,2)),\n",
    "    (\"ss_net_profit\", DecimalType(7,2))\n",
    "]\n",
    "\n",
    "# Rename columns and perform type casting\n",
    "for col_name, col_type in columns_mapping:\n",
    "    df = df.withColumnRenamed(f\"_c{columns_mapping.index((col_name, col_type))}\", col_name)\n",
    "    df = df.withColumn(col_name, col(col_name).cast(col_type))\n",
    "    \n",
    "# Write to Iceberg table\n",
    "df.write.format(f\"{table_format}\").mode(\"append\").option(\"mergeSchema\", \"true\").saveAsTable(f\"{db}.{table_name}\")\n",
    "\n",
    "    \n",
    "# Calculate execution time\n",
    "end_time = time.time()\n",
    "execution_time = end_time - start_time\n",
    "\n",
    "# Store the execution time in a list with the variable name\n",
    "execution_times[table_name] = execution_time\n",
    "\n",
    "# Print the execution time\n",
    "print(f\"Execution time for {table_name}: {execution_time} seconds\")"
   ]
  },
  {
   "cell_type": "code",
   "execution_count": 5,
   "metadata": {
    "execution": {
     "iopub.execute_input": "2024-01-18T23:36:24.677591Z",
     "iopub.status.busy": "2024-01-18T23:36:24.677312Z",
     "iopub.status.idle": "2024-01-18T23:36:24.762269Z",
     "shell.execute_reply": "2024-01-18T23:36:24.761478Z",
     "shell.execute_reply.started": "2024-01-18T23:36:24.677561Z"
    },
    "tags": []
   },
   "outputs": [
    {
     "data": {
      "application/vnd.jupyter.widget-view+json": {
       "model_id": "0cebb1fa821e4b0c93024fa6ed01ad29",
       "version_major": 2,
       "version_minor": 0
      },
      "text/plain": [
       "VBox()"
      ]
     },
     "metadata": {},
     "output_type": "display_data"
    },
    {
     "data": {
      "application/vnd.jupyter.widget-view+json": {
       "model_id": "",
       "version_major": 2,
       "version_minor": 0
      },
      "text/plain": [
       "FloatProgress(value=0.0, bar_style='info', description='Progress:', layout=Layout(height='25px', width='50%'),…"
      ]
     },
     "metadata": {},
     "output_type": "display_data"
    }
   ],
   "source": [
    "from pyspark.sql.functions import col\n",
    "from pyspark.sql.types import IntegerType, DecimalType, DateType, StringType, LongType\n",
    "\n",
    "start_time = time.time()\n",
    "\n",
    "\n",
    "table_name = 'store_sales'\n",
    "table_path = db_path + table_name\n",
    "raw_table_data = raw_data + table_name + \".dat\""
   ]
  },
  {
   "cell_type": "code",
   "execution_count": 7,
   "metadata": {
    "execution": {
     "iopub.execute_input": "2024-01-18T23:37:17.271369Z",
     "iopub.status.busy": "2024-01-18T23:37:17.271078Z",
     "iopub.status.idle": "2024-01-18T23:37:22.606001Z",
     "shell.execute_reply": "2024-01-18T23:37:22.605042Z",
     "shell.execute_reply.started": "2024-01-18T23:37:17.271340Z"
    },
    "tags": []
   },
   "outputs": [
    {
     "data": {
      "application/vnd.jupyter.widget-view+json": {
       "model_id": "9c7a72ecd9064b1683131ad3ee544d8a",
       "version_major": 2,
       "version_minor": 0
      },
      "text/plain": [
       "VBox()"
      ]
     },
     "metadata": {},
     "output_type": "display_data"
    },
    {
     "data": {
      "application/vnd.jupyter.widget-view+json": {
       "model_id": "",
       "version_major": 2,
       "version_minor": 0
      },
      "text/plain": [
       "FloatProgress(value=0.0, bar_style='info', description='Progress:', layout=Layout(height='25px', width='50%'),…"
      ]
     },
     "metadata": {},
     "output_type": "display_data"
    },
    {
     "name": "stdout",
     "output_type": "stream",
     "text": [
      "DataFrame[]"
     ]
    }
   ],
   "source": [
    "# Create Iceberg table\n",
    "spark.sql(f\"\"\"CREATE TABLE IF NOT EXISTS {db}.{table_name}(\n",
    "    ss_sold_date_sk           integer                       ,\n",
    "    ss_sold_time_sk           integer                       ,\n",
    "    ss_item_sk                integer                          ,\n",
    "    ss_customer_sk            integer                       ,\n",
    "    ss_cdemo_sk               integer                       ,\n",
    "    ss_hdemo_sk               integer                       ,\n",
    "    ss_addr_sk                integer                       ,\n",
    "    ss_store_sk               integer                       ,\n",
    "    ss_promo_sk               integer                       ,\n",
    "    ss_ticket_number          bigint                           ,\n",
    "    ss_quantity               integer                       ,\n",
    "    ss_wholesale_cost         decimal(7,2)                  ,\n",
    "    ss_list_price             decimal(7,2)                  ,\n",
    "    ss_sales_price            decimal(7,2)                  ,\n",
    "    ss_ext_discount_amt       decimal(7,2)                  ,\n",
    "    ss_ext_sales_price        decimal(7,2)                  ,\n",
    "    ss_ext_wholesale_cost     decimal(7,2)                  ,\n",
    "    ss_ext_list_price         decimal(7,2)                  ,\n",
    "    ss_ext_tax                decimal(7,2)                  ,\n",
    "    ss_coupon_amt             decimal(7,2)                  ,\n",
    "    ss_net_paid               decimal(7,2)                  ,\n",
    "    ss_net_paid_inc_tax       decimal(7,2)                  ,\n",
    "    ss_net_profit             decimal(7,2)    \n",
    ")\n",
    "USING {table_format} \n",
    "LOCATION '{table_path}'\"\"\");"
   ]
  },
  {
   "cell_type": "code",
   "execution_count": 6,
   "metadata": {
    "execution": {
     "iopub.execute_input": "2024-01-18T23:36:27.388012Z",
     "iopub.status.busy": "2024-01-18T23:36:27.387756Z",
     "iopub.status.idle": "2024-01-18T23:36:44.815888Z",
     "shell.execute_reply": "2024-01-18T23:36:44.814878Z",
     "shell.execute_reply.started": "2024-01-18T23:36:27.387983Z"
    },
    "tags": []
   },
   "outputs": [
    {
     "data": {
      "application/vnd.jupyter.widget-view+json": {
       "model_id": "560db26e59104500af3bc9fdc36f7f28",
       "version_major": 2,
       "version_minor": 0
      },
      "text/plain": [
       "VBox()"
      ]
     },
     "metadata": {},
     "output_type": "display_data"
    },
    {
     "data": {
      "application/vnd.jupyter.widget-view+json": {
       "model_id": "",
       "version_major": 2,
       "version_minor": 0
      },
      "text/plain": [
       "FloatProgress(value=0.0, bar_style='info', description='Progress:', layout=Layout(height='25px', width='50%'),…"
      ]
     },
     "metadata": {},
     "output_type": "display_data"
    },
    {
     "name": "stdout",
     "output_type": "stream",
     "text": [
      "+-------+-----+-----+-----+-------+----+-----+---+----+---+----+-----+------+-----+-------+-------+-------+--------+------+-------+-------+-------+--------+\n",
      "|    _c0|  _c1|  _c2|  _c3|    _c4| _c5|  _c6|_c7| _c8|_c9|_c10| _c11|  _c12| _c13|   _c14|   _c15|   _c16|    _c17|  _c18|   _c19|   _c20|   _c21|    _c22|\n",
      "+-------+-----+-----+-----+-------+----+-----+---+----+---+----+-----+------+-----+-------+-------+-------+--------+------+-------+-------+-------+--------+\n",
      "|2451813|65495| 3617|67006| 591617|3428|24839| 10| 161|  1|  79|11.41| 18.71| 2.80|  99.54| 221.20| 901.39| 1478.09|  6.08|  99.54| 121.66| 127.74| -779.73|\n",
      "|2451813|65495|13283|67006| 591617|3428|24839| 10| 154|  1|  37|63.63|101.17|41.47|  46.03|1534.39|2354.31| 3743.29| 59.53|  46.03|1488.36|1547.89| -865.95|\n",
      "|2451813|65495|13631|67006| 591617|3428|24839| 10| 172|  1|  99|80.52|137.68|83.98|   0.00|8314.02|7971.48|13630.32|  0.00|   0.00|8314.02|8314.02|  342.54|\n",
      "|2451813|65495| 5981|67006| 591617|3428|24839| 10| 280|  1|  14|57.37| 76.30| 6.10|   0.00|  85.40| 803.18| 1068.20|  0.00|   0.00|  85.40|  85.40| -717.78|\n",
      "|2451813|65495| 4553|67006| 591617|3428|24839| 10| 236|  1| 100|25.08| 36.86| 0.73|   0.00|  73.00|2508.00| 3686.00|  6.57|   0.00|  73.00|  79.57|-2435.00|\n",
      "|2451813|65495|10993|67006| 591617|3428|24839| 10| 263|  1|  91|93.48|108.43|93.24|   0.00|8484.84|8506.68| 9867.13|254.54|   0.00|8484.84|8739.38|  -21.84|\n",
      "|2451813|65495|   49|67006| 591617|3428|24839| 10|  70|  1|   5|10.68| 15.91| 6.68|   0.00|  33.40|  53.40|   79.55|  2.33|   0.00|  33.40|  35.73|  -20.00|\n",
      "|2451813|65495| 4583|67006| 591617|3428|24839| 10| 267|  1|  72|84.72|111.83|61.50|   0.00|4428.00|6099.84| 8051.76|177.12|   0.00|4428.00|4605.12|-1671.84|\n",
      "|2451813|65495|13538|67006| 591617|3428|24839| 10| 106|  1|  14|11.54| 11.77| 0.00|   0.00|   0.00| 161.56|  164.78|  0.00|   0.00|   0.00|   0.00| -161.56|\n",
      "|2451813|65495| 3248|67006| 591617|3428|24839| 10| 189|  1|  58| 4.57|  5.34| 3.52|   0.00| 204.16| 265.06|  309.72|  0.00|   0.00| 204.16| 204.16|  -60.90|\n",
      "|2451813|65495| 4682|67006| 591617|3428|24839| 10|   7|  1|  44|31.07| 54.99|24.19|   0.00|1064.36|1367.08| 2419.56| 85.14|   0.00|1064.36|1149.50| -302.72|\n",
      "|2451813|65495| 5527|67006| 591617|3428|24839| 10| 112|  1|  88|52.41| 63.94|49.23|   0.00|4332.24|4612.08| 5626.72|259.93|   0.00|4332.24|4592.17| -279.84|\n",
      "|2451813|65495| 1553|67006| 591617|3428|24839| 10| 242|  1|  50|67.71|126.61|87.36|   0.00|4368.00|3385.50| 6330.50|349.44|   0.00|4368.00|4717.44|  982.50|\n",
      "|2451813|65495|  173|67006| 591617|3428|24839| 10| 249|  1|  65|27.16| 52.14|41.19|   0.00|2677.35|1765.40| 3389.10|214.18|   0.00|2677.35|2891.53|  911.95|\n",
      "|2451524|75316| 6928|68284|1712478|4672|13266| 10|  37|  2|  65|93.86|158.62|34.89|   0.00|2267.85|6100.90|10310.30| 45.35|   0.00|2267.85|2313.20|-3833.05|\n",
      "|2451524|75316|13927|68284|1712478|4672|13266| 10| 131|  2|  93|35.87| 49.14|15.23|   0.00|1416.39|3335.91| 4570.02|113.31|   0.00|1416.39|1529.70|-1919.52|\n",
      "|2451524|75316|10768|68284|1712478|4672|13266| 10|  78|  2|  30| 2.27|  3.83| 1.11|   0.00|  33.30|  68.10|  114.90|  0.00|   0.00|  33.30|  33.30|  -34.80|\n",
      "|2451524|75316|14701|68284|1712478|4672|13266| 10| 260|  2|  58|53.09| 58.39| 7.59|   0.00| 440.22|3079.22| 3386.62|  0.00|   0.00| 440.22| 440.22|-2639.00|\n",
      "|   null|75316|17420| null|   null|4672| null| 10|null|  2|null|17.12| 19.85| null|   null|   null|   null|    null| 19.07|   null|   null| 495.84|    null|\n",
      "|2451524|75316| 9436|68284|1712478|4672|13266| 10| 144|  2|  79|88.02|128.50|69.39|4549.90|5481.81|6953.58|10151.50| 83.87|4549.90| 931.91|1015.78|-6021.67|\n",
      "+-------+-----+-----+-----+-------+----+-----+---+----+---+----+-----+------+-----+-------+-------+-------+--------+------+-------+-------+-------+--------+\n",
      "only showing top 20 rows"
     ]
    }
   ],
   "source": [
    "# Read CSV file\n",
    "df = (\n",
    "    spark.read.format(\"csv\").\n",
    "    option(\"header\", False)\n",
    "    .option(\"delimiter\", \"|\")\n",
    "    .load(raw_table_data)\n",
    ")\n",
    "df = df.drop(df.columns[-1])\n",
    "\n",
    "df.show()"
   ]
  },
  {
   "cell_type": "code",
   "execution_count": 8,
   "metadata": {
    "execution": {
     "iopub.execute_input": "2024-01-18T23:37:29.993487Z",
     "iopub.status.busy": "2024-01-18T23:37:29.993121Z",
     "iopub.status.idle": "2024-01-18T23:37:59.493329Z",
     "shell.execute_reply": "2024-01-18T23:37:59.492260Z",
     "shell.execute_reply.started": "2024-01-18T23:37:29.993442Z"
    },
    "tags": []
   },
   "outputs": [
    {
     "data": {
      "application/vnd.jupyter.widget-view+json": {
       "model_id": "a3ff9a75075b4e90b09758f430332599",
       "version_major": 2,
       "version_minor": 0
      },
      "text/plain": [
       "VBox()"
      ]
     },
     "metadata": {},
     "output_type": "display_data"
    },
    {
     "data": {
      "application/vnd.jupyter.widget-view+json": {
       "model_id": "",
       "version_major": 2,
       "version_minor": 0
      },
      "text/plain": [
       "FloatProgress(value=0.0, bar_style='info', description='Progress:', layout=Layout(height='25px', width='50%'),…"
      ]
     },
     "metadata": {},
     "output_type": "display_data"
    },
    {
     "name": "stdout",
     "output_type": "stream",
     "text": [
      "Execution time for store_sales: 94.32084965705872 seconds"
     ]
    }
   ],
   "source": [
    "# Define column names and types\n",
    "columns_mapping = [\n",
    "    (\"ss_sold_date_sk\", IntegerType()),\n",
    "    (\"ss_sold_time_sk\", IntegerType()),\n",
    "    (\"ss_item_sk\", IntegerType()),\n",
    "    (\"ss_customer_sk\", IntegerType()),\n",
    "    (\"ss_cdemo_sk\", IntegerType()),\n",
    "    (\"ss_hdemo_sk\", IntegerType()),\n",
    "    (\"ss_addr_sk\", IntegerType()),\n",
    "    (\"ss_store_sk\", IntegerType()),\n",
    "    (\"ss_promo_sk\", IntegerType()),\n",
    "    (\"ss_ticket_number\", LongType()),\n",
    "    (\"ss_quantity\", IntegerType()),\n",
    "    (\"ss_wholesale_cost\", DecimalType(7,2)),\n",
    "    (\"ss_list_price\", DecimalType(7,2)),\n",
    "    (\"ss_sales_price\", DecimalType(7,2)),\n",
    "    (\"ss_ext_discount_amt\", DecimalType(7,2)),\n",
    "    (\"ss_ext_sales_price\", DecimalType(7,2)),\n",
    "    (\"ss_ext_wholesale_cost\", DecimalType(7,2)),\n",
    "    (\"ss_ext_list_price\", DecimalType(7,2)),\n",
    "    (\"ss_ext_tax\", DecimalType(7,2)),\n",
    "    (\"ss_coupon_amt\", DecimalType(7,2)),\n",
    "    (\"ss_net_paid\", DecimalType(7,2)),\n",
    "    (\"ss_net_paid_inc_tax\", DecimalType(7,2)),\n",
    "    (\"ss_net_profit\", DecimalType(7,2))\n",
    "]\n",
    "\n",
    "# Rename columns and perform type casting\n",
    "for col_name, col_type in columns_mapping:\n",
    "    df = df.withColumnRenamed(f\"_c{columns_mapping.index((col_name, col_type))}\", col_name)\n",
    "    df = df.withColumn(col_name, col(col_name).cast(col_type))\n",
    "    \n",
    "# Write to Iceberg table\n",
    "df.write.format(f\"{table_format}\").mode(\"append\").option(\"mergeSchema\", \"true\").saveAsTable(f\"{db}.{table_name}\")\n",
    "\n",
    "    \n",
    "# Calculate execution time\n",
    "end_time = time.time()\n",
    "execution_time = end_time - start_time\n",
    "\n",
    "# Store the execution time in a list with the variable name\n",
    "execution_times[table_name] = execution_time\n",
    "\n",
    "# Print the execution time\n",
    "print(f\"Execution time for {table_name}: {execution_time} seconds\")"
   ]
  },
  {
   "cell_type": "code",
   "execution_count": 19,
   "metadata": {
    "execution": {
     "iopub.execute_input": "2024-01-14T18:54:31.492321Z",
     "iopub.status.busy": "2024-01-14T18:54:31.492013Z",
     "iopub.status.idle": "2024-01-14T18:55:06.943474Z",
     "shell.execute_reply": "2024-01-14T18:55:06.942597Z",
     "shell.execute_reply.started": "2024-01-14T18:54:31.492287Z"
    },
    "tags": []
   },
   "outputs": [
    {
     "data": {
      "application/vnd.jupyter.widget-view+json": {
       "model_id": "ca2b303a94a747969beeb12b7fa3066e",
       "version_major": 2,
       "version_minor": 0
      },
      "text/plain": [
       "VBox()"
      ]
     },
     "metadata": {},
     "output_type": "display_data"
    },
    {
     "data": {
      "application/vnd.jupyter.widget-view+json": {
       "model_id": "",
       "version_major": 2,
       "version_minor": 0
      },
      "text/plain": [
       "FloatProgress(value=0.0, bar_style='info', description='Progress:', layout=Layout(height='25px', width='50%'),…"
      ]
     },
     "metadata": {},
     "output_type": "display_data"
    },
    {
     "name": "stdout",
     "output_type": "stream",
     "text": [
      "Execution time for catalog_sales: 35.23167896270752 seconds"
     ]
    }
   ],
   "source": [
    "from pyspark.sql.functions import col\n",
    "from pyspark.sql.types import IntegerType, DecimalType, DateType, StringType, LongType\n",
    "\n",
    "start_time = time.time()\n",
    "\n",
    "table_name = 'catalog_sales'\n",
    "table_path = db_path + table_name\n",
    "raw_table_data = raw_data + table_name + \".dat\"\n",
    "\n",
    "# Create Iceberg table\n",
    "spark.sql(f\"\"\"CREATE TABLE IF NOT EXISTS {db}.{table_name}(\n",
    "    cs_sold_date_sk           integer                       ,\n",
    "    cs_sold_time_sk           integer                       ,\n",
    "    cs_ship_date_sk           integer                       ,\n",
    "    cs_bill_customer_sk       integer                       ,\n",
    "    cs_bill_cdemo_sk          integer                       ,\n",
    "    cs_bill_hdemo_sk          integer                       ,\n",
    "    cs_bill_addr_sk           integer                       ,\n",
    "    cs_ship_customer_sk       integer                       ,\n",
    "    cs_ship_cdemo_sk          integer                       ,\n",
    "    cs_ship_hdemo_sk          integer                       ,\n",
    "    cs_ship_addr_sk           integer                       ,\n",
    "    cs_call_center_sk         integer                       ,\n",
    "    cs_catalog_page_sk        integer                       ,\n",
    "    cs_ship_mode_sk           integer                       ,\n",
    "    cs_warehouse_sk           integer                       ,\n",
    "    cs_item_sk                integer                       ,\n",
    "    cs_promo_sk               integer                       ,\n",
    "    cs_order_number           bigint                        ,\n",
    "    cs_quantity               integer                       ,\n",
    "    cs_wholesale_cost         decimal(7,2)                  ,\n",
    "    cs_list_price             decimal(7,2)                  ,\n",
    "    cs_sales_price            decimal(7,2)                  ,\n",
    "    cs_ext_discount_amt       decimal(7,2)                  ,\n",
    "    cs_ext_sales_price        decimal(7,2)                  ,\n",
    "    cs_ext_wholesale_cost     decimal(7,2)                  ,\n",
    "    cs_ext_list_price         decimal(7,2)                  ,\n",
    "    cs_ext_tax                decimal(7,2)                  ,\n",
    "    cs_coupon_amt             decimal(7,2)                  ,\n",
    "    cs_ext_ship_cost          decimal(7,2)                  ,\n",
    "    cs_net_paid               decimal(7,2)                  ,\n",
    "    cs_net_paid_inc_tax       decimal(7,2)                  ,\n",
    "    cs_net_paid_inc_ship      decimal(7,2)                  ,\n",
    "    cs_net_paid_inc_ship_tax  decimal(7,2)                  ,\n",
    "    cs_net_profit             decimal(7,2)       \n",
    ")\n",
    "USING {table_format} \n",
    "LOCATION '{table_path}'\"\"\");\n",
    "\n",
    "# Read CSV file\n",
    "df = (\n",
    "    spark.read.format(\"csv\").\n",
    "    option(\"header\", False)\n",
    "    .option(\"delimiter\", \"|\")\n",
    "    .load(raw_table_data)\n",
    ")\n",
    "df = df.drop(df.columns[-1])\n",
    "\n",
    "\n",
    "# Define column names and types\n",
    "columns_mapping = [\n",
    "    (\"cs_sold_date_sk\", IntegerType()),\n",
    "    (\"cs_sold_time_sk\", IntegerType()),\n",
    "    (\"cs_ship_date_sk\", IntegerType()),\n",
    "    (\"cs_bill_customer_sk\", IntegerType()),\n",
    "    (\"cs_bill_cdemo_sk\", IntegerType()),\n",
    "    (\"cs_bill_hdemo_sk\", IntegerType()),\n",
    "    (\"cs_bill_addr_sk\", IntegerType()),\n",
    "    (\"cs_ship_customer_sk\", IntegerType()),\n",
    "    (\"cs_ship_cdemo_sk\", IntegerType()),\n",
    "    (\"cs_ship_hdemo_sk\", IntegerType()),\n",
    "    (\"cs_ship_addr_sk\", IntegerType()),\n",
    "    (\"cs_call_center_sk\", IntegerType()),\n",
    "    (\"cs_catalog_page_sk\", IntegerType()),\n",
    "    (\"cs_ship_mode_sk\", IntegerType()),\n",
    "    (\"cs_warehouse_sk\", IntegerType()),\n",
    "    (\"cs_item_sk\", IntegerType()),\n",
    "    (\"cs_promo_sk\", IntegerType()),\n",
    "    (\"cs_order_number\", LongType()),\n",
    "    (\"cs_quantity\", IntegerType()),\n",
    "    (\"cs_wholesale_cost\", DecimalType(7, 2)),\n",
    "    (\"cs_list_price\", DecimalType(7, 2)),\n",
    "    (\"cs_sales_price\", DecimalType(7, 2)),\n",
    "    (\"cs_ext_discount_amt\", DecimalType(7, 2)),\n",
    "    (\"cs_ext_sales_price\", DecimalType(7, 2)),\n",
    "    (\"cs_ext_wholesale_cost\", DecimalType(7, 2)),\n",
    "    (\"cs_ext_list_price\", DecimalType(7, 2)),\n",
    "    (\"cs_ext_tax\", DecimalType(7, 2)),\n",
    "    (\"cs_coupon_amt\", DecimalType(7, 2)),\n",
    "    (\"cs_ext_ship_cost\", DecimalType(7, 2)),\n",
    "    (\"cs_net_paid\", DecimalType(7, 2)),\n",
    "    (\"cs_net_paid_inc_tax\", DecimalType(7, 2)),\n",
    "    (\"cs_net_paid_inc_ship\", DecimalType(7, 2)),\n",
    "    (\"cs_net_paid_inc_ship_tax\", DecimalType(7, 2)),\n",
    "    (\"cs_net_profit\", DecimalType(7, 2)),\n",
    "]\n",
    "\n",
    "# Rename columns and perform type casting\n",
    "for col_name, col_type in columns_mapping:\n",
    "    df = df.withColumnRenamed(f\"_c{columns_mapping.index((col_name, col_type))}\", col_name)\n",
    "    df = df.withColumn(col_name, col(col_name).cast(col_type))\n",
    "\n",
    "# Write to Iceberg table\n",
    "df.write.format(f\"{table_format}\").mode(\"append\").option(\"mergeSchema\", \"true\").saveAsTable(f\"{db}.{table_name}\")\n",
    "\n",
    "# Calculate execution time\n",
    "end_time = time.time()\n",
    "execution_time = end_time - start_time\n",
    "execution_times[table_name] = execution_time\n",
    "print(f\"Execution time for {table_name}: {execution_time} seconds\")"
   ]
  },
  {
   "cell_type": "code",
   "execution_count": 26,
   "metadata": {
    "execution": {
     "iopub.execute_input": "2024-01-14T19:02:40.633775Z",
     "iopub.status.busy": "2024-01-14T19:02:40.633492Z",
     "iopub.status.idle": "2024-01-14T19:02:52.001646Z",
     "shell.execute_reply": "2024-01-14T19:02:52.000512Z",
     "shell.execute_reply.started": "2024-01-14T19:02:40.633741Z"
    },
    "tags": []
   },
   "outputs": [
    {
     "data": {
      "application/vnd.jupyter.widget-view+json": {
       "model_id": "bb63aecf55604d9c9e907f737eaed074",
       "version_major": 2,
       "version_minor": 0
      },
      "text/plain": [
       "VBox()"
      ]
     },
     "metadata": {},
     "output_type": "display_data"
    },
    {
     "data": {
      "application/vnd.jupyter.widget-view+json": {
       "model_id": "",
       "version_major": 2,
       "version_minor": 0
      },
      "text/plain": [
       "FloatProgress(value=0.0, bar_style='info', description='Progress:', layout=Layout(height='25px', width='50%'),…"
      ]
     },
     "metadata": {},
     "output_type": "display_data"
    },
    {
     "name": "stdout",
     "output_type": "stream",
     "text": [
      "Execution time for web_sales: 11.114461660385132 seconds"
     ]
    }
   ],
   "source": [
    "from pyspark.sql.functions import col\n",
    "from pyspark.sql.types import IntegerType, DecimalType, DateType, StringType, LongType\n",
    "\n",
    "start_time = time.time()\n",
    "\n",
    "table_name = 'web_sales'\n",
    "table_path = db_path + table_name\n",
    "raw_table_data = raw_data + table_name + \".dat\"\n",
    "\n",
    "# Create Iceberg table\n",
    "spark.sql(f\"\"\"CREATE TABLE IF NOT EXISTS {db}.{table_name}(\n",
    "    ws_sold_date_sk           integer                       ,\n",
    "    ws_sold_time_sk           integer                       ,\n",
    "    ws_ship_date_sk           integer                       ,\n",
    "    ws_item_sk                integer                       ,\n",
    "    ws_bill_customer_sk       integer                       ,\n",
    "    ws_bill_cdemo_sk          integer                       ,\n",
    "    ws_bill_hdemo_sk          integer                       ,\n",
    "    ws_bill_addr_sk           integer                       ,\n",
    "    ws_ship_customer_sk       integer                       ,\n",
    "    ws_ship_cdemo_sk          integer                       ,\n",
    "    ws_ship_hdemo_sk          integer                       ,\n",
    "    ws_ship_addr_sk           integer                       ,\n",
    "    ws_web_page_sk            integer                       ,\n",
    "    ws_web_site_sk            integer                       ,\n",
    "    ws_ship_mode_sk           integer                       ,\n",
    "    ws_warehouse_sk           integer                       ,\n",
    "    ws_promo_sk               integer                       ,\n",
    "    ws_order_number           bigint                        ,\n",
    "    ws_quantity               integer                       ,\n",
    "    ws_wholesale_cost         decimal(7,2)                  ,\n",
    "    ws_list_price             decimal(7,2)                  ,\n",
    "    ws_sales_price            decimal(7,2)                  ,\n",
    "    ws_ext_discount_amt       decimal(7,2)                  ,\n",
    "    ws_ext_sales_price        decimal(7,2)                  ,\n",
    "    ws_ext_wholesale_cost     decimal(7,2)                  ,\n",
    "    ws_ext_list_price         decimal(7,2)                  ,\n",
    "    ws_ext_tax                decimal(7,2)                  ,\n",
    "    ws_coupon_amt             decimal(7,2)                  ,\n",
    "    ws_ext_ship_cost          decimal(7,2)                  ,\n",
    "    ws_net_paid               decimal(7,2)                  ,\n",
    "    ws_net_paid_inc_tax       decimal(7,2)                  ,\n",
    "    ws_net_paid_inc_ship      decimal(7,2)                  ,\n",
    "    ws_net_paid_inc_ship_tax  decimal(7,2)                  ,\n",
    "    ws_net_profit             decimal(7,2)  \n",
    ")\n",
    "USING {table_format} \n",
    "LOCATION '{table_path}'\"\"\");\n",
    "\n",
    "# Read CSV file\n",
    "df = (\n",
    "    spark.read.format(\"csv\").\n",
    "    option(\"header\", False)\n",
    "    .option(\"delimiter\", \"|\")\n",
    "    .load(raw_table_data)\n",
    ")\n",
    "df = df.drop(df.columns[-1])\n",
    "\n",
    "\n",
    "# Define column names and types\n",
    "columns_mapping = [\n",
    "    (\"ws_sold_date_sk\", IntegerType()),\n",
    "    (\"ws_sold_time_sk\", IntegerType()),\n",
    "    (\"ws_ship_date_sk\", IntegerType()),\n",
    "    (\"ws_bill_customer_sk\", IntegerType()),\n",
    "    (\"ws_bill_cdemo_sk\", IntegerType()),\n",
    "    (\"ws_bill_hdemo_sk\", IntegerType()),\n",
    "    (\"ws_bill_addr_sk\", IntegerType()),\n",
    "    (\"ws_ship_customer_sk\", IntegerType()),\n",
    "    (\"ws_ship_cdemo_sk\", IntegerType()),\n",
    "    (\"ws_ship_hdemo_sk\", IntegerType()),\n",
    "    (\"ws_ship_addr_sk\", IntegerType()),\n",
    "    (\"ws_web_page_sk\", IntegerType()),\n",
    "    (\"ws_web_site_sk\", IntegerType()),\n",
    "    (\"ws_ship_mode_sk\", IntegerType()),\n",
    "    (\"ws_warehouse_sk\", IntegerType()),\n",
    "    (\"ws_item_sk\", IntegerType()),\n",
    "    (\"ws_promo_sk\", IntegerType()),\n",
    "    (\"ws_order_number\", LongType()),\n",
    "    (\"ws_quantity\", IntegerType()),\n",
    "    (\"ws_wholesale_cost\", DecimalType(7, 2)),\n",
    "    (\"ws_list_price\", DecimalType(7, 2)),\n",
    "    (\"ws_sales_price\", DecimalType(7, 2)),\n",
    "    (\"ws_ext_discount_amt\", DecimalType(7, 2)),\n",
    "    (\"ws_ext_sales_price\", DecimalType(7, 2)),\n",
    "    (\"ws_ext_wholesale_cost\", DecimalType(7, 2)),\n",
    "    (\"ws_ext_list_price\", DecimalType(7, 2)),\n",
    "    (\"ws_ext_tax\", DecimalType(7, 2)),\n",
    "    (\"ws_coupon_amt\", DecimalType(7, 2)),\n",
    "    (\"ws_ext_ship_cost\", DecimalType(7, 2)),\n",
    "    (\"ws_net_paid\", DecimalType(7, 2)),\n",
    "    (\"ws_net_paid_inc_tax\", DecimalType(7, 2)),\n",
    "    (\"ws_net_paid_inc_ship\", DecimalType(7, 2)),\n",
    "    (\"ws_net_paid_inc_ship_tax\", DecimalType(7, 2)),\n",
    "    (\"ws_net_profit\", DecimalType(7, 2)),\n",
    "]\n",
    "\n",
    "# Rename columns and perform type casting\n",
    "for col_name, col_type in columns_mapping:\n",
    "    df = df.withColumnRenamed(f\"_c{columns_mapping.index((col_name, col_type))}\", col_name)\n",
    "    df = df.withColumn(col_name, col(col_name).cast(col_type))\n",
    "\n",
    "# Write to Iceberg table\n",
    "df.write.format(f\"{table_format}\").mode(\"append\").option(\"mergeSchema\", \"true\").saveAsTable(f\"{db}.{table_name}\")\n",
    "\n",
    "# Calculate execution time\n",
    "end_time = time.time()\n",
    "execution_time = end_time - start_time\n",
    "execution_times[table_name] = execution_time\n",
    "print(f\"Execution time for {table_name}: {execution_time} seconds\")"
   ]
  },
  {
   "cell_type": "code",
   "execution_count": 28,
   "metadata": {
    "execution": {
     "iopub.execute_input": "2024-01-14T19:03:33.191967Z",
     "iopub.status.busy": "2024-01-14T19:03:33.191623Z",
     "iopub.status.idle": "2024-01-14T19:03:44.531209Z",
     "shell.execute_reply": "2024-01-14T19:03:44.529828Z",
     "shell.execute_reply.started": "2024-01-14T19:03:33.191933Z"
    },
    "tags": []
   },
   "outputs": [
    {
     "data": {
      "application/vnd.jupyter.widget-view+json": {
       "model_id": "d3f91348199c4b0bbb5c60aee0ab3222",
       "version_major": 2,
       "version_minor": 0
      },
      "text/plain": [
       "VBox()"
      ]
     },
     "metadata": {},
     "output_type": "display_data"
    },
    {
     "data": {
      "application/vnd.jupyter.widget-view+json": {
       "model_id": "",
       "version_major": 2,
       "version_minor": 0
      },
      "text/plain": [
       "FloatProgress(value=0.0, bar_style='info', description='Progress:', layout=Layout(height='25px', width='50%'),…"
      ]
     },
     "metadata": {},
     "output_type": "display_data"
    },
    {
     "name": "stdout",
     "output_type": "stream",
     "text": [
      "Execution time for store_returns: 9.412431716918945 seconds"
     ]
    }
   ],
   "source": [
    "from pyspark.sql.functions import col\n",
    "from pyspark.sql.types import IntegerType, DecimalType, DateType, StringType, LongType\n",
    "\n",
    "start_time = time.time()\n",
    "\n",
    "table_name = 'store_returns'\n",
    "table_path = db_path + table_name\n",
    "raw_table_data = raw_data + table_name + \".dat\"\n",
    "\n",
    "# Create Iceberg table\n",
    "spark.sql(f\"\"\"CREATE TABLE IF NOT EXISTS {db}.{table_name}(\n",
    "    sr_returned_date_sk       integer                       ,\n",
    "    sr_return_time_sk         integer                       ,\n",
    "    sr_item_sk                integer                          ,\n",
    "    sr_customer_sk            integer                       ,\n",
    "    sr_cdemo_sk               integer                       ,\n",
    "    sr_hdemo_sk               integer                       ,\n",
    "    sr_addr_sk                integer                       ,\n",
    "    sr_store_sk               integer                       ,\n",
    "    sr_reason_sk              integer                       ,\n",
    "    sr_ticket_number          bigint                           ,\n",
    "    sr_return_quantity        integer                       ,\n",
    "    sr_return_amt             decimal(7,2)                  ,\n",
    "    sr_return_tax             decimal(7,2)                  ,\n",
    "    sr_return_amt_inc_tax     decimal(7,2)                  ,\n",
    "    sr_fee                    decimal(7,2)                  ,\n",
    "    sr_return_ship_cost       decimal(7,2)                  ,\n",
    "    sr_refunded_cash          decimal(7,2)                  ,\n",
    "    sr_reversed_charge        decimal(7,2)                  ,\n",
    "    sr_store_credit           decimal(7,2)                  ,\n",
    "    sr_net_loss               decimal(7,2)    \n",
    ")\n",
    "USING {table_format} \n",
    "LOCATION '{table_path}'\"\"\");\n",
    "\n",
    "# Read CSV file\n",
    "df = (\n",
    "    spark.read.format(\"csv\").\n",
    "    option(\"header\", False)\n",
    "    .option(\"delimiter\", \"|\")\n",
    "    .load(raw_table_data)\n",
    ")\n",
    "df = df.drop(df.columns[-1])\n",
    "\n",
    "\n",
    "# Define column names and types\n",
    "columns_mapping = [\n",
    "    (\"sr_returned_date_sk\", IntegerType()),\n",
    "    (\"sr_return_time_sk\", IntegerType()),\n",
    "    (\"sr_item_sk\", IntegerType()),\n",
    "    (\"sr_customer_sk\", IntegerType()),\n",
    "    (\"sr_cdemo_sk\", IntegerType()),\n",
    "    (\"sr_hdemo_sk\", IntegerType()),\n",
    "    (\"sr_addr_sk\", IntegerType()),\n",
    "    (\"sr_store_sk\", IntegerType()),\n",
    "    (\"sr_reason_sk\", IntegerType()),\n",
    "    (\"sr_ticket_number\", LongType()),\n",
    "    (\"sr_return_quantity\", IntegerType()),\n",
    "    (\"sr_return_amt\", DecimalType(7, 2)),\n",
    "    (\"sr_return_tax\", DecimalType(7, 2)),\n",
    "    (\"sr_return_amt_inc_tax\", DecimalType(7, 2)),\n",
    "    (\"sr_fee\", DecimalType(7, 2)),\n",
    "    (\"sr_return_ship_cost\", DecimalType(7, 2)),\n",
    "    (\"sr_refunded_cash\", DecimalType(7, 2)),\n",
    "    (\"sr_reversed_charge\", DecimalType(7, 2)),\n",
    "    (\"sr_store_credit\", DecimalType(7, 2)),\n",
    "    (\"sr_net_loss\", DecimalType(7, 2)),\n",
    "]\n",
    "\n",
    "# Rename columns and perform type casting\n",
    "for col_name, col_type in columns_mapping:\n",
    "    df = df.withColumnRenamed(f\"_c{columns_mapping.index((col_name, col_type))}\", col_name)\n",
    "    df = df.withColumn(col_name, col(col_name).cast(col_type))\n",
    "\n",
    "# Write to Iceberg table\n",
    "df.write.format(f\"{table_format}\").mode(\"append\").option(\"mergeSchema\", \"true\").saveAsTable(f\"{db}.{table_name}\")\n",
    "\n",
    "# Calculate execution time\n",
    "end_time = time.time()\n",
    "execution_time = end_time - start_time\n",
    "execution_times[table_name] = execution_time\n",
    "print(f\"Execution time for {table_name}: {execution_time} seconds\")"
   ]
  },
  {
   "cell_type": "code",
   "execution_count": 29,
   "metadata": {
    "execution": {
     "iopub.execute_input": "2024-01-14T19:03:44.533300Z",
     "iopub.status.busy": "2024-01-14T19:03:44.532984Z",
     "iopub.status.idle": "2024-01-14T19:03:51.912108Z",
     "shell.execute_reply": "2024-01-14T19:03:51.911051Z",
     "shell.execute_reply.started": "2024-01-14T19:03:44.533258Z"
    },
    "tags": []
   },
   "outputs": [
    {
     "data": {
      "application/vnd.jupyter.widget-view+json": {
       "model_id": "df925fb287754e67b5addc9acc439e01",
       "version_major": 2,
       "version_minor": 0
      },
      "text/plain": [
       "VBox()"
      ]
     },
     "metadata": {},
     "output_type": "display_data"
    },
    {
     "data": {
      "application/vnd.jupyter.widget-view+json": {
       "model_id": "",
       "version_major": 2,
       "version_minor": 0
      },
      "text/plain": [
       "FloatProgress(value=0.0, bar_style='info', description='Progress:', layout=Layout(height='25px', width='50%'),…"
      ]
     },
     "metadata": {},
     "output_type": "display_data"
    },
    {
     "name": "stdout",
     "output_type": "stream",
     "text": [
      "Execution time for catalog_returns: 5.483922481536865 seconds"
     ]
    }
   ],
   "source": [
    "from pyspark.sql.functions import col\n",
    "from pyspark.sql.types import IntegerType, DecimalType, DateType, StringType, LongType\n",
    "\n",
    "start_time = time.time()\n",
    "\n",
    "table_name = 'catalog_returns'\n",
    "table_path = db_path + table_name\n",
    "raw_table_data = raw_data + table_name + \".dat\"\n",
    "\n",
    "# Create Iceberg table\n",
    "spark.sql(f\"\"\"CREATE TABLE IF NOT EXISTS {db}.{table_name}(\n",
    "    cr_returned_date_sk       integer                       ,\n",
    "    cr_returned_time_sk       integer                       ,\n",
    "    cr_item_sk                integer                          ,\n",
    "    cr_refunded_customer_sk   integer                       ,\n",
    "    cr_refunded_cdemo_sk      integer                       ,\n",
    "    cr_refunded_hdemo_sk      integer                       ,\n",
    "    cr_refunded_addr_sk       integer                       ,\n",
    "    cr_returning_customer_sk  integer                       ,\n",
    "    cr_returning_cdemo_sk     integer                       ,\n",
    "    cr_returning_hdemo_sk     integer                       ,\n",
    "    cr_returning_addr_sk      integer                       ,\n",
    "    cr_call_center_sk         integer                       ,\n",
    "    cr_catalog_page_sk        integer                       ,\n",
    "    cr_ship_mode_sk           integer                       ,\n",
    "    cr_warehouse_sk           integer                       ,\n",
    "    cr_reason_sk              integer                       ,\n",
    "    cr_order_number           bigint                           ,\n",
    "    cr_return_quantity        integer                       ,\n",
    "    cr_return_amount          decimal(7,2)                  ,\n",
    "    cr_return_tax             decimal(7,2)                  ,\n",
    "    cr_return_amt_inc_tax     decimal(7,2)                  ,\n",
    "    cr_fee                    decimal(7,2)                  ,\n",
    "    cr_return_ship_cost       decimal(7,2)                  ,\n",
    "    cr_refunded_cash          decimal(7,2)                  ,\n",
    "    cr_reversed_charge        decimal(7,2)                  ,\n",
    "    cr_store_credit           decimal(7,2)                  ,\n",
    "    cr_net_loss               decimal(7,2)\n",
    ")\n",
    "USING {table_format} \n",
    "LOCATION '{table_path}'\"\"\");\n",
    "\n",
    "# Read CSV file\n",
    "df = (\n",
    "    spark.read.format(\"csv\").\n",
    "    option(\"header\", False)\n",
    "    .option(\"delimiter\", \"|\")\n",
    "    .load(raw_table_data)\n",
    ")\n",
    "df = df.drop(df.columns[-1])\n",
    "\n",
    "\n",
    "# Define column names and types\n",
    "columns_mapping = [\n",
    "    (\"cr_returned_date_sk\", IntegerType()),\n",
    "    (\"cr_returned_time_sk\", IntegerType()),\n",
    "    (\"cr_item_sk\", IntegerType()),\n",
    "    (\"cr_refunded_customer_sk\", IntegerType()),\n",
    "    (\"cr_refunded_cdemo_sk\", IntegerType()),\n",
    "    (\"cr_refunded_hdemo_sk\", IntegerType()),\n",
    "    (\"cr_refunded_addr_sk\", IntegerType()),\n",
    "    (\"cr_returning_customer_sk\", IntegerType()),\n",
    "    (\"cr_returning_cdemo_sk\", IntegerType()),\n",
    "    (\"cr_returning_hdemo_sk\", IntegerType()),\n",
    "    (\"cr_returning_addr_sk\", IntegerType()),\n",
    "    (\"cr_call_center_sk\", IntegerType()),\n",
    "    (\"cr_catalog_page_sk\", IntegerType()),\n",
    "    (\"cr_ship_mode_sk\", IntegerType()),\n",
    "    (\"cr_warehouse_sk\", IntegerType()),\n",
    "    (\"cr_reason_sk\", IntegerType()),\n",
    "    (\"cr_order_number\", LongType()),\n",
    "    (\"cr_return_quantity\", IntegerType()),\n",
    "    (\"cr_return_amount\", DecimalType(7, 2)),\n",
    "    (\"cr_return_tax\", DecimalType(7, 2)),\n",
    "    (\"cr_return_amt_inc_tax\", DecimalType(7, 2)),\n",
    "    (\"cr_fee\", DecimalType(7, 2)),\n",
    "    (\"cr_return_ship_cost\", DecimalType(7, 2)),\n",
    "    (\"cr_refunded_cash\", DecimalType(7, 2)),\n",
    "    (\"cr_reversed_charge\", DecimalType(7, 2)),\n",
    "    (\"cr_store_credit\", DecimalType(7, 2)),\n",
    "    (\"cr_net_loss\", DecimalType(7, 2)),\n",
    "]\n",
    "\n",
    "# Rename columns and perform type casting\n",
    "for col_name, col_type in columns_mapping:\n",
    "    df = df.withColumnRenamed(f\"_c{columns_mapping.index((col_name, col_type))}\", col_name)\n",
    "    df = df.withColumn(col_name, col(col_name).cast(col_type))\n",
    "\n",
    "# Write to Iceberg table\n",
    "df.write.format(f\"{table_format}\").mode(\"append\").option(\"mergeSchema\", \"true\").saveAsTable(f\"{db}.{table_name}\")\n",
    "\n",
    "# Calculate execution time\n",
    "end_time = time.time()\n",
    "execution_time = end_time - start_time\n",
    "execution_times[table_name] = execution_time\n",
    "print(f\"Execution time for {table_name}: {execution_time} seconds\")"
   ]
  },
  {
   "cell_type": "code",
   "execution_count": 62,
   "metadata": {
    "execution": {
     "iopub.execute_input": "2024-01-14T19:22:31.154153Z",
     "iopub.status.busy": "2024-01-14T19:22:31.153796Z",
     "iopub.status.idle": "2024-01-14T19:22:52.521812Z",
     "shell.execute_reply": "2024-01-14T19:22:52.520641Z",
     "shell.execute_reply.started": "2024-01-14T19:22:31.154108Z"
    },
    "tags": []
   },
   "outputs": [
    {
     "data": {
      "application/vnd.jupyter.widget-view+json": {
       "model_id": "42669aa50c7f4115966eb54acc9b1571",
       "version_major": 2,
       "version_minor": 0
      },
      "text/plain": [
       "VBox()"
      ]
     },
     "metadata": {},
     "output_type": "display_data"
    },
    {
     "data": {
      "application/vnd.jupyter.widget-view+json": {
       "model_id": "",
       "version_major": 2,
       "version_minor": 0
      },
      "text/plain": [
       "FloatProgress(value=0.0, bar_style='info', description='Progress:', layout=Layout(height='25px', width='50%'),…"
      ]
     },
     "metadata": {},
     "output_type": "display_data"
    },
    {
     "name": "stdout",
     "output_type": "stream",
     "text": [
      "Execution time for inventory: 20.63095498085022 seconds"
     ]
    }
   ],
   "source": [
    "from pyspark.sql.functions import col\n",
    "from pyspark.sql.types import IntegerType, DecimalType, DateType, StringType, LongType\n",
    "\n",
    "start_time = time.time()\n",
    "\n",
    "table_name = 'inventory'\n",
    "table_path = db_path + table_name\n",
    "raw_table_data = raw_data + table_name + \".dat\"\n",
    "\n",
    "# Create Iceberg table\n",
    "spark.sql(f\"\"\"CREATE TABLE IF NOT EXISTS {db}.{table_name}(\n",
    "    inv_date_sk               integer                          ,\n",
    "    inv_item_sk               integer                          ,\n",
    "    inv_warehouse_sk          integer                          ,\n",
    "    inv_quantity_on_hand      integer\n",
    ")\n",
    "USING {table_format} \n",
    "LOCATION '{table_path}'\"\"\");\n",
    "\n",
    "# Read CSV file\n",
    "df = (\n",
    "    spark.read.format(\"csv\").\n",
    "    option(\"header\", False)\n",
    "    .option(\"delimiter\", \"|\")\n",
    "    .load(raw_table_data)\n",
    ")\n",
    "df = df.drop(df.columns[-1])\n",
    "\n",
    "\n",
    "# Define column names and types\n",
    "columns_mapping = [\n",
    "    (\"inv_date_sk\", IntegerType()),\n",
    "    (\"inv_item_sk\", IntegerType()),\n",
    "    (\"inv_warehouse_sk\", IntegerType()),\n",
    "    (\"inv_quantity_on_hand\", IntegerType()),\n",
    "]\n",
    "\n",
    "# Rename columns and perform type casting\n",
    "for col_name, col_type in columns_mapping:\n",
    "    df = df.withColumnRenamed(f\"_c{columns_mapping.index((col_name, col_type))}\", col_name)\n",
    "    df = df.withColumn(col_name, col(col_name).cast(col_type))\n",
    "\n",
    "# Write to Iceberg table\n",
    "df.write.format(f\"{table_format}\").mode(\"append\").option(\"mergeSchema\", \"true\").saveAsTable(f\"{db}.{table_name}\")\n",
    "\n",
    "# Calculate execution time\n",
    "end_time = time.time()\n",
    "execution_time = end_time - start_time\n",
    "execution_times[table_name] = execution_time\n",
    "print(f\"Execution time for {table_name}: {execution_time} seconds\")"
   ]
  },
  {
   "cell_type": "code",
   "execution_count": 30,
   "metadata": {
    "execution": {
     "iopub.execute_input": "2024-01-14T19:03:51.914329Z",
     "iopub.status.busy": "2024-01-14T19:03:51.914092Z",
     "iopub.status.idle": "2024-01-14T19:03:57.252460Z",
     "shell.execute_reply": "2024-01-14T19:03:57.251284Z",
     "shell.execute_reply.started": "2024-01-14T19:03:51.914297Z"
    }
   },
   "outputs": [
    {
     "data": {
      "application/vnd.jupyter.widget-view+json": {
       "model_id": "7362344a2151454eb53983983d87f7e2",
       "version_major": 2,
       "version_minor": 0
      },
      "text/plain": [
       "VBox()"
      ]
     },
     "metadata": {},
     "output_type": "display_data"
    },
    {
     "data": {
      "application/vnd.jupyter.widget-view+json": {
       "model_id": "",
       "version_major": 2,
       "version_minor": 0
      },
      "text/plain": [
       "FloatProgress(value=0.0, bar_style='info', description='Progress:', layout=Layout(height='25px', width='50%'),…"
      ]
     },
     "metadata": {},
     "output_type": "display_data"
    },
    {
     "name": "stdout",
     "output_type": "stream",
     "text": [
      "Execution time for web_returns: 4.118833303451538 seconds"
     ]
    }
   ],
   "source": [
    "from pyspark.sql.functions import col\n",
    "from pyspark.sql.types import IntegerType, DecimalType, DateType, StringType, LongType\n",
    "\n",
    "start_time = time.time()\n",
    "\n",
    "table_name = 'web_returns'\n",
    "table_path = db_path + table_name\n",
    "raw_table_data = raw_data + table_name + \".dat\"\n",
    "\n",
    "# Create Iceberg table\n",
    "spark.sql(f\"\"\"CREATE TABLE IF NOT EXISTS {db}.{table_name}(\n",
    "    wr_returned_date_sk       integer                       ,\n",
    "    wr_returned_time_sk       integer                       ,\n",
    "    wr_item_sk                integer                          ,\n",
    "    wr_refunded_customer_sk   integer                       ,\n",
    "    wr_refunded_cdemo_sk      integer                       ,\n",
    "    wr_refunded_hdemo_sk      integer                       ,\n",
    "    wr_refunded_addr_sk       integer                       ,\n",
    "    wr_returning_customer_sk  integer                       ,\n",
    "    wr_returning_cdemo_sk     integer                       ,\n",
    "    wr_returning_hdemo_sk     integer                       ,\n",
    "    wr_returning_addr_sk      integer                       ,\n",
    "    wr_web_page_sk            integer                       ,\n",
    "    wr_reason_sk              integer                       ,\n",
    "    wr_order_number           bigint                     ,\n",
    "    wr_return_quantity        integer                       ,\n",
    "    wr_return_amt             decimal(7,2)                  ,\n",
    "    wr_return_tax             decimal(7,2)                  ,\n",
    "    wr_return_amt_inc_tax     decimal(7,2)                  ,\n",
    "    wr_fee                    decimal(7,2)                  ,\n",
    "    wr_return_ship_cost       decimal(7,2)                  ,\n",
    "    wr_refunded_cash          decimal(7,2)                  ,\n",
    "    wr_reversed_charge        decimal(7,2)                  ,\n",
    "    wr_account_credit         decimal(7,2)                  ,\n",
    "    wr_net_loss               decimal(7,2) \n",
    ")\n",
    "USING {table_format} \n",
    "LOCATION '{table_path}'\"\"\");\n",
    "\n",
    "# Read CSV file\n",
    "df = (\n",
    "    spark.read.format(\"csv\").\n",
    "    option(\"header\", False)\n",
    "    .option(\"delimiter\", \"|\")\n",
    "    .load(raw_table_data)\n",
    ")\n",
    "df = df.drop(df.columns[-1])\n",
    "\n",
    "\n",
    "# Define column names and types\n",
    "columns_mapping = [\n",
    "    (\"wr_returned_date_sk\", IntegerType()),\n",
    "    (\"wr_returned_time_sk\", IntegerType()),\n",
    "    (\"wr_item_sk\", IntegerType()),\n",
    "    (\"wr_refunded_customer_sk\", IntegerType()),\n",
    "    (\"wr_refunded_cdemo_sk\", IntegerType()),\n",
    "    (\"wr_refunded_hdemo_sk\", IntegerType()),\n",
    "    (\"wr_refunded_addr_sk\", IntegerType()),\n",
    "    (\"wr_returning_customer_sk\", IntegerType()),\n",
    "    (\"wr_returning_cdemo_sk\", IntegerType()),\n",
    "    (\"wr_returning_hdemo_sk\", IntegerType()),\n",
    "    (\"wr_returning_addr_sk\", IntegerType()),\n",
    "    (\"wr_web_page_sk\", IntegerType()),\n",
    "    (\"wr_reason_sk\", IntegerType()),\n",
    "    (\"wr_order_number\", LongType()),\n",
    "    (\"wr_return_quantity\", IntegerType()),\n",
    "    (\"wr_return_amt\", DecimalType(7,2)),\n",
    "    (\"wr_return_tax\", DecimalType(7,2)),\n",
    "    (\"wr_return_amt_inc_tax\", DecimalType(7,2)),\n",
    "    (\"wr_fee\", DecimalType(7,2)),\n",
    "    (\"wr_return_ship_cost\", DecimalType(7,2)),\n",
    "    (\"wr_refunded_cash\", DecimalType(7,2)),\n",
    "    (\"wr_reversed_charge\", DecimalType(7,2)),\n",
    "    (\"wr_account_credit\", DecimalType(7,2)),\n",
    "    (\"wr_net_loss\", DecimalType(7,2)),\n",
    "]\n",
    "\n",
    "# Rename columns and perform type casting\n",
    "for col_name, col_type in columns_mapping:\n",
    "    df = df.withColumnRenamed(f\"_c{columns_mapping.index((col_name, col_type))}\", col_name)\n",
    "    df = df.withColumn(col_name, col(col_name).cast(col_type))\n",
    "\n",
    "# Write to Iceberg table\n",
    "df.write.format(f\"{table_format}\").mode(\"append\").option(\"mergeSchema\", \"true\").saveAsTable(f\"{db}.{table_name}\")\n",
    "\n",
    "# Calculate execution time\n",
    "end_time = time.time()\n",
    "execution_time = end_time - start_time\n",
    "execution_times[table_name] = execution_time\n",
    "print(f\"Execution time for {table_name}: {execution_time} seconds\")"
   ]
  },
  {
   "cell_type": "code",
   "execution_count": 31,
   "metadata": {
    "execution": {
     "iopub.execute_input": "2024-01-14T19:03:57.254976Z",
     "iopub.status.busy": "2024-01-14T19:03:57.254640Z",
     "iopub.status.idle": "2024-01-14T19:04:02.616741Z",
     "shell.execute_reply": "2024-01-14T19:04:02.615743Z",
     "shell.execute_reply.started": "2024-01-14T19:03:57.254926Z"
    }
   },
   "outputs": [
    {
     "data": {
      "application/vnd.jupyter.widget-view+json": {
       "model_id": "ab76283f655340fb93e15936198dcbf7",
       "version_major": 2,
       "version_minor": 0
      },
      "text/plain": [
       "VBox()"
      ]
     },
     "metadata": {},
     "output_type": "display_data"
    },
    {
     "data": {
      "application/vnd.jupyter.widget-view+json": {
       "model_id": "",
       "version_major": 2,
       "version_minor": 0
      },
      "text/plain": [
       "FloatProgress(value=0.0, bar_style='info', description='Progress:', layout=Layout(height='25px', width='50%'),…"
      ]
     },
     "metadata": {},
     "output_type": "display_data"
    },
    {
     "name": "stdout",
     "output_type": "stream",
     "text": [
      "Execution time for customer: 3.7857563495635986 seconds"
     ]
    }
   ],
   "source": [
    "from pyspark.sql.functions import col\n",
    "from pyspark.sql.types import IntegerType, DecimalType, DateType, StringType, LongType\n",
    "\n",
    "start_time = time.time()\n",
    "\n",
    "table_name = 'customer'\n",
    "table_path = db_path + table_name\n",
    "raw_table_data = raw_data + table_name + \".dat\"\n",
    "\n",
    "# Create Iceberg table\n",
    "spark.sql(f\"\"\"CREATE TABLE IF NOT EXISTS {db}.{table_name}(\n",
    "    c_customer_sk             integer                          ,\n",
    "    c_customer_id             char(16)                         ,\n",
    "    c_current_cdemo_sk        integer                       ,\n",
    "    c_current_hdemo_sk        integer                       ,\n",
    "    c_current_addr_sk         integer                       ,\n",
    "    c_first_shipto_date_sk    integer                       ,\n",
    "    c_first_sales_date_sk     integer                       ,\n",
    "    c_salutation              char(10)                      ,\n",
    "    c_first_name              char(20)                      ,\n",
    "    c_last_name               char(30)                      ,\n",
    "    c_preferred_cust_flag     char(1)                       ,\n",
    "    c_birth_day               integer                       ,\n",
    "    c_birth_month             integer                       ,\n",
    "    c_birth_year              integer                       ,\n",
    "    c_birth_country           varchar(20)                   ,\n",
    "    c_login                   char(13)                      ,\n",
    "    c_email_address           char(50)                      ,\n",
    "    c_last_review_date_sk     integer \n",
    ")\n",
    "USING {table_format} \n",
    "LOCATION '{table_path}'\"\"\");\n",
    "\n",
    "# Read CSV file\n",
    "df = (\n",
    "    spark.read.format(\"csv\").\n",
    "    option(\"header\", False)\n",
    "    .option(\"delimiter\", \"|\")\n",
    "    .load(raw_table_data)\n",
    ")\n",
    "df = df.drop(df.columns[-1])\n",
    "\n",
    "\n",
    "# Define column names and types\n",
    "columns_mapping = [\n",
    "    (\"c_customer_sk\", IntegerType()),\n",
    "    (\"c_customer_id\", StringType()),\n",
    "    (\"c_current_cdemo_sk\", IntegerType()),\n",
    "    (\"c_current_hdemo_sk\", IntegerType()),\n",
    "    (\"c_current_addr_sk\", IntegerType()),\n",
    "    (\"c_first_shipto_date_sk\", IntegerType()),\n",
    "    (\"c_first_sales_date_sk\", IntegerType()),\n",
    "    (\"c_salutation\", StringType()),\n",
    "    (\"c_first_name\", StringType()),\n",
    "    (\"c_last_name\", StringType()),\n",
    "    (\"c_preferred_cust_flag\", StringType()),\n",
    "    (\"c_birth_day\", IntegerType()),\n",
    "    (\"c_birth_month\", IntegerType()),\n",
    "    (\"c_birth_year\", IntegerType()),\n",
    "    (\"c_birth_country\", StringType()),\n",
    "    (\"c_login\", StringType()),\n",
    "    (\"c_email_address\", StringType()),\n",
    "    (\"c_last_review_date_sk\", IntegerType()),\n",
    "]\n",
    "\n",
    "# Rename columns and perform type casting\n",
    "for col_name, col_type in columns_mapping:\n",
    "    df = df.withColumnRenamed(f\"_c{columns_mapping.index((col_name, col_type))}\", col_name)\n",
    "    df = df.withColumn(col_name, col(col_name).cast(col_type))\n",
    "\n",
    "# Write to Iceberg table\n",
    "df.write.format(f\"{table_format}\").mode(\"append\").option(\"mergeSchema\", \"true\").saveAsTable(f\"{db}.{table_name}\")\n",
    "\n",
    "# Calculate execution time\n",
    "end_time = time.time()\n",
    "execution_time = end_time - start_time\n",
    "execution_times[table_name] = execution_time\n",
    "print(f\"Execution time for {table_name}: {execution_time} seconds\")"
   ]
  },
  {
   "cell_type": "code",
   "execution_count": 32,
   "metadata": {
    "execution": {
     "iopub.execute_input": "2024-01-14T19:04:02.618298Z",
     "iopub.status.busy": "2024-01-14T19:04:02.618074Z",
     "iopub.status.idle": "2024-01-14T19:04:05.951159Z",
     "shell.execute_reply": "2024-01-14T19:04:05.950066Z",
     "shell.execute_reply.started": "2024-01-14T19:04:02.618267Z"
    }
   },
   "outputs": [
    {
     "data": {
      "application/vnd.jupyter.widget-view+json": {
       "model_id": "53b3ec0d1f7d46a89d7b81eb9f2f119b",
       "version_major": 2,
       "version_minor": 0
      },
      "text/plain": [
       "VBox()"
      ]
     },
     "metadata": {},
     "output_type": "display_data"
    },
    {
     "data": {
      "application/vnd.jupyter.widget-view+json": {
       "model_id": "",
       "version_major": 2,
       "version_minor": 0
      },
      "text/plain": [
       "FloatProgress(value=0.0, bar_style='info', description='Progress:', layout=Layout(height='25px', width='50%'),…"
      ]
     },
     "metadata": {},
     "output_type": "display_data"
    },
    {
     "name": "stdout",
     "output_type": "stream",
     "text": [
      "Execution time for customer_address: 2.9811716079711914 seconds"
     ]
    }
   ],
   "source": [
    "from pyspark.sql.functions import col\n",
    "from pyspark.sql.types import IntegerType, DecimalType, DateType, StringType, LongType\n",
    "\n",
    "start_time = time.time()\n",
    "\n",
    "table_name = 'customer_address'\n",
    "table_path = db_path + table_name\n",
    "raw_table_data = raw_data + table_name + \".dat\"\n",
    "\n",
    "# Create Iceberg table\n",
    "spark.sql(f\"\"\"CREATE TABLE IF NOT EXISTS {db}.{table_name}(\n",
    "    ca_address_sk             integer                          ,\n",
    "    ca_address_id             char(16)                         ,\n",
    "    ca_street_number          char(10)                      ,\n",
    "    ca_street_name            varchar(60)                   ,\n",
    "    ca_street_type            char(15)                      ,\n",
    "    ca_suite_number           char(10)                      ,\n",
    "    ca_city                   varchar(60)                   ,\n",
    "    ca_county                 varchar(30)                   ,\n",
    "    ca_state                  char(2)                       ,\n",
    "    ca_zip                    char(10)                      ,\n",
    "    ca_country                varchar(20)                   ,\n",
    "    ca_gmt_offset             decimal(5,2)                  ,\n",
    "    ca_location_type          char(20) \n",
    ")\n",
    "USING {table_format} \n",
    "LOCATION '{table_path}'\"\"\");\n",
    "\n",
    "# Read CSV file\n",
    "df = (\n",
    "    spark.read.format(\"csv\").\n",
    "    option(\"header\", False)\n",
    "    .option(\"delimiter\", \"|\")\n",
    "    .load(raw_table_data)\n",
    ")\n",
    "df = df.drop(df.columns[-1])\n",
    "\n",
    "\n",
    "# Define column names and types\n",
    "columns_mapping = [\n",
    "    (\"ca_address_sk\", IntegerType()),\n",
    "    (\"ca_address_id\", StringType()),\n",
    "    (\"ca_street_number\", StringType()),\n",
    "    (\"ca_street_name\", StringType()),\n",
    "    (\"ca_street_type\", StringType()),\n",
    "    (\"ca_suite_number\", StringType()),\n",
    "    (\"ca_city\", StringType()),\n",
    "    (\"ca_county\", StringType()),\n",
    "    (\"ca_state\", StringType()),\n",
    "    (\"ca_zip\", StringType()),\n",
    "    (\"ca_country\", StringType()),\n",
    "    (\"ca_gmt_offset\", DecimalType(5, 2)),\n",
    "    (\"ca_location_type\", StringType()),\n",
    "]\n",
    "\n",
    "# Rename columns and perform type casting\n",
    "for col_name, col_type in columns_mapping:\n",
    "    df = df.withColumnRenamed(f\"_c{columns_mapping.index((col_name, col_type))}\", col_name)\n",
    "    df = df.withColumn(col_name, col(col_name).cast(col_type))\n",
    "\n",
    "# Write to Iceberg table\n",
    "df.write.format(f\"{table_format}\").mode(\"append\").option(\"mergeSchema\", \"true\").saveAsTable(f\"{db}.{table_name}\")\n",
    "\n",
    "# Calculate execution time\n",
    "end_time = time.time()\n",
    "execution_time = end_time - start_time\n",
    "execution_times[table_name] = execution_time\n",
    "print(f\"Execution time for {table_name}: {execution_time} seconds\")"
   ]
  },
  {
   "cell_type": "code",
   "execution_count": 33,
   "metadata": {
    "execution": {
     "iopub.execute_input": "2024-01-14T19:04:05.954093Z",
     "iopub.status.busy": "2024-01-14T19:04:05.953754Z",
     "iopub.status.idle": "2024-01-14T19:04:09.290971Z",
     "shell.execute_reply": "2024-01-14T19:04:09.289733Z",
     "shell.execute_reply.started": "2024-01-14T19:04:05.954045Z"
    }
   },
   "outputs": [
    {
     "data": {
      "application/vnd.jupyter.widget-view+json": {
       "model_id": "f7fc2463b0a6423580cace1e97fa1152",
       "version_major": 2,
       "version_minor": 0
      },
      "text/plain": [
       "VBox()"
      ]
     },
     "metadata": {},
     "output_type": "display_data"
    },
    {
     "data": {
      "application/vnd.jupyter.widget-view+json": {
       "model_id": "",
       "version_major": 2,
       "version_minor": 0
      },
      "text/plain": [
       "FloatProgress(value=0.0, bar_style='info', description='Progress:', layout=Layout(height='25px', width='50%'),…"
      ]
     },
     "metadata": {},
     "output_type": "display_data"
    },
    {
     "name": "stdout",
     "output_type": "stream",
     "text": [
      "Execution time for item: 3.179847240447998 seconds"
     ]
    }
   ],
   "source": [
    "from pyspark.sql.functions import col\n",
    "from pyspark.sql.types import IntegerType, DecimalType, DateType, StringType, LongType\n",
    "\n",
    "start_time = time.time()\n",
    "\n",
    "table_name = 'item'\n",
    "table_path = db_path + table_name\n",
    "raw_table_data = raw_data + table_name + \".dat\"\n",
    "\n",
    "# Create Iceberg table\n",
    "spark.sql(f\"\"\"CREATE TABLE IF NOT EXISTS {db}.{table_name}(\n",
    "    i_item_sk                 integer                          ,\n",
    "    i_item_id                 char(16)                         ,\n",
    "    i_rec_start_date          date                          ,\n",
    "    i_rec_end_date            date                          ,\n",
    "    i_item_desc               varchar(200)                  ,\n",
    "    i_current_price           decimal(7,2)                  ,\n",
    "    i_wholesale_cost          decimal(7,2)                  ,\n",
    "    i_brand_id                integer                       ,\n",
    "    i_brand                   char(50)                      ,\n",
    "    i_class_id                integer                       ,\n",
    "    i_class                   char(50)                      ,\n",
    "    i_category_id             integer                       ,\n",
    "    i_category                char(50)                      ,\n",
    "    i_manufact_id             integer                       ,\n",
    "    i_manufact                char(50)                      ,\n",
    "    i_size                    char(20)                      ,\n",
    "    i_formulation             char(20)                      ,\n",
    "    i_color                   char(20)                      ,\n",
    "    i_units                   char(10)                      ,\n",
    "    i_container               char(10)                      ,\n",
    "    i_manager_id              integer                       ,\n",
    "    i_product_name            char(50)   \n",
    ")\n",
    "USING {table_format} \n",
    "LOCATION '{table_path}'\"\"\");\n",
    "\n",
    "# Read CSV file\n",
    "df = (\n",
    "    spark.read.format(\"csv\").\n",
    "    option(\"header\", False)\n",
    "    .option(\"delimiter\", \"|\")\n",
    "    .load(raw_table_data)\n",
    ")\n",
    "df = df.drop(df.columns[-1])\n",
    "\n",
    "\n",
    "# Define column names and types\n",
    "\n",
    "columns_mapping = [\n",
    "    (\"i_item_sk\", IntegerType()),\n",
    "    (\"i_item_id\", StringType()),\n",
    "    (\"i_rec_start_date\", DateType()),\n",
    "    (\"i_rec_end_date\", DateType()),\n",
    "    (\"i_item_desc\", StringType()),\n",
    "    (\"i_current_price\", DecimalType(7, 2)),\n",
    "    (\"i_wholesale_cost\", DecimalType(7, 2)),\n",
    "    (\"i_brand_id\", IntegerType()),\n",
    "    (\"i_brand\", StringType()),\n",
    "    (\"i_class_id\", IntegerType()),\n",
    "    (\"i_class\", StringType()),\n",
    "    (\"i_category_id\", IntegerType()),\n",
    "    (\"i_category\", StringType()),\n",
    "    (\"i_manufact_id\", IntegerType()),\n",
    "    (\"i_manufact\", StringType()),\n",
    "    (\"i_size\", StringType()),\n",
    "    (\"i_formulation\", StringType()),\n",
    "    (\"i_color\", StringType()),\n",
    "    (\"i_units\", StringType()),\n",
    "    (\"i_container\", StringType()),\n",
    "    (\"i_manager_id\", IntegerType()),\n",
    "    (\"i_product_name\", StringType()),\n",
    "]\n",
    "\n",
    "# Rename columns and perform type casting\n",
    "for col_name, col_type in columns_mapping:\n",
    "    df = df.withColumnRenamed(f\"_c{columns_mapping.index((col_name, col_type))}\", col_name)\n",
    "    df = df.withColumn(col_name, col(col_name).cast(col_type))\n",
    "\n",
    "# Write to Iceberg table\n",
    "df.write.format(f\"{table_format}\").mode(\"append\").option(\"mergeSchema\", \"true\").saveAsTable(f\"{db}.{table_name}\")\n",
    "\n",
    "# Calculate execution time\n",
    "end_time = time.time()\n",
    "execution_time = end_time - start_time\n",
    "execution_times[table_name] = execution_time\n",
    "print(f\"Execution time for {table_name}: {execution_time} seconds\")"
   ]
  },
  {
   "cell_type": "code",
   "execution_count": 34,
   "metadata": {
    "execution": {
     "iopub.execute_input": "2024-01-14T19:04:09.293463Z",
     "iopub.status.busy": "2024-01-14T19:04:09.293121Z",
     "iopub.status.idle": "2024-01-14T19:04:16.635153Z",
     "shell.execute_reply": "2024-01-14T19:04:16.634154Z",
     "shell.execute_reply.started": "2024-01-14T19:04:09.293413Z"
    }
   },
   "outputs": [
    {
     "data": {
      "application/vnd.jupyter.widget-view+json": {
       "model_id": "59a2476dae1b4557bd95f3a4817278f5",
       "version_major": 2,
       "version_minor": 0
      },
      "text/plain": [
       "VBox()"
      ]
     },
     "metadata": {},
     "output_type": "display_data"
    },
    {
     "data": {
      "application/vnd.jupyter.widget-view+json": {
       "model_id": "",
       "version_major": 2,
       "version_minor": 0
      },
      "text/plain": [
       "FloatProgress(value=0.0, bar_style='info', description='Progress:', layout=Layout(height='25px', width='50%'),…"
      ]
     },
     "metadata": {},
     "output_type": "display_data"
    },
    {
     "name": "stdout",
     "output_type": "stream",
     "text": [
      "Execution time for customer_demographics: 6.831796884536743 seconds"
     ]
    }
   ],
   "source": [
    "from pyspark.sql.functions import col\n",
    "from pyspark.sql.types import IntegerType, DecimalType, DateType, StringType, LongType\n",
    "\n",
    "start_time = time.time()\n",
    "\n",
    "table_name = 'customer_demographics'\n",
    "table_path = db_path + table_name\n",
    "raw_table_data = raw_data + table_name + \".dat\"\n",
    "\n",
    "# Create Iceberg table\n",
    "spark.sql(f\"\"\"CREATE TABLE IF NOT EXISTS {db}.{table_name}(\n",
    "    cd_demo_sk                integer                          ,\n",
    "    cd_gender                 char(1)                       ,\n",
    "    cd_marital_status         char(1)                       ,\n",
    "    cd_education_status       char(20)                      ,\n",
    "    cd_purchase_estimate      integer                       ,\n",
    "    cd_credit_rating          char(10)                      ,\n",
    "    cd_dep_count              integer                       ,\n",
    "    cd_dep_employed_count     integer                       ,\n",
    "    cd_dep_college_count      integer   \n",
    ")\n",
    "USING {table_format} \n",
    "LOCATION '{table_path}'\"\"\");\n",
    "\n",
    "# Read CSV file\n",
    "df = (\n",
    "    spark.read.format(\"csv\").\n",
    "    option(\"header\", False)\n",
    "    .option(\"delimiter\", \"|\")\n",
    "    .load(raw_table_data)\n",
    ")\n",
    "df = df.drop(df.columns[-1])\n",
    "\n",
    "\n",
    "# Define column names and types\n",
    "columns_mapping = [\n",
    "    (\"cd_demo_sk\", IntegerType()),\n",
    "    (\"cd_gender\", StringType()),\n",
    "    (\"cd_marital_status\", StringType()),\n",
    "    (\"cd_education_status\", StringType()),\n",
    "    (\"cd_purchase_estimate\", IntegerType()),\n",
    "    (\"cd_credit_rating\", StringType()),\n",
    "    (\"cd_dep_count\", IntegerType()),\n",
    "    (\"cd_dep_employed_count\", IntegerType()),\n",
    "    (\"cd_dep_college_count\", IntegerType()),\n",
    "]\n",
    "\n",
    "# Rename columns and perform type casting\n",
    "for col_name, col_type in columns_mapping:\n",
    "    df = df.withColumnRenamed(f\"_c{columns_mapping.index((col_name, col_type))}\", col_name)\n",
    "    df = df.withColumn(col_name, col(col_name).cast(col_type))\n",
    "\n",
    "# Write to Iceberg table\n",
    "df.write.format(f\"{table_format}\").mode(\"append\").option(\"mergeSchema\", \"true\").saveAsTable(f\"{db}.{table_name}\")\n",
    "\n",
    "# Calculate execution time\n",
    "end_time = time.time()\n",
    "execution_time = end_time - start_time\n",
    "execution_times[table_name] = execution_time\n",
    "print(f\"Execution time for {table_name}: {execution_time} seconds\")"
   ]
  },
  {
   "cell_type": "code",
   "execution_count": 35,
   "metadata": {
    "execution": {
     "iopub.execute_input": "2024-01-14T19:04:16.636752Z",
     "iopub.status.busy": "2024-01-14T19:04:16.636524Z",
     "iopub.status.idle": "2024-01-14T19:04:21.980009Z",
     "shell.execute_reply": "2024-01-14T19:04:21.978993Z",
     "shell.execute_reply.started": "2024-01-14T19:04:16.636721Z"
    },
    "tags": []
   },
   "outputs": [
    {
     "data": {
      "application/vnd.jupyter.widget-view+json": {
       "model_id": "cfc610f234494ce998f535e68f757a8c",
       "version_major": 2,
       "version_minor": 0
      },
      "text/plain": [
       "VBox()"
      ]
     },
     "metadata": {},
     "output_type": "display_data"
    },
    {
     "data": {
      "application/vnd.jupyter.widget-view+json": {
       "model_id": "",
       "version_major": 2,
       "version_minor": 0
      },
      "text/plain": [
       "FloatProgress(value=0.0, bar_style='info', description='Progress:', layout=Layout(height='25px', width='50%'),…"
      ]
     },
     "metadata": {},
     "output_type": "display_data"
    },
    {
     "name": "stdout",
     "output_type": "stream",
     "text": [
      "Execution time for date_dim: 3.951873779296875 seconds"
     ]
    }
   ],
   "source": [
    "from pyspark.sql.functions import col\n",
    "from pyspark.sql.types import IntegerType, DecimalType, DateType, StringType, LongType\n",
    "\n",
    "start_time = time.time()\n",
    "\n",
    "table_name = 'date_dim'\n",
    "table_path = db_path + table_name\n",
    "raw_table_data = raw_data + table_name + \".dat\"\n",
    "\n",
    "# Create Iceberg table\n",
    "spark.sql(f\"\"\"CREATE TABLE IF NOT EXISTS {db}.{table_name}(\n",
    "    d_date_sk                 integer                          ,\n",
    "    d_date_id                 char(16)                         ,\n",
    "    d_date                    date                          ,\n",
    "    d_month_seq               integer                       ,\n",
    "    d_week_seq                integer                       ,\n",
    "    d_quarter_seq             integer                       ,\n",
    "    d_year                    integer                       ,\n",
    "    d_dow                     integer                       ,\n",
    "    d_moy                     integer                       ,\n",
    "    d_dom                     integer                       ,\n",
    "    d_qoy                     integer                       ,\n",
    "    d_fy_year                 integer                       ,\n",
    "    d_fy_quarter_seq          integer                       ,\n",
    "    d_fy_week_seq             integer                       ,\n",
    "    d_day_name                char(9)                       ,\n",
    "    d_quarter_name            char(6)                       ,\n",
    "    d_holiday                 char(1)                       ,\n",
    "    d_weekend                 char(1)                       ,\n",
    "    d_following_holiday       char(1)                       ,\n",
    "    d_first_dom               integer                       ,\n",
    "    d_last_dom                integer                       ,\n",
    "    d_same_day_ly             integer                       ,\n",
    "    d_same_day_lq             integer                       ,\n",
    "    d_current_day             char(1)                       ,\n",
    "    d_current_week            char(1)                       ,\n",
    "    d_current_month           char(1)                       ,\n",
    "    d_current_quarter         char(1)                       ,\n",
    "    d_current_year            char(1)\n",
    ")\n",
    "USING {table_format} \n",
    "LOCATION '{table_path}'\"\"\");\n",
    "\n",
    "# Read CSV file\n",
    "df = (\n",
    "    spark.read.format(\"csv\").\n",
    "    option(\"header\", False)\n",
    "    .option(\"delimiter\", \"|\")\n",
    "    .load(raw_table_data)\n",
    ")\n",
    "df = df.drop(df.columns[-1])\n",
    "\n",
    "\n",
    "# Define column names and types\n",
    "columns_mapping = [\n",
    "    (\"d_date_sk\", IntegerType()),\n",
    "    (\"d_date_id\", StringType()),\n",
    "    (\"d_date\", DateType()),\n",
    "    (\"d_month_seq\", IntegerType()),\n",
    "    (\"d_week_seq\", IntegerType()),\n",
    "    (\"d_quarter_seq\", IntegerType()),\n",
    "    (\"d_year\", IntegerType()),\n",
    "    (\"d_dow\", IntegerType()),\n",
    "    (\"d_moy\", IntegerType()),\n",
    "    (\"d_dom\", IntegerType()),\n",
    "    (\"d_qoy\", IntegerType()),\n",
    "    (\"d_fy_year\", IntegerType()),\n",
    "    (\"d_fy_quarter_seq\", IntegerType()),\n",
    "    (\"d_fy_week_seq\", IntegerType()),\n",
    "    (\"d_day_name\", StringType()),\n",
    "    (\"d_quarter_name\", StringType()),\n",
    "    (\"d_holiday\", StringType()),\n",
    "    (\"d_weekend\", StringType()),\n",
    "    (\"d_following_holiday\", StringType()),\n",
    "    (\"d_first_dom\", IntegerType()),\n",
    "    (\"d_last_dom\", IntegerType()),\n",
    "    (\"d_same_day_ly\", IntegerType()),\n",
    "    (\"d_same_day_lq\", IntegerType()),\n",
    "    (\"d_current_day\", StringType()),\n",
    "    (\"d_current_week\", StringType()),\n",
    "    (\"d_current_month\", StringType()),\n",
    "    (\"d_current_quarter\", StringType()),\n",
    "    (\"d_current_year\", StringType()),\n",
    "]\n",
    "\n",
    "# Rename columns and perform type casting\n",
    "for col_name, col_type in columns_mapping:\n",
    "    df = df.withColumnRenamed(f\"_c{columns_mapping.index((col_name, col_type))}\", col_name)\n",
    "    df = df.withColumn(col_name, col(col_name).cast(col_type))\n",
    "\n",
    "# Write to Iceberg table\n",
    "df.write.format(f\"{table_format}\").mode(\"append\").option(\"mergeSchema\", \"true\").saveAsTable(f\"{db}.{table_name}\")\n",
    "\n",
    "# Calculate execution time\n",
    "end_time = time.time()\n",
    "execution_time = end_time - start_time\n",
    "execution_times[table_name] = execution_time\n",
    "print(f\"Execution time for {table_name}: {execution_time} seconds\")"
   ]
  },
  {
   "cell_type": "code",
   "execution_count": 36,
   "metadata": {
    "execution": {
     "iopub.execute_input": "2024-01-14T19:04:24.676275Z",
     "iopub.status.busy": "2024-01-14T19:04:24.676012Z",
     "iopub.status.idle": "2024-01-14T19:04:27.984184Z",
     "shell.execute_reply": "2024-01-14T19:04:27.983138Z",
     "shell.execute_reply.started": "2024-01-14T19:04:24.676243Z"
    },
    "tags": []
   },
   "outputs": [
    {
     "data": {
      "application/vnd.jupyter.widget-view+json": {
       "model_id": "5402facda58048039c9f67d0fa2c18d0",
       "version_major": 2,
       "version_minor": 0
      },
      "text/plain": [
       "VBox()"
      ]
     },
     "metadata": {},
     "output_type": "display_data"
    },
    {
     "data": {
      "application/vnd.jupyter.widget-view+json": {
       "model_id": "",
       "version_major": 2,
       "version_minor": 0
      },
      "text/plain": [
       "FloatProgress(value=0.0, bar_style='info', description='Progress:', layout=Layout(height='25px', width='50%'),…"
      ]
     },
     "metadata": {},
     "output_type": "display_data"
    },
    {
     "name": "stdout",
     "output_type": "stream",
     "text": [
      "Execution time for time_dim: 2.725959539413452 seconds"
     ]
    }
   ],
   "source": [
    "from pyspark.sql.functions import col\n",
    "from pyspark.sql.types import IntegerType, DecimalType, DateType, StringType, LongType\n",
    "\n",
    "start_time = time.time()\n",
    "\n",
    "table_name = 'time_dim'\n",
    "table_path = db_path + table_name\n",
    "raw_table_data = raw_data + table_name + \".dat\"\n",
    "\n",
    "# Create Iceberg table\n",
    "spark.sql(f\"\"\"CREATE TABLE IF NOT EXISTS {db}.{table_name}(\n",
    "    t_time_sk                 integer                          ,\n",
    "    t_time_id                 char(16)                         ,\n",
    "    t_time                    integer                       ,\n",
    "    t_hour                    integer                       ,\n",
    "    t_minute                  integer                       ,\n",
    "    t_second                  integer                       ,\n",
    "    t_am_pm                   char(2)                       ,\n",
    "    t_shift                   char(20)                      ,\n",
    "    t_sub_shift               char(20)                      ,\n",
    "    t_meal_time               char(20)  \n",
    ")\n",
    "USING {table_format} \n",
    "LOCATION '{table_path}'\"\"\");\n",
    "\n",
    "# Read CSV file\n",
    "df = (\n",
    "    spark.read.format(\"csv\").\n",
    "    option(\"header\", False)\n",
    "    .option(\"delimiter\", \"|\")\n",
    "    .load(raw_table_data)\n",
    ")\n",
    "df = df.drop(df.columns[-1])\n",
    "\n",
    "\n",
    "# Define column names and types\n",
    "columns_mapping = [\n",
    "    (\"t_time_sk\", IntegerType()),\n",
    "    (\"t_time_id\", StringType()),\n",
    "    (\"t_time\", IntegerType()),\n",
    "    (\"t_hour\", IntegerType()),\n",
    "    (\"t_minute\", IntegerType()),\n",
    "    (\"t_second\", IntegerType()),\n",
    "    (\"t_am_pm\", StringType()),\n",
    "    (\"t_shift\", StringType()),\n",
    "    (\"t_sub_shift\", StringType()),\n",
    "    (\"t_meal_time\", StringType()),\n",
    "]\n",
    "\n",
    "# Rename columns and perform type casting\n",
    "for col_name, col_type in columns_mapping:\n",
    "    df = df.withColumnRenamed(f\"_c{columns_mapping.index((col_name, col_type))}\", col_name)\n",
    "    df = df.withColumn(col_name, col(col_name).cast(col_type))\n",
    "\n",
    "# Write to Iceberg table\n",
    "df.write.format(f\"{table_format}\").mode(\"append\").option(\"mergeSchema\", \"true\").saveAsTable(f\"{db}.{table_name}\")\n",
    "\n",
    "# Calculate execution time\n",
    "end_time = time.time()\n",
    "execution_time = end_time - start_time\n",
    "execution_times[table_name] = execution_time\n",
    "print(f\"Execution time for {table_name}: {execution_time} seconds\")"
   ]
  },
  {
   "cell_type": "code",
   "execution_count": 37,
   "metadata": {
    "execution": {
     "iopub.execute_input": "2024-01-14T19:04:28.254084Z",
     "iopub.status.busy": "2024-01-14T19:04:28.253804Z",
     "iopub.status.idle": "2024-01-14T19:04:30.551218Z",
     "shell.execute_reply": "2024-01-14T19:04:30.550122Z",
     "shell.execute_reply.started": "2024-01-14T19:04:28.254050Z"
    },
    "tags": []
   },
   "outputs": [
    {
     "data": {
      "application/vnd.jupyter.widget-view+json": {
       "model_id": "b19a43f1bc58419caebd8d0e8f729aab",
       "version_major": 2,
       "version_minor": 0
      },
      "text/plain": [
       "VBox()"
      ]
     },
     "metadata": {},
     "output_type": "display_data"
    },
    {
     "data": {
      "application/vnd.jupyter.widget-view+json": {
       "model_id": "",
       "version_major": 2,
       "version_minor": 0
      },
      "text/plain": [
       "FloatProgress(value=0.0, bar_style='info', description='Progress:', layout=Layout(height='25px', width='50%'),…"
      ]
     },
     "metadata": {},
     "output_type": "display_data"
    },
    {
     "name": "stdout",
     "output_type": "stream",
     "text": [
      "Execution time for catalog_page: 2.17922043800354 seconds"
     ]
    }
   ],
   "source": [
    "from pyspark.sql.functions import col\n",
    "from pyspark.sql.types import IntegerType, DecimalType, DateType, StringType, LongType\n",
    "\n",
    "start_time = time.time()\n",
    "\n",
    "table_name = 'catalog_page'\n",
    "table_path = db_path + table_name\n",
    "raw_table_data = raw_data + table_name + \".dat\"\n",
    "\n",
    "# Create Iceberg table\n",
    "spark.sql(f\"\"\"CREATE TABLE IF NOT EXISTS {db}.{table_name}(\n",
    "    cp_catalog_page_sk        integer                          ,\n",
    "    cp_catalog_page_id        char(16)                         ,\n",
    "    cp_start_date_sk          integer                       ,\n",
    "    cp_end_date_sk            integer                       ,\n",
    "    cp_department             varchar(50)                   ,\n",
    "    cp_catalog_number         integer                       ,\n",
    "    cp_catalog_page_number    integer                       ,\n",
    "    cp_description            varchar(100)                  ,\n",
    "    cp_type                   varchar(100)   \n",
    ")\n",
    "USING {table_format} \n",
    "LOCATION '{table_path}'\"\"\");\n",
    "\n",
    "# Read CSV file\n",
    "df = (\n",
    "    spark.read.format(\"csv\").\n",
    "    option(\"header\", False)\n",
    "    .option(\"delimiter\", \"|\")\n",
    "    .load(raw_table_data)\n",
    ")\n",
    "df = df.drop(df.columns[-1])\n",
    "\n",
    "\n",
    "# Define column names and types\n",
    "columns_mapping = [\n",
    "    (\"cp_catalog_page_sk\", IntegerType()),\n",
    "    (\"cp_catalog_page_id\", StringType()),\n",
    "    (\"cp_start_date_sk\", IntegerType()),\n",
    "    (\"cp_end_date_sk\", IntegerType()),\n",
    "    (\"cp_department\", StringType()),\n",
    "    (\"cp_catalog_number\", IntegerType()),\n",
    "    (\"cp_catalog_page_number\", IntegerType()),\n",
    "    (\"cp_description\", StringType()),\n",
    "    (\"cp_type\", StringType()),\n",
    "]\n",
    "\n",
    "# Rename columns and perform type casting\n",
    "for col_name, col_type in columns_mapping:\n",
    "    df = df.withColumnRenamed(f\"_c{columns_mapping.index((col_name, col_type))}\", col_name)\n",
    "    df = df.withColumn(col_name, col(col_name).cast(col_type))\n",
    "\n",
    "# Write to Iceberg table\n",
    "df.write.format(f\"{table_format}\").mode(\"append\").option(\"mergeSchema\", \"true\").saveAsTable(f\"{db}.{table_name}\")\n",
    "\n",
    "# Calculate execution time\n",
    "end_time = time.time()\n",
    "execution_time = end_time - start_time\n",
    "execution_times[table_name] = execution_time\n",
    "print(f\"Execution time for {table_name}: {execution_time} seconds\")"
   ]
  },
  {
   "cell_type": "code",
   "execution_count": 38,
   "metadata": {
    "execution": {
     "iopub.execute_input": "2024-01-14T19:04:31.853467Z",
     "iopub.status.busy": "2024-01-14T19:04:31.853161Z",
     "iopub.status.idle": "2024-01-14T19:04:34.197556Z",
     "shell.execute_reply": "2024-01-14T19:04:34.154691Z",
     "shell.execute_reply.started": "2024-01-14T19:04:31.853434Z"
    },
    "tags": []
   },
   "outputs": [
    {
     "data": {
      "application/vnd.jupyter.widget-view+json": {
       "model_id": "ffe87c40078343679596dde523c2fd44",
       "version_major": 2,
       "version_minor": 0
      },
      "text/plain": [
       "VBox()"
      ]
     },
     "metadata": {},
     "output_type": "display_data"
    },
    {
     "data": {
      "application/vnd.jupyter.widget-view+json": {
       "model_id": "",
       "version_major": 2,
       "version_minor": 0
      },
      "text/plain": [
       "FloatProgress(value=0.0, bar_style='info', description='Progress:', layout=Layout(height='25px', width='50%'),…"
      ]
     },
     "metadata": {},
     "output_type": "display_data"
    },
    {
     "name": "stdout",
     "output_type": "stream",
     "text": [
      "Execution time for web_page: 2.040485143661499 seconds"
     ]
    }
   ],
   "source": [
    "from pyspark.sql.functions import col\n",
    "from pyspark.sql.types import IntegerType, DecimalType, DateType, StringType, LongType\n",
    "\n",
    "start_time = time.time()\n",
    "\n",
    "table_name = 'web_page'\n",
    "table_path = db_path + table_name\n",
    "raw_table_data = raw_data + table_name + \".dat\"\n",
    "\n",
    "# Create Iceberg table\n",
    "spark.sql(f\"\"\"CREATE TABLE IF NOT EXISTS {db}.{table_name}(\n",
    "    wp_web_page_sk            integer                          ,\n",
    "    wp_web_page_id            char(16)                         ,\n",
    "    wp_rec_start_date         date                          ,\n",
    "    wp_rec_end_date           date                          ,\n",
    "    wp_creation_date_sk       integer                       ,\n",
    "    wp_access_date_sk         integer                       ,\n",
    "    wp_autogen_flag           char(1)                       ,\n",
    "    wp_customer_sk            integer                       ,\n",
    "    wp_url                    varchar(100)                  ,\n",
    "    wp_type                   char(50)                      ,\n",
    "    wp_char_count             integer                       ,\n",
    "    wp_link_count             integer                       ,\n",
    "    wp_image_count            integer                       ,\n",
    "    wp_max_ad_count           integer  \n",
    ")\n",
    "USING {table_format} \n",
    "LOCATION '{table_path}'\"\"\");\n",
    "\n",
    "# Read CSV file\n",
    "df = (\n",
    "    spark.read.format(\"csv\").\n",
    "    option(\"header\", False)\n",
    "    .option(\"delimiter\", \"|\")\n",
    "    .load(raw_table_data)\n",
    ")\n",
    "df = df.drop(df.columns[-1])\n",
    "\n",
    "\n",
    "# Define column names and types\n",
    "columns_mapping = [\n",
    "    (\"wp_web_page_sk\", IntegerType()),\n",
    "    (\"wp_web_page_id\", StringType()),\n",
    "    (\"wp_rec_start_date\", DateType()),\n",
    "    (\"wp_rec_end_date\", DateType()),\n",
    "    (\"wp_creation_date_sk\", IntegerType()),\n",
    "    (\"wp_access_date_sk\", IntegerType()),\n",
    "    (\"wp_autogen_flag\", StringType()),\n",
    "    (\"wp_customer_sk\", IntegerType()),\n",
    "    (\"wp_url\", StringType()),\n",
    "    (\"wp_type\", StringType()),\n",
    "    (\"wp_char_count\", IntegerType()),\n",
    "    (\"wp_link_count\", IntegerType()),\n",
    "    (\"wp_image_count\", IntegerType()),\n",
    "    (\"wp_max_ad_count\", IntegerType()),\n",
    "]\n",
    "\n",
    "# Rename columns and perform type casting\n",
    "for col_name, col_type in columns_mapping:\n",
    "    df = df.withColumnRenamed(f\"_c{columns_mapping.index((col_name, col_type))}\", col_name)\n",
    "    df = df.withColumn(col_name, col(col_name).cast(col_type))\n",
    "\n",
    "# Write to Iceberg table\n",
    "df.write.format(f\"{table_format}\").mode(\"append\").option(\"mergeSchema\", \"true\").saveAsTable(f\"{db}.{table_name}\")\n",
    "\n",
    "# Calculate execution time\n",
    "end_time = time.time()\n",
    "execution_time = end_time - start_time\n",
    "execution_times[table_name] = execution_time\n",
    "print(f\"Execution time for {table_name}: {execution_time} seconds\")"
   ]
  },
  {
   "cell_type": "code",
   "execution_count": 39,
   "metadata": {
    "execution": {
     "iopub.execute_input": "2024-01-14T19:04:36.998902Z",
     "iopub.status.busy": "2024-01-14T19:04:36.998638Z",
     "iopub.status.idle": "2024-01-14T19:04:40.314758Z",
     "shell.execute_reply": "2024-01-14T19:04:40.313722Z",
     "shell.execute_reply.started": "2024-01-14T19:04:36.998869Z"
    },
    "tags": []
   },
   "outputs": [
    {
     "data": {
      "application/vnd.jupyter.widget-view+json": {
       "model_id": "e666e3e1332b48e599532d18ad80cdc7",
       "version_major": 2,
       "version_minor": 0
      },
      "text/plain": [
       "VBox()"
      ]
     },
     "metadata": {},
     "output_type": "display_data"
    },
    {
     "data": {
      "application/vnd.jupyter.widget-view+json": {
       "model_id": "",
       "version_major": 2,
       "version_minor": 0
      },
      "text/plain": [
       "FloatProgress(value=0.0, bar_style='info', description='Progress:', layout=Layout(height='25px', width='50%'),…"
      ]
     },
     "metadata": {},
     "output_type": "display_data"
    },
    {
     "name": "stdout",
     "output_type": "stream",
     "text": [
      "Execution time for store: 2.6003503799438477 seconds"
     ]
    }
   ],
   "source": [
    "from pyspark.sql.functions import col\n",
    "from pyspark.sql.types import IntegerType, DecimalType, DateType, StringType, LongType\n",
    "\n",
    "start_time = time.time()\n",
    "\n",
    "table_name = 'store'\n",
    "table_path = db_path + table_name\n",
    "raw_table_data = raw_data + table_name + \".dat\"\n",
    "\n",
    "# Create Iceberg table\n",
    "spark.sql(f\"\"\"CREATE TABLE IF NOT EXISTS {db}.{table_name}(\n",
    "    s_store_sk                integer                          ,\n",
    "    s_store_id                char(16)                         ,\n",
    "    s_rec_start_date          date                          ,\n",
    "    s_rec_end_date            date                          ,\n",
    "    s_closed_date_sk          integer                       ,\n",
    "    s_store_name              varchar(50)                   ,\n",
    "    s_number_employees        integer                       ,\n",
    "    s_floor_space             integer                       ,\n",
    "    s_hours                   char(20)                      ,\n",
    "    s_manager                 varchar(40)                   ,\n",
    "    s_market_id               integer                       ,\n",
    "    s_geography_class         varchar(100)                  ,\n",
    "    s_market_desc             varchar(100)                  ,\n",
    "    s_market_manager          varchar(40)                   ,\n",
    "    s_division_id             integer                       ,\n",
    "    s_division_name           varchar(50)                   ,\n",
    "    s_company_id              integer                       ,\n",
    "    s_company_name            varchar(50)                   ,\n",
    "    s_street_number           varchar(10)                   ,\n",
    "    s_street_name             varchar(60)                   ,\n",
    "    s_street_type             char(15)                      ,\n",
    "    s_suite_number            char(10)                      ,\n",
    "    s_city                    varchar(60)                   ,\n",
    "    s_county                  varchar(30)                   ,\n",
    "    s_state                   char(2)                       ,\n",
    "    s_zip                     char(10)                      ,\n",
    "    s_country                 varchar(20)                   ,\n",
    "    s_gmt_offset              decimal(5,2)                  ,\n",
    "    s_tax_precentage          decimal(5,2)  \n",
    ")\n",
    "USING {table_format} \n",
    "LOCATION '{table_path}'\"\"\");\n",
    "\n",
    "# Read CSV file\n",
    "df = (\n",
    "    spark.read.format(\"csv\").\n",
    "    option(\"header\", False)\n",
    "    .option(\"delimiter\", \"|\")\n",
    "    .load(raw_table_data)\n",
    ")\n",
    "df = df.drop(df.columns[-1])\n",
    "\n",
    "\n",
    "# Define column names and types\n",
    "columns_mapping = [\n",
    "    (\"s_store_sk\", IntegerType()),\n",
    "    (\"s_store_id\", StringType()),\n",
    "    (\"s_rec_start_date\", DateType()),\n",
    "    (\"s_rec_end_date\", DateType()),\n",
    "    (\"s_closed_date_sk\", IntegerType()),\n",
    "    (\"s_store_name\", StringType()),\n",
    "    (\"s_number_employees\", IntegerType()),\n",
    "    (\"s_floor_space\", IntegerType()),\n",
    "    (\"s_hours\", StringType()),\n",
    "    (\"s_manager\", StringType()),\n",
    "    (\"s_market_id\", IntegerType()),\n",
    "    (\"s_geography_class\", StringType()),\n",
    "    (\"s_market_desc\", StringType()),\n",
    "    (\"s_market_manager\", StringType()),\n",
    "    (\"s_division_id\", IntegerType()),\n",
    "    (\"s_division_name\", StringType()),\n",
    "    (\"s_company_id\", IntegerType()),\n",
    "    (\"s_company_name\", StringType()),\n",
    "    (\"s_street_number\", StringType()),\n",
    "    (\"s_street_name\", StringType()),\n",
    "    (\"s_street_type\", StringType()),\n",
    "    (\"s_suite_number\", StringType()),\n",
    "    (\"s_city\", StringType()),\n",
    "    (\"s_county\", StringType()),\n",
    "    (\"s_state\", StringType()),\n",
    "    (\"s_zip\", StringType()),\n",
    "    (\"s_country\", StringType()),\n",
    "    (\"s_gmt_offset\", DecimalType(5, 2)),\n",
    "    (\"s_tax_precentage\", DecimalType(5, 2)),\n",
    "]\n",
    "\n",
    "# Rename columns and perform type casting\n",
    "for col_name, col_type in columns_mapping:\n",
    "    df = df.withColumnRenamed(f\"_c{columns_mapping.index((col_name, col_type))}\", col_name)\n",
    "    df = df.withColumn(col_name, col(col_name).cast(col_type))\n",
    "\n",
    "# Write to Iceberg table\n",
    "df.write.format(f\"{table_format}\").mode(\"append\").option(\"mergeSchema\", \"true\").saveAsTable(f\"{db}.{table_name}\")\n",
    "\n",
    "# Calculate execution time\n",
    "end_time = time.time()\n",
    "execution_time = end_time - start_time\n",
    "execution_times[table_name] = execution_time\n",
    "print(f\"Execution time for {table_name}: {execution_time} seconds\")"
   ]
  },
  {
   "cell_type": "code",
   "execution_count": 40,
   "metadata": {
    "execution": {
     "iopub.execute_input": "2024-01-14T19:04:41.140832Z",
     "iopub.status.busy": "2024-01-14T19:04:41.140534Z",
     "iopub.status.idle": "2024-01-14T19:04:43.439737Z",
     "shell.execute_reply": "2024-01-14T19:04:43.437458Z",
     "shell.execute_reply.started": "2024-01-14T19:04:41.140786Z"
    },
    "tags": []
   },
   "outputs": [
    {
     "data": {
      "application/vnd.jupyter.widget-view+json": {
       "model_id": "032bd12e78204baca7b11e79fae44ca5",
       "version_major": 2,
       "version_minor": 0
      },
      "text/plain": [
       "VBox()"
      ]
     },
     "metadata": {},
     "output_type": "display_data"
    },
    {
     "data": {
      "application/vnd.jupyter.widget-view+json": {
       "model_id": "",
       "version_major": 2,
       "version_minor": 0
      },
      "text/plain": [
       "FloatProgress(value=0.0, bar_style='info', description='Progress:', layout=Layout(height='25px', width='50%'),…"
      ]
     },
     "metadata": {},
     "output_type": "display_data"
    },
    {
     "name": "stdout",
     "output_type": "stream",
     "text": [
      "Execution time for promotion: 2.164320468902588 seconds"
     ]
    }
   ],
   "source": [
    "from pyspark.sql.functions import col\n",
    "from pyspark.sql.types import IntegerType, DecimalType, DateType, StringType, LongType\n",
    "\n",
    "start_time = time.time()\n",
    "\n",
    "table_name = 'promotion'\n",
    "table_path = db_path + table_name\n",
    "raw_table_data = raw_data + table_name + \".dat\"\n",
    "\n",
    "# Create Iceberg table\n",
    "spark.sql(f\"\"\"CREATE TABLE IF NOT EXISTS {db}.{table_name}(\n",
    "    p_promo_sk                integer                          ,\n",
    "    p_promo_id                char(16)                         ,\n",
    "    p_start_date_sk           integer                       ,\n",
    "    p_end_date_sk             integer                       ,\n",
    "    p_item_sk                 integer                       ,\n",
    "    p_cost                    decimal(15,2)                 ,\n",
    "    p_response_target         integer                       ,\n",
    "    p_promo_name              char(50)                      ,\n",
    "    p_channel_dmail           char(1)                       ,\n",
    "    p_channel_email           char(1)                       ,\n",
    "    p_channel_catalog         char(1)                       ,\n",
    "    p_channel_tv              char(1)                       ,\n",
    "    p_channel_radio           char(1)                       ,\n",
    "    p_channel_press           char(1)                       ,\n",
    "    p_channel_event           char(1)                       ,\n",
    "    p_channel_demo            char(1)                       ,\n",
    "    p_channel_details         varchar(100)                  ,\n",
    "    p_purpose                 char(15)                      ,\n",
    "    p_discount_active         char(1)  \n",
    ")\n",
    "USING {table_format} \n",
    "LOCATION '{table_path}'\"\"\");\n",
    "\n",
    "# Read CSV file\n",
    "df = (\n",
    "    spark.read.format(\"csv\").\n",
    "    option(\"header\", False)\n",
    "    .option(\"delimiter\", \"|\")\n",
    "    .load(raw_table_data)\n",
    ")\n",
    "df = df.drop(df.columns[-1])\n",
    "\n",
    "\n",
    "# Define column names and types\n",
    "\n",
    "columns_mapping = [\n",
    "    (\"p_promo_sk\", IntegerType()),\n",
    "    (\"p_promo_id\", StringType()),\n",
    "    (\"p_start_date_sk\", IntegerType()),\n",
    "    (\"p_end_date_sk\", IntegerType()),\n",
    "    (\"p_item_sk\", IntegerType()),\n",
    "    (\"p_cost\", DecimalType(15, 2)),\n",
    "    (\"p_response_target\", IntegerType()),\n",
    "    (\"p_promo_name\", StringType()),\n",
    "    (\"p_channel_dmail\", StringType()),\n",
    "    (\"p_channel_email\", StringType()),\n",
    "    (\"p_channel_catalog\", StringType()),\n",
    "    (\"p_channel_tv\", StringType()),\n",
    "    (\"p_channel_radio\", StringType()),\n",
    "    (\"p_channel_press\", StringType()),\n",
    "    (\"p_channel_event\", StringType()),\n",
    "    (\"p_channel_demo\", StringType()),\n",
    "    (\"p_channel_details\", StringType()),\n",
    "    (\"p_purpose\", StringType()),\n",
    "    (\"p_discount_active\", StringType()),\n",
    "]\n",
    "\n",
    "# Rename columns and perform type casting\n",
    "for col_name, col_type in columns_mapping:\n",
    "    df = df.withColumnRenamed(f\"_c{columns_mapping.index((col_name, col_type))}\", col_name)\n",
    "    df = df.withColumn(col_name, col(col_name).cast(col_type))\n",
    "\n",
    "# Write to Iceberg table\n",
    "df.write.format(f\"{table_format}\").mode(\"append\").option(\"mergeSchema\", \"true\").saveAsTable(f\"{db}.{table_name}\")\n",
    "\n",
    "# Calculate execution time\n",
    "end_time = time.time()\n",
    "execution_time = end_time - start_time\n",
    "execution_times[table_name] = execution_time\n",
    "print(f\"Execution time for {table_name}: {execution_time} seconds\")"
   ]
  },
  {
   "cell_type": "code",
   "execution_count": 41,
   "metadata": {
    "execution": {
     "iopub.execute_input": "2024-01-14T19:04:44.769849Z",
     "iopub.status.busy": "2024-01-14T19:04:44.769547Z",
     "iopub.status.idle": "2024-01-14T19:04:47.106110Z",
     "shell.execute_reply": "2024-01-14T19:04:47.104851Z",
     "shell.execute_reply.started": "2024-01-14T19:04:44.769812Z"
    },
    "tags": []
   },
   "outputs": [
    {
     "data": {
      "application/vnd.jupyter.widget-view+json": {
       "model_id": "92fafc6a0f534e0bbe602b35b217ff43",
       "version_major": 2,
       "version_minor": 0
      },
      "text/plain": [
       "VBox()"
      ]
     },
     "metadata": {},
     "output_type": "display_data"
    },
    {
     "data": {
      "application/vnd.jupyter.widget-view+json": {
       "model_id": "",
       "version_major": 2,
       "version_minor": 0
      },
      "text/plain": [
       "FloatProgress(value=0.0, bar_style='info', description='Progress:', layout=Layout(height='25px', width='50%'),…"
      ]
     },
     "metadata": {},
     "output_type": "display_data"
    },
    {
     "name": "stdout",
     "output_type": "stream",
     "text": [
      "Execution time for household_demographics: 1.8356091976165771 seconds"
     ]
    }
   ],
   "source": [
    "from pyspark.sql.functions import col\n",
    "from pyspark.sql.types import IntegerType, DecimalType, DateType, StringType, LongType\n",
    "\n",
    "start_time = time.time()\n",
    "\n",
    "table_name = 'household_demographics'\n",
    "table_path = db_path + table_name\n",
    "raw_table_data = raw_data + table_name + \".dat\"\n",
    "\n",
    "# Create Iceberg table\n",
    "spark.sql(f\"\"\"CREATE TABLE IF NOT EXISTS {db}.{table_name}(\n",
    "    hd_demo_sk                integer                          ,\n",
    "    hd_income_band_sk         integer                       ,\n",
    "    hd_buy_potential          char(15)                      ,\n",
    "    hd_dep_count              integer                       ,\n",
    "    hd_vehicle_count          integer  \n",
    ")\n",
    "USING {table_format} \n",
    "LOCATION '{table_path}'\"\"\");\n",
    "\n",
    "# Read CSV file\n",
    "df = (\n",
    "    spark.read.format(\"csv\").\n",
    "    option(\"header\", False)\n",
    "    .option(\"delimiter\", \"|\")\n",
    "    .load(raw_table_data)\n",
    ")\n",
    "df = df.drop(df.columns[-1])\n",
    "\n",
    "\n",
    "# Define column names and types\n",
    "columns_mapping = [\n",
    "    (\"hd_demo_sk\", IntegerType()),\n",
    "    (\"hd_income_band_sk\", IntegerType()),\n",
    "    (\"hd_buy_potential\", StringType()),\n",
    "    (\"hd_dep_count\", IntegerType()),\n",
    "    (\"hd_vehicle_count\", IntegerType()),\n",
    "]\n",
    "\n",
    "# Rename columns and perform type casting\n",
    "for col_name, col_type in columns_mapping:\n",
    "    df = df.withColumnRenamed(f\"_c{columns_mapping.index((col_name, col_type))}\", col_name)\n",
    "    df = df.withColumn(col_name, col(col_name).cast(col_type))\n",
    "\n",
    "# Write to Iceberg table\n",
    "df.write.format(f\"{table_format}\").mode(\"append\").option(\"mergeSchema\", \"true\").saveAsTable(f\"{db}.{table_name}\")\n",
    "\n",
    "# Calculate execution time\n",
    "end_time = time.time()\n",
    "execution_time = end_time - start_time\n",
    "execution_times[table_name] = execution_time\n",
    "print(f\"Execution time for {table_name}: {execution_time} seconds\")"
   ]
  },
  {
   "cell_type": "code",
   "execution_count": 42,
   "metadata": {
    "execution": {
     "iopub.execute_input": "2024-01-14T19:04:48.865670Z",
     "iopub.status.busy": "2024-01-14T19:04:48.865408Z",
     "iopub.status.idle": "2024-01-14T19:04:52.172466Z",
     "shell.execute_reply": "2024-01-14T19:04:52.171338Z",
     "shell.execute_reply.started": "2024-01-14T19:04:48.865637Z"
    },
    "tags": []
   },
   "outputs": [
    {
     "data": {
      "application/vnd.jupyter.widget-view+json": {
       "model_id": "09890cab3fe1470b96f0270094936d17",
       "version_major": 2,
       "version_minor": 0
      },
      "text/plain": [
       "VBox()"
      ]
     },
     "metadata": {},
     "output_type": "display_data"
    },
    {
     "data": {
      "application/vnd.jupyter.widget-view+json": {
       "model_id": "",
       "version_major": 2,
       "version_minor": 0
      },
      "text/plain": [
       "FloatProgress(value=0.0, bar_style='info', description='Progress:', layout=Layout(height='25px', width='50%'),…"
      ]
     },
     "metadata": {},
     "output_type": "display_data"
    },
    {
     "name": "stdout",
     "output_type": "stream",
     "text": [
      "Execution time for web_site: 3.0325467586517334 seconds"
     ]
    }
   ],
   "source": [
    "from pyspark.sql.functions import col\n",
    "from pyspark.sql.types import IntegerType, DecimalType, DateType, StringType, LongType\n",
    "\n",
    "start_time = time.time()\n",
    "\n",
    "table_name = 'web_site'\n",
    "table_path = db_path + table_name\n",
    "raw_table_data = raw_data + table_name + \".dat\"\n",
    "\n",
    "# Create Iceberg table\n",
    "spark.sql(f\"\"\"CREATE TABLE IF NOT EXISTS {db}.{table_name}(\n",
    "    web_site_sk               integer                          ,\n",
    "    web_site_id               char(16)                         ,\n",
    "    web_rec_start_date        date                          ,\n",
    "    web_rec_end_date          date                          ,\n",
    "    web_name                  varchar(50)                   ,\n",
    "    web_open_date_sk          integer                       ,\n",
    "    web_close_date_sk         integer                       ,\n",
    "    web_class                 varchar(50)                   ,\n",
    "    web_manager               varchar(40)                   ,\n",
    "    web_mkt_id                integer                       ,\n",
    "    web_mkt_class             varchar(50)                   ,\n",
    "    web_mkt_desc              varchar(100)                  ,\n",
    "    web_market_manager        varchar(40)                   ,\n",
    "    web_company_id            integer                       ,\n",
    "    web_company_name          char(50)                      ,\n",
    "    web_street_number         char(10)                      ,\n",
    "    web_street_name           varchar(60)                   ,\n",
    "    web_street_type           char(15)                      ,\n",
    "    web_suite_number          char(10)                      ,\n",
    "    web_city                  varchar(60)                   ,\n",
    "    web_county                varchar(30)                   ,\n",
    "    web_state                 char(2)                       ,\n",
    "    web_zip                   char(10)                      ,\n",
    "    web_country               varchar(20)                   ,\n",
    "    web_gmt_offset            decimal(5,2)                  ,\n",
    "    web_tax_percentage        decimal(5,2)   \n",
    ")\n",
    "USING {table_format} \n",
    "LOCATION '{table_path}'\"\"\");\n",
    "\n",
    "# Read CSV file\n",
    "df = (\n",
    "    spark.read.format(\"csv\").\n",
    "    option(\"header\", False)\n",
    "    .option(\"delimiter\", \"|\")\n",
    "    .load(raw_table_data)\n",
    ")\n",
    "df = df.drop(df.columns[-1])\n",
    "\n",
    "\n",
    "# Define column names and types\n",
    "columns_mapping = [\n",
    "    (\"web_site_sk\", IntegerType()),\n",
    "    (\"web_site_id\", StringType()),\n",
    "    (\"web_rec_start_date\", DateType()),\n",
    "    (\"web_rec_end_date\", DateType()),\n",
    "    (\"web_name\", StringType()),\n",
    "    (\"web_open_date_sk\", IntegerType()),\n",
    "    (\"web_close_date_sk\", IntegerType()),\n",
    "    (\"web_class\", StringType()),\n",
    "    (\"web_manager\", StringType()),\n",
    "    (\"web_mkt_id\", IntegerType()),\n",
    "    (\"web_mkt_class\", StringType()),\n",
    "    (\"web_mkt_desc\", StringType()),\n",
    "    (\"web_market_manager\", StringType()),\n",
    "    (\"web_company_id\", IntegerType()),\n",
    "    (\"web_company_name\", StringType()),\n",
    "    (\"web_street_number\", StringType()),\n",
    "    (\"web_street_name\", StringType()),\n",
    "    (\"web_street_type\", StringType()),\n",
    "    (\"web_suite_number\", StringType()),\n",
    "    (\"web_city\", StringType()),\n",
    "    (\"web_county\", StringType()),\n",
    "    (\"web_state\", StringType()),\n",
    "    (\"web_zip\", StringType()),\n",
    "    (\"web_country\", StringType()),\n",
    "    (\"web_gmt_offset\", DecimalType(5, 2)),\n",
    "    (\"web_tax_percentage\", DecimalType(5,2)),\n",
    "]\n",
    "\n",
    "# Rename columns and perform type casting\n",
    "for col_name, col_type in columns_mapping:\n",
    "    df = df.withColumnRenamed(f\"_c{columns_mapping.index((col_name, col_type))}\", col_name)\n",
    "    df = df.withColumn(col_name, col(col_name).cast(col_type))\n",
    "\n",
    "# Write to Iceberg table\n",
    "df.write.format(f\"{table_format}\").mode(\"append\").option(\"mergeSchema\", \"true\").saveAsTable(f\"{db}.{table_name}\")\n",
    "\n",
    "# Calculate execution time\n",
    "end_time = time.time()\n",
    "execution_time = end_time - start_time\n",
    "execution_times[table_name] = execution_time\n",
    "print(f\"Execution time for {table_name}: {execution_time} seconds\")"
   ]
  },
  {
   "cell_type": "code",
   "execution_count": 43,
   "metadata": {
    "execution": {
     "iopub.execute_input": "2024-01-14T19:04:56.015895Z",
     "iopub.status.busy": "2024-01-14T19:04:56.015593Z",
     "iopub.status.idle": "2024-01-14T19:04:59.358487Z",
     "shell.execute_reply": "2024-01-14T19:04:59.357460Z",
     "shell.execute_reply.started": "2024-01-14T19:04:56.015862Z"
    },
    "tags": []
   },
   "outputs": [
    {
     "data": {
      "application/vnd.jupyter.widget-view+json": {
       "model_id": "64c52b8a85b7425a9ea00b8bd6b29e81",
       "version_major": 2,
       "version_minor": 0
      },
      "text/plain": [
       "VBox()"
      ]
     },
     "metadata": {},
     "output_type": "display_data"
    },
    {
     "data": {
      "application/vnd.jupyter.widget-view+json": {
       "model_id": "",
       "version_major": 2,
       "version_minor": 0
      },
      "text/plain": [
       "FloatProgress(value=0.0, bar_style='info', description='Progress:', layout=Layout(height='25px', width='50%'),…"
      ]
     },
     "metadata": {},
     "output_type": "display_data"
    },
    {
     "name": "stdout",
     "output_type": "stream",
     "text": [
      "Execution time for call_center: 2.7348875999450684 seconds"
     ]
    }
   ],
   "source": [
    "from pyspark.sql.functions import col\n",
    "from pyspark.sql.types import IntegerType, DecimalType, DateType, StringType, LongType\n",
    "\n",
    "start_time = time.time()\n",
    "\n",
    "table_name = 'call_center'\n",
    "table_path = db_path + table_name\n",
    "raw_table_data = raw_data + table_name + \".dat\"\n",
    "\n",
    "# Create Iceberg table\n",
    "spark.sql(f\"\"\"CREATE TABLE IF NOT EXISTS {db}.{table_name}(\n",
    "    cc_call_center_sk         integer                          ,\n",
    "    cc_call_center_id         char(16)                         ,\n",
    "    cc_rec_start_date         date                          ,\n",
    "    cc_rec_end_date           date                          ,\n",
    "    cc_closed_date_sk         integer                       ,\n",
    "    cc_open_date_sk           integer                       ,\n",
    "    cc_name                   varchar(50)                   ,\n",
    "    cc_class                  varchar(50)                   ,\n",
    "    cc_employees              integer                       ,\n",
    "    cc_sq_ft                  integer                       ,\n",
    "    cc_hours                  char(20)                      ,\n",
    "    cc_manager                varchar(40)                   ,\n",
    "    cc_mkt_id                 integer                       ,\n",
    "    cc_mkt_class              char(50)                      ,\n",
    "    cc_mkt_desc               varchar(100)                  ,\n",
    "    cc_market_manager         varchar(40)                   ,\n",
    "    cc_division               integer                       ,\n",
    "    cc_division_name          varchar(50)                   ,\n",
    "    cc_company                integer                       ,\n",
    "    cc_company_name           char(50)                      ,\n",
    "    cc_street_number          char(10)                      ,\n",
    "    cc_street_name            varchar(60)                   ,\n",
    "    cc_street_type            char(15)                      ,\n",
    "    cc_suite_number           char(10)                      ,\n",
    "    cc_city                   varchar(60)                   ,\n",
    "    cc_county                 varchar(30)                   ,\n",
    "    cc_state                  char(2)                       ,\n",
    "    cc_zip                    char(10)                      ,\n",
    "    cc_country                varchar(20)                   ,\n",
    "    cc_gmt_offset             decimal(5,2)                  ,\n",
    "    cc_tax_percentage         decimal(5,2)  \n",
    ")\n",
    "USING {table_format} \n",
    "LOCATION '{table_path}'\"\"\");\n",
    "\n",
    "# Read CSV file\n",
    "df = (\n",
    "    spark.read.format(\"csv\").\n",
    "    option(\"header\", False)\n",
    "    .option(\"delimiter\", \"|\")\n",
    "    .load(raw_table_data)\n",
    ")\n",
    "df = df.drop(df.columns[-1])\n",
    "\n",
    "\n",
    "# Define column names and types\n",
    "columns_mapping = [\n",
    "    (\"cc_call_center_sk\", IntegerType()),\n",
    "    (\"cc_call_center_id\", StringType()),\n",
    "    (\"cc_rec_start_date\", DateType()),\n",
    "    (\"cc_rec_end_date\", DateType()),\n",
    "    (\"cc_closed_date_sk\", IntegerType()),\n",
    "    (\"cc_open_date_sk\", IntegerType()),\n",
    "    (\"cc_name\", StringType()),\n",
    "    (\"cc_class\", StringType()),\n",
    "    (\"cc_employees\", IntegerType()),\n",
    "    (\"cc_sq_ft\", IntegerType()),\n",
    "    (\"cc_hours\", StringType()),\n",
    "    (\"cc_manager\", StringType()),\n",
    "    (\"cc_mkt_id\", IntegerType()),\n",
    "    (\"cc_mkt_class\", StringType()),\n",
    "    (\"cc_mkt_desc\", StringType()),\n",
    "    (\"cc_market_manager\", StringType()),\n",
    "    (\"cc_division\", IntegerType()),\n",
    "    (\"cc_division_name\", StringType()),\n",
    "    (\"cc_company\", IntegerType()),\n",
    "    (\"cc_company_name\", StringType()),\n",
    "    (\"cc_street_number\", StringType()),\n",
    "    (\"cc_street_name\", StringType()),\n",
    "    (\"cc_street_type\", StringType()),\n",
    "    (\"cc_suite_number\", StringType()),\n",
    "    (\"cc_city\", StringType()),\n",
    "    (\"cc_county\", StringType()),\n",
    "    (\"cc_state\", StringType()),\n",
    "    (\"cc_zip\", StringType()),\n",
    "    (\"cc_country\", StringType()),\n",
    "    (\"cc_gmt_offset\", DecimalType(5, 2)),\n",
    "    (\"cc_tax_percentage\", DecimalType(5, 2)),\n",
    "]\n",
    "\n",
    "# Rename columns and perform type casting\n",
    "for col_name, col_type in columns_mapping:\n",
    "    df = df.withColumnRenamed(f\"_c{columns_mapping.index((col_name, col_type))}\", col_name)\n",
    "    df = df.withColumn(col_name, col(col_name).cast(col_type))\n",
    "\n",
    "# Write to Iceberg table\n",
    "df.write.format(f\"{table_format}\").mode(\"append\").option(\"mergeSchema\", \"true\").saveAsTable(f\"{db}.{table_name}\")\n",
    "\n",
    "# Calculate execution time\n",
    "end_time = time.time()\n",
    "execution_time = end_time - start_time\n",
    "execution_times[table_name] = execution_time\n",
    "print(f\"Execution time for {table_name}: {execution_time} seconds\")"
   ]
  },
  {
   "cell_type": "code",
   "execution_count": 44,
   "metadata": {
    "execution": {
     "iopub.execute_input": "2024-01-14T19:04:59.869555Z",
     "iopub.status.busy": "2024-01-14T19:04:59.869296Z",
     "iopub.status.idle": "2024-01-14T19:05:02.236535Z",
     "shell.execute_reply": "2024-01-14T19:05:02.213318Z",
     "shell.execute_reply.started": "2024-01-14T19:04:59.869523Z"
    },
    "tags": []
   },
   "outputs": [
    {
     "data": {
      "application/vnd.jupyter.widget-view+json": {
       "model_id": "719c374a34b84b608825246360e14f2d",
       "version_major": 2,
       "version_minor": 0
      },
      "text/plain": [
       "VBox()"
      ]
     },
     "metadata": {},
     "output_type": "display_data"
    },
    {
     "data": {
      "application/vnd.jupyter.widget-view+json": {
       "model_id": "",
       "version_major": 2,
       "version_minor": 0
      },
      "text/plain": [
       "FloatProgress(value=0.0, bar_style='info', description='Progress:', layout=Layout(height='25px', width='50%'),…"
      ]
     },
     "metadata": {},
     "output_type": "display_data"
    },
    {
     "name": "stdout",
     "output_type": "stream",
     "text": [
      "Execution time for warehouse: 1.9480865001678467 seconds"
     ]
    }
   ],
   "source": [
    "from pyspark.sql.functions import col\n",
    "from pyspark.sql.types import IntegerType, DecimalType, DateType, StringType, LongType\n",
    "\n",
    "start_time = time.time()\n",
    "\n",
    "table_name = 'warehouse'\n",
    "table_path = db_path + table_name\n",
    "raw_table_data = raw_data + table_name + \".dat\"\n",
    "\n",
    "# Create Iceberg table\n",
    "spark.sql(f\"\"\"CREATE TABLE IF NOT EXISTS {db}.{table_name}(\n",
    "    w_warehouse_sk            integer                          ,\n",
    "    w_warehouse_id            char(16)                         ,\n",
    "    w_warehouse_name          varchar(20)                   ,\n",
    "    w_warehouse_sq_ft         integer                       ,\n",
    "    w_street_number           char(10)                      ,\n",
    "    w_street_name             varchar(60)                   ,\n",
    "    w_street_type             char(15)                      ,\n",
    "    w_suite_number            char(10)                      ,\n",
    "    w_city                    varchar(60)                   ,\n",
    "    w_county                  varchar(30)                   ,\n",
    "    w_state                   char(2)                       ,\n",
    "    w_zip                     char(10)                      ,\n",
    "    w_country                 varchar(20)                   ,\n",
    "    w_gmt_offset              decimal(5,2)  \n",
    ")\n",
    "USING {table_format} \n",
    "LOCATION '{table_path}'\"\"\");\n",
    "\n",
    "# Read CSV file\n",
    "df = (\n",
    "    spark.read.format(\"csv\").\n",
    "    option(\"header\", False)\n",
    "    .option(\"delimiter\", \"|\")\n",
    "    .load(raw_table_data)\n",
    ")\n",
    "df = df.drop(df.columns[-1])\n",
    "\n",
    "\n",
    "# Define column names and types\n",
    "columns_mapping = [\n",
    "    (\"w_warehouse_sk\", IntegerType()),\n",
    "    (\"w_warehouse_id\", StringType()),\n",
    "    (\"w_warehouse_name\", StringType()),\n",
    "    (\"w_warehouse_sq_ft\", IntegerType()),\n",
    "    (\"w_street_number\", StringType()),\n",
    "    (\"w_street_name\", StringType()),\n",
    "    (\"w_street_type\", StringType()),\n",
    "    (\"w_suite_number\", StringType()),\n",
    "    (\"w_city\", StringType()),\n",
    "    (\"w_county\", StringType()),\n",
    "    (\"w_state\", StringType()),\n",
    "    (\"w_zip\", StringType()),\n",
    "    (\"w_country\", StringType()),\n",
    "    (\"w_gmt_offset\", DecimalType(5, 2)),\n",
    "]\n",
    "\n",
    "# Rename columns and perform type casting\n",
    "for col_name, col_type in columns_mapping:\n",
    "    df = df.withColumnRenamed(f\"_c{columns_mapping.index((col_name, col_type))}\", col_name)\n",
    "    df = df.withColumn(col_name, col(col_name).cast(col_type))\n",
    "\n",
    "# Write to Iceberg table\n",
    "df.write.format(f\"{table_format}\").mode(\"append\").option(\"mergeSchema\", \"true\").saveAsTable(f\"{db}.{table_name}\")\n",
    "\n",
    "# Calculate execution time\n",
    "end_time = time.time()\n",
    "execution_time = end_time - start_time\n",
    "execution_times[table_name] = execution_time\n",
    "print(f\"Execution time for {table_name}: {execution_time} seconds\")"
   ]
  },
  {
   "cell_type": "code",
   "execution_count": 45,
   "metadata": {
    "execution": {
     "iopub.execute_input": "2024-01-14T19:05:04.208849Z",
     "iopub.status.busy": "2024-01-14T19:05:04.208566Z",
     "iopub.status.idle": "2024-01-14T19:05:06.510777Z",
     "shell.execute_reply": "2024-01-14T19:05:06.508203Z",
     "shell.execute_reply.started": "2024-01-14T19:05:04.208815Z"
    },
    "tags": []
   },
   "outputs": [
    {
     "data": {
      "application/vnd.jupyter.widget-view+json": {
       "model_id": "42ca3660614d4b6ba356ccfc51355152",
       "version_major": 2,
       "version_minor": 0
      },
      "text/plain": [
       "VBox()"
      ]
     },
     "metadata": {},
     "output_type": "display_data"
    },
    {
     "data": {
      "application/vnd.jupyter.widget-view+json": {
       "model_id": "",
       "version_major": 2,
       "version_minor": 0
      },
      "text/plain": [
       "FloatProgress(value=0.0, bar_style='info', description='Progress:', layout=Layout(height='25px', width='50%'),…"
      ]
     },
     "metadata": {},
     "output_type": "display_data"
    },
    {
     "name": "stdout",
     "output_type": "stream",
     "text": [
      "Execution time for reason: 1.7782957553863525 seconds"
     ]
    }
   ],
   "source": [
    "from pyspark.sql.functions import col\n",
    "from pyspark.sql.types import IntegerType, DecimalType, DateType, StringType, LongType\n",
    "\n",
    "start_time = time.time()\n",
    "\n",
    "table_name = 'reason'\n",
    "table_path = db_path + table_name\n",
    "raw_table_data = raw_data + table_name + \".dat\"\n",
    "\n",
    "# Create Iceberg table\n",
    "spark.sql(f\"\"\"CREATE TABLE IF NOT EXISTS {db}.{table_name}(\n",
    "    r_reason_sk               integer                          ,\n",
    "    r_reason_id               char(16)                         ,\n",
    "    r_reason_desc             char(100)   \n",
    ")\n",
    "USING {table_format} \n",
    "LOCATION '{table_path}'\"\"\");\n",
    "\n",
    "# Read CSV file\n",
    "df = (\n",
    "    spark.read.format(\"csv\").\n",
    "    option(\"header\", False)\n",
    "    .option(\"delimiter\", \"|\")\n",
    "    .load(raw_table_data)\n",
    ")\n",
    "df = df.drop(df.columns[-1])\n",
    "\n",
    "\n",
    "# Define column names and types\n",
    "columns_mapping = [\n",
    "    (\"r_reason_sk\", IntegerType()),\n",
    "    (\"r_reason_id\", StringType()),\n",
    "    (\"r_reason_desc\", StringType()),\n",
    "]\n",
    "\n",
    "# Rename columns and perform type casting\n",
    "for col_name, col_type in columns_mapping:\n",
    "    df = df.withColumnRenamed(f\"_c{columns_mapping.index((col_name, col_type))}\", col_name)\n",
    "    df = df.withColumn(col_name, col(col_name).cast(col_type))\n",
    "\n",
    "# Write to Iceberg table\n",
    "df.write.format(f\"{table_format}\").mode(\"append\").option(\"mergeSchema\", \"true\").saveAsTable(f\"{db}.{table_name}\")\n",
    "\n",
    "# Calculate execution time\n",
    "end_time = time.time()\n",
    "execution_time = end_time - start_time\n",
    "execution_times[table_name] = execution_time\n",
    "print(f\"Execution time for {table_name}: {execution_time} seconds\")"
   ]
  },
  {
   "cell_type": "code",
   "execution_count": 46,
   "metadata": {
    "execution": {
     "iopub.execute_input": "2024-01-14T19:05:07.687095Z",
     "iopub.status.busy": "2024-01-14T19:05:07.686832Z",
     "iopub.status.idle": "2024-01-14T19:05:10.017429Z",
     "shell.execute_reply": "2024-01-14T19:05:10.016143Z",
     "shell.execute_reply.started": "2024-01-14T19:05:07.687062Z"
    },
    "tags": []
   },
   "outputs": [
    {
     "data": {
      "application/vnd.jupyter.widget-view+json": {
       "model_id": "1ef26a51d1304a04bcd6a14e1684dddb",
       "version_major": 2,
       "version_minor": 0
      },
      "text/plain": [
       "VBox()"
      ]
     },
     "metadata": {},
     "output_type": "display_data"
    },
    {
     "data": {
      "application/vnd.jupyter.widget-view+json": {
       "model_id": "",
       "version_major": 2,
       "version_minor": 0
      },
      "text/plain": [
       "FloatProgress(value=0.0, bar_style='info', description='Progress:', layout=Layout(height='25px', width='50%'),…"
      ]
     },
     "metadata": {},
     "output_type": "display_data"
    },
    {
     "name": "stdout",
     "output_type": "stream",
     "text": [
      "Execution time for ship_mode: 1.8910014629364014 seconds"
     ]
    }
   ],
   "source": [
    "from pyspark.sql.functions import col\n",
    "from pyspark.sql.types import IntegerType, DecimalType, DateType, StringType, LongType\n",
    "\n",
    "start_time = time.time()\n",
    "\n",
    "table_name = 'ship_mode'\n",
    "table_path = db_path + table_name\n",
    "raw_table_data = raw_data + table_name + \".dat\"\n",
    "\n",
    "# Create Iceberg table\n",
    "spark.sql(f\"\"\"CREATE TABLE IF NOT EXISTS {db}.{table_name}(\n",
    "    sm_ship_mode_sk           integer                          ,\n",
    "    sm_ship_mode_id           char(16)                         ,\n",
    "    sm_type                   char(30)                      ,\n",
    "    sm_code                   char(10)                      ,\n",
    "    sm_carrier                char(20)                      ,\n",
    "    sm_contract               char(20)  \n",
    ")\n",
    "USING {table_format} \n",
    "LOCATION '{table_path}'\"\"\");\n",
    "\n",
    "# Read CSV file\n",
    "df = (\n",
    "    spark.read.format(\"csv\").\n",
    "    option(\"header\", False)\n",
    "    .option(\"delimiter\", \"|\")\n",
    "    .load(raw_table_data)\n",
    ")\n",
    "df = df.drop(df.columns[-1])\n",
    "\n",
    "\n",
    "# Define column names and types\n",
    "columns_mapping = [\n",
    "    (\"sm_ship_mode_sk\", IntegerType()),\n",
    "    (\"sm_ship_mode_id\", StringType()),\n",
    "    (\"sm_type\", StringType()),\n",
    "    (\"sm_code\", StringType()),\n",
    "    (\"sm_carrier\", StringType()),\n",
    "    (\"sm_contract\", StringType()),\n",
    "]\n",
    "\n",
    "# Rename columns and perform type casting\n",
    "for col_name, col_type in columns_mapping:\n",
    "    df = df.withColumnRenamed(f\"_c{columns_mapping.index((col_name, col_type))}\", col_name)\n",
    "    df = df.withColumn(col_name, col(col_name).cast(col_type))\n",
    "\n",
    "# Write to Iceberg table\n",
    "df.write.format(f\"{table_format}\").mode(\"append\").option(\"mergeSchema\", \"true\").saveAsTable(f\"{db}.{table_name}\")\n",
    "\n",
    "# Calculate execution time\n",
    "end_time = time.time()\n",
    "execution_time = end_time - start_time\n",
    "execution_times[table_name] = execution_time\n",
    "print(f\"Execution time for {table_name}: {execution_time} seconds\")"
   ]
  },
  {
   "cell_type": "code",
   "execution_count": 47,
   "metadata": {
    "execution": {
     "iopub.execute_input": "2024-01-14T19:05:11.646489Z",
     "iopub.status.busy": "2024-01-14T19:05:11.646209Z",
     "iopub.status.idle": "2024-01-14T19:05:13.976598Z",
     "shell.execute_reply": "2024-01-14T19:05:13.975636Z",
     "shell.execute_reply.started": "2024-01-14T19:05:11.646456Z"
    },
    "tags": []
   },
   "outputs": [
    {
     "data": {
      "application/vnd.jupyter.widget-view+json": {
       "model_id": "5466f0d1972944ea9b1bc562432170ab",
       "version_major": 2,
       "version_minor": 0
      },
      "text/plain": [
       "VBox()"
      ]
     },
     "metadata": {},
     "output_type": "display_data"
    },
    {
     "data": {
      "application/vnd.jupyter.widget-view+json": {
       "model_id": "",
       "version_major": 2,
       "version_minor": 0
      },
      "text/plain": [
       "FloatProgress(value=0.0, bar_style='info', description='Progress:', layout=Layout(height='25px', width='50%'),…"
      ]
     },
     "metadata": {},
     "output_type": "display_data"
    },
    {
     "name": "stdout",
     "output_type": "stream",
     "text": [
      "Execution time for income_band: 1.7389919757843018 seconds"
     ]
    }
   ],
   "source": [
    "from pyspark.sql.functions import col\n",
    "from pyspark.sql.types import IntegerType, DecimalType, DateType, StringType, LongType\n",
    "\n",
    "start_time = time.time()\n",
    "\n",
    "table_name = 'income_band'\n",
    "table_path = db_path + table_name\n",
    "raw_table_data = raw_data + table_name + \".dat\"\n",
    "\n",
    "# Create Iceberg table\n",
    "spark.sql(f\"\"\"CREATE TABLE IF NOT EXISTS {db}.{table_name}(\n",
    "    ib_income_band_sk         integer                          ,\n",
    "    ib_lower_bound            integer                       ,\n",
    "    ib_upper_bound            integer\n",
    ")\n",
    "USING {table_format} \n",
    "LOCATION '{table_path}'\"\"\");\n",
    "\n",
    "# Read CSV file\n",
    "df = (\n",
    "    spark.read.format(\"csv\").\n",
    "    option(\"header\", False)\n",
    "    .option(\"delimiter\", \"|\")\n",
    "    .load(raw_table_data)\n",
    ")\n",
    "df = df.drop(df.columns[-1])\n",
    "\n",
    "\n",
    "# Define column names and types\n",
    "columns_mapping = [\n",
    "    (\"ib_income_band_sk\", IntegerType()),\n",
    "    (\"ib_lower_bound\", IntegerType()),\n",
    "    (\"ib_upper_bound\", IntegerType()),\n",
    "]\n",
    "\n",
    "# Rename columns and perform type casting\n",
    "for col_name, col_type in columns_mapping:\n",
    "    df = df.withColumnRenamed(f\"_c{columns_mapping.index((col_name, col_type))}\", col_name)\n",
    "    df = df.withColumn(col_name, col(col_name).cast(col_type))\n",
    "\n",
    "# Write to Iceberg table\n",
    "df.write.format(f\"{table_format}\").mode(\"append\").option(\"mergeSchema\", \"true\").saveAsTable(f\"{db}.{table_name}\")\n",
    "\n",
    "# Calculate execution time\n",
    "end_time = time.time()\n",
    "execution_time = end_time - start_time\n",
    "execution_times[table_name] = execution_time\n",
    "print(f\"Execution time for {table_name}: {execution_time} seconds\")"
   ]
  },
  {
   "cell_type": "code",
   "execution_count": null,
   "metadata": {},
   "outputs": [],
   "source": [
    "###########################################################################################################################################################################\n",
    "###########################################################################################################################################################################\n",
    "###########################################################################################################################################################################"
   ]
  },
  {
   "cell_type": "code",
   "execution_count": 63,
   "metadata": {
    "execution": {
     "iopub.execute_input": "2024-01-14T19:23:43.704192Z",
     "iopub.status.busy": "2024-01-14T19:23:43.703911Z",
     "iopub.status.idle": "2024-01-14T19:24:01.081793Z",
     "shell.execute_reply": "2024-01-14T19:24:01.080978Z",
     "shell.execute_reply.started": "2024-01-14T19:23:43.704159Z"
    },
    "tags": []
   },
   "outputs": [
    {
     "data": {
      "application/vnd.jupyter.widget-view+json": {
       "model_id": "9384e69b6d6b46f4bb86bc05f3e09fab",
       "version_major": 2,
       "version_minor": 0
      },
      "text/plain": [
       "VBox()"
      ]
     },
     "metadata": {},
     "output_type": "display_data"
    },
    {
     "data": {
      "application/vnd.jupyter.widget-view+json": {
       "model_id": "",
       "version_major": 2,
       "version_minor": 0
      },
      "text/plain": [
       "FloatProgress(value=0.0, bar_style='info', description='Progress:', layout=Layout(height='25px', width='50%'),…"
      ]
     },
     "metadata": {},
     "output_type": "display_data"
    },
    {
     "name": "stdout",
     "output_type": "stream",
     "text": [
      "+-----------------+-----------------+-----------------+---------------+-----------------+---------------+-------------+--------+------------+--------+--------+--------------+---------+--------------------+--------------------+-----------------+-----------+----------------+----------+---------------+----------------+--------------+--------------+---------------+-------+-----------------+--------+------+-------------+-------------+-----------------+\n",
      "|cc_call_center_sk|cc_call_center_id|cc_rec_start_date|cc_rec_end_date|cc_closed_date_sk|cc_open_date_sk|      cc_name|cc_class|cc_employees|cc_sq_ft|cc_hours|    cc_manager|cc_mkt_id|        cc_mkt_class|         cc_mkt_desc|cc_market_manager|cc_division|cc_division_name|cc_company|cc_company_name|cc_street_number|cc_street_name|cc_street_type|cc_suite_number|cc_city|        cc_county|cc_state|cc_zip|   cc_country|cc_gmt_offset|cc_tax_percentage|\n",
      "+-----------------+-----------------+-----------------+---------------+-----------------+---------------+-------------+--------+------------+--------+--------+--------------+---------+--------------------+--------------------+-----------------+-----------+----------------+----------+---------------+----------------+--------------+--------------+---------------+-------+-----------------+--------+------+-------------+-------------+-----------------+\n",
      "|                1| AAAAAAAABAAAAAAA|       1998-01-01|           null|             null|        2450952|     NY Metro|   large|           2|    1138| 8AM-4PM|   Bob Belcher|        6|More than other a...|Shared others cou...|      Julius Tran|          3|             pri|         6|          cally|             730|      Ash Hill|     Boulevard|        Suite 0| Midway|Williamson County|      TN| 31904|United States|        -5.00|             0.11|\n",
      "|                2| AAAAAAAACAAAAAAA|       1998-01-01|     2000-12-31|             null|        2450806| Mid Atlantic|  medium|           6|    2268| 8AM-8AM|Felipe Perkins|        2|A bit narrow form...|Largely blank yea...|    Julius Durham|          5|            anti|         1|          ought|             984|   Center Hill|           Way|       Suite 70| Midway|Williamson County|      TN| 31904|United States|        -5.00|             0.12|\n",
      "|                3| AAAAAAAACAAAAAAA|       2001-01-01|           null|             null|        2450806| Mid Atlantic|  medium|           6|    4134| 8AM-4PM|Mark Hightower|        2|Wrong troops shal...|Largely blank yea...|    Julius Durham|          1|           ought|         2|           able|             984|   Center Hill|           Way|       Suite 70| Midway|Williamson County|      TN| 31904|United States|        -5.00|             0.01|\n",
      "|                4| AAAAAAAAEAAAAAAA|       1998-01-01|     2000-01-01|             null|        2451063|North Midwest|  medium|           1|     649| 8AM-4PM|  Larry Mccray|        2|Dealers make most...|Rich groups catch...|  Matthew Clifton|          4|             ese|         3|            pri|             463|    Pine Ridge|            RD|        Suite U| Midway|Williamson County|      TN| 31904|United States|        -5.00|             0.05|\n",
      "|                5| AAAAAAAAEAAAAAAA|       2000-01-02|     2001-12-31|             null|        2451063|North Midwest|   small|           3|     795| 8AM-8AM|  Larry Mccray|        2|Dealers make most...|Blue, due beds co...|     Gary Colburn|          4|             ese|         3|            pri|             463|    Pine Ridge|            RD|        Suite U| Midway|Williamson County|      TN| 31904|United States|        -5.00|             0.12|\n",
      "|                6| AAAAAAAAEAAAAAAA|       2002-01-01|           null|             null|        2451063|North Midwest|  medium|           7|    3514| 8AM-4PM|  Larry Mccray|        5|Silly particles c...|Blue, due beds co...|     Gary Colburn|          5|            anti|         3|            pri|             463|    Pine Ridge|            RD|        Suite U| Midway|Williamson County|      TN| 31904|United States|        -5.00|             0.11|\n",
      "+-----------------+-----------------+-----------------+---------------+-----------------+---------------+-------------+--------+------------+--------+--------+--------------+---------+--------------------+--------------------+-----------------+-----------+----------------+----------+---------------+----------------+--------------+--------------+---------------+-------+-----------------+--------+------+-------------+-------------+-----------------+\n",
      "\n",
      "+------------------+------------------+----------------+--------------+-------------+-----------------+----------------------+--------------------+---------+\n",
      "|cp_catalog_page_sk|cp_catalog_page_id|cp_start_date_sk|cp_end_date_sk|cp_department|cp_catalog_number|cp_catalog_page_number|      cp_description|  cp_type|\n",
      "+------------------+------------------+----------------+--------------+-------------+-----------------+----------------------+--------------------+---------+\n",
      "|                 1|  AAAAAAAABAAAAAAA|         2450815|       2450996|   DEPARTMENT|                1|                     1|In general basic ...|bi-annual|\n",
      "|                 2|  AAAAAAAACAAAAAAA|         2450815|       2450996|   DEPARTMENT|                1|                     2|English areas wil...|bi-annual|\n",
      "|                 3|  AAAAAAAADAAAAAAA|         2450815|       2450996|   DEPARTMENT|                1|                     3|Times could not a...|bi-annual|\n",
      "|                 4|  AAAAAAAAEAAAAAAA|         2450815|          null|         null|                1|                  null|                null|bi-annual|\n",
      "|                 5|  AAAAAAAAFAAAAAAA|         2450815|       2450996|   DEPARTMENT|                1|                     5|Classic buildings...|bi-annual|\n",
      "|                 6|  AAAAAAAAGAAAAAAA|         2450815|       2450996|   DEPARTMENT|                1|                     6|Exciting principl...|bi-annual|\n",
      "|                 7|  AAAAAAAAHAAAAAAA|         2450815|       2450996|   DEPARTMENT|                1|                     7|National services...|bi-annual|\n",
      "|                 8|  AAAAAAAAIAAAAAAA|         2450815|       2450996|   DEPARTMENT|                1|                     8|Areas see early f...|bi-annual|\n",
      "|                 9|  AAAAAAAAJAAAAAAA|         2450815|       2450996|   DEPARTMENT|                1|                     9|Intensive, econom...|bi-annual|\n",
      "|                10|  AAAAAAAAKAAAAAAA|         2450815|       2450996|   DEPARTMENT|                1|                    10|Careful, intense ...|bi-annual|\n",
      "+------------------+------------------+----------------+--------------+-------------+-----------------+----------------------+--------------------+---------+\n",
      "\n",
      "+-------------------+-------------------+----------+-----------------------+--------------------+--------------------+-------------------+------------------------+---------------------+---------------------+--------------------+-----------------+------------------+---------------+---------------+------------+---------------+------------------+----------------+-------------+---------------------+------+-------------------+----------------+------------------+---------------+-----------+\n",
      "|cr_returned_date_sk|cr_returned_time_sk|cr_item_sk|cr_refunded_customer_sk|cr_refunded_cdemo_sk|cr_refunded_hdemo_sk|cr_refunded_addr_sk|cr_returning_customer_sk|cr_returning_cdemo_sk|cr_returning_hdemo_sk|cr_returning_addr_sk|cr_call_center_sk|cr_catalog_page_sk|cr_ship_mode_sk|cr_warehouse_sk|cr_reason_sk|cr_order_number|cr_return_quantity|cr_return_amount|cr_return_tax|cr_return_amt_inc_tax|cr_fee|cr_return_ship_cost|cr_refunded_cash|cr_reversed_charge|cr_store_credit|cr_net_loss|\n",
      "+-------------------+-------------------+----------+-----------------------+--------------------+--------------------+-------------------+------------------------+---------------------+---------------------+--------------------+-----------------+------------------+---------------+---------------+------------+---------------+------------------+----------------+-------------+---------------------+------+-------------------+----------------+------------------+---------------+-----------+\n",
      "|            2450926|              45816|     17368|                  14601|              797995|                6189|               9583|                   14601|               797995|                 4703|                9583|                1|               106|              2|              2|          30|              2|                47|         3888.31|       233.29|              4121.60| 91.23|            1348.90|         3577.24|            186.64|         124.43|    1673.42|\n",
      "|            2450946|              74710|      6295|                  14601|              797995|                6189|               9583|                   82809|               665550|                  991|               14832|                1|                17|              2|              5|           6|              2|                49|         2490.18|        99.60|              2589.78| 52.54|            1867.39|          323.72|            931.57|        1234.89|    2019.53|\n",
      "|            2451065|              71104|      3391|                  25383|                3755|                2480|               5652|                    2311|               700704|                 5571|               12485|                4|                 7|             13|              2|           1|              4|                12|           64.32|         4.50|                68.82| 22.97|              78.60|            1.28|             55.47|           7.57|     106.07|\n",
      "|            2450954|              28638|     13114|                  76801|               90299|                3797|              42495|                   71681|              1168758|                 7154|               35197|                2|                 9|             12|              3|           6|              5|                20|          829.40|        49.76|               879.16| 60.00|             308.00|          622.05|            176.24|          31.11|     417.76|\n",
      "|            2451023|              44538|      3614|                  31351|              528859|                5567|              23122|                   33027|               737861|                   54|                2647|                1|                78|             12|              5|          16|              6|                 6|          403.08|        36.27|               439.35|  4.58|             199.44|          354.71|             27.57|          20.80|     240.29|\n",
      "|            2450992|              10904|      6656|                  31351|              528859|                5567|              23122|                   48008|              1289384|                 1410|               27436|                1|                54|              7|              3|           4|              6|                 7|           23.17|         1.85|                25.02| 19.85|               7.07|            6.25|              9.64|           7.28|      28.77|\n",
      "|            2451016|              60162|     12422|                  77674|                null|                null|               null|                   14994|                 null|                 null|                4335|             null|                 2|           null|           null|        null|              9|                 3|          413.94|         0.00|                 null|  null|               null|          318.73|             35.22|          59.99|     185.36|\n",
      "|            2450926|              30343|     14980|                  41731|             1046123|                5715|              32107|                   88927|               865466|                 4658|                2697|                1|                65|             14|              3|           5|             11|                17|         1283.67|        51.34|              1335.01| 71.97|              58.31|          449.28|            183.56|         650.83|     181.62|\n",
      "|            2451058|              53881|      8335|                  41731|             1046123|                5715|              32107|                   28053|              1827904|                 2936|               21968|                1|                42|             11|              5|          17|             11|                 9|           29.79|         1.19|                30.98| 91.16|              59.67|            0.00|             20.85|           8.94|     152.02|\n",
      "|            2451039|              11891|      1940|                  36748|               83584|                2773|               8362|                   53188|              1816862|                 2974|               34286|                4|                11|              2|              1|          13|             12|                61|         2119.75|        84.79|              2204.54| 30.32|             271.45|         1441.43|            529.08|         149.24|     386.56|\n",
      "+-------------------+-------------------+----------+-----------------------+--------------------+--------------------+-------------------+------------------------+---------------------+---------------------+--------------------+-----------------+------------------+---------------+---------------+------------+---------------+------------------+----------------+-------------+---------------------+------+-------------------+----------------+------------------+---------------+-----------+\n",
      "\n",
      "+---------------+---------------+---------------+-------------------+----------------+----------------+---------------+-------------------+----------------+----------------+---------------+-----------------+------------------+---------------+---------------+----------+-----------+---------------+-----------+-----------------+-------------+--------------+-------------------+------------------+---------------------+-----------------+----------+-------------+----------------+-----------+-------------------+--------------------+------------------------+-------------+\n",
      "|cs_sold_date_sk|cs_sold_time_sk|cs_ship_date_sk|cs_bill_customer_sk|cs_bill_cdemo_sk|cs_bill_hdemo_sk|cs_bill_addr_sk|cs_ship_customer_sk|cs_ship_cdemo_sk|cs_ship_hdemo_sk|cs_ship_addr_sk|cs_call_center_sk|cs_catalog_page_sk|cs_ship_mode_sk|cs_warehouse_sk|cs_item_sk|cs_promo_sk|cs_order_number|cs_quantity|cs_wholesale_cost|cs_list_price|cs_sales_price|cs_ext_discount_amt|cs_ext_sales_price|cs_ext_wholesale_cost|cs_ext_list_price|cs_ext_tax|cs_coupon_amt|cs_ext_ship_cost|cs_net_paid|cs_net_paid_inc_tax|cs_net_paid_inc_ship|cs_net_paid_inc_ship_tax|cs_net_profit|\n",
      "+---------------+---------------+---------------+-------------------+----------------+----------------+---------------+-------------------+----------------+----------------+---------------+-----------------+------------------+---------------+---------------+----------+-----------+---------------+-----------+-----------------+-------------+--------------+-------------------+------------------+---------------------+-----------------+----------+-------------+----------------+-----------+-------------------+--------------------+------------------------+-------------+\n",
      "|        2450815|          38212|        2450886|              62153|         1822764|            5775|          19986|              62153|         1822764|            5775|          19986|                4|                62|              3|              4|     16930|        196|              1|         47|            27.70|        44.32|         42.99|              62.51|           2020.53|              1301.90|          2083.04|    101.02|         0.00|         1041.52|    2020.53|            2121.55|             3062.05|                 3163.07|       718.63|\n",
      "|        2450815|          38212|        2450846|              62153|         1822764|            5775|          19986|              62153|         1822764|            5775|          19986|                4|                31|              8|              2|      6020|        270|              1|         20|            87.55|       260.89|        153.92|            2139.40|           3078.40|              1751.00|          5217.80|     71.41|      1292.92|         1356.60|    1785.48|            1856.89|             3142.08|                 3213.49|        34.48|\n",
      "|        2450815|          38212|        2450868|              62153|         1822764|            5775|          19986|              62153|         1822764|            5775|          19986|                4|                76|              2|              2|     16198|         97|              1|         19|            69.86|        88.72|         29.27|            1129.55|            556.13|              1327.34|          1685.68|     33.36|         0.00|          168.53|     556.13|             589.49|              724.66|                  758.02|      -771.21|\n",
      "|        2450815|          38212|        2450851|              62153|         1822764|            5775|          19986|              62153|         1822764|            5775|          19986|                4|                89|             15|              2|      6200|        284|              1|         50|            70.00|       205.10|        188.69|             820.50|           9434.50|              3500.00|         10255.00|    377.38|         0.00|         4307.00|    9434.50|            9811.88|            13741.50|                14118.88|      5934.50|\n",
      "|        2450815|          29485|        2450904|              14601|          797995|            6189|           9583|              14601|          797995|            6189|           9583|                1|                64|             18|              3|     13831|        176|              2|         56|            67.54|       166.82|         18.35|            8314.32|           1027.60|              3782.24|          9341.92|      0.00|         0.00|         3736.32|    1027.60|            1027.60|             4763.92|                 4763.92|     -2754.64|\n",
      "|        2450815|          29485|        2450890|              14601|          797995|            6189|           9583|              14601|          797995|            6189|           9583|                1|                75|              8|              1|      9248|        278|              2|         88|            20.08|        60.03|         20.41|            3486.56|           1796.08|              1767.04|          5282.64|     13.82|      1598.51|         1056.00|     197.57|             211.39|             1253.57|                 1267.39|     -1569.47|\n",
      "|        2450815|          29485|        2450849|              14601|          797995|            6189|           9583|              14601|          797995|            6189|           9583|                1|                39|              4|              3|     15668|        207|              2|         31|            40.88|        51.91|          6.22|            1416.39|            192.82|              1267.28|          1609.21|     11.56|         0.00|          321.78|     192.82|             204.38|              514.60|                  526.16|     -1074.46|\n",
      "|        2450815|          29485|        2450889|              14601|          797995|            6189|           9583|              14601|          797995|            6189|           9583|                1|                49|              8|              2|     15992|        162|              2|        100|            49.56|       137.77|          5.51|           13226.00|            551.00|              4956.00|         13777.00|      0.00|         0.00|         3306.00|     551.00|             551.00|             3857.00|                 3857.00|     -4405.00|\n",
      "|        2450815|          29485|        2450868|              14601|          797995|            6189|           9583|              14601|          797995|            6189|           9583|                1|                69|             17|              5|     12248|         72|              2|         30|            72.82|        88.84|         71.07|             533.10|           2132.10|              2184.60|          2665.20|     21.32|         0.00|          133.20|    2132.10|            2153.42|             2265.30|                 2286.62|       -52.50|\n",
      "|        2450815|          29485|        2450831|              14601|          797995|            6189|           9583|              14601|          797995|            6189|           9583|                1|                64|              1|              3|      8770|         52|              2|         40|            94.56|       277.06|          2.77|           10971.60|            110.80|              3782.40|         11082.40|      2.21|         0.00|          664.80|     110.80|             113.01|              775.60|                  777.81|     -3671.60|\n",
      "+---------------+---------------+---------------+-------------------+----------------+----------------+---------------+-------------------+----------------+----------------+---------------+-----------------+------------------+---------------+---------------+----------+-----------+---------------+-----------+-----------------+-------------+--------------+-------------------+------------------+---------------------+-----------------+----------+-------------+----------------+-----------+-------------------+--------------------+------------------------+-------------+\n",
      "\n",
      "+-------------+----------------+------------------+------------------+-----------------+----------------------+---------------------+------------+------------+-----------+---------------------+-----------+-------------+------------+------------------+-------+--------------------+---------------------+\n",
      "|c_customer_sk|   c_customer_id|c_current_cdemo_sk|c_current_hdemo_sk|c_current_addr_sk|c_first_shipto_date_sk|c_first_sales_date_sk|c_salutation|c_first_name|c_last_name|c_preferred_cust_flag|c_birth_day|c_birth_month|c_birth_year|   c_birth_country|c_login|     c_email_address|c_last_review_date_sk|\n",
      "+-------------+----------------+------------------+------------------+-----------------+----------------------+---------------------+------------+------------+-----------+---------------------+-----------+-------------+------------+------------------+-------+--------------------+---------------------+\n",
      "|            1|AAAAAAAABAAAAAAA|            980124|              7135|            32946|               2452238|              2452208|         Mr.|      Javier|      Lewis|                    Y|          9|           12|        1936|             CHILE|   null|Javier.Lewis@VFAx...|              2452508|\n",
      "|            2|AAAAAAAACAAAAAAA|            819667|              1461|            31655|               2452318|              2452288|         Dr.|         Amy|      Moses|                    Y|          9|            4|        1966|              TOGO|   null|Amy.Moses@Ovk9KjH...|              2452318|\n",
      "|            3|AAAAAAAADAAAAAAA|           1473522|              6247|            48572|               2449130|              2449100|        Miss|     Latisha|   Hamilton|                    N|         18|            9|        1979|              NIUE|   null|Latisha.Hamilton@...|              2452313|\n",
      "|            4|AAAAAAAAEAAAAAAA|           1703214|              3986|            39558|               2450030|              2450000|         Dr.|     Michael|      White|                    N|          7|            6|        1983|            MEXICO|   null| Michael.White@i.org|              2452361|\n",
      "|            5|AAAAAAAAFAAAAAAA|            953372|              4470|            36368|               2449438|              2449408|         Sir|      Robert|      Moran|                    N|          8|            5|        1956|              FIJI|   null| Robert.Moran@Hh.edu|              2452469|\n",
      "|            6|AAAAAAAAGAAAAAAA|            213219|              6374|            27082|               2451883|              2451853|         Ms.|    Brunilda|      Sharp|                    N|          4|           12|        1925|          SURINAME|   null|Brunilda.Sharp@T3...|              2452430|\n",
      "|            7|AAAAAAAAHAAAAAAA|             68377|              3219|            44814|               2451438|              2451408|         Ms.|       Fonda|      Wiles|                    Y|         24|            4|        1985|            GAMBIA|   null|Fonda.Wiles@S9Kny...|              2452360|\n",
      "|            8|AAAAAAAAIAAAAAAA|           1215897|              2471|            16598|               2449406|              2449376|         Sir|       Ollie|    Shipman|                    N|         26|           12|        1938|KOREA, REPUBLIC OF|   null|Ollie.Shipman@be.org|              2452334|\n",
      "|            9|AAAAAAAAJAAAAAAA|           1168667|              1404|            49388|               2452275|              2452245|         Sir|        Karl|    Gilbert|                    N|         26|           10|        1966|        MONTSERRAT|   null|Karl.Gilbert@Crg5...|              2452454|\n",
      "|           10|AAAAAAAAKAAAAAAA|           1207553|              5143|            19580|               2451353|              2451323|         Ms.|      Albert|    Brunson|                    N|         15|           10|        1973|            JORDAN|   null|Albert.Brunson@62...|              2452641|\n",
      "+-------------+----------------+------------------+------------------+-----------------+----------------------+---------------------+------------+------------+-----------+---------------------+-----------+-------------+------------+------------------+-------+--------------------+---------------------+\n",
      "\n",
      "+-------------+----------------+----------------+------------------+--------------+---------------+---------------+-----------------+--------+------+-------------+-------------+----------------+\n",
      "|ca_address_sk|   ca_address_id|ca_street_number|    ca_street_name|ca_street_type|ca_suite_number|        ca_city|        ca_county|ca_state|ca_zip|   ca_country|ca_gmt_offset|ca_location_type|\n",
      "+-------------+----------------+----------------+------------------+--------------+---------------+---------------+-----------------+--------+------+-------------+-------------+----------------+\n",
      "|            1|AAAAAAAABAAAAAAA|              18|          Jackson |       Parkway|      Suite 280|      Fairfield|  Maricopa County|      AZ| 86192|United States|        -7.00|           condo|\n",
      "|            2|AAAAAAAACAAAAAAA|             362|    Washington 6th|            RD|       Suite 80|       Fairview|      Taos County|      NM| 85709|United States|        -7.00|           condo|\n",
      "|            3|AAAAAAAADAAAAAAA|             585|Dogwood Washington|        Circle|        Suite Q|Pleasant Valley|      York County|      PA| 12477|United States|        -5.00|   single family|\n",
      "|            4|AAAAAAAAEAAAAAAA|             111|            Smith |            Wy|        Suite A|      Oak Ridge|Kit Carson County|      CO| 88371|United States|        -7.00|           condo|\n",
      "|            5|AAAAAAAAFAAAAAAA|              31|          College |          Blvd|      Suite 180|       Glendale|     Barry County|      MO| 63951|United States|        -6.00|   single family|\n",
      "|            6|AAAAAAAAGAAAAAAA|              59|    Williams Sixth|       Parkway|      Suite 100|       Lakeview|    Chelan County|      WA| 98579|United States|        -8.00|   single family|\n",
      "|            7|AAAAAAAAHAAAAAAA|            null|          Hill 7th|          Road|        Suite U|     Farmington|             null|    null| 39145|United States|         null|            null|\n",
      "|            8|AAAAAAAAIAAAAAAA|             875|          Lincoln |           Ct.|        Suite Y|          Union|   Bledsoe County|      TN| 38721|United States|        -5.00|       apartment|\n",
      "|            9|AAAAAAAAJAAAAAAA|             819|        1st Laurel|           Ave|       Suite 70|       New Hope|     Perry County|      AL| 39431|United States|        -6.00|           condo|\n",
      "|           10|AAAAAAAAKAAAAAAA|             851|   Woodland Poplar|            ST|        Suite Y|   Martinsville|   Haines Borough|      AK| 90419|United States|        -9.00|           condo|\n",
      "+-------------+----------------+----------------+------------------+--------------+---------------+---------------+-----------------+--------+------+-------------+-------------+----------------+\n",
      "\n",
      "+----------+---------+-----------------+-------------------+--------------------+----------------+------------+---------------------+--------------------+\n",
      "|cd_demo_sk|cd_gender|cd_marital_status|cd_education_status|cd_purchase_estimate|cd_credit_rating|cd_dep_count|cd_dep_employed_count|cd_dep_college_count|\n",
      "+----------+---------+-----------------+-------------------+--------------------+----------------+------------+---------------------+--------------------+\n",
      "|         1|        M|                M|            Primary|                 500|            Good|           0|                    0|                   0|\n",
      "|         2|        F|                M|            Primary|                 500|            Good|           0|                    0|                   0|\n",
      "|         3|        M|                S|            Primary|                 500|            Good|           0|                    0|                   0|\n",
      "|         4|        F|                S|            Primary|                 500|            Good|           0|                    0|                   0|\n",
      "|         5|        M|                D|            Primary|                 500|            Good|           0|                    0|                   0|\n",
      "|         6|        F|                D|            Primary|                 500|            Good|           0|                    0|                   0|\n",
      "|         7|        M|                W|            Primary|                 500|            Good|           0|                    0|                   0|\n",
      "|         8|        F|                W|            Primary|                 500|            Good|           0|                    0|                   0|\n",
      "|         9|        M|                U|            Primary|                 500|            Good|           0|                    0|                   0|\n",
      "|        10|        F|                U|            Primary|                 500|            Good|           0|                    0|                   0|\n",
      "+----------+---------+-----------------+-------------------+--------------------+----------------+------------+---------------------+--------------------+\n",
      "\n",
      "+---------+----------------+----------+-----------+----------+-------------+------+-----+-----+-----+-----+---------+----------------+-------------+----------+--------------+---------+---------+-------------------+-----------+----------+-------------+-------------+-------------+--------------+---------------+-----------------+--------------+\n",
      "|d_date_sk|       d_date_id|    d_date|d_month_seq|d_week_seq|d_quarter_seq|d_year|d_dow|d_moy|d_dom|d_qoy|d_fy_year|d_fy_quarter_seq|d_fy_week_seq|d_day_name|d_quarter_name|d_holiday|d_weekend|d_following_holiday|d_first_dom|d_last_dom|d_same_day_ly|d_same_day_lq|d_current_day|d_current_week|d_current_month|d_current_quarter|d_current_year|\n",
      "+---------+----------------+----------+-----------+----------+-------------+------+-----+-----+-----+-----+---------+----------------+-------------+----------+--------------+---------+---------+-------------------+-----------+----------+-------------+-------------+-------------+--------------+---------------+-----------------+--------------+\n",
      "|  2415022|AAAAAAAAOKJNECAA|1900-01-02|          0|         1|            1|  1900|    1|    1|    2|    1|     1900|               1|            1|    Monday|        1900Q1|        N|        N|                  Y|    2415021|   2415020|      2414657|      2414930|            N|             N|              N|                N|             N|\n",
      "|  2415023|AAAAAAAAPKJNECAA|1900-01-03|          0|         1|            1|  1900|    2|    1|    3|    1|     1900|               1|            1|   Tuesday|        1900Q1|        N|        N|                  N|    2415021|   2415020|      2414658|      2414931|            N|             N|              N|                N|             N|\n",
      "|  2415024|AAAAAAAAALJNECAA|1900-01-04|          0|         1|            1|  1900|    3|    1|    4|    1|     1900|               1|            1| Wednesday|        1900Q1|        N|        N|                  N|    2415021|   2415020|      2414659|      2414932|            N|             N|              N|                N|             N|\n",
      "|  2415025|AAAAAAAABLJNECAA|1900-01-05|          0|         1|            1|  1900|    4|    1|    5|    1|     1900|               1|            1|  Thursday|        1900Q1|        N|        N|                  N|    2415021|   2415020|      2414660|      2414933|            N|             N|              N|                N|             N|\n",
      "|  2415026|AAAAAAAACLJNECAA|1900-01-06|          0|         1|            1|  1900|    5|    1|    6|    1|     1900|               1|            1|    Friday|        1900Q1|        N|        Y|                  N|    2415021|   2415020|      2414661|      2414934|            N|             N|              N|                N|             N|\n",
      "|  2415027|AAAAAAAADLJNECAA|1900-01-07|          0|         1|            1|  1900|    6|    1|    7|    1|     1900|               1|            1|  Saturday|        1900Q1|        N|        Y|                  N|    2415021|   2415020|      2414662|      2414935|            N|             N|              N|                N|             N|\n",
      "|  2415028|AAAAAAAAELJNECAA|1900-01-08|          0|         1|            1|  1900|    0|    1|    8|    1|     1900|               1|            1|    Sunday|        1900Q1|        N|        N|                  N|    2415021|   2415020|      2414663|      2414936|            N|             N|              N|                N|             N|\n",
      "|  2415029|AAAAAAAAFLJNECAA|1900-01-09|          0|         2|            1|  1900|    1|    1|    9|    1|     1900|               1|            2|    Monday|        1900Q1|        N|        N|                  N|    2415021|   2415020|      2414664|      2414937|            N|             N|              N|                N|             N|\n",
      "|  2415030|AAAAAAAAGLJNECAA|1900-01-10|          0|         2|            1|  1900|    2|    1|   10|    1|     1900|               1|            2|   Tuesday|        1900Q1|        N|        N|                  N|    2415021|   2415020|      2414665|      2414938|            N|             N|              N|                N|             N|\n",
      "|  2415031|AAAAAAAAHLJNECAA|1900-01-11|          0|         2|            1|  1900|    3|    1|   11|    1|     1900|               1|            2| Wednesday|        1900Q1|        N|        N|                  N|    2415021|   2415020|      2414666|      2414939|            N|             N|              N|                N|             N|\n",
      "+---------+----------------+----------+-----------+----------+-------------+------+-----+-----+-----+-----+---------+----------------+-------------+----------+--------------+---------+---------+-------------------+-----------+----------+-------------+-------------+-------------+--------------+---------------+-----------------+--------------+\n",
      "\n",
      "+----------+-----------------+----------------+------------+----------------+\n",
      "|hd_demo_sk|hd_income_band_sk|hd_buy_potential|hd_dep_count|hd_vehicle_count|\n",
      "+----------+-----------------+----------------+------------+----------------+\n",
      "|         1|                2|           0-500|           0|               0|\n",
      "|         2|                3|           0-500|           0|               0|\n",
      "|         3|                4|           0-500|           0|               0|\n",
      "|         4|                5|           0-500|           0|               0|\n",
      "|         5|                6|           0-500|           0|               0|\n",
      "|         6|                7|           0-500|           0|               0|\n",
      "|         7|                8|           0-500|           0|               0|\n",
      "|         8|                9|           0-500|           0|               0|\n",
      "|         9|               10|           0-500|           0|               0|\n",
      "|        10|               11|           0-500|           0|               0|\n",
      "+----------+-----------------+----------------+------------+----------------+\n",
      "\n",
      "+-----------------+--------------+--------------+\n",
      "|ib_income_band_sk|ib_lower_bound|ib_upper_bound|\n",
      "+-----------------+--------------+--------------+\n",
      "|                1|             0|         10000|\n",
      "|                2|         10001|         20000|\n",
      "|                3|         20001|         30000|\n",
      "|                4|         30001|         40000|\n",
      "|                5|         40001|         50000|\n",
      "|                6|         50001|         60000|\n",
      "|                7|         60001|         70000|\n",
      "|                8|         70001|         80000|\n",
      "|                9|         80001|         90000|\n",
      "|               10|         90001|        100000|\n",
      "+-----------------+--------------+--------------+\n",
      "\n",
      "+-----------+-----------+----------------+--------------------+\n",
      "|inv_date_sk|inv_item_sk|inv_warehouse_sk|inv_quantity_on_hand|\n",
      "+-----------+-----------+----------------+--------------------+\n",
      "|    2450815|          1|               1|                 211|\n",
      "|    2450815|          2|               1|                 235|\n",
      "|    2450815|          4|               1|                 859|\n",
      "|    2450815|          7|               1|                 704|\n",
      "|    2450815|          8|               1|                 891|\n",
      "|    2450815|         10|               1|                 834|\n",
      "|    2450815|         13|               1|                 591|\n",
      "|    2450815|         14|               1|                 579|\n",
      "|    2450815|         16|               1|                 622|\n",
      "|    2450815|         19|               1|                 745|\n",
      "+-----------+-----------+----------------+--------------------+\n",
      "\n",
      "+---------+----------------+----------------+--------------+--------------------+---------------+----------------+----------+--------------------+----------+--------+-------------+-----------+-------------+------------+-----------+--------------------+---------+-------+-----------+------------+--------------+\n",
      "|i_item_sk|       i_item_id|i_rec_start_date|i_rec_end_date|         i_item_desc|i_current_price|i_wholesale_cost|i_brand_id|             i_brand|i_class_id| i_class|i_category_id| i_category|i_manufact_id|  i_manufact|     i_size|       i_formulation|  i_color|i_units|i_container|i_manager_id|i_product_name|\n",
      "+---------+----------------+----------------+--------------+--------------------+---------------+----------------+----------+--------------------+----------+--------+-------------+-----------+-------------+------------+-----------+--------------------+---------+-------+-----------+------------+--------------+\n",
      "|        1|AAAAAAAABAAAAAAA|      1997-10-27|          null|Powers will not g...|          27.02|           23.23|   5003002|   exportischolar #2|         3|     pop|            5|      Music|           52|    ableanti|        N/A|3663peru009490160959|   spring|    Tsp|    Unknown|           6|         ought|\n",
      "|        2|AAAAAAAACAAAAAAA|      1997-10-27|    2000-10-26|False opportuniti...|           1.12|            0.38|   1001001|       amalgamalg #1|         1| dresses|            1|      Women|          294| esen stable|     petite|516steel060826230906|     rosy|  Bunch|    Unknown|          98|          able|\n",
      "|        3|AAAAAAAACAAAAAAA|      2000-10-27|          null|False opportuniti...|           7.11|            0.38|   1001001|       brandbrand #4|         7|   decor|            7|       Home|          294| esen stable|        N/A|516steel060826230906|   sienna|    Cup|    Unknown|          18|           pri|\n",
      "|        4|AAAAAAAAEAAAAAAA|      1997-10-27|    1999-10-27|Normal systems wo...|           1.35|            0.85|   3002001|   importoexporti #1|         2| infants|            3|   Children|          479|n stationese|extra large|610157moccasin018327|      red|    Tbl|    Unknown|          26|           ese|\n",
      "|        5|AAAAAAAAEAAAAAAA|      1999-10-28|    2001-10-26|Normal systems wo...|           4.00|            1.76|   2002002|   importoimporto #2|         2|  shirts|            2|        Men|          220| barableable|     petite|42214rosy28066558020|     pink|    Cup|    Unknown|          27|          anti|\n",
      "|        6|AAAAAAAAEAAAAAAA|      2001-10-27|          null|Normal systems wo...|           0.85|            1.76|   2002002|   exportiimporto #1|         3|   pants|            2|        Men|          212| barableable|      large|42214rosy28066558020| moccasin| Bundle|    Unknown|           6|         cally|\n",
      "|        7|AAAAAAAAHAAAAAAA|      1997-10-27|          null|Anxious accounts ...|           9.94|            6.75|   3001002|     amalgexporti #2|         1| newborn|            3|   Children|          214|eseoughtable|     petite|6moccasin24027188872|   spring|    Tsp|    Unknown|          64|         ation|\n",
      "|        8|AAAAAAAAIAAAAAAA|      1997-10-27|    2000-10-26|                   F|           2.76|            0.85|   3003001|   exportiexporti #1|         3|toddlers|            3|   Children|          630| barprically|extra large|35123wheat3256343398|turquoise| Carton|    Unknown|          25|          eing|\n",
      "|        9|AAAAAAAAIAAAAAAA|      2000-10-27|          null|                   F|           4.46|            0.85|   1004002|    edu packamalg #2|         3|swimwear|            1|      Women|          630| barprically|     medium|35123wheat3256343398|    wheat|    Tbl|    Unknown|           3|          n st|\n",
      "|       10|AAAAAAAAKAAAAAAA|      1997-10-27|    1999-10-27|Classical service...|           8.94|            4.11|  10008011|namelessunivamalg...|         8|scanners|           10|Electronics|          350|  barantipri|        N/A|8159007505thistle447|     pale|    Tsp|    Unknown|          34|      barought|\n",
      "+---------+----------------+----------------+--------------+--------------------+---------------+----------------+----------+--------------------+----------+--------+-------------+-----------+-------------+------------+-----------+--------------------+---------+-------+-----------+------------+--------------+\n",
      "\n",
      "+----------+----------------+---------------+-------------+---------+-------+-----------------+------------+---------------+---------------+-----------------+------------+---------------+---------------+---------------+--------------+--------------------+---------+-----------------+\n",
      "|p_promo_sk|      p_promo_id|p_start_date_sk|p_end_date_sk|p_item_sk| p_cost|p_response_target|p_promo_name|p_channel_dmail|p_channel_email|p_channel_catalog|p_channel_tv|p_channel_radio|p_channel_press|p_channel_event|p_channel_demo|   p_channel_details|p_purpose|p_discount_active|\n",
      "+----------+----------------+---------------+-------------+---------+-------+-----------------+------------+---------------+---------------+-----------------+------------+---------------+---------------+---------------+--------------+--------------------+---------+-----------------+\n",
      "|         1|AAAAAAAABAAAAAAA|        2450164|      2450185|    10022|1000.00|                1|       ought|              Y|              N|                N|           N|              N|              N|              N|             N|Men will not say ...|  Unknown|                N|\n",
      "|         2|AAAAAAAACAAAAAAA|        2450118|      2450150|     2410|1000.00|                1|        able|              Y|              N|                N|           N|              N|              N|              N|             N|So willing buildi...|  Unknown|                N|\n",
      "|         3|AAAAAAAADAAAAAAA|        2450675|      2450712|    10843|1000.00|                1|         pri|              Y|              N|                N|           N|              N|              N|              N|             N|Companies shall n...|  Unknown|                N|\n",
      "|         4|AAAAAAAAEAAAAAAA|        2450633|      2450646|     9794|1000.00|                1|         ese|              N|              N|                N|           N|              N|              N|              N|             N|High, good should...|  Unknown|                N|\n",
      "|         5|AAAAAAAAFAAAAAAA|        2450347|      2450357|     6655|1000.00|                1|        anti|              N|              N|                N|           N|              N|              N|              N|             N|Huge, competent s...|  Unknown|                N|\n",
      "|         6|AAAAAAAAGAAAAAAA|        2450516|      2450561|     9464|1000.00|                1|       cally|              N|              N|                N|           N|              N|              N|              N|             N|Boards might not ...|  Unknown|                N|\n",
      "|         7|AAAAAAAAHAAAAAAA|        2450123|      2450132|    14527|1000.00|                1|       ation|              N|              N|                N|           N|              N|              N|              N|             N|Effects used to p...|  Unknown|                N|\n",
      "|         8|AAAAAAAAIAAAAAAA|        2450350|      2450409|      304|1000.00|                1|        eing|              Y|              N|                N|           N|              N|              N|              N|             N|Offences feel onl...|  Unknown|                N|\n",
      "|         9|AAAAAAAAJAAAAAAA|        2450192|      2450248|     3439|1000.00|                1|        n st|              Y|              N|                N|           N|              N|              N|              N|             N|External forces s...|  Unknown|                N|\n",
      "|        10|AAAAAAAAKAAAAAAA|        2450324|      2450365|     3314|1000.00|                1|         bar|              N|              N|                N|           N|              N|              N|              N|             N|Only local achiev...|  Unknown|                N|\n",
      "+----------+----------------+---------------+-------------+---------+-------+-----------------+------------+---------------+---------------+-----------------+------------+---------------+---------------+---------------+--------------+--------------------+---------+-----------------+\n",
      "\n",
      "+-----------+----------------+--------------------+\n",
      "|r_reason_sk|     r_reason_id|       r_reason_desc|\n",
      "+-----------+----------------+--------------------+\n",
      "|          1|AAAAAAAABAAAAAAA| Package was damaged|\n",
      "|          2|AAAAAAAACAAAAAAA|     Stopped working|\n",
      "|          3|AAAAAAAADAAAAAAA|Did not get it on...|\n",
      "|          4|AAAAAAAAEAAAAAAA|Not the product t...|\n",
      "|          5|AAAAAAAAFAAAAAAA|       Parts missing|\n",
      "|          6|AAAAAAAAGAAAAAAA|Does not work wit...|\n",
      "|          7|AAAAAAAAHAAAAAAA|       Gift exchange|\n",
      "|          8|AAAAAAAAIAAAAAAA|Did not like the ...|\n",
      "|          9|AAAAAAAAJAAAAAAA|Did not like the ...|\n",
      "|         10|AAAAAAAAKAAAAAAA|Did not like the ...|\n",
      "+-----------+----------------+--------------------+\n",
      "\n",
      "+---------------+----------------+---------+-------+----------+--------------------+\n",
      "|sm_ship_mode_sk| sm_ship_mode_id|  sm_type|sm_code|sm_carrier|         sm_contract|\n",
      "+---------------+----------------+---------+-------+----------+--------------------+\n",
      "|              1|AAAAAAAABAAAAAAA|  EXPRESS|    AIR|       UPS|           YvxVaJI10|\n",
      "|              2|AAAAAAAACAAAAAAA| NEXT DAY|    AIR|     FEDEX|  ldhM8IvpzHgdbBgDfI|\n",
      "|              3|AAAAAAAADAAAAAAA|OVERNIGHT|    AIR|  AIRBORNE|6Hzzp4JkzjqD8MGXLCDa|\n",
      "|              4|AAAAAAAAEAAAAAAA|  TWO DAY|    AIR|      USPS|   UaAJjKDnL4gTOqbpj|\n",
      "|              5|AAAAAAAAFAAAAAAA|  LIBRARY|    AIR|       DHL|             HVDFCcQ|\n",
      "|              6|AAAAAAAAGAAAAAAA|  REGULAR|SURFACE|       TBS|                  Ek|\n",
      "|              7|AAAAAAAAHAAAAAAA|  EXPRESS|SURFACE|      ZHOU|       hGoF18SLDDPBj|\n",
      "|              8|AAAAAAAAIAAAAAAA| NEXT DAY|SURFACE|    ZOUROS|yVfotg7Tio3MVhBg6Bkn|\n",
      "|              9|AAAAAAAAJAAAAAAA|OVERNIGHT|SURFACE|       MSC| Xjy3ZPuiDjzHlRx14Z3|\n",
      "|             10|AAAAAAAAKAAAAAAA|  TWO DAY|SURFACE|   LATVIAN|           P7FBIt8yd|\n",
      "+---------------+----------------+---------+-------+----------+--------------------+\n",
      "\n",
      "+----------+----------------+----------------+--------------+----------------+------------+------------------+-------------+-------+--------------+-----------+-----------------+--------------------+----------------+-------------+---------------+------------+--------------+---------------+-------------+-------------+--------------+--------+-----------------+-------+-----+-------------+------------+----------------+\n",
      "|s_store_sk|      s_store_id|s_rec_start_date|s_rec_end_date|s_closed_date_sk|s_store_name|s_number_employees|s_floor_space|s_hours|     s_manager|s_market_id|s_geography_class|       s_market_desc|s_market_manager|s_division_id|s_division_name|s_company_id|s_company_name|s_street_number|s_street_name|s_street_type|s_suite_number|  s_city|         s_county|s_state|s_zip|    s_country|s_gmt_offset|s_tax_precentage|\n",
      "+----------+----------------+----------------+--------------+----------------+------------+------------------+-------------+-------+--------------+-----------+-----------------+--------------------+----------------+-------------+---------------+------------+--------------+---------------+-------------+-------------+--------------+--------+-----------------+-------+-----+-------------+------------+----------------+\n",
      "|         1|AAAAAAAABAAAAAAA|      1997-03-13|          null|         2451189|       ought|               245|      5250760|8AM-4PM|  William Ward|          2|          Unknown|Enough high areas...| Charles Bartley|            1|        Unknown|           1|       Unknown|            767|      Spring |           Wy|     Suite 250|  Midway|Williamson County|     TN|31904|United States|       -5.00|            0.03|\n",
      "|         2|AAAAAAAACAAAAAAA|      1997-03-13|    2000-03-12|            null|        able|               236|      5285950|8AM-4PM|   Scott Smith|          8|          Unknown|Parliamentary can...|David Lamontagne|            1|        Unknown|           1|       Unknown|            255|    Sycamore |          Dr.|     Suite 410|  Midway|Williamson County|     TN|31904|United States|       -5.00|            0.03|\n",
      "|         3|AAAAAAAACAAAAAAA|      2000-03-13|          null|            null|        able|               236|      7557959|8AM-4PM|   Scott Smith|          7|          Unknown|Impossible, true ...|David Lamontagne|            1|        Unknown|           1|       Unknown|            877|  Park Laurel|         Road|       Suite T|  Midway|Williamson County|     TN|31904|United States|       -5.00|            0.03|\n",
      "|         4|AAAAAAAAEAAAAAAA|      1997-03-13|    1999-03-13|         2451044|         ese|               218|      9341467|8AM-4PM|   Edwin Adams|          4|          Unknown|Events would achi...|  Thomas Pollack|            1|        Unknown|           1|       Unknown|             27|        Lake |           Ln|     Suite 260|  Midway|Williamson County|     TN|31904|United States|       -5.00|            0.03|\n",
      "|         5|AAAAAAAAEAAAAAAA|      1999-03-14|    2001-03-12|         2450910|        anti|               288|      9078805|8AM-4PM|   Edwin Adams|          8|          Unknown|Events would achi...|  Thomas Pollack|            1|        Unknown|           1|       Unknown|             27|      Lee 6th|        Court|      Suite 80|Fairview|Williamson County|     TN|35709|United States|       -5.00|            0.03|\n",
      "|         6|AAAAAAAAEAAAAAAA|      2001-03-13|          null|            null|       cally|               229|      9026222|8AM-4PM|   Edwin Adams|         10|          Unknown|Events would achi...|  Thomas Pollack|            1|        Unknown|           1|       Unknown|            220|         6th |         Lane|     Suite 140|  Midway|Williamson County|     TN|31904|United States|       -5.00|            0.03|\n",
      "|         7|AAAAAAAAHAAAAAAA|      1997-03-13|          null|            null|       ation|               297|      8954883|8AM-4PM|  David Thomas|          9|          Unknown|     Architects coul|   Thomas Benton|            1|        Unknown|           1|       Unknown|            811|         Lee |       Circle|       Suite T|  Midway|Williamson County|     TN|31904|United States|       -5.00|            0.01|\n",
      "|         8|AAAAAAAAIAAAAAAA|      1997-03-13|    2000-03-12|            null|        eing|               278|      6995995|8AM-4PM|   Brett Yates|          2|          Unknown|Various bars make...|   Dean Morrison|            1|        Unknown|           1|       Unknown|            226|        12th |         Lane|       Suite D|Fairview|Williamson County|     TN|35709|United States|       -5.00|            0.08|\n",
      "|         9|AAAAAAAAIAAAAAAA|      2000-03-13|          null|            null|        eing|               271|      6995995|8AM-4PM|   Brett Yates|          2|          Unknown|Formal, psycholog...|   Dean Morrison|            1|        Unknown|           1|       Unknown|            226|        Hill |    Boulevard|     Suite 190|  Midway|Williamson County|     TN|31904|United States|       -5.00|            0.08|\n",
      "|        10|AAAAAAAAKAAAAAAA|      1997-03-13|    1999-03-13|            null|         bar|               294|      9294113|8AM-4PM|Raymond Jacobs|          8|          Unknown|Little expectatio...|  Michael Wilson|            1|        Unknown|           1|       Unknown|            175|         4th |        Court|       Suite C|  Midway|Williamson County|     TN|31904|United States|       -5.00|            0.06|\n",
      "+----------+----------------+----------------+--------------+----------------+------------+------------------+-------------+-------+--------------+-----------+-----------------+--------------------+----------------+-------------+---------------+------------+--------------+---------------+-------------+-------------+--------------+--------+-----------------+-------+-----+-------------+------------+----------------+\n",
      "\n",
      "+-------------------+-----------------+----------+--------------+-----------+-----------+----------+-----------+------------+----------------+------------------+-------------+-------------+---------------------+------+-------------------+----------------+------------------+---------------+-----------+\n",
      "|sr_returned_date_sk|sr_return_time_sk|sr_item_sk|sr_customer_sk|sr_cdemo_sk|sr_hdemo_sk|sr_addr_sk|sr_store_sk|sr_reason_sk|sr_ticket_number|sr_return_quantity|sr_return_amt|sr_return_tax|sr_return_amt_inc_tax|sr_fee|sr_return_ship_cost|sr_refunded_cash|sr_reversed_charge|sr_store_credit|sr_net_loss|\n",
      "+-------------------+-----------------+----------+--------------+-----------+-----------+----------+-----------+------------+----------------+------------------+-------------+-------------+---------------------+------+-------------------+----------------+------------------+---------------+-----------+\n",
      "|            2451984|            46418|      4553|         67006|     793022|       4033|     17397|          7|          19|               1|                51|        37.23|         3.35|                40.58| 55.28|             714.00|            0.74|             17.51|          18.98|     772.63|\n",
      "|            2451822|            47480|     10993|         67006|    1082163|       7157|     49751|          1|          29|               1|                43|      4009.32|       120.27|              4129.59| 28.23|               0.00|         3448.01|              5.61|         555.70|     148.50|\n",
      "|            2451653|            37700|      7654|         68284|     289468|       3067|     21819|         10|          35|               2|                 7|       249.48|         2.49|               251.97| 11.50|               6.23|          234.51|              8.83|           6.14|      20.22|\n",
      "|            2452682|            38957|     17263|         44047|     793786|       6401|     10663|          2|          15|               3|                 3|       227.37|         6.82|               234.19|  9.23|              33.42|          125.05|             51.16|          51.16|      49.47|\n",
      "|            2452682|            41617|     10693|         44047|     193750|       2351|      8152|          8|           9|               3|                23|      1273.05|        25.46|              1298.51| 46.15|             406.18|          954.78|             57.28|         260.99|     477.79|\n",
      "|            2452688|            60645|     16869|         44047|    1047081|       2455|     45076|          2|           1|               3|                 1|        35.14|         2.45|                37.59| 79.00|               0.00|            9.13|              5.20|          20.81|      81.45|\n",
      "|            2451598|            40772|      5515|         38814|     722383|       1497|     44164|          2|          35|               4|                18|        63.54|         1.27|                64.81|  1.26|              10.80|           33.67|              2.68|          27.19|      13.33|\n",
      "|            2451521|            33881|      6988|         38814|     925501|       3196|     34491|          2|          21|               4|                12|        18.60|         1.48|                20.08| 46.48|             270.60|           10.04|              8.04|           0.52|     318.56|\n",
      "|            2451628|            34073|     12650|         13246|    1150235|       3185|     36935|          8|          27|               5|                58|       347.42|         6.94|               354.36| 97.98|             331.18|          107.70|             14.38|         225.34|     436.10|\n",
      "|            2452165|            54713|     10895|         53029|     492488|       6806|     46724|         10|          33|               6|                 1|        61.81|         3.70|                65.51| 68.44|              44.79|           54.39|              0.14|           7.28|     116.93|\n",
      "+-------------------+-----------------+----------+--------------+-----------+-----------+----------+-----------+------------+----------------+------------------+-------------+-------------+---------------------+------+-------------------+----------------+------------------+---------------+-----------+\n",
      "\n",
      "+---------------+---------------+----------+--------------+-----------+-----------+----------+-----------+-----------+----------------+-----------+-----------------+-------------+--------------+-------------------+------------------+---------------------+-----------------+----------+-------------+-----------+-------------------+-------------+\n",
      "|ss_sold_date_sk|ss_sold_time_sk|ss_item_sk|ss_customer_sk|ss_cdemo_sk|ss_hdemo_sk|ss_addr_sk|ss_store_sk|ss_promo_sk|ss_ticket_number|ss_quantity|ss_wholesale_cost|ss_list_price|ss_sales_price|ss_ext_discount_amt|ss_ext_sales_price|ss_ext_wholesale_cost|ss_ext_list_price|ss_ext_tax|ss_coupon_amt|ss_net_paid|ss_net_paid_inc_tax|ss_net_profit|\n",
      "+---------------+---------------+----------+--------------+-----------+-----------+----------+-----------+-----------+----------------+-----------+-----------------+-------------+--------------+-------------------+------------------+---------------------+-----------------+----------+-------------+-----------+-------------------+-------------+\n",
      "+---------------+---------------+----------+--------------+-----------+-----------+----------+-----------+-----------+----------------+-----------+-----------------+-------------+--------------+-------------------+------------------+---------------------+-----------------+----------+-------------+-----------+-------------------+-------------+\n",
      "\n",
      "+---------+----------------+------+------+--------+--------+-------+-------+-----------+-----------+\n",
      "|t_time_sk|       t_time_id|t_time|t_hour|t_minute|t_second|t_am_pm|t_shift|t_sub_shift|t_meal_time|\n",
      "+---------+----------------+------+------+--------+--------+-------+-------+-----------+-----------+\n",
      "|        0|AAAAAAAABAAAAAAA|     0|     0|       0|       0|     AM|  third|      night|       null|\n",
      "|        1|AAAAAAAACAAAAAAA|     1|     0|       0|       1|     AM|  third|      night|       null|\n",
      "|        2|AAAAAAAADAAAAAAA|     2|     0|       0|       2|     AM|  third|      night|       null|\n",
      "|        3|AAAAAAAAEAAAAAAA|     3|     0|       0|       3|     AM|  third|      night|       null|\n",
      "|        4|AAAAAAAAFAAAAAAA|     4|     0|       0|       4|     AM|  third|      night|       null|\n",
      "|        5|AAAAAAAAGAAAAAAA|     5|     0|       0|       5|     AM|  third|      night|       null|\n",
      "|        6|AAAAAAAAHAAAAAAA|     6|     0|       0|       6|     AM|  third|      night|       null|\n",
      "|        7|AAAAAAAAIAAAAAAA|     7|     0|       0|       7|     AM|  third|      night|       null|\n",
      "|        8|AAAAAAAAJAAAAAAA|     8|     0|       0|       8|     AM|  third|      night|       null|\n",
      "|        9|AAAAAAAAKAAAAAAA|     9|     0|       0|       9|     AM|  third|      night|       null|\n",
      "+---------+----------------+------+------+--------+--------+-------+-------+-----------+-----------+\n",
      "\n",
      "+--------------+----------------+--------------------+-----------------+---------------+-------------+-------------+--------------+--------+-----------------+-------+-----+-------------+------------+\n",
      "|w_warehouse_sk|  w_warehouse_id|    w_warehouse_name|w_warehouse_sq_ft|w_street_number|w_street_name|w_street_type|w_suite_number|  w_city|         w_county|w_state|w_zip|    w_country|w_gmt_offset|\n",
      "+--------------+----------------+--------------------+-----------------+---------------+-------------+-------------+--------------+--------+-----------------+-------+-----+-------------+------------+\n",
      "|             1|AAAAAAAABAAAAAAA| Conventional childr|           977787|            651|         6th |      Parkway|     Suite 470|Fairview|Williamson County|     TN|35709|United States|       -5.00|\n",
      "|             2|AAAAAAAACAAAAAAA|Important issues liv|           138504|            600|   View First|       Avenue|       Suite P|Fairview|Williamson County|     TN|35709|United States|       -5.00|\n",
      "|             3|AAAAAAAADAAAAAAA|         Doors canno|           294242|            534|   Ash Laurel|          Dr.|       Suite 0|Fairview|Williamson County|     TN|35709|United States|       -5.00|\n",
      "|             4|AAAAAAAAEAAAAAAA|Bad cards must make.|           621234|            368|   Wilson Elm|        Drive|      Suite 80|Fairview|Williamson County|     TN|35709|United States|       -5.00|\n",
      "|             5|AAAAAAAAFAAAAAAA|                null|             null|           null|         null|         null|          null|Fairview|Williamson County|     TN|35709|United States|        null|\n",
      "+--------------+----------------+--------------------+-----------------+---------------+-------------+-------------+--------------+--------+-----------------+-------+-----+-------------+------------+\n",
      "\n",
      "+--------------+----------------+-----------------+---------------+-------------------+-----------------+---------------+--------------+------------------+---------+-------------+-------------+--------------+---------------+\n",
      "|wp_web_page_sk|  wp_web_page_id|wp_rec_start_date|wp_rec_end_date|wp_creation_date_sk|wp_access_date_sk|wp_autogen_flag|wp_customer_sk|            wp_url|  wp_type|wp_char_count|wp_link_count|wp_image_count|wp_max_ad_count|\n",
      "+--------------+----------------+-----------------+---------------+-------------------+-----------------+---------------+--------------+------------------+---------+-------------+-------------+--------------+---------------+\n",
      "|             1|AAAAAAAABAAAAAAA|       1997-09-03|           null|            2450810|          2452620|              Y|         98539|http://www.foo.com|  welcome|         2531|            8|             3|              4|\n",
      "|             2|AAAAAAAACAAAAAAA|       1997-09-03|     2000-09-02|            2450814|          2452580|              N|          null|http://www.foo.com|protected|         1564|            4|             3|              1|\n",
      "|             3|AAAAAAAACAAAAAAA|       2000-09-03|           null|            2450814|          2452611|              N|          null|http://www.foo.com| feedback|         1564|            4|             3|              4|\n",
      "|             4|AAAAAAAAEAAAAAAA|       1997-09-03|     1999-09-03|            2450812|          2452579|              N|          null|http://www.foo.com|  general|         3732|           18|             7|              1|\n",
      "|             5|AAAAAAAAEAAAAAAA|       1999-09-04|     2001-09-02|            2450812|          2452597|              N|          null|http://www.foo.com|  welcome|         3732|           18|             3|              1|\n",
      "|             6|AAAAAAAAEAAAAAAA|       2001-09-03|           null|            2450814|          2452597|              N|          null|http://www.foo.com|       ad|         3732|           18|             7|              4|\n",
      "|             7|AAAAAAAAHAAAAAAA|       1997-09-03|           null|            2450815|          2452574|              N|          null|http://www.foo.com| feedback|         3034|           18|             7|              4|\n",
      "|             8|AAAAAAAAIAAAAAAA|       1997-09-03|     2000-09-02|            2450815|          2452646|              Y|          1898|http://www.foo.com|protected|         3128|           12|             2|              4|\n",
      "|             9|AAAAAAAAIAAAAAAA|       2000-09-03|           null|            2450807|          2452579|              Y|         84146|http://www.foo.com|  welcome|         3128|           13|             5|              3|\n",
      "|            10|AAAAAAAAKAAAAAAA|       1997-09-03|     1999-09-03|               null|          2452623|              N|          null|http://www.foo.com|     null|         null|         null|          null|           null|\n",
      "+--------------+----------------+-----------------+---------------+-------------------+-----------------+---------------+--------------+------------------+---------+-------------+-------------+--------------+---------------+\n",
      "\n",
      "+-------------------+-------------------+----------+-----------------------+--------------------+--------------------+-------------------+------------------------+---------------------+---------------------+--------------------+--------------+------------+---------------+------------------+-------------+-------------+---------------------+------+-------------------+----------------+------------------+-----------------+-----------+\n",
      "|wr_returned_date_sk|wr_returned_time_sk|wr_item_sk|wr_refunded_customer_sk|wr_refunded_cdemo_sk|wr_refunded_hdemo_sk|wr_refunded_addr_sk|wr_returning_customer_sk|wr_returning_cdemo_sk|wr_returning_hdemo_sk|wr_returning_addr_sk|wr_web_page_sk|wr_reason_sk|wr_order_number|wr_return_quantity|wr_return_amt|wr_return_tax|wr_return_amt_inc_tax|wr_fee|wr_return_ship_cost|wr_refunded_cash|wr_reversed_charge|wr_account_credit|wr_net_loss|\n",
      "+-------------------+-------------------+----------+-----------------------+--------------------+--------------------+-------------------+------------------------+---------------------+---------------------+--------------------+--------------+------------+---------------+------------------+-------------+-------------+---------------------+------+-------------------+----------------+------------------+-----------------+-----------+\n",
      "|            2451653|               7022|     10402|                  46224|             1011635|                3446|               4057|                   46224|              1011635|                 3446|                4057|            56|          23|              1|                10|       698.20|        13.96|               712.16| 18.63|             820.30|          300.22|            382.06|            15.92|     852.89|\n",
      "|            2451627|              64915|     15464|                   3811|               18405|                 199|              48793|                    3811|                18405|                  199|               48793|            13|           9|              1|                47|      1248.79|        49.95|              1298.74| 61.81|             709.23|          262.24|            128.25|           858.30|     820.99|\n",
      "|            2452798|               null|      9559|                   null|               31639|                null|              18790|                    null|                31639|                 2038|               18790|          null|          11|              2|                11|         null|        25.52|                 null|  null|              16.72|            null|             16.36|           165.47|       null|\n",
      "|            2452243|              23325|      5559|                  47687|              663037|                1234|              26984|                   47687|               663037|                 1234|               26984|            29|          26|              5|                33|      1820.94|        54.62|              1875.56| 70.16|            1000.23|         1802.73|             14.56|             3.65|    1125.01|\n",
      "|            2452305|              73981|      7665|                  92552|             1104998|                2244|              19090|                   92552|              1104998|                 2244|               19090|            49|           1|              5|                18|        82.08|         7.38|                89.46| 35.63|            1342.26|           38.57|             19.14|            24.37|    1385.27|\n",
      "|            2451288|              74891|      7555|                  36650|             1309189|                 128|              15420|                   36650|              1309189|                  128|               15420|             1|          17|              7|                16|      1956.00|       156.48|              2112.48| 22.56|             221.76|          215.16|            504.84|          1236.00|     400.80|\n",
      "|            2451337|              44242|      4856|                  75377|             1291615|                 653|              16891|                   75377|              1291615|                  653|               16891|            16|          24|              7|                 3|       134.40|         0.00|               134.40| 78.06|             108.78|          108.86|             15.06|            10.48|     186.84|\n",
      "|            2451278|              48347|      1225|                  68887|             1781163|                3486|              35762|                   68887|              1781163|                 3486|               35762|             2|          20|              7|                43|       520.30|        20.81|               541.11| 54.02|            3468.38|          504.69|             14.36|             1.25|    3543.21|\n",
      "|            2452098|              72741|      6146|                  27559|             1010209|                2812|              43415|                   27559|              1010209|                 2812|               43415|             1|          15|             10|                 4|        79.68|         2.39|                82.07| 11.40|              54.52|           58.16|              1.50|            20.02|      68.31|\n",
      "|            2452065|              46137|     16559|                  26204|              217410|                1416|              28222|                   26204|               217410|                 1416|               28222|            13|          32|             11|                28|       707.00|        28.28|               735.28| 16.84|             382.20|          424.20|            248.86|            33.94|     427.32|\n",
      "+-------------------+-------------------+----------+-----------------------+--------------------+--------------------+-------------------+------------------------+---------------------+---------------------+--------------------+--------------+------------+---------------+------------------+-------------+-------------+---------------------+------+-------------------+----------------+------------------+-----------------+-----------+\n",
      "\n",
      "+---------------+---------------+---------------+----------+-------------------+----------------+----------------+---------------+-------------------+----------------+----------------+---------------+--------------+--------------+---------------+---------------+-----------+---------------+-----------+-----------------+-------------+--------------+-------------------+------------------+---------------------+-----------------+----------+-------------+----------------+-----------+-------------------+--------------------+------------------------+-------------+\n",
      "|ws_sold_date_sk|ws_sold_time_sk|ws_ship_date_sk|ws_item_sk|ws_bill_customer_sk|ws_bill_cdemo_sk|ws_bill_hdemo_sk|ws_bill_addr_sk|ws_ship_customer_sk|ws_ship_cdemo_sk|ws_ship_hdemo_sk|ws_ship_addr_sk|ws_web_page_sk|ws_web_site_sk|ws_ship_mode_sk|ws_warehouse_sk|ws_promo_sk|ws_order_number|ws_quantity|ws_wholesale_cost|ws_list_price|ws_sales_price|ws_ext_discount_amt|ws_ext_sales_price|ws_ext_wholesale_cost|ws_ext_list_price|ws_ext_tax|ws_coupon_amt|ws_ext_ship_cost|ws_net_paid|ws_net_paid_inc_tax|ws_net_paid_inc_ship|ws_net_paid_inc_ship_tax|ws_net_profit|\n",
      "+---------------+---------------+---------------+----------+-------------------+----------------+----------------+---------------+-------------------+----------------+----------------+---------------+--------------+--------------+---------------+---------------+-----------+---------------+-----------+-----------------+-------------+--------------+-------------------+------------------+---------------------+-----------------+----------+-------------+----------------+-----------+-------------------+--------------------+------------------------+-------------+\n",
      "+---------------+---------------+---------------+----------+-------------------+----------------+----------------+---------------+-------------------+----------------+----------------+---------------+--------------+--------------+---------------+---------------+-----------+---------------+-----------+-----------------+-------------+--------------+-------------------+------------------+---------------------+-----------------+----------+-------------+----------------+-----------+-------------------+--------------------+------------------------+-------------+\n",
      "\n",
      "+-----------+----------------+------------------+----------------+--------+----------------+-----------------+---------+---------------+----------+--------------------+--------------------+------------------+--------------+----------------+-----------------+---------------+---------------+----------------+--------+-----------------+---------+-------+-------------+--------------+------------------+\n",
      "|web_site_sk|     web_site_id|web_rec_start_date|web_rec_end_date|web_name|web_open_date_sk|web_close_date_sk|web_class|    web_manager|web_mkt_id|       web_mkt_class|        web_mkt_desc|web_market_manager|web_company_id|web_company_name|web_street_number|web_street_name|web_street_type|web_suite_number|web_city|       web_county|web_state|web_zip|  web_country|web_gmt_offset|web_tax_percentage|\n",
      "+-----------+----------------+------------------+----------------+--------+----------------+-----------------+---------+---------------+----------+--------------------+--------------------+------------------+--------------+----------------+-----------------+---------------+---------------+----------------+--------+-----------------+---------+-------+-------------+--------------+------------------+\n",
      "|          1|AAAAAAAABAAAAAAA|        1997-08-16|            null|  site_0|         2450807|             null|  Unknown| Ronald Shaffer|         4|Grey lines ought ...|Well similar deci...|        Joe George|             6|           cally|               51| Dogwood Sunset|             Ln|       Suite 330|  Midway|Williamson County|       TN|  31904|United States|         -5.00|              0.10|\n",
      "|          2|AAAAAAAACAAAAAAA|        1997-08-16|      2000-08-15|  site_0|         2450798|          2447148|  Unknown|    Tommy Jones|         6|Completely excell...|Lucky passengers ...|       David Myers|             4|             ese|              358|   Ridge Wilson|           Cir.|       Suite 150|  Midway|Williamson County|       TN|  31904|United States|         -5.00|              0.00|\n",
      "|          3|AAAAAAAACAAAAAAA|        2000-08-16|            null|  site_0|         2450798|          2447148|  Unknown|    Tommy Jones|         3|Completely excell...|Particular, commo...|       David Myers|             4|             ese|              753|           7th |           Pkwy|       Suite 210|  Midway|Williamson County|       TN|  31904|United States|         -5.00|              0.02|\n",
      "|          4|AAAAAAAAEAAAAAAA|        1997-08-16|      1999-08-16|  site_0|         2450781|          2448956|  Unknown|  Harold Wilson|         5|As strong notes d...|Deeply small book...|      James Harris|             5|            anti|              805|      Hill Hill|            Dr.|         Suite R|  Midway|Williamson County|       TN|  31904|United States|         -5.00|              0.08|\n",
      "|          5|AAAAAAAAEAAAAAAA|        1999-08-17|      2001-08-15|  site_0|         2450781|          2448956|  Unknown|  Harold Wilson|         5|Wide, final repre...|Deeply small book...|     Edward George|             1|           ought|              805|        2nd 3rd|           Road|         Suite R|Fairview|Williamson County|       TN|  31904|United States|         -5.00|              0.08|\n",
      "|          6|AAAAAAAAEAAAAAAA|        2001-08-16|            null|  site_0|         2450781|          2448956|  Unknown|  Harold Wilson|         5|Wide, final repre...|Thin roles should...|     John Sheppard|             3|           ought|               63|    Hickory 3rd|            Ct.|       Suite 130|Fairview|Williamson County|       TN|  31904|United States|         -5.00|              0.08|\n",
      "|          7|AAAAAAAAHAAAAAAA|        1997-08-16|            null|  site_1|         2450756|             null|  Unknown|    Moses Hicks|         4|New homes comment...|Enough small anim...|     William Reyes|             4|             ese|              784|       Central |            Dr.|         Suite Q|Fairview|Williamson County|       TN|  35709|United States|         -5.00|              0.12|\n",
      "|          8|AAAAAAAAIAAAAAAA|        1997-08-16|      2000-08-15|  site_1|         2450747|          2448922|  Unknown| Charles Parker|         1|Only, temporary s...|Physical witnesse...|      Gerald Craft|             5|            anti|              835|    Washington |         Avenue|       Suite 470|  Midway|Williamson County|       TN|  31904|United States|         -5.00|              0.07|\n",
      "|          9|AAAAAAAAIAAAAAAA|        2000-08-16|            null|  site_1|         2450747|          2448922|  Unknown|Marshall Conner|         6|Labour cars withd...|Physical witnesse...|      Scott Bryant|             1|            anti|              835|          11th |           Cir.|         Suite R|  Midway|Williamson County|       TN|  31904|United States|         -5.00|              0.07|\n",
      "|         10|AAAAAAAAKAAAAAAA|        1997-08-16|      1999-08-16|  site_1|         2450730|          2447080|  Unknown|   Dwight Aaron|         3|New, important sy...|Companies grow ce...|      Frank Cooper|             2|            able|              409|          Lake |            Ct.|       Suite 370|  Midway|Williamson County|       TN|  31904|United States|         -5.00|              0.07|\n",
      "+-----------+----------------+------------------+----------------+--------+----------------+-----------------+---------+---------------+----------+--------------------+--------------------+------------------+--------------+----------------+-----------------+---------------+---------------+----------------+--------+-----------------+---------+-------+-------------+--------------+------------------+"
     ]
    }
   ],
   "source": [
    "\n",
    "\n",
    "# SELECT statements for the first 10 rows of each table\n",
    "call_center_query = \"SELECT * FROM dev.iceberg11.call_center LIMIT 10\"\n",
    "catalog_page_query = \"SELECT * FROM dev.iceberg11.catalog_page LIMIT 10\"\n",
    "catalog_returns_query = \"SELECT * FROM dev.iceberg11.catalog_returns LIMIT 10\"\n",
    "catalog_sales_query = \"SELECT * FROM dev.iceberg11.catalog_sales LIMIT 10\"\n",
    "customer_query = \"SELECT * FROM dev.iceberg11.customer LIMIT 10\"\n",
    "customer_address_query = \"SELECT * FROM dev.iceberg11.customer_address LIMIT 10\"\n",
    "customer_demographics_query = \"SELECT * FROM dev.iceberg11.customer_demographics LIMIT 10\"\n",
    "date_dim_query = \"SELECT * FROM dev.iceberg11.date_dim LIMIT 10\"\n",
    "household_demographics_query = \"SELECT * FROM dev.iceberg11.household_demographics LIMIT 10\"\n",
    "income_band_query = \"SELECT * FROM dev.iceberg11.income_band LIMIT 10\"\n",
    "inventory_query = \"SELECT * FROM dev.iceberg11.inventory LIMIT 10\"\n",
    "item_query = \"SELECT * FROM dev.iceberg11.item LIMIT 10\"\n",
    "promotions_query = \"SELECT * FROM dev.iceberg11.promotion LIMIT 10\"\n",
    "reason_query = \"SELECT * FROM dev.iceberg11.reason LIMIT 10\"\n",
    "ship_mode_query = \"SELECT * FROM dev.iceberg11.ship_mode LIMIT 10\"\n",
    "store_query = \"SELECT * FROM dev.iceberg11.store LIMIT 10\"\n",
    "store_returns_query = \"SELECT * FROM dev.iceberg11.store_returns LIMIT 10\"\n",
    "store_sales_query = \"SELECT * FROM dev.iceberg11.store_sales LIMIT 10\"\n",
    "time_dim_query = \"SELECT * FROM dev.iceberg11.time_dim LIMIT 10\"\n",
    "warehouse_query = \"SELECT * FROM dev.iceberg11.warehouse LIMIT 10\"\n",
    "web_page_query = \"SELECT * FROM dev.iceberg11.web_page LIMIT 10\"\n",
    "web_returns_query = \"SELECT * FROM dev.iceberg11.web_returns LIMIT 10\"\n",
    "web_sales_query = \"SELECT * FROM dev.iceberg11.web_sales LIMIT 10\"\n",
    "web_site_query = \"SELECT * FROM dev.iceberg11.web_site LIMIT 10\"\n",
    "\n",
    "# Execute the queries and show the results\n",
    "call_center_df = spark.sql(call_center_query)\n",
    "catalog_page_df = spark.sql(catalog_page_query)\n",
    "catalog_returns_df = spark.sql(catalog_returns_query)\n",
    "catalog_sales_df = spark.sql(catalog_sales_query)\n",
    "customer_df = spark.sql(customer_query)\n",
    "customer_address_df = spark.sql(customer_address_query)\n",
    "customer_demographics_df = spark.sql(customer_demographics_query)\n",
    "date_dim_df = spark.sql(date_dim_query)\n",
    "household_demographics_df = spark.sql(household_demographics_query)\n",
    "income_band_df = spark.sql(income_band_query)\n",
    "inventory_df = spark.sql(inventory_query)\n",
    "item_df = spark.sql(item_query)\n",
    "promotions_df = spark.sql(promotions_query)\n",
    "reason_df = spark.sql(reason_query)\n",
    "ship_mode_df = spark.sql(ship_mode_query)\n",
    "store_df = spark.sql(store_query)\n",
    "store_returns_df = spark.sql(store_returns_query)\n",
    "store_sales_df = spark.sql(store_sales_query)\n",
    "time_dim_df = spark.sql(time_dim_query)\n",
    "warehouse_df = spark.sql(warehouse_query)\n",
    "web_page_df = spark.sql(web_page_query)\n",
    "web_returns_df = spark.sql(web_returns_query)\n",
    "web_sales_df = spark.sql(web_sales_query)\n",
    "web_site_df = spark.sql(web_site_query)\n",
    "\n",
    "# Show the results\n",
    "call_center_df.show()\n",
    "catalog_page_df.show()\n",
    "catalog_returns_df.show()\n",
    "catalog_sales_df.show()\n",
    "customer_df.show()\n",
    "customer_address_df.show()\n",
    "customer_demographics_df.show()\n",
    "date_dim_df.show()\n",
    "household_demographics_df.show()\n",
    "income_band_df.show()\n",
    "inventory_df.show()\n",
    "item_df.show()\n",
    "promotions_df.show()\n",
    "reason_df.show()\n",
    "ship_mode_df.show()\n",
    "store_df.show()\n",
    "store_returns_df.show()\n",
    "store_sales_df.show()\n",
    "time_dim_df.show()\n",
    "warehouse_df.show()\n",
    "web_page_df.show()\n",
    "web_returns_df.show()\n",
    "web_sales_df.show()\n",
    "web_site_df.show()\n"
   ]
  },
  {
   "cell_type": "code",
   "execution_count": 57,
   "metadata": {
    "execution": {
     "iopub.execute_input": "2024-01-14T19:19:58.703208Z",
     "iopub.status.busy": "2024-01-14T19:19:58.702947Z",
     "iopub.status.idle": "2024-01-14T19:20:14.059202Z",
     "shell.execute_reply": "2024-01-14T19:20:14.058230Z",
     "shell.execute_reply.started": "2024-01-14T19:19:58.703177Z"
    },
    "tags": []
   },
   "outputs": [
    {
     "data": {
      "application/vnd.jupyter.widget-view+json": {
       "model_id": "e6b6dc6053e440e4aa813d7b1a9970f6",
       "version_major": 2,
       "version_minor": 0
      },
      "text/plain": [
       "VBox()"
      ]
     },
     "metadata": {},
     "output_type": "display_data"
    },
    {
     "data": {
      "application/vnd.jupyter.widget-view+json": {
       "model_id": "",
       "version_major": 2,
       "version_minor": 0
      },
      "text/plain": [
       "FloatProgress(value=0.0, bar_style='info', description='Progress:', layout=Layout(height='25px', width='50%'),…"
      ]
     },
     "metadata": {},
     "output_type": "display_data"
    },
    {
     "name": "stdout",
     "output_type": "stream",
     "text": [
      "+-----------------+-----------------+-----------------+---------------+-----------------+---------------+-------------+--------+------------+--------+--------+--------------+---------+--------------------+--------------------+-----------------+-----------+----------------+----------+---------------+----------------+--------------+--------------+---------------+-------+-----------------+--------+------+-------------+-------------+-----------------+\n",
      "|cc_call_center_sk|cc_call_center_id|cc_rec_start_date|cc_rec_end_date|cc_closed_date_sk|cc_open_date_sk|      cc_name|cc_class|cc_employees|cc_sq_ft|cc_hours|    cc_manager|cc_mkt_id|        cc_mkt_class|         cc_mkt_desc|cc_market_manager|cc_division|cc_division_name|cc_company|cc_company_name|cc_street_number|cc_street_name|cc_street_type|cc_suite_number|cc_city|        cc_county|cc_state|cc_zip|   cc_country|cc_gmt_offset|cc_tax_percentage|\n",
      "+-----------------+-----------------+-----------------+---------------+-----------------+---------------+-------------+--------+------------+--------+--------+--------------+---------+--------------------+--------------------+-----------------+-----------+----------------+----------+---------------+----------------+--------------+--------------+---------------+-------+-----------------+--------+------+-------------+-------------+-----------------+\n",
      "|                1| AAAAAAAABAAAAAAA|       1998-01-01|           null|             null|        2450952|     NY Metro|   large|           2|    1138| 8AM-4PM|   Bob Belcher|        6|More than other a...|Shared others cou...|      Julius Tran|          3|             pri|         6|          cally|             730|      Ash Hill|     Boulevard|        Suite 0| Midway|Williamson County|      TN| 31904|United States|        -5.00|             0.11|\n",
      "|                2| AAAAAAAACAAAAAAA|       1998-01-01|     2000-12-31|             null|        2450806| Mid Atlantic|  medium|           6|    2268| 8AM-8AM|Felipe Perkins|        2|A bit narrow form...|Largely blank yea...|    Julius Durham|          5|            anti|         1|          ought|             984|   Center Hill|           Way|       Suite 70| Midway|Williamson County|      TN| 31904|United States|        -5.00|             0.12|\n",
      "|                3| AAAAAAAACAAAAAAA|       2001-01-01|           null|             null|        2450806| Mid Atlantic|  medium|           6|    4134| 8AM-4PM|Mark Hightower|        2|Wrong troops shal...|Largely blank yea...|    Julius Durham|          1|           ought|         2|           able|             984|   Center Hill|           Way|       Suite 70| Midway|Williamson County|      TN| 31904|United States|        -5.00|             0.01|\n",
      "|                4| AAAAAAAAEAAAAAAA|       1998-01-01|     2000-01-01|             null|        2451063|North Midwest|  medium|           1|     649| 8AM-4PM|  Larry Mccray|        2|Dealers make most...|Rich groups catch...|  Matthew Clifton|          4|             ese|         3|            pri|             463|    Pine Ridge|            RD|        Suite U| Midway|Williamson County|      TN| 31904|United States|        -5.00|             0.05|\n",
      "|                5| AAAAAAAAEAAAAAAA|       2000-01-02|     2001-12-31|             null|        2451063|North Midwest|   small|           3|     795| 8AM-8AM|  Larry Mccray|        2|Dealers make most...|Blue, due beds co...|     Gary Colburn|          4|             ese|         3|            pri|             463|    Pine Ridge|            RD|        Suite U| Midway|Williamson County|      TN| 31904|United States|        -5.00|             0.12|\n",
      "|                6| AAAAAAAAEAAAAAAA|       2002-01-01|           null|             null|        2451063|North Midwest|  medium|           7|    3514| 8AM-4PM|  Larry Mccray|        5|Silly particles c...|Blue, due beds co...|     Gary Colburn|          5|            anti|         3|            pri|             463|    Pine Ridge|            RD|        Suite U| Midway|Williamson County|      TN| 31904|United States|        -5.00|             0.11|\n",
      "+-----------------+-----------------+-----------------+---------------+-----------------+---------------+-------------+--------+------------+--------+--------+--------------+---------+--------------------+--------------------+-----------------+-----------+----------------+----------+---------------+----------------+--------------+--------------+---------------+-------+-----------------+--------+------+-------------+-------------+-----------------+"
     ]
    }
   ],
   "source": [
    "spark.sql(\"SELECT * FROM dev.iceberg11.call_center LIMIT 10\").show()"
   ]
  },
  {
   "cell_type": "code",
   "execution_count": null,
   "metadata": {
    "tags": []
   },
   "outputs": [],
   "source": [
    "# Define the S3 path\n",
    "s3_path = \"s3://raw1tcpds/data/web_sales.dat\"\n",
    "\n",
    "# Read the CSV file into a DataFrame\n",
    "df = spark.read.option(\"delimiter\", \"|\").csv(s3_path)\n",
    "\n",
    "# Specify the column name\n",
    "column_name = \"_c3\"\n",
    "\n",
    "# Check for null values in the specified column\n",
    "null_count = df.filter(col(column_name).isNull()).count()\n",
    "\n",
    "if null_count > 0:\n",
    "    print(f\"Column '{column_name}' has {null_count} null values.\")\n",
    "else:\n",
    "    print(f\"Column '{column_name}' does not have any null values.\")"
   ]
  },
  {
   "cell_type": "code",
   "execution_count": 10,
   "metadata": {
    "execution": {
     "iopub.execute_input": "2024-01-18T23:39:00.719491Z",
     "iopub.status.busy": "2024-01-18T23:39:00.719168Z",
     "iopub.status.idle": "2024-01-18T23:39:16.131906Z",
     "shell.execute_reply": "2024-01-18T23:39:16.130604Z",
     "shell.execute_reply.started": "2024-01-18T23:39:00.719460Z"
    },
    "tags": []
   },
   "outputs": [
    {
     "data": {
      "application/vnd.jupyter.widget-view+json": {
       "model_id": "4e7da4ab837f489caa0244ab349837a3",
       "version_major": 2,
       "version_minor": 0
      },
      "text/plain": [
       "VBox()"
      ]
     },
     "metadata": {},
     "output_type": "display_data"
    },
    {
     "data": {
      "application/vnd.jupyter.widget-view+json": {
       "model_id": "",
       "version_major": 2,
       "version_minor": 0
      },
      "text/plain": [
       "FloatProgress(value=0.0, bar_style='info', description='Progress:', layout=Layout(height='25px', width='50%'),…"
      ]
     },
     "metadata": {},
     "output_type": "display_data"
    },
    {
     "name": "stdout",
     "output_type": "stream",
     "text": [
      "+---------------+---------------+----------+--------------+-----------+-----------+----------+-----------+-----------+----------------+-----------+-----------------+-------------+--------------+-------------------+------------------+---------------------+-----------------+----------+-------------+-----------+-------------------+-------------+\n",
      "|ss_sold_date_sk|ss_sold_time_sk|ss_item_sk|ss_customer_sk|ss_cdemo_sk|ss_hdemo_sk|ss_addr_sk|ss_store_sk|ss_promo_sk|ss_ticket_number|ss_quantity|ss_wholesale_cost|ss_list_price|ss_sales_price|ss_ext_discount_amt|ss_ext_sales_price|ss_ext_wholesale_cost|ss_ext_list_price|ss_ext_tax|ss_coupon_amt|ss_net_paid|ss_net_paid_inc_tax|ss_net_profit|\n",
      "+---------------+---------------+----------+--------------+-----------+-----------+----------+-----------+-----------+----------------+-----------+-----------------+-------------+--------------+-------------------+------------------+---------------------+-----------------+----------+-------------+-----------+-------------------+-------------+\n",
      "|        2451813|          65495|      3617|         67006|     591617|       3428|     24839|         10|        161|               1|         79|            11.41|        18.71|          2.80|              99.54|            221.20|               901.39|          1478.09|      6.08|        99.54|     121.66|             127.74|      -779.73|\n",
      "|        2451813|          65495|     13283|         67006|     591617|       3428|     24839|         10|        154|               1|         37|            63.63|       101.17|         41.47|              46.03|           1534.39|              2354.31|          3743.29|     59.53|        46.03|    1488.36|            1547.89|      -865.95|\n",
      "|        2451813|          65495|     13631|         67006|     591617|       3428|     24839|         10|        172|               1|         99|            80.52|       137.68|         83.98|               0.00|           8314.02|              7971.48|         13630.32|      0.00|         0.00|    8314.02|            8314.02|       342.54|\n",
      "|        2451813|          65495|      5981|         67006|     591617|       3428|     24839|         10|        280|               1|         14|            57.37|        76.30|          6.10|               0.00|             85.40|               803.18|          1068.20|      0.00|         0.00|      85.40|              85.40|      -717.78|\n",
      "|        2451813|          65495|      4553|         67006|     591617|       3428|     24839|         10|        236|               1|        100|            25.08|        36.86|          0.73|               0.00|             73.00|              2508.00|          3686.00|      6.57|         0.00|      73.00|              79.57|     -2435.00|\n",
      "|        2451813|          65495|     10993|         67006|     591617|       3428|     24839|         10|        263|               1|         91|            93.48|       108.43|         93.24|               0.00|           8484.84|              8506.68|          9867.13|    254.54|         0.00|    8484.84|            8739.38|       -21.84|\n",
      "|        2451813|          65495|        49|         67006|     591617|       3428|     24839|         10|         70|               1|          5|            10.68|        15.91|          6.68|               0.00|             33.40|                53.40|            79.55|      2.33|         0.00|      33.40|              35.73|       -20.00|\n",
      "|        2451813|          65495|      4583|         67006|     591617|       3428|     24839|         10|        267|               1|         72|            84.72|       111.83|         61.50|               0.00|           4428.00|              6099.84|          8051.76|    177.12|         0.00|    4428.00|            4605.12|     -1671.84|\n",
      "|        2451813|          65495|     13538|         67006|     591617|       3428|     24839|         10|        106|               1|         14|            11.54|        11.77|          0.00|               0.00|              0.00|               161.56|           164.78|      0.00|         0.00|       0.00|               0.00|      -161.56|\n",
      "|        2451813|          65495|      3248|         67006|     591617|       3428|     24839|         10|        189|               1|         58|             4.57|         5.34|          3.52|               0.00|            204.16|               265.06|           309.72|      0.00|         0.00|     204.16|             204.16|       -60.90|\n",
      "|        2451813|          65495|      4682|         67006|     591617|       3428|     24839|         10|          7|               1|         44|            31.07|        54.99|         24.19|               0.00|           1064.36|              1367.08|          2419.56|     85.14|         0.00|    1064.36|            1149.50|      -302.72|\n",
      "|        2451813|          65495|      5527|         67006|     591617|       3428|     24839|         10|        112|               1|         88|            52.41|        63.94|         49.23|               0.00|           4332.24|              4612.08|          5626.72|    259.93|         0.00|    4332.24|            4592.17|      -279.84|\n",
      "|        2451813|          65495|      1553|         67006|     591617|       3428|     24839|         10|        242|               1|         50|            67.71|       126.61|         87.36|               0.00|           4368.00|              3385.50|          6330.50|    349.44|         0.00|    4368.00|            4717.44|       982.50|\n",
      "|        2451813|          65495|       173|         67006|     591617|       3428|     24839|         10|        249|               1|         65|            27.16|        52.14|         41.19|               0.00|           2677.35|              1765.40|          3389.10|    214.18|         0.00|    2677.35|            2891.53|       911.95|\n",
      "|        2451524|          75316|      6928|         68284|    1712478|       4672|     13266|         10|         37|               2|         65|            93.86|       158.62|         34.89|               0.00|           2267.85|              6100.90|         10310.30|     45.35|         0.00|    2267.85|            2313.20|     -3833.05|\n",
      "|        2451524|          75316|     13927|         68284|    1712478|       4672|     13266|         10|        131|               2|         93|            35.87|        49.14|         15.23|               0.00|           1416.39|              3335.91|          4570.02|    113.31|         0.00|    1416.39|            1529.70|     -1919.52|\n",
      "|        2451524|          75316|     10768|         68284|    1712478|       4672|     13266|         10|         78|               2|         30|             2.27|         3.83|          1.11|               0.00|             33.30|                68.10|           114.90|      0.00|         0.00|      33.30|              33.30|       -34.80|\n",
      "|        2451524|          75316|     14701|         68284|    1712478|       4672|     13266|         10|        260|               2|         58|            53.09|        58.39|          7.59|               0.00|            440.22|              3079.22|          3386.62|      0.00|         0.00|     440.22|             440.22|     -2639.00|\n",
      "|           null|          75316|     17420|          null|       null|       4672|      null|         10|       null|               2|       null|            17.12|        19.85|          null|               null|              null|                 null|             null|     19.07|         null|       null|             495.84|         null|\n",
      "|        2451524|          75316|      9436|         68284|    1712478|       4672|     13266|         10|        144|               2|         79|            88.02|       128.50|         69.39|            4549.90|           5481.81|              6953.58|         10151.50|     83.87|      4549.90|     931.91|            1015.78|     -6021.67|\n",
      "+---------------+---------------+----------+--------------+-----------+-----------+----------+-----------+-----------+----------------+-----------+-----------------+-------------+--------------+-------------------+------------------+---------------------+-----------------+----------+-------------+-----------+-------------------+-------------+\n",
      "only showing top 20 rows"
     ]
    }
   ],
   "source": [
    "spark.sql(\"select * from dev.iceberg11.store_sales\").show()\n"
   ]
  },
  {
   "cell_type": "code",
   "execution_count": 64,
   "metadata": {
    "execution": {
     "iopub.execute_input": "2024-01-14T19:24:01.083405Z",
     "iopub.status.busy": "2024-01-14T19:24:01.083161Z",
     "iopub.status.idle": "2024-01-14T19:24:01.177550Z",
     "shell.execute_reply": "2024-01-14T19:24:01.176458Z",
     "shell.execute_reply.started": "2024-01-14T19:24:01.083374Z"
    },
    "tags": []
   },
   "outputs": [
    {
     "data": {
      "application/vnd.jupyter.widget-view+json": {
       "model_id": "9b7978be0e684b86a18095b9ca128a98",
       "version_major": 2,
       "version_minor": 0
      },
      "text/plain": [
       "VBox()"
      ]
     },
     "metadata": {},
     "output_type": "display_data"
    },
    {
     "data": {
      "application/vnd.jupyter.widget-view+json": {
       "model_id": "",
       "version_major": 2,
       "version_minor": 0
      },
      "text/plain": [
       "FloatProgress(value=0.0, bar_style='info', description='Progress:', layout=Layout(height='25px', width='50%'),…"
      ]
     },
     "metadata": {},
     "output_type": "display_data"
    },
    {
     "name": "stdout",
     "output_type": "stream",
     "text": [
      "{'inventory': 20.63095498085022}"
     ]
    }
   ],
   "source": [
    "print(execution_times)"
   ]
  }
 ],
 "metadata": {
  "kernelspec": {
   "display_name": "PySpark",
   "language": "python",
   "name": "pysparkkernel"
  },
  "language_info": {
   "codemirror_mode": {
    "name": "python",
    "version": 3
   },
   "file_extension": ".py",
   "mimetype": "text/x-python",
   "name": "pyspark",
   "pygments_lexer": "python3"
  }
 },
 "nbformat": 4,
 "nbformat_minor": 4
}
