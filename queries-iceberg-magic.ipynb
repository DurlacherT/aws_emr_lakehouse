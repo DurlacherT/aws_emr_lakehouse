{
 "cells": [
  {
   "cell_type": "markdown",
   "id": "41068182-6476-410e-ba7d-ac9a826e82ba",
   "metadata": {},
   "source": [
    "# Queries Iceberg"
   ]
  },
  {
   "cell_type": "code",
   "execution_count": 1,
   "id": "619f4bc8-c433-483a-bfbc-c6d1dd250d1e",
   "metadata": {
    "execution": {
     "iopub.execute_input": "2024-01-21T10:42:17.500133Z",
     "iopub.status.busy": "2024-01-21T10:42:17.499780Z",
     "iopub.status.idle": "2024-01-21T10:42:18.283233Z",
     "shell.execute_reply": "2024-01-21T10:42:18.281177Z",
     "shell.execute_reply.started": "2024-01-21T10:42:17.500097Z"
    },
    "tags": []
   },
   "outputs": [
    {
     "data": {
      "text/html": [
       "Current session configs: <tt>{'conf': {'spark.sql.extensions': 'org.apache.iceberg.spark.extensions.IcebergSparkSessionExtensions', 'spark.sql.catalog.dev': 'org.apache.iceberg.spark.SparkCatalog', 'spark.sql.catalog.dev.warehouse': 's3://apacheiceberg/iceberg100', 'spark.sql.catalog.dev.catalog-impl': 'org.apache.iceberg.aws.glue.GlueCatalog', 'spark.sql.catalog.dev.io-impl': 'org.apache.iceberg.aws.s3.S3FileIO', 'spark.sql.catalog.dev.lock-impl': 'org.apache.iceberg.aws.dynamodb.DynamoDbLockManager', 'spark.sql.catalog.dev.lock.table': 'myGlueLockTable'}, 'proxyUser': 'user_lakehouse', 'kind': 'pyspark'}</tt><br>"
      ],
      "text/plain": [
       "<IPython.core.display.HTML object>"
      ]
     },
     "metadata": {},
     "output_type": "display_data"
    },
    {
     "data": {
      "text/html": [
       "No active sessions."
      ],
      "text/plain": [
       "<IPython.core.display.HTML object>"
      ]
     },
     "metadata": {},
     "output_type": "display_data"
    }
   ],
   "source": [
    "%%configure -f\n",
    "{\n",
    "  \"conf\": {\n",
    "    \"spark.sql.extensions\": \"org.apache.iceberg.spark.extensions.IcebergSparkSessionExtensions\",\n",
    "    \"spark.sql.catalog.dev\": \"org.apache.iceberg.spark.SparkCatalog\",\n",
    "    \"spark.sql.catalog.dev.warehouse\": \"s3://apacheiceberg/iceberg100\",\n",
    "    \"spark.sql.catalog.dev.catalog-impl\": \"org.apache.iceberg.aws.glue.GlueCatalog\",\n",
    "    \"spark.sql.catalog.dev.io-impl\": \"org.apache.iceberg.aws.s3.S3FileIO\",\n",
    "    \"spark.sql.catalog.dev.lock-impl\": \"org.apache.iceberg.aws.dynamodb.DynamoDbLockManager\",\n",
    "    \"spark.sql.catalog.dev.lock.table\": \"myGlueLockTable\"\n",
    "  }\n",
    "}"
   ]
  },
  {
   "cell_type": "code",
   "execution_count": 2,
   "id": "c4b09426-0728-4811-a652-c5ec773a5a65",
   "metadata": {
    "execution": {
     "iopub.execute_input": "2024-01-21T10:42:18.288446Z",
     "iopub.status.busy": "2024-01-21T10:42:18.286132Z",
     "iopub.status.idle": "2024-01-21T10:43:10.780911Z",
     "shell.execute_reply": "2024-01-21T10:43:10.779778Z",
     "shell.execute_reply.started": "2024-01-21T10:42:18.288370Z"
    },
    "tags": []
   },
   "outputs": [
    {
     "data": {
      "application/vnd.jupyter.widget-view+json": {
       "model_id": "2b4c1bf040104edeb1c2ca49c135b771",
       "version_major": 2,
       "version_minor": 0
      },
      "text/plain": [
       "VBox()"
      ]
     },
     "metadata": {},
     "output_type": "display_data"
    },
    {
     "name": "stdout",
     "output_type": "stream",
     "text": [
      "Starting Spark application\n"
     ]
    },
    {
     "data": {
      "text/html": [
       "<table>\n<tbody><tr><th>ID</th><th>YARN Application ID</th><th>Kind</th><th>State</th><th>Spark UI</th><th>Driver log</th><th>User</th><th>Current session?</th></tr><tr><td>0</td><td>application_1705833534186_0001</td><td>pyspark</td><td>idle</td><td><a target=\"_blank\" href=\"http://ip-172-31-57-230.us-west-2.compute.internal:20888/proxy/application_1705833534186_0001/\" class=\"emr-proxy-link j-2NZVX9Y93P3N application_1705833534186_0001\" emr-resource=\"j-2NZVX9Y93P3N\n\" application-id=\"application_1705833534186_0001\">Link</a></td><td><a target=\"_blank\" href=\"http://ip-172-31-62-21.us-west-2.compute.internal:8042/node/containerlogs/container_1705833534186_0001_01_000001/livy\">Link</a></td><td>None</td><td>✔</td></tr></tbody></table>"
      ],
      "text/plain": [
       "<IPython.core.display.HTML object>"
      ]
     },
     "metadata": {},
     "output_type": "display_data"
    },
    {
     "data": {
      "application/vnd.jupyter.widget-view+json": {
       "model_id": "",
       "version_major": 2,
       "version_minor": 0
      },
      "text/plain": [
       "FloatProgress(value=0.0, bar_style='info', description='Progress:', layout=Layout(height='25px', width='50%'),…"
      ]
     },
     "metadata": {},
     "output_type": "display_data"
    },
    {
     "name": "stdout",
     "output_type": "stream",
     "text": [
      "SparkSession available as 'spark'.\n"
     ]
    },
    {
     "data": {
      "application/vnd.jupyter.widget-view+json": {
       "model_id": "",
       "version_major": 2,
       "version_minor": 0
      },
      "text/plain": [
       "FloatProgress(value=0.0, bar_style='info', description='Progress:', layout=Layout(height='25px', width='50%'),…"
      ]
     },
     "metadata": {},
     "output_type": "display_data"
    },
    {
     "name": "stdout",
     "output_type": "stream",
     "text": [
      "+-------------+\n",
      "|    namespace|\n",
      "+-------------+\n",
      "|      default|\n",
      "|   deltalake1|\n",
      "| deltalake100|\n",
      "|deltalake1000|\n",
      "|  deltalake11|\n",
      "|   iceberg100|\n",
      "|  iceberg1000|\n",
      "|    iceberg11|\n",
      "|  icebergtest|\n",
      "+-------------+"
     ]
    }
   ],
   "source": [
    "spark.sql(\"SHOW DATABASES\").show()"
   ]
  },
  {
   "cell_type": "code",
   "execution_count": 5,
   "id": "3d77f265-4fdd-47ff-9087-413498b75288",
   "metadata": {
    "execution": {
     "iopub.execute_input": "2024-01-19T00:15:15.398270Z",
     "iopub.status.busy": "2024-01-19T00:15:15.397954Z",
     "iopub.status.idle": "2024-01-19T00:15:16.208539Z",
     "shell.execute_reply": "2024-01-19T00:15:16.207180Z",
     "shell.execute_reply.started": "2024-01-19T00:15:15.398238Z"
    },
    "tags": []
   },
   "outputs": [
    {
     "data": {
      "application/vnd.jupyter.widget-view+json": {
       "model_id": "2dd4f14ef1f64dc28cffd2fa94546c63",
       "version_major": 2,
       "version_minor": 0
      },
      "text/plain": [
       "VBox()"
      ]
     },
     "metadata": {},
     "output_type": "display_data"
    },
    {
     "data": {
      "application/vnd.jupyter.widget-view+json": {
       "model_id": "",
       "version_major": 2,
       "version_minor": 0
      },
      "text/plain": [
       "FloatProgress(value=0.0, bar_style='info', description='Progress:', layout=Layout(height='25px', width='50%'),…"
      ]
     },
     "metadata": {},
     "output_type": "display_data"
    },
    {
     "name": "stdout",
     "output_type": "stream",
     "text": [
      "DataFrame[]"
     ]
    }
   ],
   "source": [
    "spark.sql(\"use DATABASE iceberg100\")"
   ]
  },
  {
   "cell_type": "code",
   "execution_count": 3,
   "id": "d9c8ea83-8af1-4a9f-ae3c-e5bf7488abb2",
   "metadata": {
    "execution": {
     "iopub.execute_input": "2024-01-20T15:50:50.497983Z",
     "iopub.status.busy": "2024-01-20T15:50:50.497743Z",
     "iopub.status.idle": "2024-01-20T15:50:50.591888Z",
     "shell.execute_reply": "2024-01-20T15:50:50.590913Z",
     "shell.execute_reply.started": "2024-01-20T15:50:50.497942Z"
    },
    "tags": []
   },
   "outputs": [
    {
     "data": {
      "application/vnd.jupyter.widget-view+json": {
       "model_id": "65bc69574ee2406fa5bf52e4fa106c94",
       "version_major": 2,
       "version_minor": 0
      },
      "text/plain": [
       "VBox()"
      ]
     },
     "metadata": {},
     "output_type": "display_data"
    },
    {
     "data": {
      "application/vnd.jupyter.widget-view+json": {
       "model_id": "",
       "version_major": 2,
       "version_minor": 0
      },
      "text/plain": [
       "FloatProgress(value=0.0, bar_style='info', description='Progress:', layout=Layout(height='25px', width='50%'),…"
      ]
     },
     "metadata": {},
     "output_type": "display_data"
    }
   ],
   "source": [
    "## Select databases\n",
    "db = 'dev.iceberg100'"
   ]
  },
  {
   "cell_type": "code",
   "execution_count": 27,
   "id": "a1f3a84c-e97b-4a43-8f5d-e0498ab77d0f",
   "metadata": {
    "execution": {
     "iopub.execute_input": "2024-01-20T16:25:09.853572Z",
     "iopub.status.busy": "2024-01-20T16:25:09.853257Z",
     "iopub.status.idle": "2024-01-20T16:25:49.409435Z",
     "shell.execute_reply": "2024-01-20T16:25:49.407976Z",
     "shell.execute_reply.started": "2024-01-20T16:25:09.853525Z"
    },
    "tags": []
   },
   "outputs": [
    {
     "data": {
      "application/vnd.jupyter.widget-view+json": {
       "model_id": "",
       "version_major": 2,
       "version_minor": 0
      },
      "text/plain": [
       "FloatProgress(value=0.0, bar_style='info', description='Progress:', layout=Layout(height='25px', width='50%'),…"
      ]
     },
     "metadata": {},
     "output_type": "display_data"
    },
    {
     "data": {
      "application/vnd.jupyter.widget-view+json": {
       "model_id": "4154d5cb702243e886947f65bb415b9a",
       "version_major": 2,
       "version_minor": 0
      },
      "text/plain": [
       "VBox(children=(HBox(children=(HTML(value='Type:'), Button(description='Table', layout=Layout(width='70px'), st…"
      ]
     },
     "metadata": {},
     "output_type": "display_data"
    },
    {
     "data": {
      "application/vnd.jupyter.widget-view+json": {
       "model_id": "77c266d497d5457bb006f19dcbbc08f3",
       "version_major": 2,
       "version_minor": 0
      },
      "text/plain": [
       "Output()"
      ]
     },
     "metadata": {},
     "output_type": "display_data"
    }
   ],
   "source": [
    "%%sql\n",
    "--q1\n",
    "\n",
    "\twith customer_total_return as\n",
    "\t(select sr_customer_sk as ctr_customer_sk\n",
    "\t,sr_store_sk as ctr_store_sk\n",
    "\t,sum(SR_FEE) as ctr_total_return\n",
    "\tfrom dev.iceberg100.store_returns\n",
    "\t,dev.iceberg100.date_dim\n",
    "\twhere sr_returned_date_sk = d_date_sk\n",
    "\tand d_year =2000\n",
    "\tgroup by sr_customer_sk\n",
    "\t,sr_store_sk)\n",
    "\t select  c_customer_id\n",
    "\tfrom customer_total_return ctr1\n",
    "\t,dev.iceberg100.store\n",
    "\t,dev.iceberg100.customer\n",
    "\twhere ctr1.ctr_total_return > (select avg(ctr_total_return)*1.2\n",
    "\tfrom customer_total_return ctr2\n",
    "\twhere ctr1.ctr_store_sk = ctr2.ctr_store_sk)\n",
    "\tand s_store_sk = ctr1.ctr_store_sk\n",
    "\tand s_state = 'TN'\n",
    "\tand ctr1.ctr_customer_sk = c_customer_sk\n",
    "\torder by c_customer_id\n",
    "\tlimit 100"
   ]
  },
  {
   "cell_type": "code",
   "execution_count": 28,
   "id": "c7f5f75a-de29-4294-80ff-ab4f20741dd9",
   "metadata": {
    "execution": {
     "iopub.execute_input": "2024-01-20T16:25:49.412399Z",
     "iopub.status.busy": "2024-01-20T16:25:49.412078Z",
     "iopub.status.idle": "2024-01-20T16:27:01.177466Z",
     "shell.execute_reply": "2024-01-20T16:27:01.176410Z",
     "shell.execute_reply.started": "2024-01-20T16:25:49.412353Z"
    },
    "tags": []
   },
   "outputs": [
    {
     "data": {
      "application/vnd.jupyter.widget-view+json": {
       "model_id": "",
       "version_major": 2,
       "version_minor": 0
      },
      "text/plain": [
       "FloatProgress(value=0.0, bar_style='info', description='Progress:', layout=Layout(height='25px', width='50%'),…"
      ]
     },
     "metadata": {},
     "output_type": "display_data"
    },
    {
     "data": {
      "application/vnd.jupyter.widget-view+json": {
       "model_id": "064b112d4afa4d82a63ed05d58b91016",
       "version_major": 2,
       "version_minor": 0
      },
      "text/plain": [
       "VBox(children=(HBox(children=(HTML(value='Type:'), Button(description='Table', layout=Layout(width='70px'), st…"
      ]
     },
     "metadata": {},
     "output_type": "display_data"
    },
    {
     "data": {
      "application/vnd.jupyter.widget-view+json": {
       "model_id": "a449ded44ff1414ea24970c864cc7926",
       "version_major": 2,
       "version_minor": 0
      },
      "text/plain": [
       "Output()"
      ]
     },
     "metadata": {},
     "output_type": "display_data"
    }
   ],
   "source": [
    "%%sql\n",
    "--q2\n",
    "\twith wscs as\n",
    "\t (select sold_date_sk\n",
    "\t\t\t,sales_price\n",
    "\t  from (select ws_sold_date_sk sold_date_sk\n",
    "\t\t\t\t  ,ws_ext_sales_price sales_price\n",
    "\t\t\tfrom dev.iceberg100.web_sales\n",
    "\t\t\tunion all\n",
    "\t\t\tselect cs_sold_date_sk sold_date_sk\n",
    "\t\t\t\t  ,cs_ext_sales_price sales_price\n",
    "\t\t\tfrom dev.iceberg100.catalog_sales)),\n",
    "\t wswscs as\n",
    "\t (select d_week_seq,\n",
    "\t\t\tsum(case when (d_day_name='Sunday') then sales_price else null end) sun_sales,\n",
    "\t\t\tsum(case when (d_day_name='Monday') then sales_price else null end) mon_sales,\n",
    "\t\t\tsum(case when (d_day_name='Tuesday') then sales_price else  null end) tue_sales,\n",
    "\t\t\tsum(case when (d_day_name='Wednesday') then sales_price else null end) wed_sales,\n",
    "\t\t\tsum(case when (d_day_name='Thursday') then sales_price else null end) thu_sales,\n",
    "\t\t\tsum(case when (d_day_name='Friday') then sales_price else null end) fri_sales,\n",
    "\t\t\tsum(case when (d_day_name='Saturday') then sales_price else null end) sat_sales\n",
    "\t from wscs\n",
    "\t\t ,dev.iceberg100.date_dim\n",
    "\t where d_date_sk = sold_date_sk\n",
    "\t group by d_week_seq)\n",
    "\t select d_week_seq1\n",
    "\t\t   ,round(sun_sales1/sun_sales2,2)\n",
    "\t\t   ,round(mon_sales1/mon_sales2,2)\n",
    "\t\t   ,round(tue_sales1/tue_sales2,2)\n",
    "\t\t   ,round(wed_sales1/wed_sales2,2)\n",
    "\t\t   ,round(thu_sales1/thu_sales2,2)\n",
    "\t\t   ,round(fri_sales1/fri_sales2,2)\n",
    "\t\t   ,round(sat_sales1/sat_sales2,2)\n",
    "\t from\n",
    "\t (select wswscs.d_week_seq d_week_seq1\n",
    "\t\t\t,sun_sales sun_sales1\n",
    "\t\t\t,mon_sales mon_sales1\n",
    "\t\t\t,tue_sales tue_sales1\n",
    "\t\t\t,wed_sales wed_sales1\n",
    "\t\t\t,thu_sales thu_sales1\n",
    "\t\t\t,fri_sales fri_sales1\n",
    "\t\t\t,sat_sales sat_sales1\n",
    "\t  from wswscs,dev.iceberg100.date_dim\n",
    "\t  where dev.iceberg100.date_dim.d_week_seq = wswscs.d_week_seq and\n",
    "\t\t\td_year = 1998) y,\n",
    "\t (select wswscs.d_week_seq d_week_seq2\n",
    "\t\t\t,sun_sales sun_sales2\n",
    "\t\t\t,mon_sales mon_sales2\n",
    "\t\t\t,tue_sales tue_sales2\n",
    "\t\t\t,wed_sales wed_sales2\n",
    "\t\t\t,thu_sales thu_sales2\n",
    "\t\t\t,fri_sales fri_sales2\n",
    "\t\t\t,sat_sales sat_sales2\n",
    "\t  from wswscs\n",
    "\t\t  ,dev.iceberg100.date_dim\n",
    "\t  where dev.iceberg100.date_dim.d_week_seq = wswscs.d_week_seq and\n",
    "\t\t\td_year = 1998+1) z\n",
    "\t where d_week_seq1=d_week_seq2-53\n",
    "\t order by d_week_seq1"
   ]
  },
  {
   "cell_type": "code",
   "execution_count": 29,
   "id": "720d4cf9-91b0-410e-b751-40f9871af301",
   "metadata": {
    "execution": {
     "iopub.execute_input": "2024-01-20T16:27:01.179356Z",
     "iopub.status.busy": "2024-01-20T16:27:01.179109Z",
     "iopub.status.idle": "2024-01-20T16:27:46.772990Z",
     "shell.execute_reply": "2024-01-20T16:27:46.771967Z",
     "shell.execute_reply.started": "2024-01-20T16:27:01.179323Z"
    },
    "tags": []
   },
   "outputs": [
    {
     "data": {
      "application/vnd.jupyter.widget-view+json": {
       "model_id": "",
       "version_major": 2,
       "version_minor": 0
      },
      "text/plain": [
       "FloatProgress(value=0.0, bar_style='info', description='Progress:', layout=Layout(height='25px', width='50%'),…"
      ]
     },
     "metadata": {},
     "output_type": "display_data"
    },
    {
     "data": {
      "application/vnd.jupyter.widget-view+json": {
       "model_id": "939c84599a774e9e9401e64eab71356c",
       "version_major": 2,
       "version_minor": 0
      },
      "text/plain": [
       "VBox(children=(HBox(children=(HTML(value='Type:'), Button(description='Table', layout=Layout(width='70px'), st…"
      ]
     },
     "metadata": {},
     "output_type": "display_data"
    },
    {
     "data": {
      "application/vnd.jupyter.widget-view+json": {
       "model_id": "2f0b9cb8fb4d466ca8727156e2c676dd",
       "version_major": 2,
       "version_minor": 0
      },
      "text/plain": [
       "Output()"
      ]
     },
     "metadata": {},
     "output_type": "display_data"
    }
   ],
   "source": [
    "%%sql\n",
    "--q3\n",
    "\tselect  dt.d_year\n",
    "\t\t   ,dev.iceberg100.item.i_brand_id brand_id\n",
    "\t\t   ,dev.iceberg100.item.i_brand brand\n",
    "\t\t   ,sum(ss_sales_price) sum_agg\n",
    "\t from  dev.iceberg100.date_dim dt\n",
    "\t\t  ,dev.iceberg100.store_sales\n",
    "\t\t  ,dev.iceberg100.item\n",
    "\t where dt.d_date_sk = dev.iceberg100.store_sales.ss_sold_date_sk\n",
    "\t   and dev.iceberg100.store_sales.ss_item_sk = dev.iceberg100.item.i_item_sk\n",
    "\t   and dev.iceberg100.item.i_manufact_id = 816\n",
    "\t   and dt.d_moy=11\n",
    "\t group by dt.d_year\n",
    "\t\t  ,dev.iceberg100.item.i_brand\n",
    "\t\t  ,dev.iceberg100.item.i_brand_id\n",
    "\t order by dt.d_year\n",
    "\t\t\t ,sum_agg desc\n",
    "\t\t\t ,brand_id\n",
    "\t limit 100"
   ]
  },
  {
   "cell_type": "code",
   "execution_count": 5,
   "id": "f7b317c4-91b5-4bb8-9719-44ed3c9ee73d",
   "metadata": {
    "execution": {
     "iopub.execute_input": "2024-01-20T22:45:27.695298Z",
     "iopub.status.busy": "2024-01-20T22:45:27.694761Z",
     "iopub.status.idle": "2024-01-20T22:54:47.768905Z",
     "shell.execute_reply": "2024-01-20T22:54:47.767882Z",
     "shell.execute_reply.started": "2024-01-20T22:45:27.695267Z"
    },
    "tags": []
   },
   "outputs": [
    {
     "data": {
      "application/vnd.jupyter.widget-view+json": {
       "model_id": "",
       "version_major": 2,
       "version_minor": 0
      },
      "text/plain": [
       "FloatProgress(value=0.0, bar_style='info', description='Progress:', layout=Layout(height='25px', width='50%'),…"
      ]
     },
     "metadata": {},
     "output_type": "display_data"
    },
    {
     "data": {
      "application/vnd.jupyter.widget-view+json": {
       "model_id": "478aaa8a74794d28b799e6b0edc17794",
       "version_major": 2,
       "version_minor": 0
      },
      "text/plain": [
       "VBox(children=(HBox(children=(HTML(value='Type:'), Button(description='Table', layout=Layout(width='70px'), st…"
      ]
     },
     "metadata": {},
     "output_type": "display_data"
    },
    {
     "data": {
      "application/vnd.jupyter.widget-view+json": {
       "model_id": "e5d52e3ccfa545728423c66e06fce5a5",
       "version_major": 2,
       "version_minor": 0
      },
      "text/plain": [
       "Output()"
      ]
     },
     "metadata": {},
     "output_type": "display_data"
    }
   ],
   "source": [
    "%%sql\n",
    "--q4\n",
    "\n",
    "\twith year_total as (\n",
    "\t select c_customer_id customer_id\n",
    "\t\t   ,c_first_name customer_first_name\n",
    "\t\t   ,c_last_name customer_last_name\n",
    "\t\t   ,c_preferred_cust_flag customer_preferred_cust_flag\n",
    "\t\t   ,c_birth_country customer_birth_country\n",
    "\t\t   ,c_login customer_login\n",
    "\t\t   ,c_email_address customer_email_address\n",
    "\t\t   ,d_year dyear\n",
    "\t\t   ,sum(((ss_ext_list_price-ss_ext_wholesale_cost-ss_ext_discount_amt)+ss_ext_sales_price)/2) year_total\n",
    "\t\t   ,'s' sale_type\n",
    "\t from dev.iceberg100.customer\n",
    "\t\t ,dev.iceberg100.store_sales\n",
    "\t\t ,dev.iceberg100.date_dim\n",
    "\t where c_customer_sk = ss_customer_sk\n",
    "\t   and ss_sold_date_sk = d_date_sk\n",
    "\t group by c_customer_id\n",
    "\t\t\t ,c_first_name\n",
    "\t\t\t ,c_last_name\n",
    "\t\t\t ,c_preferred_cust_flag\n",
    "\t\t\t ,c_birth_country\n",
    "\t\t\t ,c_login\n",
    "\t\t\t ,c_email_address\n",
    "\t\t\t ,d_year\n",
    "\t union all\n",
    "\t select c_customer_id customer_id\n",
    "\t\t   ,c_first_name customer_first_name\n",
    "\t\t   ,c_last_name customer_last_name\n",
    "\t\t   ,c_preferred_cust_flag customer_preferred_cust_flag\n",
    "\t\t   ,c_birth_country customer_birth_country\n",
    "\t\t   ,c_login customer_login\n",
    "\t\t   ,c_email_address customer_email_address\n",
    "\t\t   ,d_year dyear\n",
    "\t\t   ,sum((((cs_ext_list_price-cs_ext_wholesale_cost-cs_ext_discount_amt)+cs_ext_sales_price)/2) ) year_total\n",
    "\t\t   ,'c' sale_type\n",
    "\t from dev.iceberg100.customer\n",
    "\t\t ,dev.iceberg100.catalog_sales\n",
    "\t\t ,dev.iceberg100.date_dim\n",
    "\t where c_customer_sk = cs_bill_customer_sk\n",
    "\t   and cs_sold_date_sk = d_date_sk\n",
    "\t group by c_customer_id\n",
    "\t\t\t ,c_first_name\n",
    "\t\t\t ,c_last_name\n",
    "\t\t\t ,c_preferred_cust_flag\n",
    "\t\t\t ,c_birth_country\n",
    "\t\t\t ,c_login\n",
    "\t\t\t ,c_email_address\n",
    "\t\t\t ,d_year\n",
    "\tunion all\n",
    "\t select c_customer_id customer_id\n",
    "\t\t   ,c_first_name customer_first_name\n",
    "\t\t   ,c_last_name customer_last_name\n",
    "\t\t   ,c_preferred_cust_flag customer_preferred_cust_flag\n",
    "\t\t   ,c_birth_country customer_birth_country\n",
    "\t\t   ,c_login customer_login\n",
    "\t\t   ,c_email_address customer_email_address\n",
    "\t\t   ,d_year dyear\n",
    "\t\t   ,sum((((ws_ext_list_price-ws_ext_wholesale_cost-ws_ext_discount_amt)+ws_ext_sales_price)/2) ) year_total\n",
    "\t\t   ,'w' sale_type\n",
    "\t from dev.iceberg100.customer\n",
    "\t\t ,dev.iceberg100.web_sales\n",
    "\t\t ,dev.iceberg100.date_dim\n",
    "\t where c_customer_sk = ws_bill_customer_sk\n",
    "\t   and ws_sold_date_sk = d_date_sk\n",
    "\t group by c_customer_id\n",
    "\t\t\t ,c_first_name\n",
    "\t\t\t ,c_last_name\n",
    "\t\t\t ,c_preferred_cust_flag\n",
    "\t\t\t ,c_birth_country\n",
    "\t\t\t ,c_login\n",
    "\t\t\t ,c_email_address\n",
    "\t\t\t ,d_year\n",
    "\t\t\t )\n",
    "  select\n",
    "                  t_s_secyear.customer_id\n",
    "                 ,t_s_secyear.customer_first_name\n",
    "                 ,t_s_secyear.customer_last_name\n",
    "                 ,t_s_secyear.customer_birth_country\n",
    " from year_total t_s_firstyear\n",
    "     ,year_total t_s_secyear\n",
    "     ,year_total t_c_firstyear\n",
    "     ,year_total t_c_secyear\n",
    "     ,year_total t_w_firstyear\n",
    "     ,year_total t_w_secyear\n",
    " where t_s_secyear.customer_id = t_s_firstyear.customer_id\n",
    "   and t_s_firstyear.customer_id = t_c_secyear.customer_id\n",
    "   and t_s_firstyear.customer_id = t_c_firstyear.customer_id\n",
    "   and t_s_firstyear.customer_id = t_w_firstyear.customer_id\n",
    "   and t_s_firstyear.customer_id = t_w_secyear.customer_id\n",
    "   and t_s_firstyear.sale_type = 's'\n",
    "   and t_c_firstyear.sale_type = 'c'\n",
    "   and t_w_firstyear.sale_type = 'w'\n",
    "   and t_s_secyear.sale_type = 's'\n",
    "   and t_c_secyear.sale_type = 'c'\n",
    "   and t_w_secyear.sale_type = 'w'\n",
    "   and t_s_firstyear.dyear =  1999\n",
    "   and t_s_secyear.dyear = 1999+1\n",
    "   and t_c_firstyear.dyear =  1999\n",
    "   and t_c_secyear.dyear =  1999+1\n",
    "   and t_w_firstyear.dyear = 1999\n",
    "   and t_w_secyear.dyear = 1999+1\n",
    "   and t_s_firstyear.year_total > 0\n",
    "   and t_c_firstyear.year_total > 0\n",
    "   and t_w_firstyear.year_total > 0\n",
    "   and case when t_c_firstyear.year_total > 0 then t_c_secyear.year_total / t_c_firstyear.year_total else null end\n",
    "           > case when t_s_firstyear.year_total > 0 then t_s_secyear.year_total / t_s_firstyear.year_total else null end\n",
    "   and case when t_c_firstyear.year_total > 0 then t_c_secyear.year_total / t_c_firstyear.year_total else null end\n",
    "           > case when t_w_firstyear.year_total > 0 then t_w_secyear.year_total / t_w_firstyear.year_total else null end\n",
    " order by t_s_secyear.customer_id\n",
    "         ,t_s_secyear.customer_first_name\n",
    "         ,t_s_secyear.customer_last_name\n",
    "         ,t_s_secyear.customer_birth_country\n",
    "limit 100"
   ]
  },
  {
   "cell_type": "code",
   "execution_count": 32,
   "id": "2377b850-7ef9-4e14-9d87-938a32476225",
   "metadata": {
    "execution": {
     "iopub.execute_input": "2024-01-20T16:44:23.021721Z",
     "iopub.status.busy": "2024-01-20T16:44:23.021389Z",
     "iopub.status.idle": "2024-01-20T16:48:31.267207Z",
     "shell.execute_reply": "2024-01-20T16:48:31.266086Z",
     "shell.execute_reply.started": "2024-01-20T16:44:23.021674Z"
    },
    "tags": []
   },
   "outputs": [
    {
     "data": {
      "application/vnd.jupyter.widget-view+json": {
       "model_id": "",
       "version_major": 2,
       "version_minor": 0
      },
      "text/plain": [
       "FloatProgress(value=0.0, bar_style='info', description='Progress:', layout=Layout(height='25px', width='50%'),…"
      ]
     },
     "metadata": {},
     "output_type": "display_data"
    },
    {
     "data": {
      "application/vnd.jupyter.widget-view+json": {
       "model_id": "56f6d9d189554b6fa0a1889c5df8bdf2",
       "version_major": 2,
       "version_minor": 0
      },
      "text/plain": [
       "VBox(children=(HBox(children=(HTML(value='Type:'), Button(description='Table', layout=Layout(width='70px'), st…"
      ]
     },
     "metadata": {},
     "output_type": "display_data"
    },
    {
     "data": {
      "application/vnd.jupyter.widget-view+json": {
       "model_id": "a26edd1d07174c99afbc7222a46e6e15",
       "version_major": 2,
       "version_minor": 0
      },
      "text/plain": [
       "Output()"
      ]
     },
     "metadata": {},
     "output_type": "display_data"
    }
   ],
   "source": [
    "%%sql\n",
    "--q5\n",
    "\n",
    "\twith ssr as\n",
    "\t (select s_store_id,\n",
    "\t\t\tsum(sales_price) as sales,\n",
    "\t\t\tsum(profit) as profit,\n",
    "\t\t\tsum(return_amt) as returns,\n",
    "\t\t\tsum(net_loss) as profit_loss\n",
    "\t from\n",
    "\t  ( select  ss_store_sk as store_sk,\n",
    "\t\t\t\tss_sold_date_sk  as date_sk,\n",
    "\t\t\t\tss_ext_sales_price as sales_price,\n",
    "\t\t\t\tss_net_profit as profit,\n",
    "\t\t\t\tcast(0 as decimal(7,2)) as return_amt,\n",
    "\t\t\t\tcast(0 as decimal(7,2)) as net_loss\n",
    "\t\tfrom dev.iceberg100.store_sales\n",
    "\t\tunion all\n",
    "\t\tselect sr_store_sk as store_sk,\n",
    "\t\t\t   sr_returned_date_sk as date_sk,\n",
    "\t\t\t   cast(0 as decimal(7,2)) as sales_price,\n",
    "\t\t\t   cast(0 as decimal(7,2)) as profit,\n",
    "\t\t\t   sr_return_amt as return_amt,\n",
    "\t\t\t   sr_net_loss as net_loss\n",
    "\t\tfrom dev.iceberg100.store_returns\n",
    "\t   ) salesreturns,\n",
    "\t\t dev.iceberg100.date_dim,\n",
    "\t\t dev.iceberg100.store\n",
    "\t where date_sk = d_date_sk\n",
    "\t\t   and d_date between cast('2000-08-19' as date)\n",
    "\t\t\t\t\t  and (cast('2000-08-19' as date) +  INTERVAL 14 days)\n",
    "\t\t   and store_sk = s_store_sk\n",
    "\t group by s_store_id)\n",
    "\t ,\n",
    "\t csr as\n",
    "\t (select cp_catalog_page_id,\n",
    "\t\t\tsum(sales_price) as sales,\n",
    "\t\t\tsum(profit) as profit,\n",
    "\t\t\tsum(return_amt) as returns,\n",
    "\t\t\tsum(net_loss) as profit_loss\n",
    "\t from\n",
    "\t  ( select  cs_catalog_page_sk as page_sk,\n",
    "\t\t\t\tcs_sold_date_sk  as date_sk,\n",
    "\t\t\t\tcs_ext_sales_price as sales_price,\n",
    "\t\t\t\tcs_net_profit as profit,\n",
    "\t\t\t\tcast(0 as decimal(7,2)) as return_amt,\n",
    "\t\t\t\tcast(0 as decimal(7,2)) as net_loss\n",
    "\t\tfrom dev.iceberg100.catalog_sales\n",
    "\t\tunion all\n",
    "\t\tselect cr_catalog_page_sk as page_sk,\n",
    "\t\t\t   cr_returned_date_sk as date_sk,\n",
    "\t\t\t   cast(0 as decimal(7,2)) as sales_price,\n",
    "\t\t\t   cast(0 as decimal(7,2)) as profit,\n",
    "\t\t\t   cr_return_amount as return_amt,\n",
    "\t\t\t   cr_net_loss as net_loss\n",
    "\t\tfrom dev.iceberg100.catalog_returns\n",
    "\t   ) salesreturns,\n",
    "\t\t dev.iceberg100.date_dim,\n",
    "\t\t dev.iceberg100.catalog_page\n",
    "\t where date_sk = d_date_sk\n",
    "\t\t   and d_date between cast('2000-08-19' as date)\n",
    "\t\t\t\t\t  and (cast('2000-08-19' as date) +  INTERVAL 14 days)\n",
    "\t\t   and page_sk = cp_catalog_page_sk\n",
    "\t group by cp_catalog_page_id)\n",
    "\t ,\n",
    "\t wsr as\n",
    "\t (select web_site_id,\n",
    "\t\t\tsum(sales_price) as sales,\n",
    "\t\t\tsum(profit) as profit,\n",
    "\t\t\tsum(return_amt) as returns,\n",
    "\t\t\tsum(net_loss) as profit_loss\n",
    "\t from\n",
    "\t  ( select  ws_web_site_sk as wsr_web_site_sk,\n",
    "\t\t\t\tws_sold_date_sk  as date_sk,\n",
    "\t\t\t\tws_ext_sales_price as sales_price,\n",
    "\t\t\t\tws_net_profit as profit,\n",
    "\t\t\t\tcast(0 as decimal(7,2)) as return_amt,\n",
    "\t\t\t\tcast(0 as decimal(7,2)) as net_loss\n",
    "\t\tfrom dev.iceberg100.web_sales\n",
    "\t\tunion all\n",
    "\t\tselect ws_web_site_sk as wsr_web_site_sk,\n",
    "\t\t\t   wr_returned_date_sk as date_sk,\n",
    "\t\t\t   cast(0 as decimal(7,2)) as sales_price,\n",
    "\t\t\t   cast(0 as decimal(7,2)) as profit,\n",
    "\t\t\t   wr_return_amt as return_amt,\n",
    "\t\t\t   wr_net_loss as net_loss\n",
    "\t\tfrom dev.iceberg100.web_returns left outer join dev.iceberg100.web_sales on\n",
    "\t\t\t ( wr_item_sk = ws_item_sk\n",
    "\t\t\t   and wr_order_number = ws_order_number)\n",
    "\t   ) salesreturns,\n",
    "\t\t dev.iceberg100.date_dim,\n",
    "\t\t dev.iceberg100.web_site\n",
    "\t where date_sk = d_date_sk\n",
    "\t\t   and d_date between cast('2000-08-19' as date)\n",
    "\t\t\t\t\t  and (cast('2000-08-19' as date) +  INTERVAL 14 days)\n",
    "\t\t   and wsr_web_site_sk = web_site_sk\n",
    "\t group by web_site_id)\n",
    "\t  select  channel\n",
    "\t\t\t, id\n",
    "\t\t\t, sum(sales) as sales\n",
    "\t\t\t, sum(returns) as returns\n",
    "\t\t\t, sum(profit) as profit\n",
    "\t from\n",
    "\t (select 'store channel' as channel\n",
    "\t\t\t, 'store' || s_store_id as id\n",
    "\t\t\t, sales\n",
    "\t\t\t, returns\n",
    "\t\t\t, (profit - profit_loss) as profit\n",
    "\t from   ssr\n",
    "\t union all\n",
    "\t select 'catalog channel' as channel\n",
    "\t\t\t, 'catalog_page' || cp_catalog_page_id as id\n",
    "\t\t\t, sales\n",
    "\t\t\t, returns\n",
    "\t\t\t, (profit - profit_loss) as profit\n",
    "\t from  csr\n",
    "\t union all\n",
    "\t select 'web channel' as channel\n",
    "\t\t\t, 'web_site' || web_site_id as id\n",
    "\t\t\t, sales\n",
    "\t\t\t, returns\n",
    "\t\t\t, (profit - profit_loss) as profit\n",
    "\t from   wsr\n",
    "\t ) x\n",
    "\t group by rollup (channel, id)\n",
    "\t order by channel\n",
    "\t\t\t ,id\n",
    "\t limit 100"
   ]
  },
  {
   "cell_type": "code",
   "execution_count": 33,
   "id": "6a52d883-ea3b-4599-a5ae-03f6d55c6332",
   "metadata": {
    "execution": {
     "iopub.execute_input": "2024-01-20T16:48:31.271052Z",
     "iopub.status.busy": "2024-01-20T16:48:31.270832Z",
     "iopub.status.idle": "2024-01-20T16:50:37.085843Z",
     "shell.execute_reply": "2024-01-20T16:50:37.082870Z",
     "shell.execute_reply.started": "2024-01-20T16:48:31.271022Z"
    },
    "tags": []
   },
   "outputs": [],
   "source": [
    "%%sql\n",
    "--q6\n",
    "\n",
    "\tselect  a.ca_state state, count(*) cnt\n",
    "\t from dev.iceberg100.customer_address a\n",
    "\t\t ,dev.iceberg100.customer c\n",
    "\t\t ,dev.iceberg100.store_sales s\n",
    "\t\t ,dev.iceberg100.date_dim d\n",
    "\t\t ,dev.iceberg100.item i\n",
    "\t where       a.ca_address_sk = c.c_current_addr_sk\n",
    "\t\tand c.c_customer_sk = s.ss_customer_sk\n",
    "\t\tand s.ss_sold_date_sk = d.d_date_sk\n",
    "\t\tand s.ss_item_sk = i.i_item_sk\n",
    "\t\tand d.d_month_seq =\n",
    "\t\t\t (select distinct (d_month_seq)\n",
    "\t\t\t  from dev.iceberg100.date_dim\n",
    "\t\t\t\t   where d_year = 2002\n",
    "\t\t\t\tand d_moy = 3 )\n",
    "\t\tand i.i_current_price > 1.2 *\n",
    "\t\t\t\t (select avg(j.i_current_price)\n",
    "\t\t\t from dev.iceberg100.item j\n",
    "\t\t\t where j.i_category = i.i_category)\n",
    "\t group by a.ca_state\n",
    "\t having count(*) >= 10\n",
    "\t order by cnt, a.ca_state\n",
    "\t limit 100"
   ]
  },
  {
   "cell_type": "code",
   "execution_count": 35,
   "id": "8ed072c8-3493-4208-a827-867b2acec106",
   "metadata": {
    "execution": {
     "iopub.execute_input": "2024-01-20T16:50:37.167324Z",
     "iopub.status.busy": "2024-01-20T16:50:37.167092Z",
     "iopub.status.idle": "2024-01-20T16:52:04.869782Z",
     "shell.execute_reply": "2024-01-20T16:52:04.868804Z",
     "shell.execute_reply.started": "2024-01-20T16:50:37.167293Z"
    },
    "tags": []
   },
   "outputs": [
    {
     "data": {
      "application/vnd.jupyter.widget-view+json": {
       "model_id": "",
       "version_major": 2,
       "version_minor": 0
      },
      "text/plain": [
       "FloatProgress(value=0.0, bar_style='info', description='Progress:', layout=Layout(height='25px', width='50%'),…"
      ]
     },
     "metadata": {},
     "output_type": "display_data"
    },
    {
     "data": {
      "application/vnd.jupyter.widget-view+json": {
       "model_id": "3cfda591157c496a98636972b0d52c10",
       "version_major": 2,
       "version_minor": 0
      },
      "text/plain": [
       "VBox(children=(HBox(children=(HTML(value='Type:'), Button(description='Table', layout=Layout(width='70px'), st…"
      ]
     },
     "metadata": {},
     "output_type": "display_data"
    },
    {
     "data": {
      "application/vnd.jupyter.widget-view+json": {
       "model_id": "cc128de808fc4248b6ac8e60a4af36dd",
       "version_major": 2,
       "version_minor": 0
      },
      "text/plain": [
       "Output()"
      ]
     },
     "metadata": {},
     "output_type": "display_data"
    }
   ],
   "source": [
    "%%sql\n",
    "--q7\n",
    "\n",
    "\tselect  i_item_id,\n",
    "\t\t\tavg(ss_quantity) agg1,\n",
    "\t\t\tavg(ss_list_price) agg2,\n",
    "\t\t\tavg(ss_coupon_amt) agg3,\n",
    "\t\t\tavg(ss_sales_price) agg4\n",
    "\t from dev.iceberg100.store_sales, dev.iceberg100.customer_demographics, dev.iceberg100.date_dim, dev.iceberg100.item, dev.iceberg100.promotion\n",
    "\t where ss_sold_date_sk = d_date_sk and\n",
    "\t\t   ss_item_sk = i_item_sk and\n",
    "\t\t   ss_cdemo_sk = cd_demo_sk and\n",
    "\t\t   ss_promo_sk = p_promo_sk and\n",
    "\t\t   cd_gender = 'F' and\n",
    "\t\t   cd_marital_status = 'W' and\n",
    "\t\t   cd_education_status = 'College' and\n",
    "\t\t   (p_channel_email = 'N' or p_channel_event = 'N') and\n",
    "\t\t   d_year = 2001\n",
    "\t group by i_item_id\n",
    "\t order by i_item_id\n",
    "\t limit 100"
   ]
  },
  {
   "cell_type": "code",
   "execution_count": 36,
   "id": "03f9b73d-b295-430d-bd5b-1fbf40a1003f",
   "metadata": {
    "execution": {
     "iopub.execute_input": "2024-01-20T16:52:04.871863Z",
     "iopub.status.busy": "2024-01-20T16:52:04.871507Z",
     "iopub.status.idle": "2024-01-20T16:52:44.413726Z",
     "shell.execute_reply": "2024-01-20T16:52:44.412558Z",
     "shell.execute_reply.started": "2024-01-20T16:52:04.871815Z"
    },
    "tags": []
   },
   "outputs": [
    {
     "data": {
      "application/vnd.jupyter.widget-view+json": {
       "model_id": "",
       "version_major": 2,
       "version_minor": 0
      },
      "text/plain": [
       "FloatProgress(value=0.0, bar_style='info', description='Progress:', layout=Layout(height='25px', width='50%'),…"
      ]
     },
     "metadata": {},
     "output_type": "display_data"
    },
    {
     "data": {
      "application/vnd.jupyter.widget-view+json": {
       "model_id": "a726d44cbcb74e2390e557226ca01f01",
       "version_major": 2,
       "version_minor": 0
      },
      "text/plain": [
       "VBox(children=(HBox(children=(HTML(value='Type:'), Button(description='Table', layout=Layout(width='70px'), st…"
      ]
     },
     "metadata": {},
     "output_type": "display_data"
    },
    {
     "data": {
      "application/vnd.jupyter.widget-view+json": {
       "model_id": "4725d2248c0f4488a6f798665a22bbca",
       "version_major": 2,
       "version_minor": 0
      },
      "text/plain": [
       "Output()"
      ]
     },
     "metadata": {},
     "output_type": "display_data"
    }
   ],
   "source": [
    "%%sql\n",
    "--q8\n",
    "\n",
    "\tselect  s_store_name\n",
    "\t\t  ,sum(ss_net_profit)\n",
    "\t from dev.iceberg100.store_sales\n",
    "\t\t ,dev.iceberg100.date_dim\n",
    "\t\t ,dev.iceberg100.store,\n",
    "\t\t (select ca_zip\n",
    "\t\t from (\n",
    "\t\t  SELECT substr(ca_zip,1,5) ca_zip\n",
    "\t\t  FROM dev.iceberg100.customer_address\n",
    "\t\t  WHERE substr(ca_zip,1,5) IN (\n",
    "\t\t\t\t\t\t\t  '47602','16704','35863','28577','83910','36201',\n",
    "\t\t\t\t\t\t\t  '58412','48162','28055','41419','80332',\n",
    "\t\t\t\t\t\t\t  '38607','77817','24891','16226','18410',\n",
    "\t\t\t\t\t\t\t  '21231','59345','13918','51089','20317',\n",
    "\t\t\t\t\t\t\t  '17167','54585','67881','78366','47770',\n",
    "\t\t\t\t\t\t\t  '18360','51717','73108','14440','21800',\n",
    "\t\t\t\t\t\t\t  '89338','45859','65501','34948','25973',\n",
    "\t\t\t\t\t\t\t  '73219','25333','17291','10374','18829',\n",
    "\t\t\t\t\t\t\t  '60736','82620','41351','52094','19326',\n",
    "\t\t\t\t\t\t\t  '25214','54207','40936','21814','79077',\n",
    "\t\t\t\t\t\t\t  '25178','75742','77454','30621','89193',\n",
    "\t\t\t\t\t\t\t  '27369','41232','48567','83041','71948',\n",
    "\t\t\t\t\t\t\t  '37119','68341','14073','16891','62878',\n",
    "\t\t\t\t\t\t\t  '49130','19833','24286','27700','40979',\n",
    "\t\t\t\t\t\t\t  '50412','81504','94835','84844','71954',\n",
    "\t\t\t\t\t\t\t  '39503','57649','18434','24987','12350',\n",
    "\t\t\t\t\t\t\t  '86379','27413','44529','98569','16515',\n",
    "\t\t\t\t\t\t\t  '27287','24255','21094','16005','56436',\n",
    "\t\t\t\t\t\t\t  '91110','68293','56455','54558','10298',\n",
    "\t\t\t\t\t\t\t  '83647','32754','27052','51766','19444',\n",
    "\t\t\t\t\t\t\t  '13869','45645','94791','57631','20712',\n",
    "\t\t\t\t\t\t\t  '37788','41807','46507','21727','71836',\n",
    "\t\t\t\t\t\t\t  '81070','50632','88086','63991','20244',\n",
    "\t\t\t\t\t\t\t  '31655','51782','29818','63792','68605',\n",
    "\t\t\t\t\t\t\t  '94898','36430','57025','20601','82080',\n",
    "\t\t\t\t\t\t\t  '33869','22728','35834','29086','92645',\n",
    "\t\t\t\t\t\t\t  '98584','98072','11652','78093','57553',\n",
    "\t\t\t\t\t\t\t  '43830','71144','53565','18700','90209',\n",
    "\t\t\t\t\t\t\t  '71256','38353','54364','28571','96560',\n",
    "\t\t\t\t\t\t\t  '57839','56355','50679','45266','84680',\n",
    "\t\t\t\t\t\t\t  '34306','34972','48530','30106','15371',\n",
    "\t\t\t\t\t\t\t  '92380','84247','92292','68852','13338',\n",
    "\t\t\t\t\t\t\t  '34594','82602','70073','98069','85066',\n",
    "\t\t\t\t\t\t\t  '47289','11686','98862','26217','47529',\n",
    "\t\t\t\t\t\t\t  '63294','51793','35926','24227','14196',\n",
    "\t\t\t\t\t\t\t  '24594','32489','99060','49472','43432',\n",
    "\t\t\t\t\t\t\t  '49211','14312','88137','47369','56877',\n",
    "\t\t\t\t\t\t\t  '20534','81755','15794','12318','21060',\n",
    "\t\t\t\t\t\t\t  '73134','41255','63073','81003','73873',\n",
    "\t\t\t\t\t\t\t  '66057','51184','51195','45676','92696',\n",
    "\t\t\t\t\t\t\t  '70450','90669','98338','25264','38919',\n",
    "\t\t\t\t\t\t\t  '59226','58581','60298','17895','19489',\n",
    "\t\t\t\t\t\t\t  '52301','80846','95464','68770','51634',\n",
    "\t\t\t\t\t\t\t  '19988','18367','18421','11618','67975',\n",
    "\t\t\t\t\t\t\t  '25494','41352','95430','15734','62585',\n",
    "\t\t\t\t\t\t\t  '97173','33773','10425','75675','53535',\n",
    "\t\t\t\t\t\t\t  '17879','41967','12197','67998','79658',\n",
    "\t\t\t\t\t\t\t  '59130','72592','14851','43933','68101',\n",
    "\t\t\t\t\t\t\t  '50636','25717','71286','24660','58058',\n",
    "\t\t\t\t\t\t\t  '72991','95042','15543','33122','69280',\n",
    "\t\t\t\t\t\t\t  '11912','59386','27642','65177','17672',\n",
    "\t\t\t\t\t\t\t  '33467','64592','36335','54010','18767',\n",
    "\t\t\t\t\t\t\t  '63193','42361','49254','33113','33159',\n",
    "\t\t\t\t\t\t\t  '36479','59080','11855','81963','31016',\n",
    "\t\t\t\t\t\t\t  '49140','29392','41836','32958','53163',\n",
    "\t\t\t\t\t\t\t  '13844','73146','23952','65148','93498',\n",
    "\t\t\t\t\t\t\t  '14530','46131','58454','13376','13378',\n",
    "\t\t\t\t\t\t\t  '83986','12320','17193','59852','46081',\n",
    "\t\t\t\t\t\t\t  '98533','52389','13086','68843','31013',\n",
    "\t\t\t\t\t\t\t  '13261','60560','13443','45533','83583',\n",
    "\t\t\t\t\t\t\t  '11489','58218','19753','22911','25115',\n",
    "\t\t\t\t\t\t\t  '86709','27156','32669','13123','51933',\n",
    "\t\t\t\t\t\t\t  '39214','41331','66943','14155','69998',\n",
    "\t\t\t\t\t\t\t  '49101','70070','35076','14242','73021',\n",
    "\t\t\t\t\t\t\t  '59494','15782','29752','37914','74686',\n",
    "\t\t\t\t\t\t\t  '83086','34473','15751','81084','49230',\n",
    "\t\t\t\t\t\t\t  '91894','60624','17819','28810','63180',\n",
    "\t\t\t\t\t\t\t  '56224','39459','55233','75752','43639',\n",
    "\t\t\t\t\t\t\t  '55349','86057','62361','50788','31830',\n",
    "\t\t\t\t\t\t\t  '58062','18218','85761','60083','45484',\n",
    "\t\t\t\t\t\t\t  '21204','90229','70041','41162','35390',\n",
    "\t\t\t\t\t\t\t  '16364','39500','68908','26689','52868',\n",
    "\t\t\t\t\t\t\t  '81335','40146','11340','61527','61794',\n",
    "\t\t\t\t\t\t\t  '71997','30415','59004','29450','58117',\n",
    "\t\t\t\t\t\t\t  '69952','33562','83833','27385','61860',\n",
    "\t\t\t\t\t\t\t  '96435','48333','23065','32961','84919',\n",
    "\t\t\t\t\t\t\t  '61997','99132','22815','56600','68730',\n",
    "\t\t\t\t\t\t\t  '48017','95694','32919','88217','27116',\n",
    "\t\t\t\t\t\t\t  '28239','58032','18884','16791','21343',\n",
    "\t\t\t\t\t\t\t  '97462','18569','75660','15475')\n",
    "\t\t intersect\n",
    "\t\t  select ca_zip\n",
    "\t\t  from (SELECT substr(ca_zip,1,5) ca_zip,count(*) cnt\n",
    "\t\t\t\tFROM dev.iceberg100.customer_address, dev.iceberg100.customer\n",
    "\t\t\t\tWHERE ca_address_sk = c_current_addr_sk and\n",
    "\t\t\t\t\t  c_preferred_cust_flag='Y'\n",
    "\t\t\t\tgroup by ca_zip\n",
    "\t\t\t\thaving count(*) > 10)A1)A2) V1\n",
    "\t where ss_store_sk = s_store_sk\n",
    "\t  and ss_sold_date_sk = d_date_sk\n",
    "\t  and d_qoy = 2 and d_year = 1998\n",
    "\t  and (substr(s_zip,1,2) = substr(V1.ca_zip,1,2))\n",
    "\t group by s_store_name\n",
    "\t order by s_store_name\n",
    "\t limit 100"
   ]
  },
  {
   "cell_type": "code",
   "execution_count": 37,
   "id": "07561841-bb38-4d61-8969-9de39edc9ff3",
   "metadata": {
    "execution": {
     "iopub.execute_input": "2024-01-20T16:52:44.415136Z",
     "iopub.status.busy": "2024-01-20T16:52:44.414923Z",
     "iopub.status.idle": "2024-01-20T16:58:34.792279Z",
     "shell.execute_reply": "2024-01-20T16:58:34.790854Z",
     "shell.execute_reply.started": "2024-01-20T16:52:44.415106Z"
    },
    "tags": []
   },
   "outputs": [
    {
     "data": {
      "application/vnd.jupyter.widget-view+json": {
       "model_id": "",
       "version_major": 2,
       "version_minor": 0
      },
      "text/plain": [
       "FloatProgress(value=0.0, bar_style='info', description='Progress:', layout=Layout(height='25px', width='50%'),…"
      ]
     },
     "metadata": {},
     "output_type": "display_data"
    },
    {
     "data": {
      "application/vnd.jupyter.widget-view+json": {
       "model_id": "ff55469ea9b04cafa49a9cc793d78373",
       "version_major": 2,
       "version_minor": 0
      },
      "text/plain": [
       "VBox(children=(HBox(children=(HTML(value='Type:'), Button(description='Table', layout=Layout(width='70px'), st…"
      ]
     },
     "metadata": {},
     "output_type": "display_data"
    },
    {
     "data": {
      "application/vnd.jupyter.widget-view+json": {
       "model_id": "71983cbb6cbb44bba0f465028e9e7d21",
       "version_major": 2,
       "version_minor": 0
      },
      "text/plain": [
       "Output()"
      ]
     },
     "metadata": {},
     "output_type": "display_data"
    }
   ],
   "source": [
    "%%sql\n",
    "--q9\n",
    "\n",
    "select case when (select count(*)\n",
    "\t\t\t\t\t  from dev.iceberg100.store_sales\n",
    "\t\t\t\t\t  where ss_quantity between 1 and 20) > 2972190\n",
    "\t\t\t\tthen (select avg(ss_ext_discount_amt)\n",
    "\t\t\t\t\t  from dev.iceberg100.store_sales\n",
    "\t\t\t\t\t  where ss_quantity between 1 and 20)\n",
    "\t\t\t\telse (select avg(ss_net_profit)\n",
    "\t\t\t\t\t  from dev.iceberg100.store_sales\n",
    "\t\t\t\t\t  where ss_quantity between 1 and 20) end bucket1 ,\n",
    "\t\t   case when (select count(*)\n",
    "\t\t\t\t\t  from dev.iceberg100.store_sales\n",
    "\t\t\t\t\t  where ss_quantity between 21 and 40) > 111711138\n",
    "\t\t\t\tthen (select avg(ss_ext_discount_amt)\n",
    "\t\t\t\t\t  from dev.iceberg100.store_sales\n",
    "\t\t\t\t\t  where ss_quantity between 21 and 40)\n",
    "\t\t\t\telse (select avg(ss_net_profit)\n",
    "\t\t\t\t\t  from dev.iceberg100.store_sales\n",
    "\t\t\t\t\t  where ss_quantity between 21 and 40) end bucket2,\n",
    "\t\t   case when (select count(*)\n",
    "\t\t\t\t\t  from dev.iceberg100.store_sales\n",
    "\t\t\t\t\t  where ss_quantity between 41 and 60) > 127958920\n",
    "\t\t\t\tthen (select avg(ss_ext_discount_amt)\n",
    "\t\t\t\t\t  from dev.iceberg100.store_sales\n",
    "\t\t\t\t\t  where ss_quantity between 41 and 60)\n",
    "\t\t\t\telse (select avg(ss_net_profit)\n",
    "\t\t\t\t\t  from dev.iceberg100.store_sales\n",
    "\t\t\t\t\t  where ss_quantity between 41 and 60) end bucket3,\n",
    "\t\t   case when (select count(*)\n",
    "\t\t\t\t\t  from dev.iceberg100.store_sales\n",
    "\t\t\t\t\t  where ss_quantity between 61 and 80) > 41162107\n",
    "\t\t\t\tthen (select avg(ss_ext_discount_amt)\n",
    "\t\t\t\t\t  from dev.iceberg100.store_sales\n",
    "\t\t\t\t\t  where ss_quantity between 61 and 80)\n",
    "\t\t\t\telse (select avg(ss_net_profit)\n",
    "\t\t\t\t\t  from dev.iceberg100.store_sales\n",
    "\t\t\t\t\t  where ss_quantity between 61 and 80) end bucket4,\n",
    "\t\t   case when (select count(*)\n",
    "\t\t\t\t\t  from dev.iceberg100.store_sales\n",
    "\t\t\t\t\t  where ss_quantity between 81 and 100) > 25211875\n",
    "\t\t\t\tthen (select avg(ss_ext_discount_amt)\n",
    "\t\t\t\t\t  from dev.iceberg100.store_sales\n",
    "\t\t\t\t\t  where ss_quantity between 81 and 100)\n",
    "\t\t\t\telse (select avg(ss_net_profit)\n",
    "\t\t\t\t\t  from dev.iceberg100.store_sales\n",
    "\t\t\t\t\t  where ss_quantity between 81 and 100) end bucket5\n",
    "\tfrom dev.iceberg100.reason\n",
    "\twhere r_reason_sk = 1"
   ]
  },
  {
   "cell_type": "code",
   "execution_count": 38,
   "id": "4062be9a-edfc-4425-bab1-e790e123af30",
   "metadata": {
    "execution": {
     "iopub.execute_input": "2024-01-20T16:58:34.794381Z",
     "iopub.status.busy": "2024-01-20T16:58:34.794064Z",
     "iopub.status.idle": "2024-01-20T17:03:19.226839Z",
     "shell.execute_reply": "2024-01-20T17:03:19.225744Z",
     "shell.execute_reply.started": "2024-01-20T16:58:34.794333Z"
    },
    "tags": []
   },
   "outputs": [
    {
     "data": {
      "application/vnd.jupyter.widget-view+json": {
       "model_id": "",
       "version_major": 2,
       "version_minor": 0
      },
      "text/plain": [
       "FloatProgress(value=0.0, bar_style='info', description='Progress:', layout=Layout(height='25px', width='50%'),…"
      ]
     },
     "metadata": {},
     "output_type": "display_data"
    },
    {
     "data": {
      "application/vnd.jupyter.widget-view+json": {
       "model_id": "390e81ebbdbf4779ab7a2a88b7cb62b8",
       "version_major": 2,
       "version_minor": 0
      },
      "text/plain": [
       "VBox(children=(HBox(children=(HTML(value='Type:'), Button(description='Table', layout=Layout(width='70px'), st…"
      ]
     },
     "metadata": {},
     "output_type": "display_data"
    },
    {
     "data": {
      "application/vnd.jupyter.widget-view+json": {
       "model_id": "6408386ab50840d4a0116d01ca06a279",
       "version_major": 2,
       "version_minor": 0
      },
      "text/plain": [
       "Output()"
      ]
     },
     "metadata": {},
     "output_type": "display_data"
    }
   ],
   "source": [
    "%%sql\n",
    "--q10\n",
    "\n",
    "\tselect\n",
    "\t  cd_gender,\n",
    "\t  cd_marital_status,\n",
    "\t  cd_education_status,\n",
    "\t  count(*) cnt1,\n",
    "\t  cd_purchase_estimate,\n",
    "\t  count(*) cnt2,\n",
    "\t  cd_credit_rating,\n",
    "\t  count(*) cnt3,\n",
    "\t  cd_dep_count,\n",
    "\t  count(*) cnt4,\n",
    "\t  cd_dep_employed_count,\n",
    "\t  count(*) cnt5,\n",
    "\t  cd_dep_college_count,\n",
    "\t  count(*) cnt6\n",
    "\t from\n",
    "\t  dev.iceberg100.customer c,dev.iceberg100.customer_address ca,dev.iceberg100.customer_demographics\n",
    "\t where\n",
    "\t  c.c_current_addr_sk = ca.ca_address_sk and\n",
    "\t  (ca_county like 'Allen County' or ca_county like 'Jefferson County' or ca_county like 'Lamar County' or ca_county like 'Dakota County' or ca_county like 'Park County') and\n",
    "\t  cd_demo_sk = c.c_current_cdemo_sk and\n",
    "\t  exists (select *\n",
    "\t\t\t  from dev.iceberg100.store_sales,dev.iceberg100.date_dim\n",
    "\t\t\t  where c.c_customer_sk = ss_customer_sk and\n",
    "\t\t\t\t\tss_sold_date_sk = d_date_sk and\n",
    "\t\t\t\t\td_year = 2001 and\n",
    "\t\t\t\t\td_moy between 4 and 4+3) and\n",
    "\t   (exists (select *\n",
    "\t\t\t\tfrom dev.iceberg100.web_sales,dev.iceberg100.date_dim\n",
    "\t\t\t\twhere c.c_customer_sk = ws_bill_customer_sk and\n",
    "\t\t\t\t\t  ws_sold_date_sk = d_date_sk and\n",
    "\t\t\t\t\t  d_year = 2001 and\n",
    "\t\t\t\t\t  d_moy between 4 ANd 4+3) or\n",
    "\t\texists (select *\n",
    "\t\t\t\tfrom dev.iceberg100.catalog_sales,dev.iceberg100.date_dim\n",
    "\t\t\t\twhere c.c_customer_sk = cs_ship_customer_sk and\n",
    "\t\t\t\t\t  cs_sold_date_sk = d_date_sk and\n",
    "\t\t\t\t\t  d_year = 2001 and\n",
    "\t\t\t\t\t  d_moy between 4 and 4+3))\n",
    "\t group by cd_gender,\n",
    "\t\t\t  cd_marital_status,\n",
    "\t\t\t  cd_education_status,\n",
    "\t\t\t  cd_purchase_estimate,\n",
    "\t\t\t  cd_credit_rating,\n",
    "\t\t\t  cd_dep_count,\n",
    "\t\t\t  cd_dep_employed_count,\n",
    "\t\t\t  cd_dep_college_count\n",
    "\t order by cd_gender,\n",
    "\t\t\t  cd_marital_status,\n",
    "\t\t\t  cd_education_status,\n",
    "\t\t\t  cd_purchase_estimate,\n",
    "\t\t\t  cd_credit_rating,\n",
    "\t\t\t  cd_dep_count,\n",
    "\t\t\t  cd_dep_employed_count,\n",
    "\t\t\t  cd_dep_college_count\n",
    "\tlimit 100"
   ]
  },
  {
   "cell_type": "code",
   "execution_count": 39,
   "id": "b0deb2eb-eeba-432e-b9ae-b6b9ec38a65d",
   "metadata": {
    "execution": {
     "iopub.execute_input": "2024-01-20T17:03:19.228883Z",
     "iopub.status.busy": "2024-01-20T17:03:19.228541Z",
     "iopub.status.idle": "2024-01-20T17:08:21.714813Z",
     "shell.execute_reply": "2024-01-20T17:08:21.713672Z",
     "shell.execute_reply.started": "2024-01-20T17:03:19.228837Z"
    }
   },
   "outputs": [
    {
     "data": {
      "application/vnd.jupyter.widget-view+json": {
       "model_id": "",
       "version_major": 2,
       "version_minor": 0
      },
      "text/plain": [
       "FloatProgress(value=0.0, bar_style='info', description='Progress:', layout=Layout(height='25px', width='50%'),…"
      ]
     },
     "metadata": {},
     "output_type": "display_data"
    },
    {
     "data": {
      "application/vnd.jupyter.widget-view+json": {
       "model_id": "4fe481457b1a40b383f4eeaac2ba8e26",
       "version_major": 2,
       "version_minor": 0
      },
      "text/plain": [
       "VBox(children=(HBox(children=(HTML(value='Type:'), Button(description='Table', layout=Layout(width='70px'), st…"
      ]
     },
     "metadata": {},
     "output_type": "display_data"
    },
    {
     "data": {
      "application/vnd.jupyter.widget-view+json": {
       "model_id": "b86bde4a0c8047f0a44535bb1b5477ec",
       "version_major": 2,
       "version_minor": 0
      },
      "text/plain": [
       "Output()"
      ]
     },
     "metadata": {},
     "output_type": "display_data"
    }
   ],
   "source": [
    "%%sql\n",
    "--q11\n",
    "\n",
    "\twith year_total as (\n",
    "\t select c_customer_id customer_id\n",
    "\t\t   ,c_first_name customer_first_name\n",
    "\t\t   ,c_last_name customer_last_name\n",
    "\t\t   ,c_preferred_cust_flag customer_preferred_cust_flag\n",
    "\t\t   ,c_birth_country customer_birth_country\n",
    "\t\t   ,c_login customer_login\n",
    "\t\t   ,c_email_address customer_email_address\n",
    "\t\t   ,d_year dyear\n",
    "\t\t   ,sum(ss_ext_list_price-ss_ext_discount_amt) year_total\n",
    "\t\t   ,'s' sale_type\n",
    "\t from dev.iceberg100.customer\n",
    "\t\t ,dev.iceberg100.store_sales\n",
    "\t\t ,dev.iceberg100.date_dim\n",
    "\t where c_customer_sk = ss_customer_sk\n",
    "\t   and ss_sold_date_sk = d_date_sk\n",
    "\t group by c_customer_id\n",
    "\t\t\t ,c_first_name\n",
    "\t\t\t ,c_last_name\n",
    "\t\t\t ,c_preferred_cust_flag\n",
    "\t\t\t ,c_birth_country\n",
    "\t\t\t ,c_login\n",
    "\t\t\t ,c_email_address\n",
    "\t\t\t ,d_year\n",
    "\t union all\n",
    "\t select c_customer_id customer_id\n",
    "\t\t   ,c_first_name customer_first_name\n",
    "\t\t   ,c_last_name customer_last_name\n",
    "\t\t   ,c_preferred_cust_flag customer_preferred_cust_flag\n",
    "\t\t   ,c_birth_country customer_birth_country\n",
    "\t\t   ,c_login customer_login\n",
    "\t\t   ,c_email_address customer_email_address\n",
    "\t\t   ,d_year dyear\n",
    "\t\t   ,sum(ws_ext_list_price-ws_ext_discount_amt) year_total\n",
    "\t\t   ,'w' sale_type\n",
    "\t from dev.iceberg100.customer\n",
    "\t\t ,dev.iceberg100.web_sales\n",
    "\t\t ,dev.iceberg100.date_dim\n",
    "\t where c_customer_sk = ws_bill_customer_sk\n",
    "\t   and ws_sold_date_sk = d_date_sk\n",
    "\t group by c_customer_id\n",
    "\t\t\t ,c_first_name\n",
    "\t\t\t ,c_last_name\n",
    "\t\t\t ,c_preferred_cust_flag\n",
    "\t\t\t ,c_birth_country\n",
    "\t\t\t ,c_login\n",
    "\t\t\t ,c_email_address\n",
    "\t\t\t ,d_year\n",
    "\t\t\t )\n",
    "\t  select\n",
    "\t\t\t\t\t  t_s_secyear.customer_id\n",
    "\t\t\t\t\t ,t_s_secyear.customer_first_name\n",
    "\t\t\t\t\t ,t_s_secyear.customer_last_name\n",
    "\t\t\t\t\t ,t_s_secyear.customer_login\n",
    "\t from year_total t_s_firstyear\n",
    "\t\t ,year_total t_s_secyear\n",
    "\t\t ,year_total t_w_firstyear\n",
    "\t\t ,year_total t_w_secyear\n",
    "\t where t_s_secyear.customer_id = t_s_firstyear.customer_id\n",
    "\t\t\t and t_s_firstyear.customer_id = t_w_secyear.customer_id\n",
    "\t\t\t and t_s_firstyear.customer_id = t_w_firstyear.customer_id\n",
    "\t\t\t and t_s_firstyear.sale_type = 's'\n",
    "\t\t\t and t_w_firstyear.sale_type = 'w'\n",
    "\t\t\t and t_s_secyear.sale_type = 's'\n",
    "\t\t\t and t_w_secyear.sale_type = 'w'\n",
    "\t\t\t and t_s_firstyear.dyear = 1998\n",
    "\t\t\t and t_s_secyear.dyear = 1998+1\n",
    "\t\t\t and t_w_firstyear.dyear = 1998\n",
    "\t\t\t and t_w_secyear.dyear = 1998+1\n",
    "\t\t\t and t_s_firstyear.year_total > 0\n",
    "\t\t\t and t_w_firstyear.year_total > 0\n",
    "\t\t\t and case when t_w_firstyear.year_total > 0 then t_w_secyear.year_total / t_w_firstyear.year_total else 0.0 end\n",
    "\t\t\t\t > case when t_s_firstyear.year_total > 0 then t_s_secyear.year_total / t_s_firstyear.year_total else 0.0 end\n",
    "\t order by t_s_secyear.customer_id\n",
    "\t\t\t ,t_s_secyear.customer_first_name\n",
    "\t\t\t ,t_s_secyear.customer_last_name\n",
    "\t\t\t ,t_s_secyear.customer_login\n",
    "\tlimit 100"
   ]
  },
  {
   "cell_type": "code",
   "execution_count": 40,
   "id": "a2cb7487-02ac-46f8-988a-87833ec3f16e",
   "metadata": {
    "execution": {
     "iopub.execute_input": "2024-01-20T17:08:21.716371Z",
     "iopub.status.busy": "2024-01-20T17:08:21.716180Z",
     "iopub.status.idle": "2024-01-20T17:08:47.278860Z",
     "shell.execute_reply": "2024-01-20T17:08:47.277150Z",
     "shell.execute_reply.started": "2024-01-20T17:08:21.716343Z"
    }
   },
   "outputs": [
    {
     "data": {
      "application/vnd.jupyter.widget-view+json": {
       "model_id": "",
       "version_major": 2,
       "version_minor": 0
      },
      "text/plain": [
       "FloatProgress(value=0.0, bar_style='info', description='Progress:', layout=Layout(height='25px', width='50%'),…"
      ]
     },
     "metadata": {},
     "output_type": "display_data"
    },
    {
     "data": {
      "application/vnd.jupyter.widget-view+json": {
       "model_id": "818e4b0a105242c5a6cf9fa1288ce1ea",
       "version_major": 2,
       "version_minor": 0
      },
      "text/plain": [
       "VBox(children=(HBox(children=(HTML(value='Type:'), Button(description='Table', layout=Layout(width='70px'), st…"
      ]
     },
     "metadata": {},
     "output_type": "display_data"
    },
    {
     "data": {
      "application/vnd.jupyter.widget-view+json": {
       "model_id": "06e49d3a278e4af2b810a84d704b165b",
       "version_major": 2,
       "version_minor": 0
      },
      "text/plain": [
       "Output()"
      ]
     },
     "metadata": {},
     "output_type": "display_data"
    }
   ],
   "source": [
    "%%sql\n",
    "--q12\n",
    "\n",
    "\tselect  i_item_id\n",
    "\t\t  ,i_item_desc\n",
    "\t\t  ,i_category\n",
    "\t\t  ,i_class\n",
    "\t\t  ,i_current_price\n",
    "\t\t  ,sum(ws_ext_sales_price) as itemrevenue\n",
    "\t\t  ,sum(ws_ext_sales_price)*100/sum(sum(ws_ext_sales_price)) over\n",
    "\t\t\t  (partition by i_class) as revenueratio\n",
    "\tfrom\n",
    "\t\tdev.iceberg100.web_sales\n",
    "\t\t\t,dev.iceberg100.item\n",
    "\t\t\t,dev.iceberg100.date_dim\n",
    "\twhere\n",
    "\t\tws_item_sk = i_item_sk\n",
    "\t\tand (i_category like 'Men' or i_category like 'Books' or i_category like 'Children')\n",
    "\t\tand ws_sold_date_sk = d_date_sk\n",
    "\t\tand d_date between cast('1998-03-28' as date)\n",
    "\t\t\t\t\tand (cast('1998-03-28' as date) + INTERVAL 30 days)\n",
    "\tgroup by\n",
    "\t\ti_item_id\n",
    "\t\t\t,i_item_desc\n",
    "\t\t\t,i_category\n",
    "\t\t\t,i_class\n",
    "\t\t\t,i_current_price\n",
    "\torder by\n",
    "\t\ti_category\n",
    "\t\t\t,i_class\n",
    "\t\t\t,i_item_id\n",
    "\t\t\t,i_item_desc\n",
    "\t\t\t,revenueratio\n",
    "\tlimit 100"
   ]
  },
  {
   "cell_type": "code",
   "execution_count": 41,
   "id": "52038c9f-b0e1-4bac-9626-7becd9ae0d72",
   "metadata": {
    "execution": {
     "iopub.execute_input": "2024-01-20T17:08:47.280559Z",
     "iopub.status.busy": "2024-01-20T17:08:47.280251Z",
     "iopub.status.idle": "2024-01-20T17:10:12.982914Z",
     "shell.execute_reply": "2024-01-20T17:10:12.981754Z",
     "shell.execute_reply.started": "2024-01-20T17:08:47.280510Z"
    }
   },
   "outputs": [
    {
     "data": {
      "application/vnd.jupyter.widget-view+json": {
       "model_id": "",
       "version_major": 2,
       "version_minor": 0
      },
      "text/plain": [
       "FloatProgress(value=0.0, bar_style='info', description='Progress:', layout=Layout(height='25px', width='50%'),…"
      ]
     },
     "metadata": {},
     "output_type": "display_data"
    },
    {
     "data": {
      "application/vnd.jupyter.widget-view+json": {
       "model_id": "6fbaaae7d90745b0938e9312bb0e7bd7",
       "version_major": 2,
       "version_minor": 0
      },
      "text/plain": [
       "VBox(children=(HBox(children=(HTML(value='Type:'), Button(description='Table', layout=Layout(width='70px'), st…"
      ]
     },
     "metadata": {},
     "output_type": "display_data"
    },
    {
     "data": {
      "application/vnd.jupyter.widget-view+json": {
       "model_id": "5a4143d53be94e4fb7ed582626663529",
       "version_major": 2,
       "version_minor": 0
      },
      "text/plain": [
       "Output()"
      ]
     },
     "metadata": {},
     "output_type": "display_data"
    }
   ],
   "source": [
    "%%sql\n",
    "--q13\n",
    "\n",
    "\tselect avg(ss_quantity)\n",
    "\t\t   ,avg(ss_ext_sales_price)\n",
    "\t\t   ,avg(ss_ext_wholesale_cost)\n",
    "\t\t   ,sum(ss_ext_wholesale_cost)\n",
    "\t from dev.iceberg100.store_sales\n",
    "\t\t ,dev.iceberg100.store\n",
    "\t\t ,dev.iceberg100.customer_demographics\n",
    "\t\t ,dev.iceberg100.household_demographics\n",
    "\t\t ,dev.iceberg100.customer_address\n",
    "\t\t ,dev.iceberg100.date_dim\n",
    "\t where s_store_sk = ss_store_sk\n",
    "\t and  ss_sold_date_sk = d_date_sk and d_year = 2001\n",
    "\t and((ss_hdemo_sk=hd_demo_sk\n",
    "\t  and cd_demo_sk = ss_cdemo_sk\n",
    "\t  and cd_marital_status = 'U'\n",
    "\t  and cd_education_status = 'Unknown'\n",
    "\t  and ss_sales_price between 100.00 and 150.00\n",
    "\t  and hd_dep_count = 3\n",
    "\t\t )or\n",
    "\t\t (ss_hdemo_sk=hd_demo_sk\n",
    "\t  and cd_demo_sk = ss_cdemo_sk\n",
    "\t  and cd_marital_status = 'W'\n",
    "\t  and cd_education_status = '2 yr Degree'\n",
    "\t  and ss_sales_price between 50.00 and 100.00\n",
    "\t  and hd_dep_count = 1\n",
    "\t\t ) or\n",
    "\t\t (ss_hdemo_sk=hd_demo_sk\n",
    "\t  and cd_demo_sk = ss_cdemo_sk\n",
    "\t  and cd_marital_status = 'S'\n",
    "\t  and cd_education_status = 'College'\n",
    "\t  and ss_sales_price between 150.00 and 200.00\n",
    "\t  and hd_dep_count = 1\n",
    "\t\t ))\n",
    "\t and((ss_addr_sk = ca_address_sk\n",
    "\t  and ca_country = 'United States'\n",
    "\t  and (ca_state like 'WV' or ca_state like 'GA' or ca_state like 'TX')\n",
    "\t  and ss_net_profit between 100 and 200\n",
    "\t\t ) or\n",
    "\t\t (ss_addr_sk = ca_address_sk\n",
    "\t  and ca_country = 'United States'\n",
    "\t  and (ca_state like 'TN' or ca_state like 'KY' or ca_state like 'SC')\n",
    "\t  and ss_net_profit between 150 and 300\n",
    "\t\t ) or\n",
    "\t\t (ss_addr_sk = ca_address_sk\n",
    "\t  and ca_country = 'United States'\n",
    "\t  and (ca_state like 'OK' or ca_state like  'NE' or ca_state like  'CA')\n",
    "\t  and ss_net_profit between 50 and 250\n",
    "\t\t ))"
   ]
  },
  {
   "cell_type": "code",
   "execution_count": 63,
   "id": "67a4ab28-6b8f-4229-b490-4f12ed334aa3",
   "metadata": {
    "execution": {
     "iopub.execute_input": "2024-01-20T17:49:38.916468Z",
     "iopub.status.busy": "2024-01-20T17:49:38.916258Z",
     "iopub.status.idle": "2024-01-20T17:54:47.378045Z",
     "shell.execute_reply": "2024-01-20T17:54:47.376619Z",
     "shell.execute_reply.started": "2024-01-20T17:49:38.916437Z"
    },
    "tags": []
   },
   "outputs": [
    {
     "data": {
      "application/vnd.jupyter.widget-view+json": {
       "model_id": "",
       "version_major": 2,
       "version_minor": 0
      },
      "text/plain": [
       "FloatProgress(value=0.0, bar_style='info', description='Progress:', layout=Layout(height='25px', width='50%'),…"
      ]
     },
     "metadata": {},
     "output_type": "display_data"
    },
    {
     "data": {
      "application/vnd.jupyter.widget-view+json": {
       "model_id": "3f76ed1f07bd4707a8c910ba5aeee7bf",
       "version_major": 2,
       "version_minor": 0
      },
      "text/plain": [
       "VBox(children=(HBox(children=(HTML(value='Type:'), Button(description='Table', layout=Layout(width='70px'), st…"
      ]
     },
     "metadata": {},
     "output_type": "display_data"
    },
    {
     "data": {
      "application/vnd.jupyter.widget-view+json": {
       "model_id": "fa5f1bd5cd4b4606a37ca2c5bf1ab3cb",
       "version_major": 2,
       "version_minor": 0
      },
      "text/plain": [
       "Output()"
      ]
     },
     "metadata": {},
     "output_type": "display_data"
    }
   ],
   "source": [
    "%%sql\n",
    "--q14\n",
    "\n",
    "\twith  cross_items as\n",
    "\t (select i_item_sk ss_item_sk\n",
    "\t from dev.iceberg100.item,\n",
    "\t (select iss.i_brand_id brand_id\n",
    "\t\t ,iss.i_class_id class_id\n",
    "\t\t ,iss.i_category_id category_id\n",
    "\t from dev.iceberg100.store_sales\n",
    "\t\t ,dev.iceberg100.item iss\n",
    "\t\t ,dev.iceberg100.date_dim d1\n",
    "\t where ss_item_sk = iss.i_item_sk\n",
    "\t   and ss_sold_date_sk = d1.d_date_sk\n",
    "\t   and d1.d_year between 1998 AND 1998 + 2\n",
    "\t intersect\n",
    "\t select ics.i_brand_id\n",
    "\t\t ,ics.i_class_id\n",
    "\t\t ,ics.i_category_id\n",
    "\t from dev.iceberg100.catalog_sales\n",
    "\t\t ,dev.iceberg100.item ics\n",
    "\t\t ,dev.iceberg100.date_dim d2\n",
    "\t where cs_item_sk = ics.i_item_sk\n",
    "\t   and cs_sold_date_sk = d2.d_date_sk\n",
    "\t   and d2.d_year between 1998 AND 1998 + 2\n",
    "\t intersect\n",
    "\t select iws.i_brand_id\n",
    "\t\t ,iws.i_class_id\n",
    "\t\t ,iws.i_category_id\n",
    "\t from dev.iceberg100.web_sales\n",
    "\t\t ,dev.iceberg100.item iws\n",
    "\t\t ,dev.iceberg100.date_dim d3\n",
    "\t where ws_item_sk = iws.i_item_sk\n",
    "\t   and ws_sold_date_sk = d3.d_date_sk\n",
    "\t   and d3.d_year between 1998 AND 1998 + 2)\n",
    "\t where i_brand_id = brand_id\n",
    "\t\t  and i_class_id = class_id\n",
    "\t\t  and i_category_id = category_id\n",
    "\t),\n",
    "\t avg_sales as\n",
    "\t (select avg(quantity*list_price) average_sales\n",
    "\t  from (select ss_quantity quantity\n",
    "\t\t\t\t ,ss_list_price list_price\n",
    "\t\t   from dev.iceberg100.store_sales\n",
    "\t\t\t   ,dev.iceberg100.date_dim\n",
    "\t\t   where ss_sold_date_sk = d_date_sk\n",
    "\t\t\t and d_year between 1998 and 1998 + 2\n",
    "\t\t   union all\n",
    "\t\t   select cs_quantity quantity\n",
    "\t\t\t\t ,cs_list_price list_price\n",
    "\t\t   from dev.iceberg100.catalog_sales\n",
    "\t\t\t   ,dev.iceberg100.date_dim\n",
    "\t\t   where cs_sold_date_sk = d_date_sk\n",
    "\t\t\t and d_year between 1998 and 1998 + 2\n",
    "\t\t   union all\n",
    "\t\t   select ws_quantity quantity\n",
    "\t\t\t\t ,ws_list_price list_price\n",
    "\t\t   from dev.iceberg100.web_sales\n",
    "\t\t\t   ,dev.iceberg100.date_dim\n",
    "\t\t   where ws_sold_date_sk = d_date_sk\n",
    "\t\t\t and d_year between 1998 and 1998 + 2) x)\n",
    "\t  select  channel, i_brand_id,i_class_id,i_category_id,sum(sales), sum(number_sales)\n",
    "\t from(\n",
    "\t\t   select 'store' channel, i_brand_id,i_class_id\n",
    "\t\t\t\t ,i_category_id,sum(ss_quantity*ss_list_price) sales\n",
    "\t\t\t\t , count(*) number_sales\n",
    "\t\t   from dev.iceberg100.store_sales\n",
    "\t\t\t   ,dev.iceberg100.item\n",
    "\t\t\t   ,dev.iceberg100.date_dim\n",
    "\t\t   where ss_item_sk in (select ss_item_sk from cross_items)\n",
    "\t\t\t and ss_item_sk = i_item_sk\n",
    "\t\t\t and ss_sold_date_sk = d_date_sk\n",
    "\t\t\t and d_year = 1998+2\n",
    "\t\t\t and d_moy = 11\n",
    "\t\t   group by i_brand_id,i_class_id,i_category_id\n",
    "\t\t   having sum(ss_quantity*ss_list_price) > (select average_sales from avg_sales)\n",
    "\t\t   union all\n",
    "\t\t   select 'catalog' channel, i_brand_id,i_class_id,i_category_id, sum(cs_quantity*cs_list_price) sales, count(*) number_sales\n",
    "\t\t   from dev.iceberg100.catalog_sales\n",
    "\t\t\t   ,dev.iceberg100.item\n",
    "\t\t\t   ,dev.iceberg100.date_dim\n",
    "\t\t   where cs_item_sk in (select ss_item_sk from cross_items)\n",
    "\t\t\t and cs_item_sk = i_item_sk\n",
    "\t\t\t and cs_sold_date_sk = d_date_sk\n",
    "\t\t\t and d_year = 1998+2\n",
    "\t\t\t and d_moy = 11\n",
    "\t\t   group by i_brand_id,i_class_id,i_category_id\n",
    "\t\t   having sum(cs_quantity*cs_list_price) > (select average_sales from avg_sales)\n",
    "\t\t   union all\n",
    "\t\t   select 'web' channel, i_brand_id,i_class_id,i_category_id, sum(ws_quantity*ws_list_price) sales , count(*) number_sales\n",
    "\t\t   from dev.iceberg100.web_sales\n",
    "\t\t\t   ,dev.iceberg100.item\n",
    "\t\t\t   ,dev.iceberg100.date_dim\n",
    "\t\t   where ws_item_sk in (select ss_item_sk from cross_items)\n",
    "\t\t\t and ws_item_sk = i_item_sk\n",
    "\t\t\t and ws_sold_date_sk = d_date_sk\n",
    "\t\t\t and d_year = 1998+2\n",
    "\t\t\t and d_moy = 11\n",
    "\t\t   group by i_brand_id,i_class_id,i_category_id\n",
    "\t\t   having sum(ws_quantity*ws_list_price) > (select average_sales from avg_sales)\n",
    "\t ) y\n",
    "\t group by rollup (channel, i_brand_id,i_class_id,i_category_id)\n",
    "\t order by channel,i_brand_id,i_class_id,i_category_id\n",
    "\t limit 100"
   ]
  },
  {
   "cell_type": "code",
   "execution_count": 69,
   "id": "244ebc7e-49f4-4980-bd88-f1a3f1414131",
   "metadata": {
    "execution": {
     "iopub.execute_input": "2024-01-20T18:02:29.751482Z",
     "iopub.status.busy": "2024-01-20T18:02:29.750939Z",
     "iopub.status.idle": "2024-01-20T18:04:57.664704Z",
     "shell.execute_reply": "2024-01-20T18:04:57.663639Z",
     "shell.execute_reply.started": "2024-01-20T18:02:29.751449Z"
    },
    "tags": []
   },
   "outputs": [
    {
     "data": {
      "application/vnd.jupyter.widget-view+json": {
       "model_id": "",
       "version_major": 2,
       "version_minor": 0
      },
      "text/plain": [
       "FloatProgress(value=0.0, bar_style='info', description='Progress:', layout=Layout(height='25px', width='50%'),…"
      ]
     },
     "metadata": {},
     "output_type": "display_data"
    },
    {
     "data": {
      "application/vnd.jupyter.widget-view+json": {
       "model_id": "2d389f662cb84db589f0a7f5c7d814b5",
       "version_major": 2,
       "version_minor": 0
      },
      "text/plain": [
       "VBox(children=(HBox(children=(HTML(value='Type:'), Button(description='Table', layout=Layout(width='70px'), st…"
      ]
     },
     "metadata": {},
     "output_type": "display_data"
    },
    {
     "data": {
      "application/vnd.jupyter.widget-view+json": {
       "model_id": "b82f30838fff4fe28fe0a5c69ad01b76",
       "version_major": 2,
       "version_minor": 0
      },
      "text/plain": [
       "Output()"
      ]
     },
     "metadata": {},
     "output_type": "display_data"
    }
   ],
   "source": [
    "%%sql\n",
    "--q15\n",
    "\n",
    "\tselect  ca_zip\n",
    "\t\t   ,sum(cs_sales_price)\n",
    "\t from dev.iceberg100.catalog_sales\n",
    "\t\t ,dev.iceberg100.customer\n",
    "\t\t ,dev.iceberg100.customer_address\n",
    "\t\t ,dev.iceberg100.date_dim\n",
    "\t where cs_bill_customer_sk = c_customer_sk\n",
    "\t\tand c_current_addr_sk = ca_address_sk\n",
    "\t\tand ( (substr(ca_zip,1,5) like '85669' or substr(ca_zip,1,5) like '86197' or substr(ca_zip,1,5) like '88274' or substr(ca_zip,1,5) like '83405'  or substr(ca_zip,1,5) like '86475'  or\n",
    "\t\t\t\t\t\t\t\t\t   substr(ca_zip,1,5) like '85392'  or substr(ca_zip,1,5) like '85460' or substr(ca_zip,1,5) like '80348' or substr(ca_zip,1,5) like '81792')\n",
    "\t\t\t  or (ca_state like 'CA' or ca_state like 'WA' or ca_state like 'GA')\n",
    "\t\t\t  or cs_sales_price > 500)\n",
    "\t\tand cs_sold_date_sk = d_date_sk\n",
    "\t\tand d_qoy = 1 and d_year = 2000\n",
    "\t group by ca_zip\n",
    "\t order by ca_zip\n",
    "\t limit 100"
   ]
  },
  {
   "cell_type": "code",
   "execution_count": 70,
   "id": "4df5042c-91ce-4f96-9b6d-626dfbaea9c5",
   "metadata": {
    "execution": {
     "iopub.execute_input": "2024-01-20T18:04:57.666172Z",
     "iopub.status.busy": "2024-01-20T18:04:57.665947Z",
     "iopub.status.idle": "2024-01-20T18:05:00.088274Z",
     "shell.execute_reply": "2024-01-20T18:05:00.087107Z",
     "shell.execute_reply.started": "2024-01-20T18:04:57.666142Z"
    }
   },
   "outputs": [
    {
     "data": {
      "application/vnd.jupyter.widget-view+json": {
       "model_id": "",
       "version_major": 2,
       "version_minor": 0
      },
      "text/plain": [
       "FloatProgress(value=0.0, bar_style='info', description='Progress:', layout=Layout(height='25px', width='50%'),…"
      ]
     },
     "metadata": {},
     "output_type": "display_data"
    },
    {
     "data": {
      "application/vnd.jupyter.widget-view+json": {
       "model_id": "6fded5adb6c243e4aeb6e926b8056a20",
       "version_major": 2,
       "version_minor": 0
      },
      "text/plain": [
       "VBox(children=(HBox(children=(HTML(value='Type:'), Button(description='Table', layout=Layout(width='70px'), st…"
      ]
     },
     "metadata": {},
     "output_type": "display_data"
    },
    {
     "data": {
      "application/vnd.jupyter.widget-view+json": {
       "model_id": "e4281f80f7ae4a339931fbc3b3e8dfc1",
       "version_major": 2,
       "version_minor": 0
      },
      "text/plain": [
       "Output()"
      ]
     },
     "metadata": {},
     "output_type": "display_data"
    }
   ],
   "source": [
    "%%sql\n",
    "\n",
    "select * from dev.iceberg100.date_dim limit 10"
   ]
  },
  {
   "cell_type": "code",
   "execution_count": 72,
   "id": "8570ed2f-c3cc-4e5f-81b8-622d7e61a35b",
   "metadata": {
    "execution": {
     "iopub.execute_input": "2024-01-20T18:06:16.578863Z",
     "iopub.status.busy": "2024-01-20T18:06:16.578553Z",
     "iopub.status.idle": "2024-01-20T18:11:00.932908Z",
     "shell.execute_reply": "2024-01-20T18:11:00.931837Z",
     "shell.execute_reply.started": "2024-01-20T18:06:16.578830Z"
    },
    "tags": []
   },
   "outputs": [
    {
     "data": {
      "application/vnd.jupyter.widget-view+json": {
       "model_id": "",
       "version_major": 2,
       "version_minor": 0
      },
      "text/plain": [
       "FloatProgress(value=0.0, bar_style='info', description='Progress:', layout=Layout(height='25px', width='50%'),…"
      ]
     },
     "metadata": {},
     "output_type": "display_data"
    },
    {
     "data": {
      "application/vnd.jupyter.widget-view+json": {
       "model_id": "3d5c3e3271c943cc986132194f72edfa",
       "version_major": 2,
       "version_minor": 0
      },
      "text/plain": [
       "VBox(children=(HBox(children=(HTML(value='Type:'), Button(description='Table', layout=Layout(width='70px'), st…"
      ]
     },
     "metadata": {},
     "output_type": "display_data"
    },
    {
     "data": {
      "application/vnd.jupyter.widget-view+json": {
       "model_id": "a172feda01ac498999be839d1375ad14",
       "version_major": 2,
       "version_minor": 0
      },
      "text/plain": [
       "Output()"
      ]
     },
     "metadata": {},
     "output_type": "display_data"
    }
   ],
   "source": [
    "%%sql\n",
    "--q16\n",
    "\n",
    "\tselect\n",
    "\t   count(distinct cs_order_number) as `order count`\n",
    "\t  ,sum(cs_ext_ship_cost) as `total shipping cost`\n",
    "\t  ,sum(cs_net_profit) as `total net profit`\n",
    "\tfrom\n",
    "\t   dev.iceberg100.catalog_sales cs1\n",
    "\t  ,dev.iceberg100.date_dim\n",
    "\t  ,dev.iceberg100.customer_address\n",
    "\t  ,dev.iceberg100.call_center\n",
    "\twhere\n",
    "\t\td_date between '2001-2-01' and\n",
    "\t\t\t   (cast('2001-2-01' as date) + INTERVAL 60 days)\n",
    "\tand cs1.cs_ship_date_sk = d_date_sk\n",
    "\tand cs1.cs_ship_addr_sk = ca_address_sk\n",
    "\tand ca_state = 'MS'\n",
    "\tand cs1.cs_call_center_sk = cc_call_center_sk\n",
    "\tand (cc_county LIKE 'Jackson County'\n",
    "   OR cc_county LIKE 'Daviess County'\n",
    "   OR cc_county LIKE 'Walker County'\n",
    "   OR cc_county LIKE 'Dauphin County'\n",
    "   OR cc_county LIKE 'Mobile County'\n",
    "\t)\n",
    "\tand exists (select *\n",
    "\t\t\t\tfrom dev.iceberg100.catalog_sales cs2\n",
    "\t\t\t\twhere cs1.cs_order_number = cs2.cs_order_number\n",
    "\t\t\t\t  and cs1.cs_warehouse_sk <> cs2.cs_warehouse_sk)\n",
    "\tand not exists(select *\n",
    "\t\t\t\t   from dev.iceberg100.catalog_returns cr1\n",
    "\t\t\t\t   where cs1.cs_order_number = cr1.cr_order_number)\n",
    "\torder by count(distinct cs_order_number)\n",
    "\tlimit 100"
   ]
  },
  {
   "cell_type": "code",
   "execution_count": 45,
   "id": "cd2b8371-e568-4bed-a8dc-9a6e62e1cd7e",
   "metadata": {
    "execution": {
     "iopub.execute_input": "2024-01-20T17:10:16.714142Z",
     "iopub.status.busy": "2024-01-20T17:10:16.713821Z",
     "iopub.status.idle": "2024-01-20T17:13:38.840767Z",
     "shell.execute_reply": "2024-01-20T17:13:38.839702Z",
     "shell.execute_reply.started": "2024-01-20T17:10:16.714095Z"
    }
   },
   "outputs": [
    {
     "data": {
      "application/vnd.jupyter.widget-view+json": {
       "model_id": "",
       "version_major": 2,
       "version_minor": 0
      },
      "text/plain": [
       "FloatProgress(value=0.0, bar_style='info', description='Progress:', layout=Layout(height='25px', width='50%'),…"
      ]
     },
     "metadata": {},
     "output_type": "display_data"
    },
    {
     "data": {
      "application/vnd.jupyter.widget-view+json": {
       "model_id": "a2ac95f6a68f45f5a5270a3fc69bccec",
       "version_major": 2,
       "version_minor": 0
      },
      "text/plain": [
       "VBox(children=(HBox(children=(HTML(value='Type:'), Button(description='Table', layout=Layout(width='70px'), st…"
      ]
     },
     "metadata": {},
     "output_type": "display_data"
    },
    {
     "data": {
      "application/vnd.jupyter.widget-view+json": {
       "model_id": "15f0353dd48349e88d7227623aec8bb5",
       "version_major": 2,
       "version_minor": 0
      },
      "text/plain": [
       "Output()"
      ]
     },
     "metadata": {},
     "output_type": "display_data"
    }
   ],
   "source": [
    "%%sql\n",
    "--q17\n",
    "\n",
    "\tselect  i_item_id\n",
    "\t\t   ,i_item_desc\n",
    "\t\t   ,s_state\n",
    "\t\t   ,count(ss_quantity) as store_sales_quantitycount\n",
    "\t\t   ,avg(ss_quantity) as store_sales_quantityave\n",
    "\t\t   ,stddev_samp(ss_quantity) as store_sales_quantitystdev\n",
    "\t\t   ,stddev_samp(ss_quantity)/avg(ss_quantity) as store_sales_quantitycov\n",
    "\t\t   ,count(sr_return_quantity) as store_returns_quantitycount\n",
    "\t\t   ,avg(sr_return_quantity) as store_returns_quantityave\n",
    "\t\t   ,stddev_samp(sr_return_quantity) as store_returns_quantitystdev\n",
    "\t\t   ,stddev_samp(sr_return_quantity)/avg(sr_return_quantity) as store_returns_quantitycov\n",
    "\t\t   ,count(cs_quantity) as catalog_sales_quantitycount ,avg(cs_quantity) as catalog_sales_quantityave\n",
    "\t\t   ,stddev_samp(cs_quantity) as catalog_sales_quantitystdev\n",
    "\t\t   ,stddev_samp(cs_quantity)/avg(cs_quantity) as catalog_sales_quantitycov\n",
    "\t from dev.iceberg100.store_sales\n",
    "\t\t ,dev.iceberg100.store_returns\n",
    "\t\t ,dev.iceberg100.catalog_sales\n",
    "\t\t ,dev.iceberg100.date_dim d1\n",
    "\t\t ,dev.iceberg100.date_dim d2\n",
    "\t\t ,dev.iceberg100.date_dim d3\n",
    "\t\t ,dev.iceberg100.store\n",
    "\t\t ,dev.iceberg100.item\n",
    "\t where d1.d_quarter_name like '1999Q1'\n",
    "\t   and d1.d_date_sk = ss_sold_date_sk\n",
    "\t   and i_item_sk = ss_item_sk\n",
    "\t   and s_store_sk = ss_store_sk\n",
    "\t   and ss_customer_sk = sr_customer_sk\n",
    "\t   and ss_item_sk = sr_item_sk\n",
    "\t   and ss_ticket_number = sr_ticket_number\n",
    "\t   and sr_returned_date_sk = d2.d_date_sk\n",
    "\t   and (d2.d_quarter_name like '1999Q1' or d2.d_quarter_name like '1999Q2' or d2.d_quarter_name like '1999Q3')\n",
    "\t   and sr_customer_sk = cs_bill_customer_sk\n",
    "\t   and sr_item_sk = cs_item_sk\n",
    "\t   and cs_sold_date_sk = d3.d_date_sk\n",
    "\t   and (d3.d_quarter_name like '1999Q1' or d2.d_quarter_name like '1999Q2' or d2.d_quarter_name like '1999Q3')\n",
    "\t group by i_item_id\n",
    "\t\t\t ,i_item_desc\n",
    "\t\t\t ,s_state\n",
    "\t order by i_item_id\n",
    "\t\t\t ,i_item_desc\n",
    "\t\t\t ,s_state\n",
    "\tlimit 100"
   ]
  },
  {
   "cell_type": "code",
   "execution_count": 46,
   "id": "25067a98-dd2f-4966-a41a-246c45ad7181",
   "metadata": {
    "execution": {
     "iopub.execute_input": "2024-01-20T17:13:38.842204Z",
     "iopub.status.busy": "2024-01-20T17:13:38.841998Z",
     "iopub.status.idle": "2024-01-20T17:14:52.467061Z",
     "shell.execute_reply": "2024-01-20T17:14:52.465882Z",
     "shell.execute_reply.started": "2024-01-20T17:13:38.842177Z"
    }
   },
   "outputs": [
    {
     "data": {
      "application/vnd.jupyter.widget-view+json": {
       "model_id": "",
       "version_major": 2,
       "version_minor": 0
      },
      "text/plain": [
       "FloatProgress(value=0.0, bar_style='info', description='Progress:', layout=Layout(height='25px', width='50%'),…"
      ]
     },
     "metadata": {},
     "output_type": "display_data"
    },
    {
     "data": {
      "application/vnd.jupyter.widget-view+json": {
       "model_id": "0a1acd3acc724d1da6b08063a75c53a0",
       "version_major": 2,
       "version_minor": 0
      },
      "text/plain": [
       "VBox(children=(HBox(children=(HTML(value='Type:'), Button(description='Table', layout=Layout(width='70px'), st…"
      ]
     },
     "metadata": {},
     "output_type": "display_data"
    },
    {
     "data": {
      "application/vnd.jupyter.widget-view+json": {
       "model_id": "6fd246b7feac45a6ba26cec8877c4ad9",
       "version_major": 2,
       "version_minor": 0
      },
      "text/plain": [
       "Output()"
      ]
     },
     "metadata": {},
     "output_type": "display_data"
    }
   ],
   "source": [
    "%%sql\n",
    "--q18\n",
    "\n",
    "\tselect  i_item_id,\n",
    "\t\t\tca_country,\n",
    "\t\t\tca_state,\n",
    "\t\t\tca_county,\n",
    "\t\t\tavg( cast(cs_quantity as decimal(12,2))) agg1,\n",
    "\t\t\tavg( cast(cs_list_price as decimal(12,2))) agg2,\n",
    "\t\t\tavg( cast(cs_coupon_amt as decimal(12,2))) agg3,\n",
    "\t\t\tavg( cast(cs_sales_price as decimal(12,2))) agg4,\n",
    "\t\t\tavg( cast(cs_net_profit as decimal(12,2))) agg5,\n",
    "\t\t\tavg( cast(c_birth_year as decimal(12,2))) agg6,\n",
    "\t\t\tavg( cast(cd1.cd_dep_count as decimal(12,2))) agg7\n",
    "\t from dev.iceberg100.catalog_sales, dev.iceberg100.customer_demographics cd1,\n",
    "\t\t  dev.iceberg100.customer_demographics cd2, dev.iceberg100.customer, dev.iceberg100.customer_address, dev.iceberg100.date_dim, dev.iceberg100.item\n",
    "\t where cs_sold_date_sk = d_date_sk and\n",
    "\t\t   cs_item_sk = i_item_sk and\n",
    "\t\t   cs_bill_cdemo_sk = cd1.cd_demo_sk and\n",
    "\t\t   cs_bill_customer_sk = c_customer_sk and\n",
    "\t\t   cd1.cd_gender = 'F' and\n",
    "\t\t   cd1.cd_education_status = 'Primary' and\n",
    "\t\t   c_current_cdemo_sk = cd2.cd_demo_sk and\n",
    "\t\t   c_current_addr_sk = ca_address_sk and\n",
    "\t\t   c_birth_month in (6,7,3,11,12,8) and\n",
    "\t\t   d_year = 1999 and\n",
    "\t\t   (ca_state like 'IL' or ca_state like 'WV' or ca_state like 'KS' or ca_state\n",
    "\t\t\t\t\t   like 'GA' or ca_state like 'LA' or ca_state like 'PA' or ca_state like 'TX')\n",
    "\t group by rollup (i_item_id, ca_country, ca_state, ca_county)\n",
    "\t order by ca_country,\n",
    "\t\t\tca_state,\n",
    "\t\t\tca_county,\n",
    "\t\ti_item_id\n",
    "\t limit 100"
   ]
  },
  {
   "cell_type": "code",
   "execution_count": 47,
   "id": "3ed9a26d-dd03-4ae9-97a8-4a6a7daab351",
   "metadata": {
    "execution": {
     "iopub.execute_input": "2024-01-20T17:14:52.469083Z",
     "iopub.status.busy": "2024-01-20T17:14:52.468770Z",
     "iopub.status.idle": "2024-01-20T17:15:56.074102Z",
     "shell.execute_reply": "2024-01-20T17:15:56.073149Z",
     "shell.execute_reply.started": "2024-01-20T17:14:52.469040Z"
    }
   },
   "outputs": [
    {
     "data": {
      "application/vnd.jupyter.widget-view+json": {
       "model_id": "",
       "version_major": 2,
       "version_minor": 0
      },
      "text/plain": [
       "FloatProgress(value=0.0, bar_style='info', description='Progress:', layout=Layout(height='25px', width='50%'),…"
      ]
     },
     "metadata": {},
     "output_type": "display_data"
    },
    {
     "data": {
      "application/vnd.jupyter.widget-view+json": {
       "model_id": "a4030cba435a4c41815fc113d0046c3b",
       "version_major": 2,
       "version_minor": 0
      },
      "text/plain": [
       "VBox(children=(HBox(children=(HTML(value='Type:'), Button(description='Table', layout=Layout(width='70px'), st…"
      ]
     },
     "metadata": {},
     "output_type": "display_data"
    },
    {
     "data": {
      "application/vnd.jupyter.widget-view+json": {
       "model_id": "044cee1df158435494d239eb3bd0b293",
       "version_major": 2,
       "version_minor": 0
      },
      "text/plain": [
       "Output()"
      ]
     },
     "metadata": {},
     "output_type": "display_data"
    }
   ],
   "source": [
    "%%sql\n",
    "--q19\n",
    "\n",
    "select  i_brand_id brand_id, i_brand brand, i_manufact_id, i_manufact,\n",
    " \tsum(ss_ext_sales_price) ext_price\n",
    " from dev.iceberg100.date_dim, dev.iceberg100.store_sales, dev.iceberg100.item,dev.iceberg100.customer,dev.iceberg100.customer_address,dev.iceberg100.store\n",
    " where d_date_sk = ss_sold_date_sk\n",
    "   and ss_item_sk = i_item_sk\n",
    "   and i_manager_id=26\n",
    "   and d_moy=12\n",
    "   and d_year=2000\n",
    "   and ss_customer_sk = c_customer_sk\n",
    "   and c_current_addr_sk = ca_address_sk\n",
    "   and substr(ca_zip,1,5) <> substr(s_zip,1,5)\n",
    "   and ss_store_sk = s_store_sk\n",
    " group by i_brand\n",
    "      ,i_brand_id\n",
    "      ,i_manufact_id\n",
    "      ,i_manufact\n",
    " order by ext_price desc\n",
    "         ,i_brand\n",
    "         ,i_brand_id\n",
    "         ,i_manufact_id\n",
    "         ,i_manufact\n",
    "limit 100"
   ]
  },
  {
   "cell_type": "code",
   "execution_count": 48,
   "id": "3f03649c-263a-4f1e-847c-18dc6aeb8e37",
   "metadata": {
    "execution": {
     "iopub.execute_input": "2024-01-20T17:15:56.079299Z",
     "iopub.status.busy": "2024-01-20T17:15:56.079067Z",
     "iopub.status.idle": "2024-01-20T17:16:31.589096Z",
     "shell.execute_reply": "2024-01-20T17:16:31.588075Z",
     "shell.execute_reply.started": "2024-01-20T17:15:56.079269Z"
    }
   },
   "outputs": [
    {
     "data": {
      "application/vnd.jupyter.widget-view+json": {
       "model_id": "",
       "version_major": 2,
       "version_minor": 0
      },
      "text/plain": [
       "FloatProgress(value=0.0, bar_style='info', description='Progress:', layout=Layout(height='25px', width='50%'),…"
      ]
     },
     "metadata": {},
     "output_type": "display_data"
    },
    {
     "data": {
      "application/vnd.jupyter.widget-view+json": {
       "model_id": "0cadbb7a98af4394b68abdca1820f04b",
       "version_major": 2,
       "version_minor": 0
      },
      "text/plain": [
       "VBox(children=(HBox(children=(HTML(value='Type:'), Button(description='Table', layout=Layout(width='70px'), st…"
      ]
     },
     "metadata": {},
     "output_type": "display_data"
    },
    {
     "data": {
      "application/vnd.jupyter.widget-view+json": {
       "model_id": "95c999eb52be4eabb4a19240b8beea43",
       "version_major": 2,
       "version_minor": 0
      },
      "text/plain": [
       "Output()"
      ]
     },
     "metadata": {},
     "output_type": "display_data"
    }
   ],
   "source": [
    "%%sql\n",
    "--q20\n",
    "\n",
    "select  i_item_id\n",
    "       ,i_item_desc\n",
    "       ,i_category\n",
    "       ,i_class\n",
    "       ,i_current_price\n",
    "       ,sum(cs_ext_sales_price) as itemrevenue\n",
    "       ,sum(cs_ext_sales_price)*100/sum(sum(cs_ext_sales_price)) over\n",
    "           (partition by i_class) as revenueratio\n",
    " from\tdev.iceberg100.catalog_sales\n",
    "     ,dev.iceberg100.item\n",
    "     ,dev.iceberg100.date_dim\n",
    " where cs_item_sk = i_item_sk\n",
    "   and (i_category like 'Books' or i_category like 'Home' or i_category like 'Jewelry')\n",
    "   and cs_sold_date_sk = d_date_sk\n",
    " and d_date between cast('1998-05-08' as date)\n",
    " \t\t\t\tand (cast('1998-05-08' as date) + INTERVAL 30 days)\n",
    " group by i_item_id\n",
    "         ,i_item_desc\n",
    "         ,i_category\n",
    "         ,i_class\n",
    "         ,i_current_price\n",
    " order by i_category\n",
    "         ,i_class\n",
    "         ,i_item_id\n",
    "         ,i_item_desc\n",
    "         ,revenueratio\n",
    "limit 100"
   ]
  },
  {
   "cell_type": "code",
   "execution_count": 49,
   "id": "6b8a0d25-b9b2-4044-a6f3-f0c5a30ffcd9",
   "metadata": {
    "execution": {
     "iopub.execute_input": "2024-01-20T17:16:31.593442Z",
     "iopub.status.busy": "2024-01-20T17:16:31.593107Z",
     "iopub.status.idle": "2024-01-20T17:17:09.132176Z",
     "shell.execute_reply": "2024-01-20T17:17:09.131113Z",
     "shell.execute_reply.started": "2024-01-20T17:16:31.593396Z"
    }
   },
   "outputs": [
    {
     "data": {
      "application/vnd.jupyter.widget-view+json": {
       "model_id": "",
       "version_major": 2,
       "version_minor": 0
      },
      "text/plain": [
       "FloatProgress(value=0.0, bar_style='info', description='Progress:', layout=Layout(height='25px', width='50%'),…"
      ]
     },
     "metadata": {},
     "output_type": "display_data"
    },
    {
     "data": {
      "application/vnd.jupyter.widget-view+json": {
       "model_id": "433d3dad61f84623ae9ee9acb149b4b4",
       "version_major": 2,
       "version_minor": 0
      },
      "text/plain": [
       "VBox(children=(HBox(children=(HTML(value='Type:'), Button(description='Table', layout=Layout(width='70px'), st…"
      ]
     },
     "metadata": {},
     "output_type": "display_data"
    },
    {
     "data": {
      "application/vnd.jupyter.widget-view+json": {
       "model_id": "ef333cae83c8400a8ae899014f89430e",
       "version_major": 2,
       "version_minor": 0
      },
      "text/plain": [
       "Output()"
      ]
     },
     "metadata": {},
     "output_type": "display_data"
    }
   ],
   "source": [
    "%%sql\n",
    "--q21\n",
    "\n",
    "select  *\n",
    " from(select w_warehouse_name\n",
    "            ,i_item_id\n",
    "            ,sum(case when (cast(d_date as date) < cast ('2000-05-22' as date))\n",
    "\t                then inv_quantity_on_hand\n",
    "                      else 0 end) as inv_before\n",
    "            ,sum(case when (cast(d_date as date) >= cast ('2000-05-22' as date))\n",
    "                      then inv_quantity_on_hand\n",
    "                      else 0 end) as inv_after\n",
    "   from dev.iceberg100.inventory\n",
    "       ,dev.iceberg100.warehouse\n",
    "       ,dev.iceberg100.item\n",
    "       ,dev.iceberg100.date_dim\n",
    "   where i_current_price between 0.99 and 1.49\n",
    "     and i_item_sk          = inv_item_sk\n",
    "     and inv_warehouse_sk   = w_warehouse_sk\n",
    "     and inv_date_sk    = d_date_sk\n",
    "     and d_date between (cast ('2000-05-22' as date) - INTERVAL 30 days)\n",
    "                    and (cast ('2000-05-22' as date) + INTERVAL 30 days)\n",
    "   group by w_warehouse_name, i_item_id) x\n",
    " where (case when inv_before > 0\n",
    "             then inv_after / inv_before\n",
    "             else null\n",
    "             end) between 2.0/3.0 and 3.0/2.0\n",
    " order by w_warehouse_name\n",
    "         ,i_item_id\n",
    " limit 100"
   ]
  },
  {
   "cell_type": "code",
   "execution_count": 50,
   "id": "f28e3c1d-0298-4606-8e36-bb7f31579acf",
   "metadata": {
    "execution": {
     "iopub.execute_input": "2024-01-20T17:17:09.134282Z",
     "iopub.status.busy": "2024-01-20T17:17:09.133948Z",
     "iopub.status.idle": "2024-01-20T17:17:58.722267Z",
     "shell.execute_reply": "2024-01-20T17:17:58.721129Z",
     "shell.execute_reply.started": "2024-01-20T17:17:09.134233Z"
    }
   },
   "outputs": [
    {
     "data": {
      "application/vnd.jupyter.widget-view+json": {
       "model_id": "",
       "version_major": 2,
       "version_minor": 0
      },
      "text/plain": [
       "FloatProgress(value=0.0, bar_style='info', description='Progress:', layout=Layout(height='25px', width='50%'),…"
      ]
     },
     "metadata": {},
     "output_type": "display_data"
    },
    {
     "data": {
      "application/vnd.jupyter.widget-view+json": {
       "model_id": "d92814bcbb0548bd990c1c3be5e6ea6c",
       "version_major": 2,
       "version_minor": 0
      },
      "text/plain": [
       "VBox(children=(HBox(children=(HTML(value='Type:'), Button(description='Table', layout=Layout(width='70px'), st…"
      ]
     },
     "metadata": {},
     "output_type": "display_data"
    },
    {
     "data": {
      "application/vnd.jupyter.widget-view+json": {
       "model_id": "31248d3d420d48c194dc0e66529ccc43",
       "version_major": 2,
       "version_minor": 0
      },
      "text/plain": [
       "Output()"
      ]
     },
     "metadata": {},
     "output_type": "display_data"
    }
   ],
   "source": [
    "%%sql\n",
    "--q22\n",
    "\n",
    "select  i_product_name\n",
    "             ,i_brand\n",
    "             ,i_class\n",
    "             ,i_category\n",
    "             ,avg(inv_quantity_on_hand) qoh\n",
    "       from dev.iceberg100.inventory\n",
    "           ,dev.iceberg100.date_dim\n",
    "           ,dev.iceberg100.item\n",
    "       where inv_date_sk=d_date_sk\n",
    "              and inv_item_sk=i_item_sk\n",
    "              and d_month_seq between 1199 and 1199 + 11\n",
    "       group by rollup(i_product_name\n",
    "                       ,i_brand\n",
    "                       ,i_class\n",
    "                       ,i_category)\n",
    "order by qoh, i_product_name, i_brand, i_class, i_category\n",
    "limit 100"
   ]
  },
  {
   "cell_type": "code",
   "execution_count": 51,
   "id": "f2df75ae-bf00-4476-a4b8-8d58624bca90",
   "metadata": {
    "execution": {
     "iopub.execute_input": "2024-01-20T17:17:58.723772Z",
     "iopub.status.busy": "2024-01-20T17:17:58.723549Z",
     "iopub.status.idle": "2024-01-20T17:27:16.031533Z",
     "shell.execute_reply": "2024-01-20T17:27:16.030450Z",
     "shell.execute_reply.started": "2024-01-20T17:17:58.723731Z"
    }
   },
   "outputs": [
    {
     "data": {
      "application/vnd.jupyter.widget-view+json": {
       "model_id": "",
       "version_major": 2,
       "version_minor": 0
      },
      "text/plain": [
       "FloatProgress(value=0.0, bar_style='info', description='Progress:', layout=Layout(height='25px', width='50%'),…"
      ]
     },
     "metadata": {},
     "output_type": "display_data"
    },
    {
     "data": {
      "application/vnd.jupyter.widget-view+json": {
       "model_id": "222464fef95a4b33a58dca3e596ad328",
       "version_major": 2,
       "version_minor": 0
      },
      "text/plain": [
       "VBox(children=(HBox(children=(HTML(value='Type:'), Button(description='Table', layout=Layout(width='70px'), st…"
      ]
     },
     "metadata": {},
     "output_type": "display_data"
    },
    {
     "data": {
      "application/vnd.jupyter.widget-view+json": {
       "model_id": "62a98842ea0d4a7e8b41b3115d36ed84",
       "version_major": 2,
       "version_minor": 0
      },
      "text/plain": [
       "Output()"
      ]
     },
     "metadata": {},
     "output_type": "display_data"
    }
   ],
   "source": [
    "%%sql\n",
    "--q23\n",
    "\n",
    "with frequent_ss_items as\n",
    " (select substr(i_item_desc,1,30) itemdesc,i_item_sk item_sk,d_date solddate,count(*) cnt\n",
    "  from dev.iceberg100.store_sales\n",
    "      ,dev.iceberg100.date_dim\n",
    "      ,dev.iceberg100.item\n",
    "  where ss_sold_date_sk = d_date_sk\n",
    "    and ss_item_sk = i_item_sk\n",
    "    and d_year in (2000,2000+1,2000+2,2000+3)\n",
    "  group by substr(i_item_desc,1,30),i_item_sk,d_date\n",
    "  having count(*) >4),\n",
    " max_store_sales as\n",
    " (select max(csales) tpcds_cmax\n",
    "  from (select c_customer_sk,sum(ss_quantity*ss_sales_price) csales\n",
    "        from dev.iceberg100.store_sales\n",
    "            ,dev.iceberg100.customer\n",
    "            ,dev.iceberg100.date_dim\n",
    "        where ss_customer_sk = c_customer_sk\n",
    "         and ss_sold_date_sk = d_date_sk\n",
    "         and d_year in (2000,2000+1,2000+2,2000+3)\n",
    "        group by c_customer_sk)),\n",
    " best_ss_customer as\n",
    " (select c_customer_sk,sum(ss_quantity*ss_sales_price) ssales\n",
    "  from dev.iceberg100.store_sales\n",
    "      ,dev.iceberg100.customer\n",
    "  where ss_customer_sk = c_customer_sk\n",
    "  group by c_customer_sk\n",
    "  having sum(ss_quantity*ss_sales_price) > (95/100.0) * (select\n",
    "  *\n",
    "from\n",
    " max_store_sales))\n",
    "  select  sum(sales)\n",
    " from (select cs_quantity*cs_list_price sales\n",
    "       from dev.iceberg100.catalog_sales\n",
    "           ,dev.iceberg100.date_dim\n",
    "       where d_year = 2000\n",
    "         and d_moy = 5\n",
    "         and cs_sold_date_sk = d_date_sk\n",
    "         and cs_item_sk in (select item_sk from frequent_ss_items)\n",
    "         and cs_bill_customer_sk in (select c_customer_sk from best_ss_customer)\n",
    "      union all\n",
    "      select ws_quantity*ws_list_price sales\n",
    "       from dev.iceberg100.web_sales\n",
    "           ,dev.iceberg100.date_dim\n",
    "       where d_year = 2000\n",
    "         and d_moy = 5\n",
    "         and ws_sold_date_sk = d_date_sk\n",
    "         and ws_item_sk in (select item_sk from frequent_ss_items)\n",
    "         and ws_bill_customer_sk in (select c_customer_sk from best_ss_customer))\n",
    " limit 100"
   ]
  },
  {
   "cell_type": "code",
   "execution_count": 52,
   "id": "e91b19d8-acbe-4182-bea1-f1574b5978f8",
   "metadata": {
    "execution": {
     "iopub.execute_input": "2024-01-20T17:27:16.033431Z",
     "iopub.status.busy": "2024-01-20T17:27:16.033179Z",
     "iopub.status.idle": "2024-01-20T17:29:51.896893Z",
     "shell.execute_reply": "2024-01-20T17:29:51.895781Z",
     "shell.execute_reply.started": "2024-01-20T17:27:16.033396Z"
    }
   },
   "outputs": [
    {
     "data": {
      "application/vnd.jupyter.widget-view+json": {
       "model_id": "",
       "version_major": 2,
       "version_minor": 0
      },
      "text/plain": [
       "FloatProgress(value=0.0, bar_style='info', description='Progress:', layout=Layout(height='25px', width='50%'),…"
      ]
     },
     "metadata": {},
     "output_type": "display_data"
    },
    {
     "data": {
      "application/vnd.jupyter.widget-view+json": {
       "model_id": "edfe96940e5c458b8bb110d4f0b0eda3",
       "version_major": 2,
       "version_minor": 0
      },
      "text/plain": [
       "VBox(children=(HBox(children=(HTML(value='Type:'), Button(description='Table', layout=Layout(width='70px'), st…"
      ]
     },
     "metadata": {},
     "output_type": "display_data"
    },
    {
     "data": {
      "application/vnd.jupyter.widget-view+json": {
       "model_id": "0bdb57a714ea4d93a02fa04a44436b90",
       "version_major": 2,
       "version_minor": 0
      },
      "text/plain": [
       "Output()"
      ]
     },
     "metadata": {},
     "output_type": "display_data"
    }
   ],
   "source": [
    "%%sql\n",
    "--q24\n",
    "\n",
    "with ssales as\n",
    "(select c_last_name\n",
    "      ,c_first_name\n",
    "      ,s_store_name\n",
    "      ,ca_state\n",
    "      ,s_state\n",
    "      ,i_color\n",
    "      ,i_current_price\n",
    "      ,i_manager_id\n",
    "      ,i_units\n",
    "      ,i_size\n",
    "      ,sum(ss_net_paid_inc_tax) netpaid\n",
    "from dev.iceberg100.store_sales\n",
    "    ,dev.iceberg100.store_returns\n",
    "    ,dev.iceberg100.store\n",
    "    ,dev.iceberg100.item\n",
    "    ,dev.iceberg100.customer\n",
    "    ,dev.iceberg100.customer_address\n",
    "where ss_ticket_number = sr_ticket_number\n",
    "  and ss_item_sk = sr_item_sk\n",
    "  and ss_customer_sk = c_customer_sk\n",
    "  and ss_item_sk = i_item_sk\n",
    "  and ss_store_sk = s_store_sk\n",
    "  and c_current_addr_sk = ca_address_sk\n",
    "  and c_birth_country <> upper(ca_country)\n",
    "  and s_zip = ca_zip\n",
    "and s_market_id=10\n",
    "group by c_last_name\n",
    "        ,c_first_name\n",
    "        ,s_store_name\n",
    "        ,ca_state\n",
    "        ,s_state\n",
    "        ,i_color\n",
    "        ,i_current_price\n",
    "        ,i_manager_id\n",
    "        ,i_units\n",
    "        ,i_size)\n",
    "select c_last_name\n",
    "      ,c_first_name\n",
    "      ,s_store_name\n",
    "      ,sum(netpaid) paid\n",
    "from ssales\n",
    "where i_color = 'navy'\n",
    "group by c_last_name\n",
    "        ,c_first_name\n",
    "        ,s_store_name\n",
    "having sum(netpaid) > (select 0.05*avg(netpaid)\n",
    "                                 from ssales)\n",
    "order by c_last_name\n",
    "        ,c_first_name\n",
    "        ,s_store_name"
   ]
  },
  {
   "cell_type": "code",
   "execution_count": 53,
   "id": "68ed9bfb-2d28-4267-bded-b8e80a57df77",
   "metadata": {
    "execution": {
     "iopub.execute_input": "2024-01-20T17:29:51.898883Z",
     "iopub.status.busy": "2024-01-20T17:29:51.898526Z",
     "iopub.status.idle": "2024-01-20T17:33:01.936973Z",
     "shell.execute_reply": "2024-01-20T17:33:01.935988Z",
     "shell.execute_reply.started": "2024-01-20T17:29:51.898838Z"
    }
   },
   "outputs": [
    {
     "data": {
      "application/vnd.jupyter.widget-view+json": {
       "model_id": "",
       "version_major": 2,
       "version_minor": 0
      },
      "text/plain": [
       "FloatProgress(value=0.0, bar_style='info', description='Progress:', layout=Layout(height='25px', width='50%'),…"
      ]
     },
     "metadata": {},
     "output_type": "display_data"
    },
    {
     "data": {
      "application/vnd.jupyter.widget-view+json": {
       "model_id": "3a085183afab497494472963b15e62ab",
       "version_major": 2,
       "version_minor": 0
      },
      "text/plain": [
       "VBox(children=(HBox(children=(HTML(value='Type:'), Button(description='Table', layout=Layout(width='70px'), st…"
      ]
     },
     "metadata": {},
     "output_type": "display_data"
    },
    {
     "data": {
      "application/vnd.jupyter.widget-view+json": {
       "model_id": "9e8a033b5bda4bd6b899c1da246d0d92",
       "version_major": 2,
       "version_minor": 0
      },
      "text/plain": [
       "Output()"
      ]
     },
     "metadata": {},
     "output_type": "display_data"
    }
   ],
   "source": [
    "%%sql\n",
    "--q25\n",
    "\n",
    "select\n",
    " i_item_id\n",
    " ,i_item_desc\n",
    " ,s_store_id\n",
    " ,s_store_name\n",
    " ,sum(ss_net_profit) as store_sales_profit\n",
    " ,sum(sr_net_loss) as store_returns_loss\n",
    " ,sum(cs_net_profit) as catalog_sales_profit\n",
    " from\n",
    " dev.iceberg100.store_sales\n",
    " ,dev.iceberg100.store_returns\n",
    " ,dev.iceberg100.catalog_sales\n",
    " ,dev.iceberg100.date_dim d1\n",
    " ,dev.iceberg100.date_dim d2\n",
    " ,dev.iceberg100.date_dim d3\n",
    " ,dev.iceberg100.store\n",
    " ,dev.iceberg100.item\n",
    " where\n",
    " d1.d_moy = 4\n",
    " and d1.d_year = 2002\n",
    " and d1.d_date_sk = ss_sold_date_sk\n",
    " and i_item_sk = ss_item_sk\n",
    " and s_store_sk = ss_store_sk\n",
    " and ss_customer_sk = sr_customer_sk\n",
    " and ss_item_sk = sr_item_sk\n",
    " and ss_ticket_number = sr_ticket_number\n",
    " and sr_returned_date_sk = d2.d_date_sk\n",
    " and d2.d_moy               between 4 and  10\n",
    " and d2.d_year              = 2002\n",
    " and sr_customer_sk = cs_bill_customer_sk\n",
    " and sr_item_sk = cs_item_sk\n",
    " and cs_sold_date_sk = d3.d_date_sk\n",
    " and d3.d_moy               between 4 and  10\n",
    " and d3.d_year              = 2002\n",
    " group by\n",
    " i_item_id\n",
    " ,i_item_desc\n",
    " ,s_store_id\n",
    " ,s_store_name\n",
    " order by\n",
    " i_item_id\n",
    " ,i_item_desc\n",
    " ,s_store_id\n",
    " ,s_store_name\n",
    " limit 100"
   ]
  },
  {
   "cell_type": "code",
   "execution_count": 54,
   "id": "180a8534-7e98-47c0-82e0-58a07c08b5a2",
   "metadata": {
    "execution": {
     "iopub.execute_input": "2024-01-20T17:33:01.938587Z",
     "iopub.status.busy": "2024-01-20T17:33:01.938361Z",
     "iopub.status.idle": "2024-01-20T17:33:57.549842Z",
     "shell.execute_reply": "2024-01-20T17:33:57.548112Z",
     "shell.execute_reply.started": "2024-01-20T17:33:01.938556Z"
    }
   },
   "outputs": [
    {
     "data": {
      "application/vnd.jupyter.widget-view+json": {
       "model_id": "",
       "version_major": 2,
       "version_minor": 0
      },
      "text/plain": [
       "FloatProgress(value=0.0, bar_style='info', description='Progress:', layout=Layout(height='25px', width='50%'),…"
      ]
     },
     "metadata": {},
     "output_type": "display_data"
    },
    {
     "data": {
      "application/vnd.jupyter.widget-view+json": {
       "model_id": "23a62aed77f844338488c0fbd236c43b",
       "version_major": 2,
       "version_minor": 0
      },
      "text/plain": [
       "VBox(children=(HBox(children=(HTML(value='Type:'), Button(description='Table', layout=Layout(width='70px'), st…"
      ]
     },
     "metadata": {},
     "output_type": "display_data"
    },
    {
     "data": {
      "application/vnd.jupyter.widget-view+json": {
       "model_id": "448147631cee42778bfc090602681eae",
       "version_major": 2,
       "version_minor": 0
      },
      "text/plain": [
       "Output()"
      ]
     },
     "metadata": {},
     "output_type": "display_data"
    }
   ],
   "source": [
    "%%sql\n",
    "--q26\n",
    "\n",
    "select  i_item_id,\n",
    "        avg(cs_quantity) agg1,\n",
    "        avg(cs_list_price) agg2,\n",
    "        avg(cs_coupon_amt) agg3,\n",
    "        avg(cs_sales_price) agg4\n",
    " from dev.iceberg100.catalog_sales, dev.iceberg100.customer_demographics, dev.iceberg100.date_dim, dev.iceberg100.item, dev.iceberg100.promotion\n",
    " where cs_sold_date_sk = d_date_sk and\n",
    "       cs_item_sk = i_item_sk and\n",
    "       cs_bill_cdemo_sk = cd_demo_sk and\n",
    "       cs_promo_sk = p_promo_sk and\n",
    "       cd_gender = 'F' and\n",
    "       cd_marital_status = 'M' and\n",
    "       cd_education_status = '2 yr Degree' and\n",
    "       (p_channel_email = 'N' or p_channel_event = 'N') and\n",
    "       d_year = 2002\n",
    " group by i_item_id\n",
    " order by i_item_id\n",
    " limit 100"
   ]
  },
  {
   "cell_type": "code",
   "execution_count": 55,
   "id": "000fea1d-6a08-488d-9cdd-e0439b1b3feb",
   "metadata": {
    "execution": {
     "iopub.execute_input": "2024-01-20T17:33:57.552906Z",
     "iopub.status.busy": "2024-01-20T17:33:57.552497Z",
     "iopub.status.idle": "2024-01-20T17:35:21.325687Z",
     "shell.execute_reply": "2024-01-20T17:35:21.324513Z",
     "shell.execute_reply.started": "2024-01-20T17:33:57.552848Z"
    }
   },
   "outputs": [
    {
     "data": {
      "application/vnd.jupyter.widget-view+json": {
       "model_id": "",
       "version_major": 2,
       "version_minor": 0
      },
      "text/plain": [
       "FloatProgress(value=0.0, bar_style='info', description='Progress:', layout=Layout(height='25px', width='50%'),…"
      ]
     },
     "metadata": {},
     "output_type": "display_data"
    },
    {
     "data": {
      "application/vnd.jupyter.widget-view+json": {
       "model_id": "226e465d3c9647e98cfe9427b31b120d",
       "version_major": 2,
       "version_minor": 0
      },
      "text/plain": [
       "VBox(children=(HBox(children=(HTML(value='Type:'), Button(description='Table', layout=Layout(width='70px'), st…"
      ]
     },
     "metadata": {},
     "output_type": "display_data"
    },
    {
     "data": {
      "application/vnd.jupyter.widget-view+json": {
       "model_id": "3f16dd76a5cb4d35aeb878db033d2724",
       "version_major": 2,
       "version_minor": 0
      },
      "text/plain": [
       "Output()"
      ]
     },
     "metadata": {},
     "output_type": "display_data"
    }
   ],
   "source": [
    "%%sql\n",
    "--q27\n",
    "\n",
    "select  i_item_id,\n",
    "        s_state, grouping(s_state) g_state,\n",
    "        avg(ss_quantity) agg1,\n",
    "        avg(ss_list_price) agg2,\n",
    "        avg(ss_coupon_amt) agg3,\n",
    "        avg(ss_sales_price) agg4\n",
    " from dev.iceberg100.store_sales, dev.iceberg100.customer_demographics, dev.iceberg100.date_dim, dev.iceberg100.store, dev.iceberg100.item\n",
    " where ss_sold_date_sk = d_date_sk and\n",
    "       ss_item_sk = i_item_sk and\n",
    "       ss_store_sk = s_store_sk and\n",
    "       ss_cdemo_sk = cd_demo_sk and\n",
    "       cd_gender = 'F' and\n",
    "       cd_marital_status = 'S' and\n",
    "       cd_education_status = 'Advanced Degree' and\n",
    "       d_year = 2000 and\n",
    "       (s_state like 'WA' or s_state like 'LA' or s_state like 'LA' or s_state like 'TX' or s_state like 'AL' or s_state like 'PA')\n",
    " group by rollup (i_item_id, s_state)\n",
    " order by i_item_id\n",
    "         ,s_state\n",
    " limit 100"
   ]
  },
  {
   "cell_type": "code",
   "execution_count": 56,
   "id": "de686ea6-1a76-4c61-a10f-9cb28048f262",
   "metadata": {
    "execution": {
     "iopub.execute_input": "2024-01-20T17:35:21.328138Z",
     "iopub.status.busy": "2024-01-20T17:35:21.327515Z",
     "iopub.status.idle": "2024-01-20T17:40:19.549215Z",
     "shell.execute_reply": "2024-01-20T17:40:19.548158Z",
     "shell.execute_reply.started": "2024-01-20T17:35:21.328085Z"
    }
   },
   "outputs": [
    {
     "data": {
      "application/vnd.jupyter.widget-view+json": {
       "model_id": "",
       "version_major": 2,
       "version_minor": 0
      },
      "text/plain": [
       "FloatProgress(value=0.0, bar_style='info', description='Progress:', layout=Layout(height='25px', width='50%'),…"
      ]
     },
     "metadata": {},
     "output_type": "display_data"
    },
    {
     "data": {
      "application/vnd.jupyter.widget-view+json": {
       "model_id": "473c8448ac884005b60a28f578767108",
       "version_major": 2,
       "version_minor": 0
      },
      "text/plain": [
       "VBox(children=(HBox(children=(HTML(value='Type:'), Button(description='Table', layout=Layout(width='70px'), st…"
      ]
     },
     "metadata": {},
     "output_type": "display_data"
    },
    {
     "data": {
      "application/vnd.jupyter.widget-view+json": {
       "model_id": "e78a0e66cc0c45f2828225b1314905ac",
       "version_major": 2,
       "version_minor": 0
      },
      "text/plain": [
       "Output()"
      ]
     },
     "metadata": {},
     "output_type": "display_data"
    }
   ],
   "source": [
    "%%sql\n",
    "--q28\n",
    "\n",
    "select  *\n",
    "from (select avg(ss_list_price) B1_LP\n",
    "            ,count(ss_list_price) B1_CNT\n",
    "            ,count(distinct ss_list_price) B1_CNTD\n",
    "      from dev.iceberg100.store_sales\n",
    "      where ss_quantity between 0 and 5\n",
    "        and (ss_list_price between 189 and 189+10\n",
    "             or ss_coupon_amt between 4483 and 4483+1000\n",
    "             or ss_wholesale_cost between 24 and 24+20)) B1,\n",
    "     (select avg(ss_list_price) B2_LP\n",
    "            ,count(ss_list_price) B2_CNT\n",
    "            ,count(distinct ss_list_price) B2_CNTD\n",
    "      from dev.iceberg100.store_sales\n",
    "      where ss_quantity between 6 and 10\n",
    "        and (ss_list_price between 71 and 71+10\n",
    "          or ss_coupon_amt between 14775 and 14775+1000\n",
    "          or ss_wholesale_cost between 38 and 38+20)) B2,\n",
    "     (select avg(ss_list_price) B3_LP\n",
    "            ,count(ss_list_price) B3_CNT\n",
    "            ,count(distinct ss_list_price) B3_CNTD\n",
    "      from dev.iceberg100.store_sales\n",
    "      where ss_quantity between 11 and 15\n",
    "        and (ss_list_price between 183 and 183+10\n",
    "          or ss_coupon_amt between 13456 and 13456+1000\n",
    "          or ss_wholesale_cost between 31 and 31+20)) B3,\n",
    "     (select avg(ss_list_price) B4_LP\n",
    "            ,count(ss_list_price) B4_CNT\n",
    "            ,count(distinct ss_list_price) B4_CNTD\n",
    "      from dev.iceberg100.store_sales\n",
    "      where ss_quantity between 16 and 20\n",
    "        and (ss_list_price between 135 and 135+10\n",
    "          or ss_coupon_amt between 4905 and 4905+1000\n",
    "          or ss_wholesale_cost between 27 and 27+20)) B4,\n",
    "     (select avg(ss_list_price) B5_LP\n",
    "            ,count(ss_list_price) B5_CNT\n",
    "            ,count(distinct ss_list_price) B5_CNTD\n",
    "      from dev.iceberg100.store_sales\n",
    "      where ss_quantity between 21 and 25\n",
    "        and (ss_list_price between 180 and 180+10\n",
    "          or ss_coupon_amt between 17430 and 17430+1000\n",
    "          or ss_wholesale_cost between 57 and 57+20)) B5,\n",
    "     (select avg(ss_list_price) B6_LP\n",
    "            ,count(ss_list_price) B6_CNT\n",
    "            ,count(distinct ss_list_price) B6_CNTD\n",
    "      from dev.iceberg100.store_sales\n",
    "      where ss_quantity between 26 and 30\n",
    "        and (ss_list_price between 49 and 49+10\n",
    "          or ss_coupon_amt between 2950 and 2950+1000\n",
    "          or ss_wholesale_cost between 52 and 52+20)) B6\n",
    "limit 100"
   ]
  },
  {
   "cell_type": "code",
   "execution_count": 57,
   "id": "888cd5c6-2937-435e-82c2-869d79e44a77",
   "metadata": {
    "execution": {
     "iopub.execute_input": "2024-01-20T17:40:19.551221Z",
     "iopub.status.busy": "2024-01-20T17:40:19.550905Z",
     "iopub.status.idle": "2024-01-20T17:43:35.645184Z",
     "shell.execute_reply": "2024-01-20T17:43:35.644189Z",
     "shell.execute_reply.started": "2024-01-20T17:40:19.551176Z"
    }
   },
   "outputs": [
    {
     "data": {
      "application/vnd.jupyter.widget-view+json": {
       "model_id": "",
       "version_major": 2,
       "version_minor": 0
      },
      "text/plain": [
       "FloatProgress(value=0.0, bar_style='info', description='Progress:', layout=Layout(height='25px', width='50%'),…"
      ]
     },
     "metadata": {},
     "output_type": "display_data"
    },
    {
     "data": {
      "application/vnd.jupyter.widget-view+json": {
       "model_id": "8195a59d60744a0ea7f528a0eb93ce20",
       "version_major": 2,
       "version_minor": 0
      },
      "text/plain": [
       "VBox(children=(HBox(children=(HTML(value='Type:'), Button(description='Table', layout=Layout(width='70px'), st…"
      ]
     },
     "metadata": {},
     "output_type": "display_data"
    },
    {
     "data": {
      "application/vnd.jupyter.widget-view+json": {
       "model_id": "2c3624033e614a5da7ac5cf104489b08",
       "version_major": 2,
       "version_minor": 0
      },
      "text/plain": [
       "Output()"
      ]
     },
     "metadata": {},
     "output_type": "display_data"
    }
   ],
   "source": [
    "%%sql\n",
    "--q29\n",
    "\n",
    "select\n",
    "     i_item_id\n",
    "    ,i_item_desc\n",
    "    ,s_store_id\n",
    "    ,s_store_name\n",
    "    ,stddev_samp(ss_quantity)        as store_sales_quantity\n",
    "    ,stddev_samp(sr_return_quantity) as store_returns_quantity\n",
    "    ,stddev_samp(cs_quantity)        as catalog_sales_quantity\n",
    " from\n",
    "    dev.iceberg100.store_sales\n",
    "   ,dev.iceberg100.store_returns\n",
    "   ,dev.iceberg100.catalog_sales\n",
    "   ,dev.iceberg100.date_dim             d1\n",
    "   ,dev.iceberg100.date_dim             d2\n",
    "   ,dev.iceberg100.date_dim             d3\n",
    "   ,dev.iceberg100.store\n",
    "   ,dev.iceberg100.item\n",
    " where\n",
    "     d1.d_moy               = 4\n",
    " and d1.d_year              = 1998\n",
    " and d1.d_date_sk           = ss_sold_date_sk\n",
    " and i_item_sk              = ss_item_sk\n",
    " and s_store_sk             = ss_store_sk\n",
    " and ss_customer_sk         = sr_customer_sk\n",
    " and ss_item_sk             = sr_item_sk\n",
    " and ss_ticket_number       = sr_ticket_number\n",
    " and sr_returned_date_sk    = d2.d_date_sk\n",
    " and d2.d_moy               between 4 and  4 + 3\n",
    " and d2.d_year              = 1998\n",
    " and sr_customer_sk         = cs_bill_customer_sk\n",
    " and sr_item_sk             = cs_item_sk\n",
    " and cs_sold_date_sk        = d3.d_date_sk\n",
    " and d3.d_year              in (1998,1998+1,1998+2)\n",
    " group by\n",
    "    i_item_id\n",
    "   ,i_item_desc\n",
    "   ,s_store_id\n",
    "   ,s_store_name\n",
    " order by\n",
    "    i_item_id\n",
    "   ,i_item_desc\n",
    "   ,s_store_id\n",
    "   ,s_store_name\n",
    " limit 100"
   ]
  },
  {
   "cell_type": "code",
   "execution_count": 12,
   "id": "16c223bc-0e5e-4f91-8471-64ff3010002d",
   "metadata": {
    "execution": {
     "iopub.execute_input": "2024-01-20T23:09:25.064795Z",
     "iopub.status.busy": "2024-01-20T23:09:25.064541Z",
     "iopub.status.idle": "2024-01-20T23:09:27.466956Z",
     "shell.execute_reply": "2024-01-20T23:09:27.465958Z",
     "shell.execute_reply.started": "2024-01-20T23:09:25.064763Z"
    },
    "tags": []
   },
   "outputs": [
    {
     "data": {
      "application/vnd.jupyter.widget-view+json": {
       "model_id": "",
       "version_major": 2,
       "version_minor": 0
      },
      "text/plain": [
       "FloatProgress(value=0.0, bar_style='info', description='Progress:', layout=Layout(height='25px', width='50%'),…"
      ]
     },
     "metadata": {},
     "output_type": "display_data"
    },
    {
     "data": {
      "application/vnd.jupyter.widget-view+json": {
       "model_id": "237410007b8e470584b8f3e1b730a4b7",
       "version_major": 2,
       "version_minor": 0
      },
      "text/plain": [
       "VBox(children=(HBox(children=(HTML(value='Type:'), Button(description='Table', layout=Layout(width='70px'), st…"
      ]
     },
     "metadata": {},
     "output_type": "display_data"
    },
    {
     "data": {
      "application/vnd.jupyter.widget-view+json": {
       "model_id": "b9068be764ef4589823373c359902af4",
       "version_major": 2,
       "version_minor": 0
      },
      "text/plain": [
       "Output()"
      ]
     },
     "metadata": {},
     "output_type": "display_data"
    }
   ],
   "source": [
    "%%sql\n",
    "--q30\n",
    "\n",
    "with customer_total_return as\n",
    " (select wr_returning_customer_sk as ctr_customer_sk\n",
    "        ,ca_state as ctr_state,\n",
    " \tsum(wr_return_amt) as ctr_total_return\n",
    " from dev.iceberg100.web_returns\n",
    "     ,dev.iceberg100.date_dim\n",
    "     ,dev.iceberg100.customer_address\n",
    " where wr_returned_date_sk = d_date_sk\n",
    "   and d_year =2000\n",
    "   and wr_returning_addr_sk = ca_address_sk\n",
    " group by wr_returning_customer_sk\n",
    "         ,ca_state)\n",
    "  select  c_customer_id,c_salutation,c_first_name,c_last_name,c_preferred_cust_flag\n",
    "       ,c_birth_day,c_birth_month,c_birth_year,c_birth_country,c_login,c_email_address\n",
    "       ,c_last_review_date_sk,ctr_total_return\n",
    " from customer_total_return ctr1\n",
    "     ,dev.iceberg100.customer_address\n",
    "     ,dev.iceberg100.customer\n",
    " where ctr1.ctr_total_return > (select avg(ctr_total_return)*1.2\n",
    " \t\t\t  from customer_total_return ctr2\n",
    "                  \t  where ctr1.ctr_state = ctr2.ctr_state)\n",
    "       and ca_address_sk = c_current_addr_sk\n",
    "       and ca_state = 'GA'\n",
    "       and ctr1.ctr_customer_sk = c_customer_sk\n",
    " order by c_customer_id,c_salutation,c_first_name,c_last_name,c_preferred_cust_flag\n",
    "                  ,c_birth_day,c_birth_month,c_birth_year,c_birth_country,c_login,c_email_address\n",
    "                  ,c_last_review_date_sk,ctr_total_return\n",
    "limit 100"
   ]
  },
  {
   "cell_type": "code",
   "execution_count": 59,
   "id": "73298df6-05c7-458b-af78-55674ec2f157",
   "metadata": {
    "execution": {
     "iopub.execute_input": "2024-01-20T17:43:36.893812Z",
     "iopub.status.busy": "2024-01-20T17:43:36.893587Z",
     "iopub.status.idle": "2024-01-20T17:46:43.063304Z",
     "shell.execute_reply": "2024-01-20T17:46:43.062279Z",
     "shell.execute_reply.started": "2024-01-20T17:43:36.893781Z"
    }
   },
   "outputs": [
    {
     "data": {
      "application/vnd.jupyter.widget-view+json": {
       "model_id": "",
       "version_major": 2,
       "version_minor": 0
      },
      "text/plain": [
       "FloatProgress(value=0.0, bar_style='info', description='Progress:', layout=Layout(height='25px', width='50%'),…"
      ]
     },
     "metadata": {},
     "output_type": "display_data"
    },
    {
     "data": {
      "application/vnd.jupyter.widget-view+json": {
       "model_id": "6bceba49e20f4508891afd4d51713fa8",
       "version_major": 2,
       "version_minor": 0
      },
      "text/plain": [
       "VBox(children=(HBox(children=(HTML(value='Type:'), Button(description='Table', layout=Layout(width='70px'), st…"
      ]
     },
     "metadata": {},
     "output_type": "display_data"
    },
    {
     "data": {
      "application/vnd.jupyter.widget-view+json": {
       "model_id": "c7c97d051e1349649bc4f16df2af6c3e",
       "version_major": 2,
       "version_minor": 0
      },
      "text/plain": [
       "Output()"
      ]
     },
     "metadata": {},
     "output_type": "display_data"
    }
   ],
   "source": [
    "%%sql\n",
    "--q31\n",
    "\n",
    "with ss as\n",
    " (select ca_county,d_qoy, d_year,sum(ss_ext_sales_price) as store_sales\n",
    " from dev.iceberg100.store_sales,dev.iceberg100.date_dim,dev.iceberg100.customer_address\n",
    " where ss_sold_date_sk = d_date_sk\n",
    "  and ss_addr_sk=ca_address_sk\n",
    " group by ca_county,d_qoy, d_year),\n",
    " ws as\n",
    " (select ca_county,d_qoy, d_year,sum(ws_ext_sales_price) as web_sales\n",
    " from dev.iceberg100.web_sales,dev.iceberg100.date_dim,dev.iceberg100.customer_address\n",
    " where ws_sold_date_sk = d_date_sk\n",
    "  and ws_bill_addr_sk=ca_address_sk\n",
    " group by ca_county,d_qoy, d_year)\n",
    " select\n",
    "        ss1.ca_county\n",
    "       ,ss1.d_year\n",
    "       ,ws2.web_sales/ws1.web_sales web_q1_q2_increase\n",
    "       ,ss2.store_sales/ss1.store_sales store_q1_q2_increase\n",
    "       ,ws3.web_sales/ws2.web_sales web_q2_q3_increase\n",
    "       ,ss3.store_sales/ss2.store_sales store_q2_q3_increase\n",
    " from\n",
    "        ss ss1\n",
    "       ,ss ss2\n",
    "       ,ss ss3\n",
    "       ,ws ws1\n",
    "       ,ws ws2\n",
    "       ,ws ws3\n",
    " where\n",
    "    ss1.d_qoy = 1\n",
    "    and ss1.d_year = 1998\n",
    "    and ss1.ca_county = ss2.ca_county\n",
    "    and ss2.d_qoy = 2\n",
    "    and ss2.d_year = 1998\n",
    " and ss2.ca_county = ss3.ca_county\n",
    "    and ss3.d_qoy = 3\n",
    "    and ss3.d_year = 1998\n",
    "    and ss1.ca_county = ws1.ca_county\n",
    "    and ws1.d_qoy = 1\n",
    "    and ws1.d_year = 1998\n",
    "    and ws1.ca_county = ws2.ca_county\n",
    "    and ws2.d_qoy = 2\n",
    "    and ws2.d_year = 1998\n",
    "    and ws1.ca_county = ws3.ca_county\n",
    "    and ws3.d_qoy = 3\n",
    "    and ws3.d_year =1998\n",
    "    and case when ws1.web_sales > 0 then ws2.web_sales/ws1.web_sales else null end\n",
    "       > case when ss1.store_sales > 0 then ss2.store_sales/ss1.store_sales else null end\n",
    "    and case when ws2.web_sales > 0 then ws3.web_sales/ws2.web_sales else null end\n",
    "       > case when ss2.store_sales > 0 then ss3.store_sales/ss2.store_sales else null end\n",
    " order by ss1.ca_county"
   ]
  },
  {
   "cell_type": "code",
   "execution_count": 60,
   "id": "9083795b-9d2f-40a1-8099-9d0c1b29379c",
   "metadata": {
    "execution": {
     "iopub.execute_input": "2024-01-20T17:46:43.065418Z",
     "iopub.status.busy": "2024-01-20T17:46:43.065089Z",
     "iopub.status.idle": "2024-01-20T17:47:46.630865Z",
     "shell.execute_reply": "2024-01-20T17:47:46.629868Z",
     "shell.execute_reply.started": "2024-01-20T17:46:43.065368Z"
    }
   },
   "outputs": [
    {
     "data": {
      "application/vnd.jupyter.widget-view+json": {
       "model_id": "",
       "version_major": 2,
       "version_minor": 0
      },
      "text/plain": [
       "FloatProgress(value=0.0, bar_style='info', description='Progress:', layout=Layout(height='25px', width='50%'),…"
      ]
     },
     "metadata": {},
     "output_type": "display_data"
    },
    {
     "data": {
      "application/vnd.jupyter.widget-view+json": {
       "model_id": "727398d3df724095b69fd25b8652ffe9",
       "version_major": 2,
       "version_minor": 0
      },
      "text/plain": [
       "VBox(children=(HBox(children=(HTML(value='Type:'), Button(description='Table', layout=Layout(width='70px'), st…"
      ]
     },
     "metadata": {},
     "output_type": "display_data"
    },
    {
     "data": {
      "application/vnd.jupyter.widget-view+json": {
       "model_id": "bd5e1b9550784f8cb40c013ca51e674b",
       "version_major": 2,
       "version_minor": 0
      },
      "text/plain": [
       "Output()"
      ]
     },
     "metadata": {},
     "output_type": "display_data"
    }
   ],
   "source": [
    "%%sql\n",
    "--q32\n",
    "\n",
    "select  sum(cs_ext_discount_amt)  as `excess discount amount`\n",
    "from\n",
    "   dev.iceberg100.catalog_sales\n",
    "   ,dev.iceberg100.item\n",
    "   ,dev.iceberg100.date_dim\n",
    "where\n",
    "i_manufact_id = 948\n",
    "and i_item_sk = cs_item_sk\n",
    "and d_date between '1998-02-03' and\n",
    "        (cast('1998-02-03' as date) + INTERVAL 90 days)\n",
    "and d_date_sk = cs_sold_date_sk\n",
    "and cs_ext_discount_amt\n",
    "     > (\n",
    "         select\n",
    "            1.3 * avg(cs_ext_discount_amt)\n",
    "         from\n",
    "            dev.iceberg100.catalog_sales\n",
    "           ,dev.iceberg100.date_dim\n",
    "         where\n",
    "              cs_item_sk = i_item_sk\n",
    "          and d_date between '1998-02-03' and\n",
    "                             (cast('1998-02-03' as date) + INTERVAL 90 days)\n",
    "          and d_date_sk = cs_sold_date_sk\n",
    "      )\n",
    "limit 100"
   ]
  },
  {
   "cell_type": "code",
   "execution_count": 61,
   "id": "01d7d06b-2e0c-411c-9339-7a7eb51b645a",
   "metadata": {
    "execution": {
     "iopub.execute_input": "2024-01-20T17:47:46.632442Z",
     "iopub.status.busy": "2024-01-20T17:47:46.632213Z",
     "iopub.status.idle": "2024-01-20T17:49:36.401874Z",
     "shell.execute_reply": "2024-01-20T17:49:36.400755Z",
     "shell.execute_reply.started": "2024-01-20T17:47:46.632412Z"
    }
   },
   "outputs": [
    {
     "data": {
      "application/vnd.jupyter.widget-view+json": {
       "model_id": "",
       "version_major": 2,
       "version_minor": 0
      },
      "text/plain": [
       "FloatProgress(value=0.0, bar_style='info', description='Progress:', layout=Layout(height='25px', width='50%'),…"
      ]
     },
     "metadata": {},
     "output_type": "display_data"
    },
    {
     "data": {
      "application/vnd.jupyter.widget-view+json": {
       "model_id": "546ed1a03c5c4ad8abb5d88bf0a91ec8",
       "version_major": 2,
       "version_minor": 0
      },
      "text/plain": [
       "VBox(children=(HBox(children=(HTML(value='Type:'), Button(description='Table', layout=Layout(width='70px'), st…"
      ]
     },
     "metadata": {},
     "output_type": "display_data"
    },
    {
     "data": {
      "application/vnd.jupyter.widget-view+json": {
       "model_id": "24c7a82ecd064599b0634b95206e61f6",
       "version_major": 2,
       "version_minor": 0
      },
      "text/plain": [
       "Output()"
      ]
     },
     "metadata": {},
     "output_type": "display_data"
    }
   ],
   "source": [
    "%%sql\n",
    "--q33\n",
    "\n",
    "with ss as (\n",
    " select\n",
    "          i_manufact_id,sum(ss_ext_sales_price) total_sales\n",
    " from\n",
    " \tdev.iceberg100.store_sales,\n",
    " \tdev.iceberg100.date_dim,\n",
    "         dev.iceberg100.customer_address,\n",
    "         dev.iceberg100.item\n",
    " where\n",
    "         i_manufact_id in (select\n",
    "  i_manufact_id\n",
    "from\n",
    " dev.iceberg100.item\n",
    "where i_category like 'Electronics')\n",
    " and     ss_item_sk              = i_item_sk\n",
    " and     ss_sold_date_sk         = d_date_sk\n",
    " and     d_year                  = 1999\n",
    " and     d_moy                   = 2\n",
    " and     ss_addr_sk              = ca_address_sk\n",
    " and     ca_gmt_offset           = -6\n",
    " group by i_manufact_id),\n",
    " cs as (\n",
    " select\n",
    "          i_manufact_id,sum(cs_ext_sales_price) total_sales\n",
    " from\n",
    " \tdev.iceberg100.catalog_sales,\n",
    " \tdev.iceberg100.date_dim,\n",
    "         dev.iceberg100.customer_address,\n",
    "         dev.iceberg100.item\n",
    " where\n",
    "         i_manufact_id               in (select\n",
    "  i_manufact_id\n",
    "from\n",
    " dev.iceberg100.item\n",
    "where i_category like 'Electronics')\n",
    " and     cs_item_sk              = i_item_sk\n",
    " and     cs_sold_date_sk         = d_date_sk\n",
    " and     d_year                  = 1999\n",
    " and     d_moy                   = 2\n",
    " and     cs_bill_addr_sk         = ca_address_sk\n",
    " and     ca_gmt_offset           = -6\n",
    " group by i_manufact_id),\n",
    " ws as (\n",
    " select\n",
    "          i_manufact_id,sum(ws_ext_sales_price) total_sales\n",
    " from\n",
    " \tdev.iceberg100.web_sales,\n",
    " \tdev.iceberg100.date_dim,\n",
    "         dev.iceberg100.customer_address,\n",
    "         dev.iceberg100.item\n",
    " where\n",
    "         i_manufact_id               in (select\n",
    "  i_manufact_id\n",
    "from\n",
    " dev.iceberg100.item\n",
    "where i_category like 'Electronics')\n",
    " and     ws_item_sk              = i_item_sk\n",
    " and     ws_sold_date_sk         = d_date_sk\n",
    " and     d_year                  = 1999\n",
    " and     d_moy                   = 2\n",
    " and     ws_bill_addr_sk         = ca_address_sk\n",
    " and     ca_gmt_offset           = -6\n",
    " group by i_manufact_id)\n",
    "  select  i_manufact_id ,sum(total_sales) total_sales\n",
    " from  (select * from ss\n",
    "        union all\n",
    "        select * from cs\n",
    "        union all\n",
    "        select * from ws) tmp1\n",
    " group by i_manufact_id\n",
    " order by total_sales\n",
    "limit 100"
   ]
  },
  {
   "cell_type": "code",
   "execution_count": 14,
   "id": "b6f6fe44-e7f4-4f75-8525-e021f79c17c5",
   "metadata": {
    "execution": {
     "iopub.execute_input": "2024-01-20T23:10:31.409092Z",
     "iopub.status.busy": "2024-01-20T23:10:31.408793Z",
     "iopub.status.idle": "2024-01-20T23:12:01.158477Z",
     "shell.execute_reply": "2024-01-20T23:12:01.157338Z",
     "shell.execute_reply.started": "2024-01-20T23:10:31.409059Z"
    },
    "tags": []
   },
   "outputs": [
    {
     "data": {
      "application/vnd.jupyter.widget-view+json": {
       "model_id": "",
       "version_major": 2,
       "version_minor": 0
      },
      "text/plain": [
       "FloatProgress(value=0.0, bar_style='info', description='Progress:', layout=Layout(height='25px', width='50%'),…"
      ]
     },
     "metadata": {},
     "output_type": "display_data"
    },
    {
     "data": {
      "application/vnd.jupyter.widget-view+json": {
       "model_id": "78b669e9d6e141bbbbf17b22bd9d6b89",
       "version_major": 2,
       "version_minor": 0
      },
      "text/plain": [
       "VBox(children=(HBox(children=(HTML(value='Type:'), Button(description='Table', layout=Layout(width='70px'), st…"
      ]
     },
     "metadata": {},
     "output_type": "display_data"
    },
    {
     "data": {
      "application/vnd.jupyter.widget-view+json": {
       "model_id": "15fdd854660b40989091a5f37797e6e4",
       "version_major": 2,
       "version_minor": 0
      },
      "text/plain": [
       "Output()"
      ]
     },
     "metadata": {},
     "output_type": "display_data"
    }
   ],
   "source": [
    "%%sql\n",
    "--#q34\n",
    "\n",
    "select c_last_name\n",
    "       ,c_first_name\n",
    "       ,c_salutation\n",
    "       ,c_preferred_cust_flag\n",
    "       ,ss_ticket_number\n",
    "       ,cnt from\n",
    "   (select ss_ticket_number\n",
    "          ,ss_customer_sk\n",
    "          ,count(*) cnt\n",
    "    from dev.iceberg100.store_sales,dev.iceberg100.date_dim,dev.iceberg100.store,dev.iceberg100.household_demographics\n",
    "    where dev.iceberg100.store_sales.ss_sold_date_sk = dev.iceberg100.date_dim.d_date_sk\n",
    "    and dev.iceberg100.store_sales.ss_store_sk = dev.iceberg100.store.s_store_sk\n",
    "    and dev.iceberg100.store_sales.ss_hdemo_sk = dev.iceberg100.household_demographics.hd_demo_sk\n",
    "    and (dev.iceberg100.date_dim.d_dom between 1 and 3 or dev.iceberg100.date_dim.d_dom between 25 and 28)\n",
    "    and (dev.iceberg100.household_demographics.hd_buy_potential = '>10000' or\n",
    "         dev.iceberg100.household_demographics.hd_buy_potential = '5001-10000')\n",
    "    and dev.iceberg100.household_demographics.hd_vehicle_count > 0\n",
    "    and (case when dev.iceberg100.household_demographics.hd_vehicle_count > 0\n",
    "\tthen dev.iceberg100.household_demographics.hd_dep_count/ dev.iceberg100.household_demographics.hd_vehicle_count\n",
    "\telse null\n",
    "\tend)  > 1.2\n",
    "    and dev.iceberg100.date_dim.d_year in (1999,1999+1,1999+2)\n",
    "    and (dev.iceberg100.store.s_county like 'Jefferson Davis Parish' or dev.iceberg100.store.s_county like 'Levy County' or dev.iceberg100.store.s_county like 'Coal County' or dev.iceberg100.store.s_county like 'Oglethorpe County' or dev.iceberg100.store.s_county like \n",
    "                           'Mobile County' or dev.iceberg100.store.s_county like 'Gage County' or dev.iceberg100.store.s_county like 'Richland County' or dev.iceberg100.store.s_county like 'Gogebic County')\n",
    "    group by ss_ticket_number,ss_customer_sk) dn,dev.iceberg100.customer\n",
    "    where ss_customer_sk = c_customer_sk\n",
    "      and cnt between 15 and 20\n",
    "    order by c_last_name,c_first_name,c_salutation,c_preferred_cust_flag desc, ss_ticket_number"
   ]
  },
  {
   "cell_type": "code",
   "execution_count": 17,
   "id": "ef7efe18-13fa-493c-a126-e8f2c6ab26bb",
   "metadata": {
    "execution": {
     "iopub.execute_input": "2024-01-20T23:14:37.942969Z",
     "iopub.status.busy": "2024-01-20T23:14:37.942716Z",
     "iopub.status.idle": "2024-01-20T23:20:19.523580Z",
     "shell.execute_reply": "2024-01-20T23:20:19.522414Z",
     "shell.execute_reply.started": "2024-01-20T23:14:37.942937Z"
    },
    "tags": []
   },
   "outputs": [
    {
     "data": {
      "application/vnd.jupyter.widget-view+json": {
       "model_id": "",
       "version_major": 2,
       "version_minor": 0
      },
      "text/plain": [
       "FloatProgress(value=0.0, bar_style='info', description='Progress:', layout=Layout(height='25px', width='50%'),…"
      ]
     },
     "metadata": {},
     "output_type": "display_data"
    },
    {
     "data": {
      "application/vnd.jupyter.widget-view+json": {
       "model_id": "efb058cba43b49398dda2f1fe69acc79",
       "version_major": 2,
       "version_minor": 0
      },
      "text/plain": [
       "VBox(children=(HBox(children=(HTML(value='Type:'), Button(description='Table', layout=Layout(width='70px'), st…"
      ]
     },
     "metadata": {},
     "output_type": "display_data"
    },
    {
     "data": {
      "application/vnd.jupyter.widget-view+json": {
       "model_id": "d74cb62fd6a544f99f6792986edac454",
       "version_major": 2,
       "version_minor": 0
      },
      "text/plain": [
       "Output()"
      ]
     },
     "metadata": {},
     "output_type": "display_data"
    }
   ],
   "source": [
    "%%sql\n",
    "--#q35\n",
    "\n",
    "select\n",
    "  ca_state,\n",
    "  cd_gender,\n",
    "  cd_marital_status,\n",
    "  cd_dep_count,\n",
    "  count(*) cnt1,\n",
    "  stddev_samp(cd_dep_count),\n",
    "  stddev_samp(cd_dep_count),\n",
    "  min(cd_dep_count),\n",
    "  cd_dep_employed_count,\n",
    "  count(*) cnt2,\n",
    "  stddev_samp(cd_dep_employed_count),\n",
    "  stddev_samp(cd_dep_employed_count),\n",
    "  min(cd_dep_employed_count),\n",
    "  cd_dep_college_count,\n",
    "  count(*) cnt3,\n",
    "  stddev_samp(cd_dep_college_count),\n",
    "  stddev_samp(cd_dep_college_count),\n",
    "  min(cd_dep_college_count)\n",
    " from\n",
    "  dev.iceberg100.customer c,dev.iceberg100.customer_address ca,dev.iceberg100.customer_demographics\n",
    " where\n",
    "  c.c_current_addr_sk = ca.ca_address_sk and\n",
    "  cd_demo_sk = c.c_current_cdemo_sk and\n",
    "  exists (select *\n",
    "          from dev.iceberg100.store_sales,dev.iceberg100.date_dim\n",
    "          where c.c_customer_sk = ss_customer_sk and\n",
    "                ss_sold_date_sk = d_date_sk and\n",
    "                d_year = 2002 and\n",
    "                d_qoy < 4) and\n",
    "   (exists (select *\n",
    "            from dev.iceberg100.web_sales,dev.iceberg100.date_dim\n",
    "            where c.c_customer_sk = ws_bill_customer_sk and\n",
    "                  ws_sold_date_sk = d_date_sk and\n",
    "                  d_year = 2002 and\n",
    "                  d_qoy < 4) or\n",
    "    exists (select *\n",
    "            from dev.iceberg100.catalog_sales,dev.iceberg100.date_dim\n",
    "            where c.c_customer_sk = cs_ship_customer_sk and\n",
    "                  cs_sold_date_sk = d_date_sk and\n",
    "                  d_year = 2002 and\n",
    "                  d_qoy < 4))\n",
    " group by ca_state,\n",
    "          cd_gender,\n",
    "          cd_marital_status,\n",
    "          cd_dep_count,\n",
    "          cd_dep_employed_count,\n",
    "          cd_dep_college_count\n",
    " order by ca_state,\n",
    "          cd_gender,\n",
    "          cd_marital_status,\n",
    "          cd_dep_count,\n",
    "          cd_dep_employed_count,\n",
    "          cd_dep_college_count\n",
    " limit 100"
   ]
  },
  {
   "cell_type": "code",
   "execution_count": 18,
   "id": "62d7a230-b87c-43e4-aaf6-5d78c4faee48",
   "metadata": {
    "execution": {
     "iopub.execute_input": "2024-01-20T23:20:19.525533Z",
     "iopub.status.busy": "2024-01-20T23:20:19.525269Z",
     "iopub.status.idle": "2024-01-20T23:21:31.178080Z",
     "shell.execute_reply": "2024-01-20T23:21:31.177089Z",
     "shell.execute_reply.started": "2024-01-20T23:20:19.525497Z"
    }
   },
   "outputs": [
    {
     "data": {
      "application/vnd.jupyter.widget-view+json": {
       "model_id": "",
       "version_major": 2,
       "version_minor": 0
      },
      "text/plain": [
       "FloatProgress(value=0.0, bar_style='info', description='Progress:', layout=Layout(height='25px', width='50%'),…"
      ]
     },
     "metadata": {},
     "output_type": "display_data"
    },
    {
     "data": {
      "application/vnd.jupyter.widget-view+json": {
       "model_id": "a382553021154d929f58172e4014277f",
       "version_major": 2,
       "version_minor": 0
      },
      "text/plain": [
       "VBox(children=(HBox(children=(HTML(value='Type:'), Button(description='Table', layout=Layout(width='70px'), st…"
      ]
     },
     "metadata": {},
     "output_type": "display_data"
    },
    {
     "data": {
      "application/vnd.jupyter.widget-view+json": {
       "model_id": "52b8f597152e49eeaf365d0ad636feb1",
       "version_major": 2,
       "version_minor": 0
      },
      "text/plain": [
       "Output()"
      ]
     },
     "metadata": {},
     "output_type": "display_data"
    }
   ],
   "source": [
    "%%sql\n",
    "--#q36\n",
    "\n",
    "\n",
    "select\n",
    "    sum(ss_net_profit)/sum(ss_ext_sales_price) as gross_margin\n",
    "   ,i_category\n",
    "   ,i_class\n",
    "   ,grouping(i_category)+grouping(i_class) as lochierarchy\n",
    "   ,rank() over (\n",
    " \tpartition by grouping(i_category)+grouping(i_class),\n",
    " \tcase when grouping(i_class) = 0 then i_category end\n",
    " \torder by sum(ss_net_profit)/sum(ss_ext_sales_price) asc) as rank_within_parent\n",
    " from\n",
    "    dev.iceberg100.store_sales\n",
    "   ,dev.iceberg100.date_dim       d1\n",
    "   ,dev.iceberg100.item\n",
    "   ,dev.iceberg100.store\n",
    " where\n",
    "    d1.d_year = 1998\n",
    " and d1.d_date_sk = ss_sold_date_sk\n",
    " and i_item_sk  = ss_item_sk\n",
    " and s_store_sk  = ss_store_sk\n",
    " and \n",
    " (s_state LIKE 'OH%' OR\n",
    "        s_state LIKE 'WV' OR\n",
    "        s_state LIKE 'PA' OR\n",
    "        s_state LIKE 'TN' OR\n",
    "        s_state LIKE 'MN' OR\n",
    "        s_state LIKE 'MO' OR\n",
    "        s_state LIKE 'NM' OR\n",
    "        s_state LIKE 'MI')\n",
    " group by rollup(i_category,i_class)\n",
    " order by\n",
    "   lochierarchy desc\n",
    "  ,case when lochierarchy = 0 then i_category end\n",
    "  ,rank_within_parent\n",
    "  limit 100"
   ]
  },
  {
   "cell_type": "code",
   "execution_count": 48,
   "id": "364d09f5-2ad2-4578-b655-292bf87c9c67",
   "metadata": {
    "execution": {
     "iopub.execute_input": "2024-01-20T23:59:45.032907Z",
     "iopub.status.busy": "2024-01-20T23:59:45.032363Z",
     "iopub.status.idle": "2024-01-21T00:00:42.632922Z",
     "shell.execute_reply": "2024-01-21T00:00:42.631837Z",
     "shell.execute_reply.started": "2024-01-20T23:59:45.032858Z"
    },
    "tags": []
   },
   "outputs": [
    {
     "data": {
      "application/vnd.jupyter.widget-view+json": {
       "model_id": "",
       "version_major": 2,
       "version_minor": 0
      },
      "text/plain": [
       "FloatProgress(value=0.0, bar_style='info', description='Progress:', layout=Layout(height='25px', width='50%'),…"
      ]
     },
     "metadata": {},
     "output_type": "display_data"
    },
    {
     "data": {
      "application/vnd.jupyter.widget-view+json": {
       "model_id": "a84db26404704756a84fbc4738713f5b",
       "version_major": 2,
       "version_minor": 0
      },
      "text/plain": [
       "VBox(children=(HBox(children=(HTML(value='Type:'), Button(description='Table', layout=Layout(width='70px'), st…"
      ]
     },
     "metadata": {},
     "output_type": "display_data"
    },
    {
     "data": {
      "application/vnd.jupyter.widget-view+json": {
       "model_id": "29eed155a5cb46239f45368754ab7997",
       "version_major": 2,
       "version_minor": 0
      },
      "text/plain": [
       "Output()"
      ]
     },
     "metadata": {},
     "output_type": "display_data"
    }
   ],
   "source": [
    "%%sql\n",
    "--#q37\n",
    "\n",
    "select  i_item_id\n",
    "       ,i_item_desc\n",
    "       ,i_current_price\n",
    " from dev.iceberg100.item, dev.iceberg100.inventory, dev.iceberg100.date_dim, dev.iceberg100.catalog_sales\n",
    " where i_current_price between 35 and 35 + 30\n",
    " and inv_item_sk = i_item_sk\n",
    " and d_date_sk=inv_date_sk\n",
    " and d_date between cast('2001-01-20' as date) and (cast('2001-01-20' as date) + interval 60 days)\n",
    " and i_manufact_id in (928,715,942,861)\n",
    " and inv_quantity_on_hand between 100 and 500\n",
    " and cs_item_sk = i_item_sk\n",
    " group by i_item_id,i_item_desc,i_current_price\n",
    " order by i_item_id\n",
    " limit 100"
   ]
  },
  {
   "cell_type": "code",
   "execution_count": 56,
   "id": "7fb8ff3c-d255-418a-95e6-069e3d6c007f",
   "metadata": {
    "execution": {
     "iopub.execute_input": "2024-01-21T00:07:38.091039Z",
     "iopub.status.busy": "2024-01-21T00:07:38.090762Z",
     "iopub.status.idle": "2024-01-21T00:10:38.145058Z",
     "shell.execute_reply": "2024-01-21T00:10:38.143847Z",
     "shell.execute_reply.started": "2024-01-21T00:07:38.091007Z"
    },
    "tags": []
   },
   "outputs": [
    {
     "data": {
      "application/vnd.jupyter.widget-view+json": {
       "model_id": "",
       "version_major": 2,
       "version_minor": 0
      },
      "text/plain": [
       "FloatProgress(value=0.0, bar_style='info', description='Progress:', layout=Layout(height='25px', width='50%'),…"
      ]
     },
     "metadata": {},
     "output_type": "display_data"
    },
    {
     "data": {
      "application/vnd.jupyter.widget-view+json": {
       "model_id": "e7d01fc6d143472f83ae7c3dcfdf0a63",
       "version_major": 2,
       "version_minor": 0
      },
      "text/plain": [
       "VBox(children=(HBox(children=(HTML(value='Type:'), Button(description='Table', layout=Layout(width='70px'), st…"
      ]
     },
     "metadata": {},
     "output_type": "display_data"
    },
    {
     "data": {
      "application/vnd.jupyter.widget-view+json": {
       "model_id": "4e6833ec337d4c5093eb4a21bdce4372",
       "version_major": 2,
       "version_minor": 0
      },
      "text/plain": [
       "Output()"
      ]
     },
     "metadata": {},
     "output_type": "display_data"
    }
   ],
   "source": [
    "%%sql\n",
    "--#q38\n",
    "\n",
    "select  count(*) from (\n",
    "    select distinct c_last_name, c_first_name, d_date\n",
    "    from dev.iceberg100.store_sales, dev.iceberg100.date_dim, dev.iceberg100.customer\n",
    "          where store_sales.ss_sold_date_sk = date_dim.d_date_sk\n",
    "      and store_sales.ss_customer_sk = customer.c_customer_sk\n",
    "      and d_month_seq between 1222 and 1222 + 11\n",
    "  intersect\n",
    "    select distinct c_last_name, c_first_name, d_date\n",
    "    from dev.iceberg100.catalog_sales, dev.iceberg100.date_dim, dev.iceberg100.customer\n",
    "          where catalog_sales.cs_sold_date_sk = date_dim.d_date_sk\n",
    "      and catalog_sales.cs_bill_customer_sk = customer.c_customer_sk\n",
    "      and d_month_seq between 1222 and 1222 + 11\n",
    "  intersect\n",
    "    select distinct c_last_name, c_first_name, d_date\n",
    "    from dev.iceberg100.web_sales, dev.iceberg100.date_dim, dev.iceberg100.customer\n",
    "          where web_sales.ws_sold_date_sk = date_dim.d_date_sk\n",
    "      and web_sales.ws_bill_customer_sk = customer.c_customer_sk\n",
    "      and d_month_seq between 1222 and 1222 + 11\n",
    ") hot_cust\n",
    "limit 100"
   ]
  },
  {
   "cell_type": "code",
   "execution_count": 20,
   "id": "f613d214-8294-4833-bc89-6b42a5c3646b",
   "metadata": {
    "execution": {
     "iopub.execute_input": "2024-01-20T23:21:31.218711Z",
     "iopub.status.busy": "2024-01-20T23:21:31.218369Z",
     "iopub.status.idle": "2024-01-20T23:22:34.937969Z",
     "shell.execute_reply": "2024-01-20T23:22:34.936856Z",
     "shell.execute_reply.started": "2024-01-20T23:21:31.218662Z"
    }
   },
   "outputs": [
    {
     "data": {
      "application/vnd.jupyter.widget-view+json": {
       "model_id": "",
       "version_major": 2,
       "version_minor": 0
      },
      "text/plain": [
       "FloatProgress(value=0.0, bar_style='info', description='Progress:', layout=Layout(height='25px', width='50%'),…"
      ]
     },
     "metadata": {},
     "output_type": "display_data"
    },
    {
     "data": {
      "application/vnd.jupyter.widget-view+json": {
       "model_id": "fd7dfbfbc7bf41d886a765e3e7fd06ff",
       "version_major": 2,
       "version_minor": 0
      },
      "text/plain": [
       "VBox(children=(HBox(children=(HTML(value='Type:'), Button(description='Table', layout=Layout(width='70px'), st…"
      ]
     },
     "metadata": {},
     "output_type": "display_data"
    },
    {
     "data": {
      "application/vnd.jupyter.widget-view+json": {
       "model_id": "f8a6ccfacdc9489cbf5bef193d643a2e",
       "version_major": 2,
       "version_minor": 0
      },
      "text/plain": [
       "Output()"
      ]
     },
     "metadata": {},
     "output_type": "display_data"
    }
   ],
   "source": [
    "%%sql\n",
    "--#q39\n",
    "\n",
    "with inv as\n",
    "(select w_warehouse_name,w_warehouse_sk,i_item_sk,d_moy\n",
    "       ,stdev,mean, case mean when 0 then null else stdev/mean end cov\n",
    " from(select w_warehouse_name,w_warehouse_sk,i_item_sk,d_moy\n",
    "            ,stddev_samp(inv_quantity_on_hand) stdev,avg(inv_quantity_on_hand) mean\n",
    "      from dev.iceberg100.inventory\n",
    "          ,dev.iceberg100.item\n",
    "          ,dev.iceberg100.warehouse\n",
    "          ,dev.iceberg100.date_dim\n",
    "      where inv_item_sk = i_item_sk\n",
    "        and inv_warehouse_sk = w_warehouse_sk\n",
    "        and inv_date_sk = d_date_sk\n",
    "        and d_year =1998\n",
    "      group by w_warehouse_name,w_warehouse_sk,i_item_sk,d_moy) foo\n",
    " where case mean when 0 then 0 else stdev/mean end > 1)\n",
    "select inv1.w_warehouse_sk,inv1.i_item_sk,inv1.d_moy,inv1.mean, inv1.cov\n",
    "        ,inv2.w_warehouse_sk,inv2.i_item_sk,inv2.d_moy,inv2.mean, inv2.cov\n",
    "from inv inv1,inv inv2\n",
    "where inv1.i_item_sk = inv2.i_item_sk\n",
    "  and inv1.w_warehouse_sk =  inv2.w_warehouse_sk\n",
    "  and inv1.d_moy=4\n",
    "  and inv2.d_moy=4+1\n",
    "order by inv1.w_warehouse_sk,inv1.i_item_sk,inv1.d_moy,inv1.mean,inv1.cov\n",
    "        ,inv2.d_moy,inv2.mean, inv2.cov"
   ]
  },
  {
   "cell_type": "code",
   "execution_count": 21,
   "id": "6b122abb-54dd-4b4c-976f-9416d2e098c9",
   "metadata": {
    "execution": {
     "iopub.execute_input": "2024-01-20T23:22:34.940098Z",
     "iopub.status.busy": "2024-01-20T23:22:34.939760Z",
     "iopub.status.idle": "2024-01-20T23:24:24.705451Z",
     "shell.execute_reply": "2024-01-20T23:24:24.704273Z",
     "shell.execute_reply.started": "2024-01-20T23:22:34.940048Z"
    }
   },
   "outputs": [
    {
     "data": {
      "application/vnd.jupyter.widget-view+json": {
       "model_id": "",
       "version_major": 2,
       "version_minor": 0
      },
      "text/plain": [
       "FloatProgress(value=0.0, bar_style='info', description='Progress:', layout=Layout(height='25px', width='50%'),…"
      ]
     },
     "metadata": {},
     "output_type": "display_data"
    },
    {
     "data": {
      "application/vnd.jupyter.widget-view+json": {
       "model_id": "08de4f9c6c1f475bbc7fb0903eaa1cce",
       "version_major": 2,
       "version_minor": 0
      },
      "text/plain": [
       "VBox(children=(HBox(children=(HTML(value='Type:'), Button(description='Table', layout=Layout(width='70px'), st…"
      ]
     },
     "metadata": {},
     "output_type": "display_data"
    },
    {
     "data": {
      "application/vnd.jupyter.widget-view+json": {
       "model_id": "abb227ac1ad948409ed074a35927906b",
       "version_major": 2,
       "version_minor": 0
      },
      "text/plain": [
       "Output()"
      ]
     },
     "metadata": {},
     "output_type": "display_data"
    }
   ],
   "source": [
    "%%sql\n",
    "--#q40\n",
    "\n",
    "select\n",
    "   w_state\n",
    "  ,i_item_id\n",
    "  ,sum(case when (cast(d_date as date) < cast ('1999-02-02' as date))\n",
    " \t\tthen cs_sales_price - coalesce(cr_refunded_cash,0) else 0 end) as sales_before\n",
    "  ,sum(case when (cast(d_date as date) >= cast ('1999-02-02' as date))\n",
    " \t\tthen cs_sales_price - coalesce(cr_refunded_cash,0) else 0 end) as sales_after\n",
    " from\n",
    "   dev.iceberg100.catalog_sales left outer join dev.iceberg100.catalog_returns on\n",
    "       (cs_order_number = cr_order_number\n",
    "        and cs_item_sk = cr_item_sk)\n",
    "  ,dev.iceberg100.warehouse\n",
    "  ,dev.iceberg100.item\n",
    "  ,dev.iceberg100.date_dim\n",
    " where\n",
    "     i_current_price between 0.99 and 1.49\n",
    " and i_item_sk          = cs_item_sk\n",
    " and cs_warehouse_sk    = w_warehouse_sk\n",
    " and cs_sold_date_sk    = d_date_sk\n",
    " and d_date between (cast ('1999-02-02' as date) - INTERVAL 30 days)\n",
    "                and (cast ('1999-02-02' as date) + INTERVAL 30 days)\n",
    " group by\n",
    "    w_state,i_item_id\n",
    " order by w_state,i_item_id\n",
    "limit 100"
   ]
  },
  {
   "cell_type": "code",
   "execution_count": 50,
   "id": "10a4359d-c1e4-4d55-a93d-97a4c1030d79",
   "metadata": {
    "execution": {
     "iopub.execute_input": "2024-01-21T00:00:42.887147Z",
     "iopub.status.busy": "2024-01-21T00:00:42.886937Z",
     "iopub.status.idle": "2024-01-21T00:00:46.277953Z",
     "shell.execute_reply": "2024-01-21T00:00:46.276834Z",
     "shell.execute_reply.started": "2024-01-21T00:00:42.887117Z"
    },
    "tags": []
   },
   "outputs": [
    {
     "data": {
      "application/vnd.jupyter.widget-view+json": {
       "model_id": "",
       "version_major": 2,
       "version_minor": 0
      },
      "text/plain": [
       "FloatProgress(value=0.0, bar_style='info', description='Progress:', layout=Layout(height='25px', width='50%'),…"
      ]
     },
     "metadata": {},
     "output_type": "display_data"
    },
    {
     "data": {
      "application/vnd.jupyter.widget-view+json": {
       "model_id": "ffac5993181e431280a7e40e95748995",
       "version_major": 2,
       "version_minor": 0
      },
      "text/plain": [
       "VBox(children=(HBox(children=(HTML(value='Type:'), Button(description='Table', layout=Layout(width='70px'), st…"
      ]
     },
     "metadata": {},
     "output_type": "display_data"
    },
    {
     "data": {
      "application/vnd.jupyter.widget-view+json": {
       "model_id": "27aa9d347e3b4c0b9967a1a89556eaf0",
       "version_major": 2,
       "version_minor": 0
      },
      "text/plain": [
       "Output()"
      ]
     },
     "metadata": {},
     "output_type": "display_data"
    }
   ],
   "source": [
    "%%sql\n",
    "--#q41\n",
    "\n",
    "select  distinct(i_product_name)\n",
    " from dev.iceberg100.item i1\n",
    " where i_manufact_id between 732 and 732+40\n",
    "   and (select count(*) as item_cnt\n",
    "        from dev.iceberg100.item\n",
    "        where (i_manufact = i1.i_manufact and\n",
    "        ((i_category = 'Women' and\n",
    "        (i_color = 'beige' or i_color = 'spring') and\n",
    "        (i_units = 'Tsp' or i_units = 'Ton') and\n",
    "        (i_size = 'petite' or i_size = 'extra large')\n",
    "        ) or\n",
    "        (i_category = 'Women' and\n",
    "        (i_color = 'white' or i_color = 'pale') and\n",
    "        (i_units = 'Box' or i_units = 'Dram') and\n",
    "        (i_size = 'large' or i_size = 'economy')\n",
    "        ) or\n",
    "        (i_category = 'Men' and\n",
    "        (i_color = 'midnight' or i_color = 'frosted') and\n",
    "        (i_units = 'Bunch' or i_units = 'Carton') and\n",
    "        (i_size = 'small' or i_size = 'N/A')\n",
    "        ) or\n",
    "        (i_category = 'Men' and\n",
    "        (i_color = 'azure' or i_color = 'goldenrod') and\n",
    "        (i_units = 'Pallet' or i_units = 'Gross') and\n",
    "        (i_size = 'petite' or i_size = 'extra large')\n",
    "        ))) or\n",
    "       (i_manufact = i1.i_manufact and\n",
    "        ((i_category = 'Women' and\n",
    "        (i_color = 'brown' or i_color = 'hot') and\n",
    "        (i_units = 'Tbl' or i_units = 'Cup') and\n",
    "        (i_size = 'petite' or i_size = 'extra large')\n",
    "        ) or\n",
    "        (i_category = 'Women' and\n",
    "        (i_color = 'powder' or i_color = 'honeydew') and\n",
    "        (i_units = 'Bundle' or i_units = 'Unknown') and\n",
    "        (i_size = 'large' or i_size = 'economy')\n",
    "        ) or\n",
    "        (i_category = 'Men' and\n",
    "        (i_color = 'antique' or i_color = 'purple') and\n",
    "        (i_units = 'N/A' or i_units = 'Dozen') and\n",
    "        (i_size = 'small' or i_size = 'N/A')\n",
    "        ) or\n",
    "        (i_category = 'Men' and\n",
    "        (i_color = 'lavender' or i_color = 'tomato') and\n",
    "        (i_units = 'Lb' or i_units = 'Oz') and\n",
    "        (i_size = 'petite' or i_size = 'extra large')\n",
    "        )))) > 0\n",
    " order by i_product_name\n",
    " limit 100"
   ]
  },
  {
   "cell_type": "code",
   "execution_count": 23,
   "id": "0fa51578-a358-4ba9-a82d-37bea40c368c",
   "metadata": {
    "execution": {
     "iopub.execute_input": "2024-01-20T23:24:24.942098Z",
     "iopub.status.busy": "2024-01-20T23:24:24.941878Z",
     "iopub.status.idle": "2024-01-20T23:25:10.589629Z",
     "shell.execute_reply": "2024-01-20T23:25:10.588280Z",
     "shell.execute_reply.started": "2024-01-20T23:24:24.942068Z"
    }
   },
   "outputs": [
    {
     "data": {
      "application/vnd.jupyter.widget-view+json": {
       "model_id": "",
       "version_major": 2,
       "version_minor": 0
      },
      "text/plain": [
       "FloatProgress(value=0.0, bar_style='info', description='Progress:', layout=Layout(height='25px', width='50%'),…"
      ]
     },
     "metadata": {},
     "output_type": "display_data"
    },
    {
     "data": {
      "application/vnd.jupyter.widget-view+json": {
       "model_id": "90c6dee6c5e8401a861507cccf8a9d39",
       "version_major": 2,
       "version_minor": 0
      },
      "text/plain": [
       "VBox(children=(HBox(children=(HTML(value='Type:'), Button(description='Table', layout=Layout(width='70px'), st…"
      ]
     },
     "metadata": {},
     "output_type": "display_data"
    },
    {
     "data": {
      "application/vnd.jupyter.widget-view+json": {
       "model_id": "c2e854c9f4fb4f1fb009b693cf656500",
       "version_major": 2,
       "version_minor": 0
      },
      "text/plain": [
       "Output()"
      ]
     },
     "metadata": {},
     "output_type": "display_data"
    }
   ],
   "source": [
    "%%sql\n",
    "--#q42\n",
    "\n",
    "select  dt.d_year\n",
    " \t,dev.iceberg100.item.i_category_id\n",
    " \t,dev.iceberg100.item.i_category\n",
    " \t,sum(ss_ext_sales_price)\n",
    " from \tdev.iceberg100.date_dim dt\n",
    " \t,dev.iceberg100.store_sales\n",
    " \t,dev.iceberg100.item\n",
    " where dt.d_date_sk = dev.iceberg100.store_sales.ss_sold_date_sk\n",
    " \tand dev.iceberg100.store_sales.ss_item_sk = dev.iceberg100.item.i_item_sk\n",
    " \tand dev.iceberg100.item.i_manager_id = 1\n",
    " \tand dt.d_moy=11\n",
    " \tand dt.d_year=2002\n",
    " group by \tdt.d_year\n",
    " \t\t,dev.iceberg100.item.i_category_id\n",
    " \t\t,dev.iceberg100.item.i_category\n",
    " order by       sum(ss_ext_sales_price) desc,dt.d_year\n",
    " \t\t,dev.iceberg100.item.i_category_id\n",
    " \t\t,dev.iceberg100.item.i_category\n",
    "limit 100"
   ]
  },
  {
   "cell_type": "code",
   "execution_count": 24,
   "id": "9c5570aa-2c60-4e60-b6d4-5765e95bc146",
   "metadata": {
    "execution": {
     "iopub.execute_input": "2024-01-20T23:25:10.595143Z",
     "iopub.status.busy": "2024-01-20T23:25:10.594511Z",
     "iopub.status.idle": "2024-01-20T23:25:52.211055Z",
     "shell.execute_reply": "2024-01-20T23:25:52.209215Z",
     "shell.execute_reply.started": "2024-01-20T23:25:10.595095Z"
    }
   },
   "outputs": [
    {
     "data": {
      "application/vnd.jupyter.widget-view+json": {
       "model_id": "",
       "version_major": 2,
       "version_minor": 0
      },
      "text/plain": [
       "FloatProgress(value=0.0, bar_style='info', description='Progress:', layout=Layout(height='25px', width='50%'),…"
      ]
     },
     "metadata": {},
     "output_type": "display_data"
    },
    {
     "data": {
      "application/vnd.jupyter.widget-view+json": {
       "model_id": "72b7ecba0b724b4980fa82b7a33732a2",
       "version_major": 2,
       "version_minor": 0
      },
      "text/plain": [
       "VBox(children=(HBox(children=(HTML(value='Type:'), Button(description='Table', layout=Layout(width='70px'), st…"
      ]
     },
     "metadata": {},
     "output_type": "display_data"
    },
    {
     "data": {
      "application/vnd.jupyter.widget-view+json": {
       "model_id": "e4ab63bb01884469baaab32eb2a94cb1",
       "version_major": 2,
       "version_minor": 0
      },
      "text/plain": [
       "Output()"
      ]
     },
     "metadata": {},
     "output_type": "display_data"
    }
   ],
   "source": [
    "%%sql\n",
    "--#q43\n",
    "\n",
    "select  s_store_name, s_store_id,\n",
    "        sum(case when (d_day_name='Sunday') then ss_sales_price else null end) sun_sales,\n",
    "        sum(case when (d_day_name='Monday') then ss_sales_price else null end) mon_sales,\n",
    "        sum(case when (d_day_name='Tuesday') then ss_sales_price else  null end) tue_sales,\n",
    "        sum(case when (d_day_name='Wednesday') then ss_sales_price else null end) wed_sales,\n",
    "        sum(case when (d_day_name='Thursday') then ss_sales_price else null end) thu_sales,\n",
    "        sum(case when (d_day_name='Friday') then ss_sales_price else null end) fri_sales,\n",
    "        sum(case when (d_day_name='Saturday') then ss_sales_price else null end) sat_sales\n",
    " from dev.iceberg100.date_dim, dev.iceberg100.store_sales, dev.iceberg100.store\n",
    " where d_date_sk = ss_sold_date_sk and\n",
    "       s_store_sk = ss_store_sk and\n",
    "       s_gmt_offset = -6 and\n",
    "       d_year = 1999\n",
    " group by s_store_name, s_store_id\n",
    " order by s_store_name, s_store_id,sun_sales,mon_sales,tue_sales,wed_sales,thu_sales,fri_sales,sat_sales\n",
    " limit 100"
   ]
  },
  {
   "cell_type": "code",
   "execution_count": 100,
   "id": "11a1678d-36bc-4dab-b605-b856541bcee0",
   "metadata": {
    "execution": {
     "iopub.execute_input": "2024-01-21T02:03:22.782653Z",
     "iopub.status.busy": "2024-01-21T02:03:22.782269Z",
     "iopub.status.idle": "2024-01-21T02:03:48.159337Z",
     "shell.execute_reply": "2024-01-21T02:03:48.158329Z",
     "shell.execute_reply.started": "2024-01-21T02:03:22.782606Z"
    },
    "tags": []
   },
   "outputs": [
    {
     "data": {
      "application/vnd.jupyter.widget-view+json": {
       "model_id": "",
       "version_major": 2,
       "version_minor": 0
      },
      "text/plain": [
       "FloatProgress(value=0.0, bar_style='info', description='Progress:', layout=Layout(height='25px', width='50%'),…"
      ]
     },
     "metadata": {},
     "output_type": "display_data"
    },
    {
     "data": {
      "application/vnd.jupyter.widget-view+json": {
       "model_id": "dba1443770754eebb0cf45e42737c477",
       "version_major": 2,
       "version_minor": 0
      },
      "text/plain": [
       "VBox(children=(HBox(), EncodingWidget(children=(VBox(children=(HTML(value='Encoding:'), Dropdown(description='…"
      ]
     },
     "metadata": {},
     "output_type": "display_data"
    },
    {
     "data": {
      "application/vnd.jupyter.widget-view+json": {
       "model_id": "b96c670fd9674cb5b53ce5d37d0630e2",
       "version_major": 2,
       "version_minor": 0
      },
      "text/plain": [
       "Output()"
      ]
     },
     "metadata": {},
     "output_type": "display_data"
    }
   ],
   "source": [
    "%%sql\n",
    "--#q44 --Achtung\n",
    "\n",
    "select  asceding.rnk, i1.i_product_name best_performing, i2.i_product_name worst_performing\n",
    "from(select *\n",
    "     from (select item_sk,rank() over (order by rank_col asc) rnk\n",
    "           from (select ss_item_sk item_sk,avg(ss_net_profit) rank_col\n",
    "                 from dev.iceberg100.store_sales ss1\n",
    "                 where ss_store_sk = 321\n",
    "                 group by ss_item_sk\n",
    "                 having avg(ss_net_profit) > 0.9*(select avg(ss_net_profit) rank_col\n",
    "                                                  from dev.iceberg100.store_sales\n",
    "                                                  where ss_store_sk = 321\n",
    "                                                    and ss_addr_sk is null\n",
    "                                                  group by ss_store_sk))V1)V11\n",
    "     where rnk  < 11) asceding,\n",
    "    (select *\n",
    "     from (select item_sk,rank() over (order by rank_col desc) rnk\n",
    "           from (select ss_item_sk item_sk,avg(ss_net_profit) rank_col\n",
    "                 from dev.iceberg100.store_sales ss1\n",
    "                 where ss_store_sk = 321\n",
    "                 group by ss_item_sk\n",
    "                 having avg(ss_net_profit) > 0.9*(select avg(ss_net_profit) rank_col\n",
    "                                                  from dev.iceberg100.store_sales\n",
    "                                                  where ss_store_sk = 321\n",
    "                                                    and ss_addr_sk is null\n",
    "                                                  group by ss_store_sk))V2)V21\n",
    "     where rnk  < 11) descending,\n",
    "dev.iceberg100.item i1,\n",
    "dev.iceberg100.item i2\n",
    "where asceding.rnk = descending.rnk\n",
    "  and i1.i_item_sk=asceding.item_sk\n",
    "  and i2.i_item_sk=descending.item_sk\n",
    "order by asceding.rnk\n",
    "limit 100"
   ]
  },
  {
   "cell_type": "code",
   "execution_count": 26,
   "id": "6c9de0c0-3982-42d1-919d-351ea6573d12",
   "metadata": {
    "execution": {
     "iopub.execute_input": "2024-01-20T23:26:09.607214Z",
     "iopub.status.busy": "2024-01-20T23:26:09.606895Z",
     "iopub.status.idle": "2024-01-20T23:27:01.224258Z",
     "shell.execute_reply": "2024-01-20T23:27:01.223158Z",
     "shell.execute_reply.started": "2024-01-20T23:26:09.607167Z"
    }
   },
   "outputs": [
    {
     "data": {
      "application/vnd.jupyter.widget-view+json": {
       "model_id": "",
       "version_major": 2,
       "version_minor": 0
      },
      "text/plain": [
       "FloatProgress(value=0.0, bar_style='info', description='Progress:', layout=Layout(height='25px', width='50%'),…"
      ]
     },
     "metadata": {},
     "output_type": "display_data"
    },
    {
     "data": {
      "application/vnd.jupyter.widget-view+json": {
       "model_id": "b1964619a20a4c67a15ab2f887a3e501",
       "version_major": 2,
       "version_minor": 0
      },
      "text/plain": [
       "VBox(children=(HBox(children=(HTML(value='Type:'), Button(description='Table', layout=Layout(width='70px'), st…"
      ]
     },
     "metadata": {},
     "output_type": "display_data"
    },
    {
     "data": {
      "application/vnd.jupyter.widget-view+json": {
       "model_id": "1457853680cf42859d290732e6d0debc",
       "version_major": 2,
       "version_minor": 0
      },
      "text/plain": [
       "Output()"
      ]
     },
     "metadata": {},
     "output_type": "display_data"
    }
   ],
   "source": [
    "%%sql\n",
    "--#q45\n",
    "\n",
    "select  ca_zip, ca_county, sum(ws_sales_price)\n",
    " from dev.iceberg100.web_sales, dev.iceberg100.customer, dev.iceberg100.customer_address, dev.iceberg100.date_dim, dev.iceberg100.item\n",
    " where ws_bill_customer_sk = c_customer_sk\n",
    " \tand c_current_addr_sk = ca_address_sk\n",
    " \tand ws_item_sk = i_item_sk\n",
    " \tand ( \n",
    "        (SUBSTR(ca_zip, 1, 5) LIKE '85669' OR\n",
    "        SUBSTR(ca_zip, 1, 5) LIKE '86197' OR\n",
    "        SUBSTR(ca_zip, 1, 5) LIKE '88274' OR\n",
    "        SUBSTR(ca_zip, 1, 5) LIKE '83405' OR\n",
    "        SUBSTR(ca_zip, 1, 5) LIKE '86475' OR\n",
    "        SUBSTR(ca_zip, 1, 5) LIKE '85392' OR\n",
    "        SUBSTR(ca_zip, 1, 5) LIKE '85460' OR\n",
    "        SUBSTR(ca_zip, 1, 5) LIKE '80348' OR\n",
    "        SUBSTR(ca_zip, 1, 5) LIKE '81792')\n",
    " \t      or\n",
    " \t      i_item_id in (select i_item_id\n",
    "                             from dev.iceberg100.item\n",
    "                             where i_item_sk in (2, 3, 5, 7, 11, 13, 17, 19, 23, 29)\n",
    "                             )\n",
    " \t    )\n",
    " \tand ws_sold_date_sk = d_date_sk\n",
    " \tand d_qoy = 2 and d_year = 1999\n",
    " group by ca_zip, ca_county\n",
    " order by ca_zip, ca_county\n",
    " limit 100"
   ]
  },
  {
   "cell_type": "code",
   "execution_count": 4,
   "id": "6eb0b79f-af87-4405-b4b9-483a0f22ae86",
   "metadata": {
    "execution": {
     "iopub.execute_input": "2024-01-21T10:45:56.527203Z",
     "iopub.status.busy": "2024-01-21T10:45:56.526933Z",
     "iopub.status.idle": "2024-01-21T10:47:40.490438Z",
     "shell.execute_reply": "2024-01-21T10:47:40.489026Z",
     "shell.execute_reply.started": "2024-01-21T10:45:56.527170Z"
    },
    "tags": []
   },
   "outputs": [
    {
     "data": {
      "application/vnd.jupyter.widget-view+json": {
       "model_id": "",
       "version_major": 2,
       "version_minor": 0
      },
      "text/plain": [
       "FloatProgress(value=0.0, bar_style='info', description='Progress:', layout=Layout(height='25px', width='50%'),…"
      ]
     },
     "metadata": {},
     "output_type": "display_data"
    },
    {
     "data": {
      "application/vnd.jupyter.widget-view+json": {
       "model_id": "0fa6aa5b73134101a6763e7dc80d2217",
       "version_major": 2,
       "version_minor": 0
      },
      "text/plain": [
       "VBox(children=(HBox(), EncodingWidget(children=(VBox(children=(HTML(value='Encoding:'), Dropdown(description='…"
      ]
     },
     "metadata": {},
     "output_type": "display_data"
    },
    {
     "data": {
      "application/vnd.jupyter.widget-view+json": {
       "model_id": "66cfb7b66e234e50b617151af9a2bdee",
       "version_major": 2,
       "version_minor": 0
      },
      "text/plain": [
       "Output()"
      ]
     },
     "metadata": {},
     "output_type": "display_data"
    }
   ],
   "source": [
    "%%sql\n",
    "--#q46\n",
    "\n",
    "select  c_last_name\n",
    "       ,c_first_name\n",
    "       ,ca_city\n",
    "       ,bought_city\n",
    "       ,ss_ticket_number\n",
    "       ,amt,profit\n",
    " from\n",
    "   (select ss_ticket_number\n",
    "          ,ss_customer_sk\n",
    "          ,ca_city bought_city\n",
    "          ,sum(ss_coupon_amt) amt\n",
    "          ,sum(ss_net_profit) profit\n",
    "    from dev.iceberg100.store_sales,dev.iceberg100.date_dim,dev.iceberg100.store,dev.iceberg100.household_demographics,dev.iceberg100.customer_address\n",
    "    where store_sales.ss_sold_date_sk = date_dim.d_date_sk\n",
    "    and store_sales.ss_store_sk = store.s_store_sk\n",
    "    and store_sales.ss_hdemo_sk = household_demographics.hd_demo_sk\n",
    "    and store_sales.ss_addr_sk = customer_address.ca_address_sk\n",
    "    and (household_demographics.hd_dep_count = 2 or\n",
    "         household_demographics.hd_vehicle_count= 2)\n",
    "    and date_dim.d_dow in (6,0)\n",
    "    and date_dim.d_year in (1998,1998+1,1998+2)\n",
    "    and store.s_city in ('Antioch','Mount Vernon','Jamestown','Wilson','Farmington')\n",
    "    group by ss_ticket_number,ss_customer_sk,ss_addr_sk,ca_city) dn,dev.iceberg100.customer,dev.iceberg100.customer_address current_addr\n",
    "    where ss_customer_sk = c_customer_sk\n",
    "      and customer.c_current_addr_sk = current_addr.ca_address_sk\n",
    "      and current_addr.ca_city <> bought_city\n",
    "  order by c_last_name\n",
    "          ,c_first_name\n",
    "          ,ca_city\n",
    "          ,bought_city\n",
    "          ,ss_ticket_number\n",
    "  limit 100"
   ]
  },
  {
   "cell_type": "code",
   "execution_count": 28,
   "id": "731e5fc0-89b6-491d-8ab0-06c880226d39",
   "metadata": {
    "execution": {
     "iopub.execute_input": "2024-01-20T23:28:00.772847Z",
     "iopub.status.busy": "2024-01-20T23:28:00.772245Z",
     "iopub.status.idle": "2024-01-20T23:29:48.580984Z",
     "shell.execute_reply": "2024-01-20T23:29:48.579954Z",
     "shell.execute_reply.started": "2024-01-20T23:28:00.772799Z"
    }
   },
   "outputs": [
    {
     "data": {
      "application/vnd.jupyter.widget-view+json": {
       "model_id": "",
       "version_major": 2,
       "version_minor": 0
      },
      "text/plain": [
       "FloatProgress(value=0.0, bar_style='info', description='Progress:', layout=Layout(height='25px', width='50%'),…"
      ]
     },
     "metadata": {},
     "output_type": "display_data"
    },
    {
     "data": {
      "application/vnd.jupyter.widget-view+json": {
       "model_id": "168cc98260f640fdb444f577a9c1daf5",
       "version_major": 2,
       "version_minor": 0
      },
      "text/plain": [
       "VBox(children=(HBox(children=(HTML(value='Type:'), Button(description='Table', layout=Layout(width='70px'), st…"
      ]
     },
     "metadata": {},
     "output_type": "display_data"
    },
    {
     "data": {
      "application/vnd.jupyter.widget-view+json": {
       "model_id": "8f8cbdef2b9a4384b6a41c35d6f165b1",
       "version_major": 2,
       "version_minor": 0
      },
      "text/plain": [
       "Output()"
      ]
     },
     "metadata": {},
     "output_type": "display_data"
    }
   ],
   "source": [
    "%%sql\n",
    "--#q47\n",
    "\n",
    "with v1 as(\n",
    " select i_category, i_brand,\n",
    "        s_store_name, s_company_name,\n",
    "        d_year, d_moy,\n",
    "        sum(ss_sales_price) sum_sales,\n",
    "        avg(sum(ss_sales_price)) over\n",
    "          (partition by i_category, i_brand,\n",
    "                     s_store_name, s_company_name, d_year)\n",
    "          avg_monthly_sales,\n",
    "        rank() over\n",
    "          (partition by i_category, i_brand,\n",
    "                     s_store_name, s_company_name\n",
    "           order by d_year, d_moy) rn\n",
    " from dev.iceberg100.item, dev.iceberg100.store_sales, dev.iceberg100.date_dim, dev.iceberg100.store\n",
    " where ss_item_sk = i_item_sk and\n",
    "       ss_sold_date_sk = d_date_sk and\n",
    "       ss_store_sk = s_store_sk and\n",
    "       (\n",
    "         d_year = 2001 or\n",
    "         ( d_year = 2001-1 and d_moy =12) or\n",
    "         ( d_year = 2001+1 and d_moy =1)\n",
    "       )\n",
    " group by i_category, i_brand,\n",
    "          s_store_name, s_company_name,\n",
    "          d_year, d_moy),\n",
    " v2 as(\n",
    " select v1.s_company_name\n",
    "        ,v1.d_year, v1.d_moy\n",
    "        ,v1.avg_monthly_sales\n",
    "        ,v1.sum_sales, v1_lag.sum_sales psum, v1_lead.sum_sales nsum\n",
    " from v1, v1 v1_lag, v1 v1_lead\n",
    " where v1.i_category = v1_lag.i_category and\n",
    "       v1.i_category = v1_lead.i_category and\n",
    "       v1.i_brand = v1_lag.i_brand and\n",
    "       v1.i_brand = v1_lead.i_brand and\n",
    "       v1.s_store_name = v1_lag.s_store_name and\n",
    "       v1.s_store_name = v1_lead.s_store_name and\n",
    "       v1.s_company_name = v1_lag.s_company_name and\n",
    "       v1.s_company_name = v1_lead.s_company_name and\n",
    "       v1.rn = v1_lag.rn + 1 and\n",
    "       v1.rn = v1_lead.rn - 1)\n",
    "  select  *\n",
    " from v2\n",
    " where  d_year = 2001 and\n",
    "        avg_monthly_sales > 0 and\n",
    "        case when avg_monthly_sales > 0 then abs(sum_sales - avg_monthly_sales) / avg_monthly_sales else null end > 0.1\n",
    " order by sum_sales - avg_monthly_sales, avg_monthly_sales\n",
    " limit 100"
   ]
  },
  {
   "cell_type": "code",
   "execution_count": 29,
   "id": "a9e9eac2-e52f-42f0-9770-6e7be8d31132",
   "metadata": {
    "execution": {
     "iopub.execute_input": "2024-01-20T23:29:48.583296Z",
     "iopub.status.busy": "2024-01-20T23:29:48.582966Z",
     "iopub.status.idle": "2024-01-20T23:31:04.204246Z",
     "shell.execute_reply": "2024-01-20T23:31:04.203214Z",
     "shell.execute_reply.started": "2024-01-20T23:29:48.583247Z"
    }
   },
   "outputs": [
    {
     "data": {
      "application/vnd.jupyter.widget-view+json": {
       "model_id": "",
       "version_major": 2,
       "version_minor": 0
      },
      "text/plain": [
       "FloatProgress(value=0.0, bar_style='info', description='Progress:', layout=Layout(height='25px', width='50%'),…"
      ]
     },
     "metadata": {},
     "output_type": "display_data"
    },
    {
     "data": {
      "application/vnd.jupyter.widget-view+json": {
       "model_id": "25df740a77ce4f9b99e8e36f44e585a2",
       "version_major": 2,
       "version_minor": 0
      },
      "text/plain": [
       "VBox(children=(HBox(children=(HTML(value='Type:'), Button(description='Table', layout=Layout(width='70px'), st…"
      ]
     },
     "metadata": {},
     "output_type": "display_data"
    },
    {
     "data": {
      "application/vnd.jupyter.widget-view+json": {
       "model_id": "11ae10c152824bf583ea1b75f83bb95e",
       "version_major": 2,
       "version_minor": 0
      },
      "text/plain": [
       "Output()"
      ]
     },
     "metadata": {},
     "output_type": "display_data"
    }
   ],
   "source": [
    "%%sql\n",
    "--#q48\n",
    "\n",
    "select sum (ss_quantity)\n",
    " from dev.iceberg100.store_sales, dev.iceberg100.store, dev.iceberg100.customer_demographics, dev.iceberg100.customer_address, dev.iceberg100.date_dim\n",
    " where s_store_sk = ss_store_sk\n",
    " and  ss_sold_date_sk = d_date_sk and d_year = 1999\n",
    " and\n",
    " (\n",
    "  (\n",
    "   cd_demo_sk = ss_cdemo_sk\n",
    "   and\n",
    "   cd_marital_status = 'D'\n",
    "   and\n",
    "   cd_education_status = 'College'\n",
    "   and\n",
    "   ss_sales_price between 100.00 and 150.00\n",
    "   )\n",
    " or\n",
    "  (\n",
    "  cd_demo_sk = ss_cdemo_sk\n",
    "   and\n",
    "   cd_marital_status = 'W'\n",
    "   and\n",
    "   cd_education_status = 'Secondary'\n",
    "   and\n",
    "   ss_sales_price between 50.00 and 100.00\n",
    "  )\n",
    " or\n",
    " (\n",
    "  cd_demo_sk = ss_cdemo_sk\n",
    "  and\n",
    "   cd_marital_status = 'M'\n",
    "   and\n",
    "   cd_education_status = '2 yr Degree'\n",
    "   and\n",
    "   ss_sales_price between 150.00 and 200.00\n",
    " )\n",
    " )\n",
    " and\n",
    " (\n",
    "  (\n",
    "  ss_addr_sk = ca_address_sk\n",
    "  and\n",
    "  dev.iceberg100.customer_address.ca_country = 'United States'\n",
    "  and\n",
    "   (dev.iceberg100.customer_address.ca_state LIKE 'NE'\n",
    "   OR dev.iceberg100.customer_address.ca_state LIKE 'IA'\n",
    "   OR dev.iceberg100.customer_address.ca_state LIKE 'NY')\n",
    "  and dev.iceberg100.store_sales.ss_net_profit between 0 and 2000\n",
    "  )\n",
    " or\n",
    "  (ss_addr_sk = ca_address_sk\n",
    "  and\n",
    "  dev.iceberg100.customer_address.ca_country = 'United States'\n",
    "  and\n",
    "  (dev.iceberg100.customer_address.ca_state LIKE 'IN' OR\n",
    "        dev.iceberg100.customer_address.ca_state LIKE 'TN' OR\n",
    "        dev.iceberg100.customer_address.ca_state LIKE 'OH')\n",
    "  and dev.iceberg100.store_sales.ss_net_profit between 150 and 3000\n",
    "  )\n",
    " or\n",
    "  (ss_addr_sk = ca_address_sk\n",
    "  and\n",
    "  dev.iceberg100.customer_address.ca_country = 'United States'\n",
    "  and\n",
    "  (dev.iceberg100.customer_address.ca_state LIKE 'KS' OR\n",
    "        dev.iceberg100.customer_address.ca_state LIKE 'CA' OR\n",
    "        dev.iceberg100.customer_address.ca_state LIKE 'CO')\n",
    "  and dev.iceberg100.store_sales.ss_net_profit between 50 and 25000\n",
    "  )\n",
    " )"
   ]
  },
  {
   "cell_type": "code",
   "execution_count": 30,
   "id": "bcbb0626-11f8-475e-bb4a-d3dda8bbf85a",
   "metadata": {
    "execution": {
     "iopub.execute_input": "2024-01-20T23:31:04.206290Z",
     "iopub.status.busy": "2024-01-20T23:31:04.205955Z",
     "iopub.status.idle": "2024-01-20T23:34:42.468806Z",
     "shell.execute_reply": "2024-01-20T23:34:42.467597Z",
     "shell.execute_reply.started": "2024-01-20T23:31:04.206242Z"
    }
   },
   "outputs": [
    {
     "data": {
      "application/vnd.jupyter.widget-view+json": {
       "model_id": "",
       "version_major": 2,
       "version_minor": 0
      },
      "text/plain": [
       "FloatProgress(value=0.0, bar_style='info', description='Progress:', layout=Layout(height='25px', width='50%'),…"
      ]
     },
     "metadata": {},
     "output_type": "display_data"
    },
    {
     "data": {
      "application/vnd.jupyter.widget-view+json": {
       "model_id": "76fd01897b8845778fcc2da901245bc6",
       "version_major": 2,
       "version_minor": 0
      },
      "text/plain": [
       "VBox(children=(HBox(children=(HTML(value='Type:'), Button(description='Table', layout=Layout(width='70px'), st…"
      ]
     },
     "metadata": {},
     "output_type": "display_data"
    },
    {
     "data": {
      "application/vnd.jupyter.widget-view+json": {
       "model_id": "a3ff4f598b31491490418e051d5d6cc8",
       "version_major": 2,
       "version_minor": 0
      },
      "text/plain": [
       "Output()"
      ]
     },
     "metadata": {},
     "output_type": "display_data"
    }
   ],
   "source": [
    "%%sql\n",
    "--#q49\n",
    "\n",
    "select  channel, item, return_ratio, return_rank, currency_rank from\n",
    " (select\n",
    " 'web' as channel\n",
    " ,web.item\n",
    " ,web.return_ratio\n",
    " ,web.return_rank\n",
    " ,web.currency_rank\n",
    " from (\n",
    " \tselect\n",
    " \t item\n",
    " \t,return_ratio\n",
    " \t,currency_ratio\n",
    " \t,rank() over (order by return_ratio) as return_rank\n",
    " \t,rank() over (order by currency_ratio) as currency_rank\n",
    " \tfrom\n",
    " \t(\tselect ws.ws_item_sk as item\n",
    " \t\t,(cast(sum(coalesce(wr.wr_return_quantity,0)) as decimal(15,4))/\n",
    " \t\tcast(sum(coalesce(ws.ws_quantity,0)) as decimal(15,4) )) as return_ratio\n",
    " \t\t,(cast(sum(coalesce(wr.wr_return_amt,0)) as decimal(15,4))/\n",
    " \t\tcast(sum(coalesce(ws.ws_net_paid,0)) as decimal(15,4) )) as currency_ratio\n",
    " \t\tfrom\n",
    " \t\t dev.iceberg100.web_sales ws left outer join dev.iceberg100.web_returns wr\n",
    " \t\t\ton (ws.ws_order_number = wr.wr_order_number and\n",
    " \t\t\tws.ws_item_sk = wr.wr_item_sk)\n",
    "                 ,dev.iceberg100.date_dim\n",
    " \t\twhere\n",
    " \t\t\twr.wr_return_amt > 10000\n",
    " \t\t\tand ws.ws_net_profit > 1\n",
    "                         and ws.ws_net_paid > 0\n",
    "                         and ws.ws_quantity > 0\n",
    "                         and ws_sold_date_sk = d_date_sk\n",
    "                         and d_year = 2000\n",
    "                         and d_moy = 11\n",
    " \t\tgroup by ws.ws_item_sk\n",
    " \t) in_web\n",
    " ) web\n",
    " where\n",
    " (\n",
    " web.return_rank <= 10\n",
    " or\n",
    " web.currency_rank <= 10\n",
    " )\n",
    " union\n",
    " select\n",
    " 'catalog' as channel\n",
    " ,catalog.item\n",
    " ,catalog.return_ratio\n",
    " ,catalog.return_rank\n",
    " ,catalog.currency_rank\n",
    " from (\n",
    " \tselect\n",
    " \t item\n",
    " \t,return_ratio\n",
    " \t,currency_ratio\n",
    " \t,rank() over (order by return_ratio) as return_rank\n",
    " \t,rank() over (order by currency_ratio) as currency_rank\n",
    " \tfrom\n",
    " \t(\tselect\n",
    " \t\tcs.cs_item_sk as item\n",
    " \t\t,(cast(sum(coalesce(cr.cr_return_quantity,0)) as decimal(15,4))/\n",
    " \t\tcast(sum(coalesce(cs.cs_quantity,0)) as decimal(15,4) )) as return_ratio\n",
    " \t\t,(cast(sum(coalesce(cr.cr_return_amount,0)) as decimal(15,4))/\n",
    " \t\tcast(sum(coalesce(cs.cs_net_paid,0)) as decimal(15,4) )) as currency_ratio\n",
    " \t\tfrom\n",
    " \t\tdev.iceberg100.catalog_sales cs left outer join dev.iceberg100.catalog_returns cr\n",
    " \t\t\ton (cs.cs_order_number = cr.cr_order_number and\n",
    " \t\t\tcs.cs_item_sk = cr.cr_item_sk)\n",
    "                ,dev.iceberg100.date_dim\n",
    " \t\twhere\n",
    " \t\t\tcr.cr_return_amount > 10000\n",
    " \t\t\tand cs.cs_net_profit > 1\n",
    "                         and cs.cs_net_paid > 0\n",
    "                         and cs.cs_quantity > 0\n",
    "                         and cs_sold_date_sk = d_date_sk\n",
    "                         and d_year = 2000\n",
    "                         and d_moy = 11\n",
    "                 group by cs.cs_item_sk\n",
    " \t) in_cat\n",
    " ) catalog\n",
    " where\n",
    " (\n",
    " catalog.return_rank <= 10\n",
    " or\n",
    " catalog.currency_rank <=10\n",
    " )\n",
    " union\n",
    " select\n",
    " 'store' as channel\n",
    " ,store.item\n",
    " ,store.return_ratio\n",
    " ,store.return_rank\n",
    " ,store.currency_rank\n",
    " from (\n",
    " \tselect\n",
    " \t item\n",
    " \t,return_ratio\n",
    " \t,currency_ratio\n",
    " \t,rank() over (order by return_ratio) as return_rank\n",
    " \t,rank() over (order by currency_ratio) as currency_rank\n",
    " \tfrom\n",
    " \t(\tselect sts.ss_item_sk as item\n",
    " \t\t,(cast(sum(coalesce(sr.sr_return_quantity,0)) as decimal(15,4))/cast(sum(coalesce(sts.ss_quantity,0)) as decimal(15,4) )) as return_ratio\n",
    " \t\t,(cast(sum(coalesce(sr.sr_return_amt,0)) as decimal(15,4))/cast(sum(coalesce(sts.ss_net_paid,0)) as decimal(15,4) )) as currency_ratio\n",
    " \t\tfrom\n",
    " \t\tdev.iceberg100.store_sales sts left outer join dev.iceberg100.store_returns sr\n",
    " \t\t\ton (sts.ss_ticket_number = sr.sr_ticket_number and sts.ss_item_sk = sr.sr_item_sk)\n",
    "                ,dev.iceberg100.date_dim\n",
    " \t\twhere\n",
    " \t\t\tsr.sr_return_amt > 10000\n",
    " \t\t\tand sts.ss_net_profit > 1\n",
    "                         and sts.ss_net_paid > 0\n",
    "                         and sts.ss_quantity > 0\n",
    "                         and ss_sold_date_sk = d_date_sk\n",
    "                         and d_year = 2000\n",
    "                         and d_moy = 11\n",
    " \t\tgroup by sts.ss_item_sk\n",
    " \t) in_store\n",
    " ) store\n",
    " where  (\n",
    " store.return_rank <= 10\n",
    " or\n",
    " store.currency_rank <= 10\n",
    " )\n",
    " )\n",
    " order by 1,4,5,2\n",
    " limit 100"
   ]
  },
  {
   "cell_type": "code",
   "execution_count": 31,
   "id": "23422f2f-e88d-4ab9-96d6-bb5303ae209e",
   "metadata": {
    "execution": {
     "iopub.execute_input": "2024-01-20T23:34:42.470145Z",
     "iopub.status.busy": "2024-01-20T23:34:42.469878Z",
     "iopub.status.idle": "2024-01-20T23:37:12.405798Z",
     "shell.execute_reply": "2024-01-20T23:37:12.404712Z",
     "shell.execute_reply.started": "2024-01-20T23:34:42.470108Z"
    }
   },
   "outputs": [
    {
     "data": {
      "application/vnd.jupyter.widget-view+json": {
       "model_id": "",
       "version_major": 2,
       "version_minor": 0
      },
      "text/plain": [
       "FloatProgress(value=0.0, bar_style='info', description='Progress:', layout=Layout(height='25px', width='50%'),…"
      ]
     },
     "metadata": {},
     "output_type": "display_data"
    },
    {
     "data": {
      "application/vnd.jupyter.widget-view+json": {
       "model_id": "fd2c708c172a43348cacb0f2d598e8d3",
       "version_major": 2,
       "version_minor": 0
      },
      "text/plain": [
       "VBox(children=(HBox(children=(HTML(value='Type:'), Button(description='Table', layout=Layout(width='70px'), st…"
      ]
     },
     "metadata": {},
     "output_type": "display_data"
    },
    {
     "data": {
      "application/vnd.jupyter.widget-view+json": {
       "model_id": "7cdef569e5124b41bc21a9781db2fb38",
       "version_major": 2,
       "version_minor": 0
      },
      "text/plain": [
       "Output()"
      ]
     },
     "metadata": {},
     "output_type": "display_data"
    }
   ],
   "source": [
    "%%sql\n",
    "--#q50\n",
    "\n",
    "select\n",
    "   s_store_name\n",
    "  ,s_company_id\n",
    "  ,s_street_number\n",
    "  ,s_street_name\n",
    "  ,s_street_type\n",
    "  ,s_suite_number\n",
    "  ,s_city\n",
    "  ,s_county\n",
    "  ,s_state\n",
    "  ,s_zip\n",
    "  ,sum(case when (sr_returned_date_sk - ss_sold_date_sk <= 30 ) then 1 else 0 end)  as `30 days`\n",
    "  ,sum(case when (sr_returned_date_sk - ss_sold_date_sk > 30) and\n",
    "                 (sr_returned_date_sk - ss_sold_date_sk <= 60) then 1 else 0 end )  as `31-60 days`\n",
    "  ,sum(case when (sr_returned_date_sk - ss_sold_date_sk > 60) and\n",
    "                 (sr_returned_date_sk - ss_sold_date_sk <= 90) then 1 else 0 end)  as `61-90 days`\n",
    "  ,sum(case when (sr_returned_date_sk - ss_sold_date_sk > 90) and\n",
    "                 (sr_returned_date_sk - ss_sold_date_sk <= 120) then 1 else 0 end)  as `91-120 days`\n",
    "  ,sum(case when (sr_returned_date_sk - ss_sold_date_sk  > 120) then 1 else 0 end)  as `>120 days`\n",
    "from\n",
    "   dev.iceberg100.store_sales\n",
    "  ,dev.iceberg100.store_returns\n",
    "  ,dev.iceberg100.store\n",
    "  ,dev.iceberg100.date_dim d1\n",
    "  ,dev.iceberg100.date_dim d2\n",
    "where\n",
    "    d2.d_year = 1999\n",
    "and d2.d_moy  = 9\n",
    "and ss_ticket_number = sr_ticket_number\n",
    "and ss_item_sk = sr_item_sk\n",
    "and ss_sold_date_sk   = d1.d_date_sk\n",
    "and sr_returned_date_sk   = d2.d_date_sk\n",
    "and ss_customer_sk = sr_customer_sk\n",
    "and ss_store_sk = s_store_sk\n",
    "group by\n",
    "   s_store_name\n",
    "  ,s_company_id\n",
    "  ,s_street_number\n",
    "  ,s_street_name\n",
    "  ,s_street_type\n",
    "  ,s_suite_number\n",
    "  ,s_city\n",
    "  ,s_county\n",
    "  ,s_state\n",
    "  ,s_zip\n",
    "order by s_store_name\n",
    "        ,s_company_id\n",
    "        ,s_street_number\n",
    "        ,s_street_name\n",
    "        ,s_street_type\n",
    "        ,s_suite_number\n",
    "        ,s_city\n",
    "        ,s_county\n",
    "        ,s_state\n",
    "        ,s_zip\n",
    "limit 100"
   ]
  },
  {
   "cell_type": "code",
   "execution_count": 92,
   "id": "789d6619-bacf-4c28-9bc9-b9cb79e67a1a",
   "metadata": {
    "execution": {
     "iopub.execute_input": "2024-01-21T01:40:52.301497Z",
     "iopub.status.busy": "2024-01-21T01:40:52.301266Z",
     "iopub.status.idle": "2024-01-21T01:43:58.479611Z",
     "shell.execute_reply": "2024-01-21T01:43:58.478397Z",
     "shell.execute_reply.started": "2024-01-21T01:40:52.301465Z"
    },
    "tags": []
   },
   "outputs": [
    {
     "data": {
      "application/vnd.jupyter.widget-view+json": {
       "model_id": "",
       "version_major": 2,
       "version_minor": 0
      },
      "text/plain": [
       "FloatProgress(value=0.0, bar_style='info', description='Progress:', layout=Layout(height='25px', width='50%'),…"
      ]
     },
     "metadata": {},
     "output_type": "display_data"
    },
    {
     "data": {
      "application/vnd.jupyter.widget-view+json": {
       "model_id": "fd23f68c2ae34123916677eadbc83281",
       "version_major": 2,
       "version_minor": 0
      },
      "text/plain": [
       "VBox(children=(HBox(children=(HTML(value='Type:'), Button(description='Table', layout=Layout(width='70px'), st…"
      ]
     },
     "metadata": {},
     "output_type": "display_data"
    },
    {
     "data": {
      "application/vnd.jupyter.widget-view+json": {
       "model_id": "96d2a19eab12414eb88b1c9a7dd1ee98",
       "version_major": 2,
       "version_minor": 0
      },
      "text/plain": [
       "Output()"
      ]
     },
     "metadata": {},
     "output_type": "display_data"
    }
   ],
   "source": [
    "%%sql\n",
    "--#q51\n",
    "\n",
    "WITH web_v1 as (\n",
    "select\n",
    "  ws_item_sk item_sk, d_date,\n",
    "  sum(sum(ws_sales_price))\n",
    "      over (partition by ws_item_sk order by d_date rows between unbounded preceding and current row) cume_sales\n",
    "from dev.iceberg100.web_sales\n",
    "    ,dev.iceberg100.date_dim\n",
    "where ws_sold_date_sk=d_date_sk\n",
    "  and d_month_seq between 1176 and 1176+11\n",
    "  and ws_item_sk is not NULL\n",
    "group by ws_item_sk, d_date),\n",
    "store_v1 as (\n",
    "select\n",
    "  ss_item_sk item_sk, d_date,\n",
    "  sum(sum(ss_sales_price))\n",
    "      over (partition by ss_item_sk order by d_date rows between unbounded preceding and current row) cume_sales\n",
    "from dev.iceberg100.store_sales\n",
    "    ,dev.iceberg100.date_dim\n",
    "where ss_sold_date_sk=d_date_sk\n",
    "  and d_month_seq between 1176 and 1176+11\n",
    "  and ss_item_sk is not NULL\n",
    "group by ss_item_sk, d_date)\n",
    " select  *\n",
    "from (select item_sk\n",
    "     ,d_date\n",
    "     ,web_sales\n",
    "     ,store_sales\n",
    "     ,max(web_sales)\n",
    "         over (partition by item_sk order by d_date rows between unbounded preceding and current row) web_cumulative\n",
    "     ,max(store_sales)\n",
    "         over (partition by item_sk order by d_date rows between unbounded preceding and current row) store_cumulative\n",
    "     from (select case when web.item_sk is not null then web.item_sk else store.item_sk end item_sk\n",
    "                 ,case when web.d_date is not null then web.d_date else store.d_date end d_date\n",
    "                 ,web.cume_sales web_sales\n",
    "                 ,store.cume_sales store_sales\n",
    "           from web_v1 web full outer join store_v1 store on (web.item_sk = store.item_sk\n",
    "                                                          and web.d_date = store.d_date)\n",
    "          )x )y\n",
    "where web_cumulative > store_cumulative\n",
    "order by item_sk\n",
    "        ,d_date\n",
    "limit 100"
   ]
  },
  {
   "cell_type": "code",
   "execution_count": 33,
   "id": "cd46df23-6149-4f8a-9c54-b7c095978622",
   "metadata": {
    "execution": {
     "iopub.execute_input": "2024-01-20T23:37:12.642830Z",
     "iopub.status.busy": "2024-01-20T23:37:12.642597Z",
     "iopub.status.idle": "2024-01-20T23:37:58.188742Z",
     "shell.execute_reply": "2024-01-20T23:37:58.187681Z",
     "shell.execute_reply.started": "2024-01-20T23:37:12.642800Z"
    }
   },
   "outputs": [
    {
     "data": {
      "application/vnd.jupyter.widget-view+json": {
       "model_id": "",
       "version_major": 2,
       "version_minor": 0
      },
      "text/plain": [
       "FloatProgress(value=0.0, bar_style='info', description='Progress:', layout=Layout(height='25px', width='50%'),…"
      ]
     },
     "metadata": {},
     "output_type": "display_data"
    },
    {
     "data": {
      "application/vnd.jupyter.widget-view+json": {
       "model_id": "6516d342825846029bbf58517f5a05fc",
       "version_major": 2,
       "version_minor": 0
      },
      "text/plain": [
       "VBox(children=(HBox(children=(HTML(value='Type:'), Button(description='Table', layout=Layout(width='70px'), st…"
      ]
     },
     "metadata": {},
     "output_type": "display_data"
    },
    {
     "data": {
      "application/vnd.jupyter.widget-view+json": {
       "model_id": "684fea4ce6a04f74b414809a42baaa0f",
       "version_major": 2,
       "version_minor": 0
      },
      "text/plain": [
       "Output()"
      ]
     },
     "metadata": {},
     "output_type": "display_data"
    }
   ],
   "source": [
    "%%sql\n",
    "--#q52\n",
    "\n",
    "select  dt.d_year\n",
    " \t,dev.iceberg100.item.i_brand_id brand_id\n",
    " \t,item.i_brand brand\n",
    " \t,sum(ss_ext_sales_price) ext_price\n",
    " from dev.iceberg100.date_dim dt\n",
    "     ,dev.iceberg100.store_sales\n",
    "     ,dev.iceberg100.item\n",
    " where dt.d_date_sk = store_sales.ss_sold_date_sk\n",
    "    and store_sales.ss_item_sk = dev.iceberg100.item.i_item_sk\n",
    "    and dev.iceberg100.item.i_manager_id = 1\n",
    "    and dt.d_moy=11\n",
    "    and dt.d_year=2001\n",
    " group by dt.d_year\n",
    " \t,dev.iceberg100.item.i_brand\n",
    " \t,dev.iceberg100.item.i_brand_id\n",
    " order by dt.d_year\n",
    " \t,ext_price desc\n",
    " \t,brand_id\n",
    "limit 100"
   ]
  },
  {
   "cell_type": "code",
   "execution_count": 34,
   "id": "0dff174b-3165-42a7-9ca8-6665f5997906",
   "metadata": {
    "execution": {
     "iopub.execute_input": "2024-01-20T23:37:58.190084Z",
     "iopub.status.busy": "2024-01-20T23:37:58.189872Z",
     "iopub.status.idle": "2024-01-20T23:38:49.768373Z",
     "shell.execute_reply": "2024-01-20T23:38:49.767217Z",
     "shell.execute_reply.started": "2024-01-20T23:37:58.190054Z"
    }
   },
   "outputs": [
    {
     "data": {
      "application/vnd.jupyter.widget-view+json": {
       "model_id": "",
       "version_major": 2,
       "version_minor": 0
      },
      "text/plain": [
       "FloatProgress(value=0.0, bar_style='info', description='Progress:', layout=Layout(height='25px', width='50%'),…"
      ]
     },
     "metadata": {},
     "output_type": "display_data"
    },
    {
     "data": {
      "application/vnd.jupyter.widget-view+json": {
       "model_id": "27c4096948a54e4f9cbe5a9050c67bec",
       "version_major": 2,
       "version_minor": 0
      },
      "text/plain": [
       "VBox(children=(HBox(children=(HTML(value='Type:'), Button(description='Table', layout=Layout(width='70px'), st…"
      ]
     },
     "metadata": {},
     "output_type": "display_data"
    },
    {
     "data": {
      "application/vnd.jupyter.widget-view+json": {
       "model_id": "03fd05cde88a440a99493a4479dd9542",
       "version_major": 2,
       "version_minor": 0
      },
      "text/plain": [
       "Output()"
      ]
     },
     "metadata": {},
     "output_type": "display_data"
    }
   ],
   "source": [
    "%%sql\n",
    "--#q53\n",
    "\n",
    "select  * from\n",
    "(select i_manufact_id,\n",
    "sum(ss_sales_price) sum_sales,\n",
    "avg(sum(ss_sales_price)) over (partition by i_manufact_id) avg_quarterly_sales\n",
    "from dev.iceberg100.item, dev.iceberg100.store_sales, dev.iceberg100.date_dim, dev.iceberg100.store\n",
    "where ss_item_sk = i_item_sk and\n",
    "ss_sold_date_sk = d_date_sk and\n",
    "ss_store_sk = s_store_sk and\n",
    "d_month_seq in (1218,1218+1,1218+2,1218+3,1218+4,1218+5,1218+6,1218+7,1218+8,1218+9,1218+10,1218+11) and\n",
    "((i_category in ('Books','Children','Electronics') and\n",
    "i_class in ('personal','portable','reference','self-help') and\n",
    "i_brand in ('scholaramalgamalg #14','scholaramalgamalg #7',\n",
    "\t\t'exportiunivamalg #9','scholaramalgamalg #9'))\n",
    "or(i_category in ('Women','Music','Men') and\n",
    "i_class in ('accessories','classical','fragrances','pants') and\n",
    "i_brand in ('amalgimporto #1','edu packscholar #1','exportiimporto #1',\n",
    "\t\t'importoamalg #1')))\n",
    "group by i_manufact_id, d_qoy ) tmp1\n",
    "where case when avg_quarterly_sales > 0\n",
    "\tthen abs (sum_sales - avg_quarterly_sales)/ avg_quarterly_sales\n",
    "\telse null end > 0.1\n",
    "order by avg_quarterly_sales,\n",
    "\t sum_sales,\n",
    "\t i_manufact_id\n",
    "limit 100"
   ]
  },
  {
   "cell_type": "code",
   "execution_count": 35,
   "id": "6b09186c-0ed7-4ad1-8542-5de5b87cb353",
   "metadata": {
    "execution": {
     "iopub.execute_input": "2024-01-20T23:38:49.770065Z",
     "iopub.status.busy": "2024-01-20T23:38:49.769855Z",
     "iopub.status.idle": "2024-01-20T23:40:21.458290Z",
     "shell.execute_reply": "2024-01-20T23:40:21.457111Z",
     "shell.execute_reply.started": "2024-01-20T23:38:49.770035Z"
    }
   },
   "outputs": [
    {
     "data": {
      "application/vnd.jupyter.widget-view+json": {
       "model_id": "",
       "version_major": 2,
       "version_minor": 0
      },
      "text/plain": [
       "FloatProgress(value=0.0, bar_style='info', description='Progress:', layout=Layout(height='25px', width='50%'),…"
      ]
     },
     "metadata": {},
     "output_type": "display_data"
    },
    {
     "data": {
      "application/vnd.jupyter.widget-view+json": {
       "model_id": "cb56f681af1840b2be25aeff398f01b1",
       "version_major": 2,
       "version_minor": 0
      },
      "text/plain": [
       "VBox(children=(HBox(children=(HTML(value='Type:'), Button(description='Table', layout=Layout(width='70px'), st…"
      ]
     },
     "metadata": {},
     "output_type": "display_data"
    },
    {
     "data": {
      "application/vnd.jupyter.widget-view+json": {
       "model_id": "7232fc25ebb44d339f2b610868c10a4a",
       "version_major": 2,
       "version_minor": 0
      },
      "text/plain": [
       "Output()"
      ]
     },
     "metadata": {},
     "output_type": "display_data"
    }
   ],
   "source": [
    "%%sql\n",
    "--#q54\n",
    "\n",
    "with my_customers as (\n",
    " select distinct c_customer_sk\n",
    "        , c_current_addr_sk\n",
    " from\n",
    "        ( select cs_sold_date_sk sold_date_sk,\n",
    "                 cs_bill_customer_sk customer_sk,\n",
    "                 cs_item_sk item_sk\n",
    "          from   dev.iceberg100.catalog_sales\n",
    "          union all\n",
    "          select ws_sold_date_sk sold_date_sk,\n",
    "                 ws_bill_customer_sk customer_sk,\n",
    "                 ws_item_sk item_sk\n",
    "          from   dev.iceberg100.web_sales\n",
    "         ) cs_or_ws_sales,\n",
    "         dev.iceberg100.item,\n",
    "         dev.iceberg100.date_dim,\n",
    "         dev.iceberg100.customer\n",
    " where   sold_date_sk = d_date_sk\n",
    "         and item_sk = i_item_sk\n",
    "         and i_category = 'Music'\n",
    "         and i_class = 'country'\n",
    "         and c_customer_sk = cs_or_ws_sales.customer_sk\n",
    "         and d_moy = 7\n",
    "         and d_year = 2001\n",
    " )\n",
    " , my_revenue as (\n",
    " select c_customer_sk,\n",
    "        sum(ss_ext_sales_price) as revenue\n",
    " from   my_customers,\n",
    "        dev.iceberg100.store_sales,\n",
    "        dev.iceberg100.customer_address,\n",
    "        dev.iceberg100.store,\n",
    "        dev.iceberg100.date_dim\n",
    " where  c_current_addr_sk = ca_address_sk\n",
    "        and ca_county = s_county\n",
    "        and ca_state = s_state\n",
    "        and ss_sold_date_sk = d_date_sk\n",
    "        and c_customer_sk = ss_customer_sk\n",
    "        and d_month_seq between (select distinct d_month_seq+1\n",
    "                                 from   dev.iceberg100.date_dim where d_year = 2001 and d_moy = 7)\n",
    "                           and  (select distinct d_month_seq+3\n",
    "                                 from   dev.iceberg100.date_dim where d_year = 2001 and d_moy = 7)\n",
    " group by c_customer_sk\n",
    " )\n",
    " , segments as\n",
    " (select cast((revenue/50) as int) as segment\n",
    "  from   my_revenue\n",
    " )\n",
    "  select  segment, count(*) as num_customers, segment*50 as segment_base\n",
    " from segments\n",
    " group by segment\n",
    " order by segment, num_customers\n",
    " limit 100"
   ]
  },
  {
   "cell_type": "code",
   "execution_count": 36,
   "id": "af2d2515-7296-43a4-8258-31d7a2c2b944",
   "metadata": {
    "execution": {
     "iopub.execute_input": "2024-01-20T23:40:21.460025Z",
     "iopub.status.busy": "2024-01-20T23:40:21.459802Z",
     "iopub.status.idle": "2024-01-20T23:41:05.014379Z",
     "shell.execute_reply": "2024-01-20T23:41:05.013322Z",
     "shell.execute_reply.started": "2024-01-20T23:40:21.459996Z"
    }
   },
   "outputs": [
    {
     "data": {
      "application/vnd.jupyter.widget-view+json": {
       "model_id": "",
       "version_major": 2,
       "version_minor": 0
      },
      "text/plain": [
       "FloatProgress(value=0.0, bar_style='info', description='Progress:', layout=Layout(height='25px', width='50%'),…"
      ]
     },
     "metadata": {},
     "output_type": "display_data"
    },
    {
     "data": {
      "application/vnd.jupyter.widget-view+json": {
       "model_id": "c42b76f9628344e880edcfeaca0548ca",
       "version_major": 2,
       "version_minor": 0
      },
      "text/plain": [
       "VBox(children=(HBox(children=(HTML(value='Type:'), Button(description='Table', layout=Layout(width='70px'), st…"
      ]
     },
     "metadata": {},
     "output_type": "display_data"
    },
    {
     "data": {
      "application/vnd.jupyter.widget-view+json": {
       "model_id": "3f9c22fea7cf4efb805a941c5c259254",
       "version_major": 2,
       "version_minor": 0
      },
      "text/plain": [
       "Output()"
      ]
     },
     "metadata": {},
     "output_type": "display_data"
    }
   ],
   "source": [
    "%%sql\n",
    "--#q55\n",
    "\n",
    "select  i_brand_id brand_id, i_brand brand,\n",
    " \tsum(ss_ext_sales_price) ext_price\n",
    " from dev.iceberg100.date_dim, dev.iceberg100.store_sales, dev.iceberg100.item\n",
    " where d_date_sk = ss_sold_date_sk\n",
    " \tand ss_item_sk = i_item_sk\n",
    " \tand i_manager_id=87\n",
    " \tand d_moy=11\n",
    " \tand d_year=2001\n",
    " group by i_brand, i_brand_id\n",
    " order by ext_price desc, i_brand_id\n",
    "limit 100"
   ]
  },
  {
   "cell_type": "code",
   "execution_count": 37,
   "id": "778c5c70-35e5-44c3-9c61-7fb441e7626e",
   "metadata": {
    "execution": {
     "iopub.execute_input": "2024-01-20T23:41:05.015950Z",
     "iopub.status.busy": "2024-01-20T23:41:05.015716Z",
     "iopub.status.idle": "2024-01-20T23:42:46.796123Z",
     "shell.execute_reply": "2024-01-20T23:42:46.794680Z",
     "shell.execute_reply.started": "2024-01-20T23:41:05.015919Z"
    }
   },
   "outputs": [
    {
     "data": {
      "application/vnd.jupyter.widget-view+json": {
       "model_id": "",
       "version_major": 2,
       "version_minor": 0
      },
      "text/plain": [
       "FloatProgress(value=0.0, bar_style='info', description='Progress:', layout=Layout(height='25px', width='50%'),…"
      ]
     },
     "metadata": {},
     "output_type": "display_data"
    },
    {
     "data": {
      "application/vnd.jupyter.widget-view+json": {
       "model_id": "a2f30c58e65f4d1cb312c50fefd0cfb9",
       "version_major": 2,
       "version_minor": 0
      },
      "text/plain": [
       "VBox(children=(HBox(children=(HTML(value='Type:'), Button(description='Table', layout=Layout(width='70px'), st…"
      ]
     },
     "metadata": {},
     "output_type": "display_data"
    },
    {
     "data": {
      "application/vnd.jupyter.widget-view+json": {
       "model_id": "bd1e06ee4fac4fbd92c8865b6f4f0b69",
       "version_major": 2,
       "version_minor": 0
      },
      "text/plain": [
       "Output()"
      ]
     },
     "metadata": {},
     "output_type": "display_data"
    }
   ],
   "source": [
    "%%sql\n",
    "--#q56\n",
    "\n",
    "with ss as (\n",
    " select i_item_id,sum(ss_ext_sales_price) total_sales\n",
    " from\n",
    " \tdev.iceberg100.store_sales,\n",
    " \tdev.iceberg100.date_dim,\n",
    "         dev.iceberg100.customer_address,\n",
    "         dev.iceberg100.item\n",
    " where i_item_id in (select\n",
    "     i_item_id\n",
    "from dev.iceberg100.item\n",
    "where i_color in ('tan','lace','gainsboro'))\n",
    " and     ss_item_sk              = i_item_sk\n",
    " and     ss_sold_date_sk         = d_date_sk\n",
    " and     d_year                  = 1998\n",
    " and     d_moy                   = 3\n",
    " and     ss_addr_sk              = ca_address_sk\n",
    " and     ca_gmt_offset           = -5\n",
    " group by i_item_id),\n",
    " cs as (\n",
    " select i_item_id,sum(cs_ext_sales_price) total_sales\n",
    " from\n",
    " \tdev.iceberg100.catalog_sales,\n",
    " \tdev.iceberg100.date_dim,\n",
    "         dev.iceberg100.customer_address,\n",
    "         dev.iceberg100.item\n",
    " where\n",
    "         i_item_id               in (select\n",
    "  i_item_id\n",
    "from dev.iceberg100.item\n",
    "where i_color in ('tan','lace','gainsboro'))\n",
    " and     cs_item_sk              = i_item_sk\n",
    " and     cs_sold_date_sk         = d_date_sk\n",
    " and     d_year                  = 1998\n",
    " and     d_moy                   = 3\n",
    " and     cs_bill_addr_sk         = ca_address_sk\n",
    " and     ca_gmt_offset           = -5\n",
    " group by i_item_id),\n",
    " ws as (\n",
    " select i_item_id,sum(ws_ext_sales_price) total_sales\n",
    " from\n",
    " \tdev.iceberg100.web_sales,\n",
    " \tdev.iceberg100.date_dim,\n",
    "         dev.iceberg100.customer_address,\n",
    "         dev.iceberg100.item\n",
    " where\n",
    "         i_item_id               in (select\n",
    "  i_item_id\n",
    "from dev.iceberg100.item\n",
    "where i_color in ('tan','lace','gainsboro'))\n",
    " and     ws_item_sk              = i_item_sk\n",
    " and     ws_sold_date_sk         = d_date_sk\n",
    " and     d_year                  = 1998\n",
    " and     d_moy                   = 3\n",
    " and     ws_bill_addr_sk         = ca_address_sk\n",
    " and     ca_gmt_offset           = -5\n",
    " group by i_item_id)\n",
    "  select  i_item_id ,sum(total_sales) total_sales\n",
    " from  (select * from ss\n",
    "        union all\n",
    "        select * from cs\n",
    "        union all\n",
    "        select * from ws) tmp1\n",
    " group by i_item_id\n",
    " order by total_sales,\n",
    "          i_item_id\n",
    " limit 100"
   ]
  },
  {
   "cell_type": "code",
   "execution_count": 38,
   "id": "b204407e-afd1-4973-baf3-557f41ec51f5",
   "metadata": {
    "execution": {
     "iopub.execute_input": "2024-01-20T23:42:46.798519Z",
     "iopub.status.busy": "2024-01-20T23:42:46.798188Z",
     "iopub.status.idle": "2024-01-20T23:43:56.440375Z",
     "shell.execute_reply": "2024-01-20T23:43:56.439221Z",
     "shell.execute_reply.started": "2024-01-20T23:42:46.798471Z"
    }
   },
   "outputs": [
    {
     "data": {
      "application/vnd.jupyter.widget-view+json": {
       "model_id": "",
       "version_major": 2,
       "version_minor": 0
      },
      "text/plain": [
       "FloatProgress(value=0.0, bar_style='info', description='Progress:', layout=Layout(height='25px', width='50%'),…"
      ]
     },
     "metadata": {},
     "output_type": "display_data"
    },
    {
     "data": {
      "application/vnd.jupyter.widget-view+json": {
       "model_id": "00b1a376c7d4478b876354b77b4ee106",
       "version_major": 2,
       "version_minor": 0
      },
      "text/plain": [
       "VBox(children=(HBox(children=(HTML(value='Type:'), Button(description='Table', layout=Layout(width='70px'), st…"
      ]
     },
     "metadata": {},
     "output_type": "display_data"
    },
    {
     "data": {
      "application/vnd.jupyter.widget-view+json": {
       "model_id": "7cc9a402ff5849929194036e588145de",
       "version_major": 2,
       "version_minor": 0
      },
      "text/plain": [
       "Output()"
      ]
     },
     "metadata": {},
     "output_type": "display_data"
    }
   ],
   "source": [
    "%%sql\n",
    "--#q57\n",
    "\n",
    "with v1 as(\n",
    " select i_category, i_brand,\n",
    "        cc_name,\n",
    "        d_year, d_moy,\n",
    "        sum(cs_sales_price) sum_sales,\n",
    "        avg(sum(cs_sales_price)) over\n",
    "          (partition by i_category, i_brand,\n",
    "                     cc_name, d_year)\n",
    "          avg_monthly_sales,\n",
    "        rank() over\n",
    "          (partition by i_category, i_brand,\n",
    "                     cc_name\n",
    "           order by d_year, d_moy) rn\n",
    " from dev.iceberg100.item, dev.iceberg100.catalog_sales, dev.iceberg100.date_dim, dev.iceberg100.call_center\n",
    " where cs_item_sk = i_item_sk and\n",
    "       cs_sold_date_sk = d_date_sk and\n",
    "       cc_call_center_sk= cs_call_center_sk and\n",
    "       (\n",
    "         d_year = 2001 or\n",
    "         ( d_year = 2001-1 and d_moy =12) or\n",
    "         ( d_year = 2001+1 and d_moy =1)\n",
    "       )\n",
    " group by i_category, i_brand,\n",
    "          cc_name , d_year, d_moy),\n",
    " v2 as(\n",
    " select v1.i_category, v1.i_brand, v1.cc_name\n",
    "        ,v1.d_year, v1.d_moy\n",
    "        ,v1.avg_monthly_sales\n",
    "        ,v1.sum_sales, v1_lag.sum_sales psum, v1_lead.sum_sales nsum\n",
    " from v1, v1 v1_lag, v1 v1_lead\n",
    " where v1.i_category = v1_lag.i_category and\n",
    "       v1.i_category = v1_lead.i_category and\n",
    "       v1.i_brand = v1_lag.i_brand and\n",
    "       v1.i_brand = v1_lead.i_brand and\n",
    "       v1. cc_name = v1_lag. cc_name and\n",
    "       v1. cc_name = v1_lead. cc_name and\n",
    "       v1.rn = v1_lag.rn + 1 and\n",
    "       v1.rn = v1_lead.rn - 1)\n",
    "  select  *\n",
    " from v2\n",
    " where  d_year = 2001 and\n",
    "        avg_monthly_sales > 0 and\n",
    "        case when avg_monthly_sales > 0 then abs(sum_sales - avg_monthly_sales) / avg_monthly_sales else null end > 0.1\n",
    " order by sum_sales - avg_monthly_sales, avg_monthly_sales\n",
    " limit 100"
   ]
  },
  {
   "cell_type": "code",
   "execution_count": 39,
   "id": "3aeaf5f0-52fd-4660-beba-f6bb006c62d1",
   "metadata": {
    "execution": {
     "iopub.execute_input": "2024-01-20T23:43:56.446241Z",
     "iopub.status.busy": "2024-01-20T23:43:56.445952Z",
     "iopub.status.idle": "2024-01-20T23:45:26.132690Z",
     "shell.execute_reply": "2024-01-20T23:45:26.131553Z",
     "shell.execute_reply.started": "2024-01-20T23:43:56.446206Z"
    }
   },
   "outputs": [
    {
     "data": {
      "application/vnd.jupyter.widget-view+json": {
       "model_id": "",
       "version_major": 2,
       "version_minor": 0
      },
      "text/plain": [
       "FloatProgress(value=0.0, bar_style='info', description='Progress:', layout=Layout(height='25px', width='50%'),…"
      ]
     },
     "metadata": {},
     "output_type": "display_data"
    },
    {
     "data": {
      "application/vnd.jupyter.widget-view+json": {
       "model_id": "11571320fddb44bda0e27379569d1332",
       "version_major": 2,
       "version_minor": 0
      },
      "text/plain": [
       "VBox(children=(HBox(children=(HTML(value='Type:'), Button(description='Table', layout=Layout(width='70px'), st…"
      ]
     },
     "metadata": {},
     "output_type": "display_data"
    },
    {
     "data": {
      "application/vnd.jupyter.widget-view+json": {
       "model_id": "6bb71f799803481ea053f3eea97688bf",
       "version_major": 2,
       "version_minor": 0
      },
      "text/plain": [
       "Output()"
      ]
     },
     "metadata": {},
     "output_type": "display_data"
    }
   ],
   "source": [
    "%%sql\n",
    "--#q58\n",
    "\n",
    "with ss_items as\n",
    " (select i_item_id item_id\n",
    "        ,sum(ss_ext_sales_price) ss_item_rev\n",
    " from dev.iceberg100.store_sales\n",
    "     ,dev.iceberg100.item\n",
    "     ,dev.iceberg100.date_dim\n",
    " where ss_item_sk = i_item_sk\n",
    "   and d_date in (select d_date\n",
    "                  from dev.iceberg100.date_dim\n",
    "                  where d_week_seq = (select d_week_seq\n",
    "                                      from dev.iceberg100.date_dim\n",
    "                                      where d_date = '2000-03-26'))\n",
    "   and ss_sold_date_sk   = d_date_sk\n",
    " group by i_item_id),\n",
    " cs_items as\n",
    " (select i_item_id item_id\n",
    "        ,sum(cs_ext_sales_price) cs_item_rev\n",
    "  from dev.iceberg100.catalog_sales\n",
    "      ,dev.iceberg100.item\n",
    "      ,dev.iceberg100.date_dim\n",
    " where cs_item_sk = i_item_sk\n",
    "  and  d_date in (select d_date\n",
    "                  from dev.iceberg100.date_dim\n",
    "                  where d_week_seq = (select d_week_seq\n",
    "                                      from dev.iceberg100.date_dim\n",
    "                                      where d_date = '2000-03-26'))\n",
    "  and  cs_sold_date_sk = d_date_sk\n",
    " group by i_item_id),\n",
    " ws_items as\n",
    " (select i_item_id item_id\n",
    "        ,sum(ws_ext_sales_price) ws_item_rev\n",
    "  from dev.iceberg100.web_sales\n",
    "      ,dev.iceberg100.item\n",
    "      ,dev.iceberg100.date_dim\n",
    " where ws_item_sk = i_item_sk\n",
    "  and  d_date in (select d_date\n",
    "                  from dev.iceberg100.date_dim\n",
    "                  where d_week_seq =(select d_week_seq\n",
    "                                     from dev.iceberg100.date_dim\n",
    "                                     where d_date = '2000-03-26'))\n",
    "  and ws_sold_date_sk   = d_date_sk\n",
    " group by i_item_id)\n",
    "  select  ss_items.item_id\n",
    "       ,ss_item_rev\n",
    "       ,ss_item_rev/((ss_item_rev+cs_item_rev+ws_item_rev)/3) * 100 ss_dev\n",
    "       ,cs_item_rev\n",
    "       ,cs_item_rev/((ss_item_rev+cs_item_rev+ws_item_rev)/3) * 100 cs_dev\n",
    "       ,ws_item_rev\n",
    "       ,ws_item_rev/((ss_item_rev+cs_item_rev+ws_item_rev)/3) * 100 ws_dev\n",
    "       ,(ss_item_rev+cs_item_rev+ws_item_rev)/3 average\n",
    " from ss_items,cs_items,ws_items\n",
    " where ss_items.item_id=cs_items.item_id\n",
    "   and ss_items.item_id=ws_items.item_id\n",
    "   and ss_item_rev between 0.9 * cs_item_rev and 1.1 * cs_item_rev\n",
    "   and ss_item_rev between 0.9 * ws_item_rev and 1.1 * ws_item_rev\n",
    "   and cs_item_rev between 0.9 * ss_item_rev and 1.1 * ss_item_rev\n",
    "   and cs_item_rev between 0.9 * ws_item_rev and 1.1 * ws_item_rev\n",
    "   and ws_item_rev between 0.9 * ss_item_rev and 1.1 * ss_item_rev\n",
    "   and ws_item_rev between 0.9 * cs_item_rev and 1.1 * cs_item_rev\n",
    " order by item_id\n",
    "         ,ss_item_rev\n",
    " limit 100"
   ]
  },
  {
   "cell_type": "code",
   "execution_count": 40,
   "id": "8ef01ebf-4352-4cbf-8aa2-13581d7f37fa",
   "metadata": {
    "execution": {
     "iopub.execute_input": "2024-01-20T23:45:26.137350Z",
     "iopub.status.busy": "2024-01-20T23:45:26.136925Z",
     "iopub.status.idle": "2024-01-20T23:46:45.840211Z",
     "shell.execute_reply": "2024-01-20T23:46:45.838821Z",
     "shell.execute_reply.started": "2024-01-20T23:45:26.137244Z"
    }
   },
   "outputs": [
    {
     "data": {
      "application/vnd.jupyter.widget-view+json": {
       "model_id": "",
       "version_major": 2,
       "version_minor": 0
      },
      "text/plain": [
       "FloatProgress(value=0.0, bar_style='info', description='Progress:', layout=Layout(height='25px', width='50%'),…"
      ]
     },
     "metadata": {},
     "output_type": "display_data"
    },
    {
     "data": {
      "application/vnd.jupyter.widget-view+json": {
       "model_id": "a525575cc83941d6b25a385a813c7f8f",
       "version_major": 2,
       "version_minor": 0
      },
      "text/plain": [
       "VBox(children=(HBox(children=(HTML(value='Type:'), Button(description='Table', layout=Layout(width='70px'), st…"
      ]
     },
     "metadata": {},
     "output_type": "display_data"
    },
    {
     "data": {
      "application/vnd.jupyter.widget-view+json": {
       "model_id": "bcbf0070888343c09dc2dde9d8f85be4",
       "version_major": 2,
       "version_minor": 0
      },
      "text/plain": [
       "Output()"
      ]
     },
     "metadata": {},
     "output_type": "display_data"
    }
   ],
   "source": [
    "%%sql\n",
    "--#q59\n",
    "\n",
    "with wss as\n",
    " (select d_week_seq,\n",
    "        ss_store_sk,\n",
    "        sum(case when (d_day_name='Sunday') then ss_sales_price else null end) sun_sales,\n",
    "        sum(case when (d_day_name='Monday') then ss_sales_price else null end) mon_sales,\n",
    "        sum(case when (d_day_name='Tuesday') then ss_sales_price else  null end) tue_sales,\n",
    "        sum(case when (d_day_name='Wednesday') then ss_sales_price else null end) wed_sales,\n",
    "        sum(case when (d_day_name='Thursday') then ss_sales_price else null end) thu_sales,\n",
    "        sum(case when (d_day_name='Friday') then ss_sales_price else null end) fri_sales,\n",
    "        sum(case when (d_day_name='Saturday') then ss_sales_price else null end) sat_sales\n",
    " from dev.iceberg100.store_sales,dev.iceberg100.date_dim\n",
    " where d_date_sk = ss_sold_date_sk\n",
    " group by d_week_seq,ss_store_sk\n",
    " )\n",
    "  select  s_store_name1,s_store_id1,d_week_seq1\n",
    "       ,sun_sales1/sun_sales2,mon_sales1/mon_sales2\n",
    "       ,tue_sales1/tue_sales2,wed_sales1/wed_sales2,thu_sales1/thu_sales2\n",
    "       ,fri_sales1/fri_sales2,sat_sales1/sat_sales2\n",
    " from\n",
    " (select s_store_name s_store_name1,wss.d_week_seq d_week_seq1\n",
    "        ,s_store_id s_store_id1,sun_sales sun_sales1\n",
    "        ,mon_sales mon_sales1,tue_sales tue_sales1\n",
    "        ,wed_sales wed_sales1,thu_sales thu_sales1\n",
    "        ,fri_sales fri_sales1,sat_sales sat_sales1\n",
    "  from wss,dev.iceberg100.store,dev.iceberg100.date_dim d\n",
    "  where d.d_week_seq = wss.d_week_seq and\n",
    "        ss_store_sk = s_store_sk and\n",
    "        d_month_seq between 1199 and 1199 + 11) y,\n",
    " (select s_store_name s_store_name2,wss.d_week_seq d_week_seq2\n",
    "        ,s_store_id s_store_id2,sun_sales sun_sales2\n",
    "        ,mon_sales mon_sales2,tue_sales tue_sales2\n",
    "        ,wed_sales wed_sales2,thu_sales thu_sales2\n",
    "        ,fri_sales fri_sales2,sat_sales sat_sales2\n",
    "  from wss,dev.iceberg100.store,dev.iceberg100.date_dim d\n",
    "  where d.d_week_seq = wss.d_week_seq and\n",
    "        ss_store_sk = s_store_sk and\n",
    "        d_month_seq between 1199+ 12 and 1199 + 23) x\n",
    " where s_store_id1=s_store_id2\n",
    "   and d_week_seq1=d_week_seq2-52\n",
    " order by s_store_name1,s_store_id1,d_week_seq1\n",
    "limit 100"
   ]
  },
  {
   "cell_type": "code",
   "execution_count": 41,
   "id": "48ea7f3a-d428-49ad-a631-ef3e187cef5e",
   "metadata": {
    "execution": {
     "iopub.execute_input": "2024-01-20T23:46:45.842751Z",
     "iopub.status.busy": "2024-01-20T23:46:45.842419Z",
     "iopub.status.idle": "2024-01-20T23:48:29.615916Z",
     "shell.execute_reply": "2024-01-20T23:48:29.614778Z",
     "shell.execute_reply.started": "2024-01-20T23:46:45.842704Z"
    }
   },
   "outputs": [
    {
     "data": {
      "application/vnd.jupyter.widget-view+json": {
       "model_id": "",
       "version_major": 2,
       "version_minor": 0
      },
      "text/plain": [
       "FloatProgress(value=0.0, bar_style='info', description='Progress:', layout=Layout(height='25px', width='50%'),…"
      ]
     },
     "metadata": {},
     "output_type": "display_data"
    },
    {
     "data": {
      "application/vnd.jupyter.widget-view+json": {
       "model_id": "93b8d6205737449d8c8cecb424028f7e",
       "version_major": 2,
       "version_minor": 0
      },
      "text/plain": [
       "VBox(children=(HBox(children=(HTML(value='Type:'), Button(description='Table', layout=Layout(width='70px'), st…"
      ]
     },
     "metadata": {},
     "output_type": "display_data"
    },
    {
     "data": {
      "application/vnd.jupyter.widget-view+json": {
       "model_id": "0d18e5a4a7d547bba55e932224d62338",
       "version_major": 2,
       "version_minor": 0
      },
      "text/plain": [
       "Output()"
      ]
     },
     "metadata": {},
     "output_type": "display_data"
    }
   ],
   "source": [
    "%%sql\n",
    "--#q60\n",
    "\n",
    "with ss as (\n",
    " select\n",
    "          i_item_id,sum(ss_ext_sales_price) total_sales\n",
    " from\n",
    " \tdev.iceberg100.store_sales,\n",
    " \tdev.iceberg100.date_dim,\n",
    "         dev.iceberg100.customer_address,\n",
    "         dev.iceberg100.item\n",
    " where\n",
    "         i_item_id in (select\n",
    "  i_item_id\n",
    "from\n",
    " dev.iceberg100.item\n",
    "where i_category in ('Men'))\n",
    " and     ss_item_sk              = i_item_sk\n",
    " and     ss_sold_date_sk         = d_date_sk\n",
    " and     d_year                  = 2000\n",
    " and     d_moy                   = 9\n",
    " and     ss_addr_sk              = ca_address_sk\n",
    " and     ca_gmt_offset           = -5\n",
    " group by i_item_id),\n",
    " cs as (\n",
    " select\n",
    "          i_item_id,sum(cs_ext_sales_price) total_sales\n",
    " from\n",
    " \tdev.iceberg100.catalog_sales,\n",
    " \tdev.iceberg100.date_dim,\n",
    "         dev.iceberg100.customer_address,\n",
    "         dev.iceberg100.item\n",
    " where\n",
    "         i_item_id               in (select\n",
    "  i_item_id\n",
    "from\n",
    " dev.iceberg100.item\n",
    "where i_category in ('Men'))\n",
    " and     cs_item_sk              = i_item_sk\n",
    " and     cs_sold_date_sk         = d_date_sk\n",
    " and     d_year                  = 2000\n",
    " and     d_moy                   = 9\n",
    " and     cs_bill_addr_sk         = ca_address_sk\n",
    " and     ca_gmt_offset           = -5\n",
    " group by i_item_id),\n",
    " ws as (\n",
    " select\n",
    "          i_item_id,sum(ws_ext_sales_price) total_sales\n",
    " from\n",
    " \tdev.iceberg100.web_sales,\n",
    " \tdev.iceberg100.date_dim,\n",
    "         dev.iceberg100.customer_address,\n",
    "         dev.iceberg100.item\n",
    " where\n",
    "         i_item_id               in (select\n",
    "  i_item_id\n",
    "from\n",
    " dev.iceberg100.item\n",
    "where i_category in ('Men'))\n",
    " and     ws_item_sk              = i_item_sk\n",
    " and     ws_sold_date_sk         = d_date_sk\n",
    " and     d_year                  = 2000\n",
    " and     d_moy                   = 9\n",
    " and     ws_bill_addr_sk         = ca_address_sk\n",
    " and     ca_gmt_offset           = -5\n",
    " group by i_item_id)\n",
    "  select\n",
    "  i_item_id\n",
    ",sum(total_sales) total_sales\n",
    " from  (select * from ss\n",
    "        union all\n",
    "        select * from cs\n",
    "        union all\n",
    "        select * from ws) tmp1\n",
    " group by i_item_id\n",
    " order by i_item_id\n",
    "      ,total_sales\n",
    " limit 100"
   ]
  },
  {
   "cell_type": "code",
   "execution_count": 42,
   "id": "ec832d80-d176-4f11-907c-1fa2167f612b",
   "metadata": {
    "execution": {
     "iopub.execute_input": "2024-01-20T23:48:29.617485Z",
     "iopub.status.busy": "2024-01-20T23:48:29.617244Z",
     "iopub.status.idle": "2024-01-20T23:50:05.265808Z",
     "shell.execute_reply": "2024-01-20T23:50:05.264545Z",
     "shell.execute_reply.started": "2024-01-20T23:48:29.617453Z"
    }
   },
   "outputs": [
    {
     "data": {
      "application/vnd.jupyter.widget-view+json": {
       "model_id": "",
       "version_major": 2,
       "version_minor": 0
      },
      "text/plain": [
       "FloatProgress(value=0.0, bar_style='info', description='Progress:', layout=Layout(height='25px', width='50%'),…"
      ]
     },
     "metadata": {},
     "output_type": "display_data"
    },
    {
     "data": {
      "application/vnd.jupyter.widget-view+json": {
       "model_id": "a2e7724497f8474aa51e230d651f14c1",
       "version_major": 2,
       "version_minor": 0
      },
      "text/plain": [
       "VBox(children=(HBox(children=(HTML(value='Type:'), Button(description='Table', layout=Layout(width='70px'), st…"
      ]
     },
     "metadata": {},
     "output_type": "display_data"
    },
    {
     "data": {
      "application/vnd.jupyter.widget-view+json": {
       "model_id": "0fb6831a06db4be99355eb52212a24a6",
       "version_major": 2,
       "version_minor": 0
      },
      "text/plain": [
       "Output()"
      ]
     },
     "metadata": {},
     "output_type": "display_data"
    }
   ],
   "source": [
    "%%sql\n",
    "--#q61\n",
    "\n",
    "select  promotions,total,cast(promotions as decimal(15,4))/cast(total as decimal(15,4))*100\n",
    "from\n",
    "  (select sum(ss_ext_sales_price) promotions\n",
    "   from  dev.iceberg100.store_sales\n",
    "        ,dev.iceberg100.store\n",
    "        ,dev.iceberg100.promotion\n",
    "        ,dev.iceberg100.date_dim\n",
    "        ,dev.iceberg100.customer\n",
    "        ,dev.iceberg100.customer_address\n",
    "        ,dev.iceberg100.item\n",
    "   where ss_sold_date_sk = d_date_sk\n",
    "   and   ss_store_sk = s_store_sk\n",
    "   and   ss_promo_sk = p_promo_sk\n",
    "   and   ss_customer_sk= c_customer_sk\n",
    "   and   ca_address_sk = c_current_addr_sk\n",
    "   and   ss_item_sk = i_item_sk\n",
    "   and   ca_gmt_offset = -7\n",
    "   and   i_category = 'Electronics'\n",
    "   and   (p_channel_dmail = 'Y' or p_channel_email = 'Y' or p_channel_tv = 'Y')\n",
    "   and   s_gmt_offset = -7\n",
    "   and   d_year = 2001\n",
    "   and   d_moy  = 11) promotional_sales,\n",
    "  (select sum(ss_ext_sales_price) total\n",
    "   from  dev.iceberg100.store_sales\n",
    "        ,dev.iceberg100.store\n",
    "        ,dev.iceberg100.date_dim\n",
    "        ,dev.iceberg100.customer\n",
    "        ,dev.iceberg100.customer_address\n",
    "        ,dev.iceberg100.item\n",
    "   where ss_sold_date_sk = d_date_sk\n",
    "   and   ss_store_sk = s_store_sk\n",
    "   and   ss_customer_sk= c_customer_sk\n",
    "   and   ca_address_sk = c_current_addr_sk\n",
    "   and   ss_item_sk = i_item_sk\n",
    "   and   ca_gmt_offset = -7\n",
    "   and   i_category = 'Electronics'\n",
    "   and   s_gmt_offset = -7\n",
    "   and   d_year = 2001\n",
    "   and   d_moy  = 11) all_sales\n",
    "order by promotions, total\n",
    "limit 100"
   ]
  },
  {
   "cell_type": "code",
   "execution_count": 43,
   "id": "256194a5-1414-4d63-9846-10aabe275c50",
   "metadata": {
    "execution": {
     "iopub.execute_input": "2024-01-20T23:50:05.268071Z",
     "iopub.status.busy": "2024-01-20T23:50:05.267720Z",
     "iopub.status.idle": "2024-01-20T23:50:26.771718Z",
     "shell.execute_reply": "2024-01-20T23:50:26.770723Z",
     "shell.execute_reply.started": "2024-01-20T23:50:05.268020Z"
    }
   },
   "outputs": [
    {
     "data": {
      "application/vnd.jupyter.widget-view+json": {
       "model_id": "",
       "version_major": 2,
       "version_minor": 0
      },
      "text/plain": [
       "FloatProgress(value=0.0, bar_style='info', description='Progress:', layout=Layout(height='25px', width='50%'),…"
      ]
     },
     "metadata": {},
     "output_type": "display_data"
    },
    {
     "data": {
      "application/vnd.jupyter.widget-view+json": {
       "model_id": "7e12fc3a760c4461a7ad2d11209ebc62",
       "version_major": 2,
       "version_minor": 0
      },
      "text/plain": [
       "VBox(children=(HBox(children=(HTML(value='Type:'), Button(description='Table', layout=Layout(width='70px'), st…"
      ]
     },
     "metadata": {},
     "output_type": "display_data"
    },
    {
     "data": {
      "application/vnd.jupyter.widget-view+json": {
       "model_id": "c36849aecb0843dbaaf23a9f6255c146",
       "version_major": 2,
       "version_minor": 0
      },
      "text/plain": [
       "Output()"
      ]
     },
     "metadata": {},
     "output_type": "display_data"
    }
   ],
   "source": [
    "%%sql\n",
    "--#q62\n",
    "\n",
    "select\n",
    "   substr(w_warehouse_name,1,20)\n",
    "  ,sm_type\n",
    "  ,web_name\n",
    "  ,sum(case when (ws_ship_date_sk - ws_sold_date_sk <= 30 ) then 1 else 0 end)  as `30 days`\n",
    "  ,sum(case when (ws_ship_date_sk - ws_sold_date_sk > 30) and\n",
    "                 (ws_ship_date_sk - ws_sold_date_sk <= 60) then 1 else 0 end )  as `31-60 days`\n",
    "  ,sum(case when (ws_ship_date_sk - ws_sold_date_sk > 60) and\n",
    "                 (ws_ship_date_sk - ws_sold_date_sk <= 90) then 1 else 0 end)  as `61-90 days`\n",
    "  ,sum(case when (ws_ship_date_sk - ws_sold_date_sk > 90) and\n",
    "                 (ws_ship_date_sk - ws_sold_date_sk <= 120) then 1 else 0 end)  as `91-120 days`\n",
    "  ,sum(case when (ws_ship_date_sk - ws_sold_date_sk  > 120) then 1 else 0 end)  as `>120 days`\n",
    "from\n",
    "   dev.iceberg100.web_sales\n",
    "  ,dev.iceberg100.warehouse\n",
    "  ,dev.iceberg100.ship_mode\n",
    "  ,dev.iceberg100.web_site\n",
    "  ,dev.iceberg100.date_dim\n",
    "where\n",
    "    d_month_seq between 1194 and 1194 + 11\n",
    "and ws_ship_date_sk   = d_date_sk\n",
    "and ws_warehouse_sk   = w_warehouse_sk\n",
    "and ws_ship_mode_sk   = sm_ship_mode_sk\n",
    "and ws_web_site_sk    = web_site_sk\n",
    "group by\n",
    "   substr(w_warehouse_name,1,20)\n",
    "  ,sm_type\n",
    "  ,web_name\n",
    "order by substr(w_warehouse_name,1,20)\n",
    "        ,sm_type\n",
    "       ,web_name\n",
    "limit 100"
   ]
  },
  {
   "cell_type": "code",
   "execution_count": 44,
   "id": "ba284b5c-0982-4040-b6a8-8c95563d338e",
   "metadata": {
    "execution": {
     "iopub.execute_input": "2024-01-20T23:50:26.773656Z",
     "iopub.status.busy": "2024-01-20T23:50:26.773290Z",
     "iopub.status.idle": "2024-01-20T23:51:22.344607Z",
     "shell.execute_reply": "2024-01-20T23:51:22.343551Z",
     "shell.execute_reply.started": "2024-01-20T23:50:26.773607Z"
    }
   },
   "outputs": [
    {
     "data": {
      "application/vnd.jupyter.widget-view+json": {
       "model_id": "",
       "version_major": 2,
       "version_minor": 0
      },
      "text/plain": [
       "FloatProgress(value=0.0, bar_style='info', description='Progress:', layout=Layout(height='25px', width='50%'),…"
      ]
     },
     "metadata": {},
     "output_type": "display_data"
    },
    {
     "data": {
      "application/vnd.jupyter.widget-view+json": {
       "model_id": "98b4783ec6de4fc88df04e15596a80fd",
       "version_major": 2,
       "version_minor": 0
      },
      "text/plain": [
       "VBox(children=(HBox(children=(HTML(value='Type:'), Button(description='Table', layout=Layout(width='70px'), st…"
      ]
     },
     "metadata": {},
     "output_type": "display_data"
    },
    {
     "data": {
      "application/vnd.jupyter.widget-view+json": {
       "model_id": "8dcc2b53e091495989e04ccb8c3f92a2",
       "version_major": 2,
       "version_minor": 0
      },
      "text/plain": [
       "Output()"
      ]
     },
     "metadata": {},
     "output_type": "display_data"
    }
   ],
   "source": [
    "%%sql\n",
    "--#q63\n",
    "\n",
    "select  *\n",
    "from (select i_manager_id\n",
    "             ,sum(ss_sales_price) sum_sales\n",
    "             ,avg(sum(ss_sales_price)) over (partition by i_manager_id) avg_monthly_sales\n",
    "      from dev.iceberg100.item\n",
    "          ,dev.iceberg100.store_sales\n",
    "          ,dev.iceberg100.date_dim\n",
    "          ,dev.iceberg100.store\n",
    "      where ss_item_sk = i_item_sk\n",
    "        and ss_sold_date_sk = d_date_sk\n",
    "        and ss_store_sk = s_store_sk\n",
    "        and d_month_seq in (1205,1205+1,1205+2,1205+3,1205+4,1205+5,1205+6,1205+7,1205+8,1205+9,1205+10,1205+11)\n",
    "        and ((    i_category in ('Books','Children','Electronics')\n",
    "              and i_class in ('personal','portable','reference','self-help')\n",
    "              and i_brand in ('scholaramalgamalg #14','scholaramalgamalg #7',\n",
    "\t\t                  'exportiunivamalg #9','scholaramalgamalg #9'))\n",
    "           or(    i_category in ('Women','Music','Men')\n",
    "              and i_class in ('accessories','classical','fragrances','pants')\n",
    "              and i_brand in ('amalgimporto #1','edu packscholar #1','exportiimporto #1',\n",
    "\t\t                 'importoamalg #1')))\n",
    "group by i_manager_id, d_moy) tmp1\n",
    "where case when avg_monthly_sales > 0 then abs (sum_sales - avg_monthly_sales) / avg_monthly_sales else null end > 0.1\n",
    "order by i_manager_id\n",
    "        ,avg_monthly_sales\n",
    "        ,sum_sales\n",
    "limit 100"
   ]
  },
  {
   "cell_type": "code",
   "execution_count": 45,
   "id": "60122ac6-efd2-4223-8101-f1cb9c8571f9",
   "metadata": {
    "execution": {
     "iopub.execute_input": "2024-01-20T23:51:22.346742Z",
     "iopub.status.busy": "2024-01-20T23:51:22.346411Z",
     "iopub.status.idle": "2024-01-20T23:55:36.874735Z",
     "shell.execute_reply": "2024-01-20T23:55:36.873646Z",
     "shell.execute_reply.started": "2024-01-20T23:51:22.346695Z"
    }
   },
   "outputs": [
    {
     "data": {
      "application/vnd.jupyter.widget-view+json": {
       "model_id": "",
       "version_major": 2,
       "version_minor": 0
      },
      "text/plain": [
       "FloatProgress(value=0.0, bar_style='info', description='Progress:', layout=Layout(height='25px', width='50%'),…"
      ]
     },
     "metadata": {},
     "output_type": "display_data"
    },
    {
     "data": {
      "application/vnd.jupyter.widget-view+json": {
       "model_id": "f96f3d75834c4554bc156fa2f4993f95",
       "version_major": 2,
       "version_minor": 0
      },
      "text/plain": [
       "VBox(children=(HBox(children=(HTML(value='Type:'), Button(description='Table', layout=Layout(width='70px'), st…"
      ]
     },
     "metadata": {},
     "output_type": "display_data"
    },
    {
     "data": {
      "application/vnd.jupyter.widget-view+json": {
       "model_id": "b81480740abe48099d49e0573a3de9f1",
       "version_major": 2,
       "version_minor": 0
      },
      "text/plain": [
       "Output()"
      ]
     },
     "metadata": {},
     "output_type": "display_data"
    }
   ],
   "source": [
    "%%sql\n",
    "--#q64\n",
    "\n",
    "with cs_ui as\n",
    " (select cs_item_sk\n",
    "        ,sum(cs_ext_list_price) as sale,sum(cr_refunded_cash+cr_reversed_charge+cr_store_credit) as refund\n",
    "  from dev.iceberg100.catalog_sales\n",
    "      ,dev.iceberg100.catalog_returns\n",
    "  where cs_item_sk = cr_item_sk\n",
    "    and cs_order_number = cr_order_number\n",
    "  group by cs_item_sk\n",
    "  having sum(cs_ext_list_price)>2*sum(cr_refunded_cash+cr_reversed_charge+cr_store_credit)),\n",
    "cross_sales as\n",
    " (select i_product_name product_name\n",
    "     ,i_item_sk item_sk\n",
    "     ,s_store_name store_name\n",
    "     ,s_zip store_zip\n",
    "     ,ad1.ca_street_number b_street_number\n",
    "     ,ad1.ca_street_name b_street_name\n",
    "     ,ad1.ca_city b_city\n",
    "     ,ad1.ca_zip b_zip\n",
    "     ,ad2.ca_street_number c_street_number\n",
    "     ,ad2.ca_street_name c_street_name\n",
    "     ,ad2.ca_city c_city\n",
    "     ,ad2.ca_zip c_zip\n",
    "     ,d1.d_year as syear\n",
    "     ,d2.d_year as fsyear\n",
    "     ,d3.d_year s2year\n",
    "     ,count(*) cnt\n",
    "     ,sum(ss_wholesale_cost) s1\n",
    "     ,sum(ss_list_price) s2\n",
    "     ,sum(ss_coupon_amt) s3\n",
    "  FROM   dev.iceberg100.store_sales\n",
    "        ,dev.iceberg100.store_returns\n",
    "        ,cs_ui\n",
    "        ,dev.iceberg100.date_dim d1\n",
    "        ,dev.iceberg100.date_dim d2\n",
    "        ,dev.iceberg100.date_dim d3\n",
    "        ,dev.iceberg100.store\n",
    "        ,dev.iceberg100.customer\n",
    "        ,dev.iceberg100.customer_demographics cd1\n",
    "        ,dev.iceberg100.customer_demographics cd2\n",
    "        ,dev.iceberg100.promotion\n",
    "        ,dev.iceberg100.household_demographics hd1\n",
    "        ,dev.iceberg100.household_demographics hd2\n",
    "        ,dev.iceberg100.customer_address ad1\n",
    "        ,dev.iceberg100.customer_address ad2\n",
    "        ,dev.iceberg100.income_band ib1\n",
    "        ,dev.iceberg100.income_band ib2\n",
    "        ,dev.iceberg100.item\n",
    "  WHERE  ss_store_sk = s_store_sk AND\n",
    "         ss_sold_date_sk = d1.d_date_sk AND\n",
    "         ss_customer_sk = c_customer_sk AND\n",
    "         ss_cdemo_sk= cd1.cd_demo_sk AND\n",
    "         ss_hdemo_sk = hd1.hd_demo_sk AND\n",
    "         ss_addr_sk = ad1.ca_address_sk and\n",
    "         ss_item_sk = i_item_sk and\n",
    "         ss_item_sk = sr_item_sk and\n",
    "         ss_ticket_number = sr_ticket_number and\n",
    "         ss_item_sk = cs_ui.cs_item_sk and\n",
    "         c_current_cdemo_sk = cd2.cd_demo_sk AND\n",
    "         c_current_hdemo_sk = hd2.hd_demo_sk AND\n",
    "         c_current_addr_sk = ad2.ca_address_sk and\n",
    "         c_first_sales_date_sk = d2.d_date_sk and\n",
    "         c_first_shipto_date_sk = d3.d_date_sk and\n",
    "         ss_promo_sk = p_promo_sk and\n",
    "         hd1.hd_income_band_sk = ib1.ib_income_band_sk and\n",
    "         hd2.hd_income_band_sk = ib2.ib_income_band_sk and\n",
    "         cd1.cd_marital_status <> cd2.cd_marital_status and\n",
    "         i_color in ('peach','misty','drab','chocolate','almond','saddle') and\n",
    "         i_current_price between 75 and 75 + 10 and\n",
    "         i_current_price between 75 + 1 and 75 + 15\n",
    "group by i_product_name\n",
    "       ,i_item_sk\n",
    "       ,s_store_name\n",
    "       ,s_zip\n",
    "       ,ad1.ca_street_number\n",
    "       ,ad1.ca_street_name\n",
    "       ,ad1.ca_city\n",
    "       ,ad1.ca_zip\n",
    "       ,ad2.ca_street_number\n",
    "       ,ad2.ca_street_name\n",
    "       ,ad2.ca_city\n",
    "       ,ad2.ca_zip\n",
    "       ,d1.d_year\n",
    "       ,d2.d_year\n",
    "       ,d3.d_year\n",
    ")\n",
    "select cs1.product_name\n",
    "     ,cs1.store_name\n",
    "     ,cs1.store_zip\n",
    "     ,cs1.b_street_number\n",
    "     ,cs1.b_street_name\n",
    "     ,cs1.b_city\n",
    "     ,cs1.b_zip\n",
    "     ,cs1.c_street_number\n",
    "     ,cs1.c_street_name\n",
    "     ,cs1.c_city\n",
    "     ,cs1.c_zip\n",
    "     ,cs1.syear\n",
    "     ,cs1.cnt\n",
    "     ,cs1.s1 as s11\n",
    "     ,cs1.s2 as s21\n",
    "     ,cs1.s3 as s31\n",
    "     ,cs2.s1 as s12\n",
    "     ,cs2.s2 as s22\n",
    "     ,cs2.s3 as s32\n",
    "     ,cs2.syear\n",
    "     ,cs2.cnt\n",
    "from cross_sales cs1,cross_sales cs2\n",
    "where cs1.item_sk=cs2.item_sk and\n",
    "     cs1.syear = 2000 and\n",
    "     cs2.syear = 2000 + 1 and\n",
    "     cs2.cnt <= cs1.cnt and\n",
    "     cs1.store_name = cs2.store_name and\n",
    "     cs1.store_zip = cs2.store_zip\n",
    "order by cs1.product_name\n",
    "       ,cs1.store_name\n",
    "       ,cs2.cnt\n",
    "       ,cs1.s1\n",
    "       ,cs2.s1"
   ]
  },
  {
   "cell_type": "code",
   "execution_count": 46,
   "id": "ab17c692-66bf-4d20-9ea0-5d4b8f53df33",
   "metadata": {
    "execution": {
     "iopub.execute_input": "2024-01-20T23:55:36.876178Z",
     "iopub.status.busy": "2024-01-20T23:55:36.875964Z",
     "iopub.status.idle": "2024-01-20T23:58:30.898970Z",
     "shell.execute_reply": "2024-01-20T23:58:30.897874Z",
     "shell.execute_reply.started": "2024-01-20T23:55:36.876147Z"
    }
   },
   "outputs": [
    {
     "data": {
      "application/vnd.jupyter.widget-view+json": {
       "model_id": "",
       "version_major": 2,
       "version_minor": 0
      },
      "text/plain": [
       "FloatProgress(value=0.0, bar_style='info', description='Progress:', layout=Layout(height='25px', width='50%'),…"
      ]
     },
     "metadata": {},
     "output_type": "display_data"
    },
    {
     "data": {
      "application/vnd.jupyter.widget-view+json": {
       "model_id": "68ba16d8e59445e796706523274b47d4",
       "version_major": 2,
       "version_minor": 0
      },
      "text/plain": [
       "VBox(children=(HBox(children=(HTML(value='Type:'), Button(description='Table', layout=Layout(width='70px'), st…"
      ]
     },
     "metadata": {},
     "output_type": "display_data"
    },
    {
     "data": {
      "application/vnd.jupyter.widget-view+json": {
       "model_id": "ceeb3183b42a45388b0e07bd8057cbb6",
       "version_major": 2,
       "version_minor": 0
      },
      "text/plain": [
       "Output()"
      ]
     },
     "metadata": {},
     "output_type": "display_data"
    }
   ],
   "source": [
    "%%sql\n",
    "--#q65\n",
    "\n",
    "select\n",
    "\ts_store_name,\n",
    "\ti_item_desc,\n",
    "\tsc.revenue,\n",
    "\ti_current_price,\n",
    "\ti_wholesale_cost,\n",
    "\ti_brand\n",
    " from dev.iceberg100.store, dev.iceberg100.item,\n",
    "     (select ss_store_sk, avg(revenue) as ave\n",
    " \tfrom\n",
    " \t    (select  ss_store_sk, ss_item_sk,\n",
    " \t\t     sum(ss_sales_price) as revenue\n",
    " \t\tfrom dev.iceberg100.store_sales, dev.iceberg100.date_dim\n",
    " \t\twhere ss_sold_date_sk = d_date_sk and d_month_seq between 1208 and 1208+11\n",
    " \t\tgroup by ss_store_sk, ss_item_sk) sa\n",
    " \tgroup by ss_store_sk) sb,\n",
    "     (select  ss_store_sk, ss_item_sk, sum(ss_sales_price) as revenue\n",
    " \tfrom dev.iceberg100.store_sales, dev.iceberg100.date_dim\n",
    " \twhere ss_sold_date_sk = d_date_sk and d_month_seq between 1208 and 1208+11\n",
    " \tgroup by ss_store_sk, ss_item_sk) sc\n",
    " where sb.ss_store_sk = sc.ss_store_sk and\n",
    "       sc.revenue <= 0.1 * sb.ave and\n",
    "       s_store_sk = sc.ss_store_sk and\n",
    "       i_item_sk = sc.ss_item_sk\n",
    " order by s_store_name, i_item_desc\n",
    "limit 100"
   ]
  },
  {
   "cell_type": "code",
   "execution_count": 47,
   "id": "9631217c-3509-494a-a5b6-bbca93286367",
   "metadata": {
    "execution": {
     "iopub.execute_input": "2024-01-20T23:58:30.901041Z",
     "iopub.status.busy": "2024-01-20T23:58:30.900481Z",
     "iopub.status.idle": "2024-01-20T23:59:44.698021Z",
     "shell.execute_reply": "2024-01-20T23:59:44.696860Z",
     "shell.execute_reply.started": "2024-01-20T23:58:30.900999Z"
    },
    "tags": []
   },
   "outputs": [
    {
     "data": {
      "application/vnd.jupyter.widget-view+json": {
       "model_id": "",
       "version_major": 2,
       "version_minor": 0
      },
      "text/plain": [
       "FloatProgress(value=0.0, bar_style='info', description='Progress:', layout=Layout(height='25px', width='50%'),…"
      ]
     },
     "metadata": {},
     "output_type": "display_data"
    },
    {
     "data": {
      "application/vnd.jupyter.widget-view+json": {
       "model_id": "66d735ef387e43cb9d1b433fdf4e7abb",
       "version_major": 2,
       "version_minor": 0
      },
      "text/plain": [
       "VBox(children=(HBox(children=(HTML(value='Type:'), Button(description='Table', layout=Layout(width='70px'), st…"
      ]
     },
     "metadata": {},
     "output_type": "display_data"
    },
    {
     "data": {
      "application/vnd.jupyter.widget-view+json": {
       "model_id": "2699eb4ffb6746a28be2998808a9c89a",
       "version_major": 2,
       "version_minor": 0
      },
      "text/plain": [
       "Output()"
      ]
     },
     "metadata": {},
     "output_type": "display_data"
    }
   ],
   "source": [
    "%%sql\n",
    "--#q66\n",
    "\n",
    "select\n",
    "         w_warehouse_name\n",
    " \t,w_warehouse_sq_ft\n",
    " \t,w_city\n",
    " \t,w_county\n",
    " \t,w_state\n",
    " \t,w_country\n",
    "        ,ship_carriers\n",
    "        ,year\n",
    " \t,sum(jan_sales) as jan_sales\n",
    " \t,sum(feb_sales) as feb_sales\n",
    " \t,sum(mar_sales) as mar_sales\n",
    " \t,sum(apr_sales) as apr_sales\n",
    " \t,sum(may_sales) as may_sales\n",
    " \t,sum(jun_sales) as jun_sales\n",
    " \t,sum(jul_sales) as jul_sales\n",
    " \t,sum(aug_sales) as aug_sales\n",
    " \t,sum(sep_sales) as sep_sales\n",
    " \t,sum(oct_sales) as oct_sales\n",
    " \t,sum(nov_sales) as nov_sales\n",
    " \t,sum(dec_sales) as dec_sales\n",
    " \t,sum(jan_sales/w_warehouse_sq_ft) as jan_sales_per_sq_foot\n",
    " \t,sum(feb_sales/w_warehouse_sq_ft) as feb_sales_per_sq_foot\n",
    " \t,sum(mar_sales/w_warehouse_sq_ft) as mar_sales_per_sq_foot\n",
    " \t,sum(apr_sales/w_warehouse_sq_ft) as apr_sales_per_sq_foot\n",
    " \t,sum(may_sales/w_warehouse_sq_ft) as may_sales_per_sq_foot\n",
    " \t,sum(jun_sales/w_warehouse_sq_ft) as jun_sales_per_sq_foot\n",
    " \t,sum(jul_sales/w_warehouse_sq_ft) as jul_sales_per_sq_foot\n",
    " \t,sum(aug_sales/w_warehouse_sq_ft) as aug_sales_per_sq_foot\n",
    " \t,sum(sep_sales/w_warehouse_sq_ft) as sep_sales_per_sq_foot\n",
    " \t,sum(oct_sales/w_warehouse_sq_ft) as oct_sales_per_sq_foot\n",
    " \t,sum(nov_sales/w_warehouse_sq_ft) as nov_sales_per_sq_foot\n",
    " \t,sum(dec_sales/w_warehouse_sq_ft) as dec_sales_per_sq_foot\n",
    " \t,sum(jan_net) as jan_net\n",
    " \t,sum(feb_net) as feb_net\n",
    " \t,sum(mar_net) as mar_net\n",
    " \t,sum(apr_net) as apr_net\n",
    " \t,sum(may_net) as may_net\n",
    " \t,sum(jun_net) as jun_net\n",
    " \t,sum(jul_net) as jul_net\n",
    " \t,sum(aug_net) as aug_net\n",
    " \t,sum(sep_net) as sep_net\n",
    " \t,sum(oct_net) as oct_net\n",
    " \t,sum(nov_net) as nov_net\n",
    " \t,sum(dec_net) as dec_net\n",
    " from (\n",
    "     select\n",
    " \tw_warehouse_name\n",
    " \t,w_warehouse_sq_ft\n",
    " \t,w_city\n",
    " \t,w_county\n",
    " \t,w_state\n",
    " \t,w_country\n",
    " \t,'HARMSTORF' || ',' || 'USPS' as ship_carriers\n",
    "       ,d_year as year\n",
    " \t,sum(case when d_moy = 1\n",
    " \t\tthen ws_sales_price* ws_quantity else 0 end) as jan_sales\n",
    " \t,sum(case when d_moy = 2\n",
    " \t\tthen ws_sales_price* ws_quantity else 0 end) as feb_sales\n",
    " \t,sum(case when d_moy = 3\n",
    " \t\tthen ws_sales_price* ws_quantity else 0 end) as mar_sales\n",
    " \t,sum(case when d_moy = 4\n",
    " \t\tthen ws_sales_price* ws_quantity else 0 end) as apr_sales\n",
    " \t,sum(case when d_moy = 5\n",
    " \t\tthen ws_sales_price* ws_quantity else 0 end) as may_sales\n",
    " \t,sum(case when d_moy = 6\n",
    " \t\tthen ws_sales_price* ws_quantity else 0 end) as jun_sales\n",
    " \t,sum(case when d_moy = 7\n",
    " \t\tthen ws_sales_price* ws_quantity else 0 end) as jul_sales\n",
    " \t,sum(case when d_moy = 8\n",
    " \t\tthen ws_sales_price* ws_quantity else 0 end) as aug_sales\n",
    " \t,sum(case when d_moy = 9\n",
    " \t\tthen ws_sales_price* ws_quantity else 0 end) as sep_sales\n",
    " \t,sum(case when d_moy = 10\n",
    " \t\tthen ws_sales_price* ws_quantity else 0 end) as oct_sales\n",
    " \t,sum(case when d_moy = 11\n",
    " \t\tthen ws_sales_price* ws_quantity else 0 end) as nov_sales\n",
    " \t,sum(case when d_moy = 12\n",
    " \t\tthen ws_sales_price* ws_quantity else 0 end) as dec_sales\n",
    " \t,sum(case when d_moy = 1\n",
    " \t\tthen ws_net_paid_inc_tax * ws_quantity else 0 end) as jan_net\n",
    " \t,sum(case when d_moy = 2\n",
    " \t\tthen ws_net_paid_inc_tax * ws_quantity else 0 end) as feb_net\n",
    " \t,sum(case when d_moy = 3\n",
    " \t\tthen ws_net_paid_inc_tax * ws_quantity else 0 end) as mar_net\n",
    " \t,sum(case when d_moy = 4\n",
    " \t\tthen ws_net_paid_inc_tax * ws_quantity else 0 end) as apr_net\n",
    " \t,sum(case when d_moy = 5\n",
    " \t\tthen ws_net_paid_inc_tax * ws_quantity else 0 end) as may_net\n",
    " \t,sum(case when d_moy = 6\n",
    " \t\tthen ws_net_paid_inc_tax * ws_quantity else 0 end) as jun_net\n",
    " \t,sum(case when d_moy = 7\n",
    " \t\tthen ws_net_paid_inc_tax * ws_quantity else 0 end) as jul_net\n",
    " \t,sum(case when d_moy = 8\n",
    " \t\tthen ws_net_paid_inc_tax * ws_quantity else 0 end) as aug_net\n",
    " \t,sum(case when d_moy = 9\n",
    " \t\tthen ws_net_paid_inc_tax * ws_quantity else 0 end) as sep_net\n",
    " \t,sum(case when d_moy = 10\n",
    " \t\tthen ws_net_paid_inc_tax * ws_quantity else 0 end) as oct_net\n",
    " \t,sum(case when d_moy = 11\n",
    " \t\tthen ws_net_paid_inc_tax * ws_quantity else 0 end) as nov_net\n",
    " \t,sum(case when d_moy = 12\n",
    " \t\tthen ws_net_paid_inc_tax * ws_quantity else 0 end) as dec_net\n",
    "     from\n",
    "          dev.iceberg100.web_sales\n",
    "         ,dev.iceberg100.warehouse\n",
    "         ,dev.iceberg100.date_dim\n",
    "         ,dev.iceberg100.time_dim\n",
    " \t  ,dev.iceberg100.ship_mode\n",
    "     where\n",
    "            ws_warehouse_sk =  w_warehouse_sk\n",
    "        and ws_sold_date_sk = d_date_sk\n",
    "        and ws_sold_time_sk = t_time_sk\n",
    " \tand ws_ship_mode_sk = sm_ship_mode_sk\n",
    "        and d_year = 2002\n",
    " \tand t_time between 24285 and 24285+28800\n",
    " \tand sm_carrier in ('HARMSTORF','USPS')\n",
    "     group by\n",
    "        w_warehouse_name\n",
    " \t,w_warehouse_sq_ft\n",
    " \t,w_city\n",
    " \t,w_county\n",
    " \t,w_state\n",
    " \t,w_country\n",
    "       ,d_year\n",
    " union all\n",
    "     select\n",
    " \tw_warehouse_name\n",
    " \t,w_warehouse_sq_ft\n",
    " \t,w_city\n",
    " \t,w_county\n",
    " \t,w_state\n",
    " \t,w_country\n",
    " \t,'HARMSTORF' || ',' || 'USPS' as ship_carriers\n",
    "       ,d_year as year\n",
    " \t,sum(case when d_moy = 1\n",
    " \t\tthen cs_ext_list_price* cs_quantity else 0 end) as jan_sales\n",
    " \t,sum(case when d_moy = 2\n",
    " \t\tthen cs_ext_list_price* cs_quantity else 0 end) as feb_sales\n",
    " \t,sum(case when d_moy = 3\n",
    " \t\tthen cs_ext_list_price* cs_quantity else 0 end) as mar_sales\n",
    " \t,sum(case when d_moy = 4\n",
    " \t\tthen cs_ext_list_price* cs_quantity else 0 end) as apr_sales\n",
    " \t,sum(case when d_moy = 5\n",
    " \t\tthen cs_ext_list_price* cs_quantity else 0 end) as may_sales\n",
    " \t,sum(case when d_moy = 6\n",
    " \t\tthen cs_ext_list_price* cs_quantity else 0 end) as jun_sales\n",
    " \t,sum(case when d_moy = 7\n",
    " \t\tthen cs_ext_list_price* cs_quantity else 0 end) as jul_sales\n",
    " \t,sum(case when d_moy = 8\n",
    " \t\tthen cs_ext_list_price* cs_quantity else 0 end) as aug_sales\n",
    " \t,sum(case when d_moy = 9\n",
    " \t\tthen cs_ext_list_price* cs_quantity else 0 end) as sep_sales\n",
    " \t,sum(case when d_moy = 10\n",
    " \t\tthen cs_ext_list_price* cs_quantity else 0 end) as oct_sales\n",
    " \t,sum(case when d_moy = 11\n",
    " \t\tthen cs_ext_list_price* cs_quantity else 0 end) as nov_sales\n",
    " \t,sum(case when d_moy = 12\n",
    " \t\tthen cs_ext_list_price* cs_quantity else 0 end) as dec_sales\n",
    " \t,sum(case when d_moy = 1\n",
    " \t\tthen cs_net_paid * cs_quantity else 0 end) as jan_net\n",
    " \t,sum(case when d_moy = 2\n",
    " \t\tthen cs_net_paid * cs_quantity else 0 end) as feb_net\n",
    " \t,sum(case when d_moy = 3\n",
    " \t\tthen cs_net_paid * cs_quantity else 0 end) as mar_net\n",
    " \t,sum(case when d_moy = 4\n",
    " \t\tthen cs_net_paid * cs_quantity else 0 end) as apr_net\n",
    " \t,sum(case when d_moy = 5\n",
    " \t\tthen cs_net_paid * cs_quantity else 0 end) as may_net\n",
    " \t,sum(case when d_moy = 6\n",
    " \t\tthen cs_net_paid * cs_quantity else 0 end) as jun_net\n",
    " \t,sum(case when d_moy = 7\n",
    " \t\tthen cs_net_paid * cs_quantity else 0 end) as jul_net\n",
    " \t,sum(case when d_moy = 8\n",
    " \t\tthen cs_net_paid * cs_quantity else 0 end) as aug_net\n",
    " \t,sum(case when d_moy = 9\n",
    " \t\tthen cs_net_paid * cs_quantity else 0 end) as sep_net\n",
    " \t,sum(case when d_moy = 10\n",
    " \t\tthen cs_net_paid * cs_quantity else 0 end) as oct_net\n",
    " \t,sum(case when d_moy = 11\n",
    " \t\tthen cs_net_paid * cs_quantity else 0 end) as nov_net\n",
    " \t,sum(case when d_moy = 12\n",
    " \t\tthen cs_net_paid * cs_quantity else 0 end) as dec_net\n",
    "     from\n",
    "          dev.iceberg100.catalog_sales\n",
    "         ,dev.iceberg100.warehouse\n",
    "         ,dev.iceberg100.date_dim\n",
    "         ,dev.iceberg100.time_dim\n",
    " \t ,dev.iceberg100.ship_mode\n",
    "     where\n",
    "            cs_warehouse_sk =  w_warehouse_sk\n",
    "        and cs_sold_date_sk = d_date_sk\n",
    "        and cs_sold_time_sk = t_time_sk\n",
    " \tand cs_ship_mode_sk = sm_ship_mode_sk\n",
    "        and d_year = 2002\n",
    " \tand t_time between 24285 AND 24285+28800\n",
    " \tand sm_carrier in ('HARMSTORF','USPS')\n",
    "     group by\n",
    "        w_warehouse_name\n",
    " \t,w_warehouse_sq_ft\n",
    " \t,w_city\n",
    " \t,w_county\n",
    " \t,w_state\n",
    " \t,w_country\n",
    "       ,d_year\n",
    " ) x\n",
    " group by\n",
    "        w_warehouse_name\n",
    " \t,w_warehouse_sq_ft\n",
    " \t,w_city\n",
    " \t,w_county\n",
    " \t,w_state\n",
    " \t,w_country\n",
    " \t,ship_carriers\n",
    "       ,year\n",
    " order by w_warehouse_name\n",
    " limit 100"
   ]
  },
  {
   "cell_type": "code",
   "execution_count": 57,
   "id": "a2849124-df85-4100-ad64-988f0ab10df1",
   "metadata": {
    "execution": {
     "iopub.execute_input": "2024-01-21T00:13:03.434030Z",
     "iopub.status.busy": "2024-01-21T00:13:03.433610Z",
     "iopub.status.idle": "2024-01-21T00:22:37.439826Z",
     "shell.execute_reply": "2024-01-21T00:22:37.438830Z",
     "shell.execute_reply.started": "2024-01-21T00:13:03.433952Z"
    }
   },
   "outputs": [
    {
     "data": {
      "application/vnd.jupyter.widget-view+json": {
       "model_id": "",
       "version_major": 2,
       "version_minor": 0
      },
      "text/plain": [
       "FloatProgress(value=0.0, bar_style='info', description='Progress:', layout=Layout(height='25px', width='50%'),…"
      ]
     },
     "metadata": {},
     "output_type": "display_data"
    },
    {
     "data": {
      "application/vnd.jupyter.widget-view+json": {
       "model_id": "68c77cc7e7da488c9dd5dd7c8899e957",
       "version_major": 2,
       "version_minor": 0
      },
      "text/plain": [
       "VBox(children=(HBox(children=(HTML(value='Type:'), Button(description='Table', layout=Layout(width='70px'), st…"
      ]
     },
     "metadata": {},
     "output_type": "display_data"
    },
    {
     "data": {
      "application/vnd.jupyter.widget-view+json": {
       "model_id": "bf93601cc0c14e71a516543475beb13d",
       "version_major": 2,
       "version_minor": 0
      },
      "text/plain": [
       "Output()"
      ]
     },
     "metadata": {},
     "output_type": "display_data"
    }
   ],
   "source": [
    "%%sql\n",
    "--#q67\n",
    "\n",
    "select  *\n",
    "from (select i_category\n",
    "            ,i_class\n",
    "            ,i_brand\n",
    "            ,i_product_name\n",
    "            ,d_year\n",
    "            ,d_qoy\n",
    "            ,d_moy\n",
    "            ,s_store_id\n",
    "            ,sumsales\n",
    "            ,rank() over (partition by i_category order by sumsales desc) rk\n",
    "      from (select i_category\n",
    "                  ,i_class\n",
    "                  ,i_brand\n",
    "                  ,i_product_name\n",
    "                  ,d_year\n",
    "                  ,d_qoy\n",
    "                  ,d_moy\n",
    "                  ,s_store_id\n",
    "                  ,sum(coalesce(ss_sales_price*ss_quantity,0)) sumsales\n",
    "            from dev.iceberg100.store_sales\n",
    "                ,dev.iceberg100.date_dim\n",
    "                ,dev.iceberg100.store\n",
    "                ,dev.iceberg100.item\n",
    "       where  ss_sold_date_sk=d_date_sk\n",
    "          and ss_item_sk=i_item_sk\n",
    "          and ss_store_sk = s_store_sk\n",
    "          and d_month_seq between 1196 and 1196+11\n",
    "       group by  rollup(i_category, i_class, i_brand, i_product_name, d_year, d_qoy, d_moy,s_store_id))dw1) dw2\n",
    "where rk <= 100\n",
    "order by i_category\n",
    "        ,i_class\n",
    "        ,i_brand\n",
    "        ,i_product_name\n",
    "        ,d_year\n",
    "        ,d_qoy\n",
    "        ,d_moy\n",
    "        ,s_store_id\n",
    "        ,sumsales\n",
    "        ,rk\n",
    "limit 100"
   ]
  },
  {
   "cell_type": "code",
   "execution_count": 58,
   "id": "22aece2e-43ef-4ea8-851c-3f352d6e4b7b",
   "metadata": {
    "execution": {
     "iopub.execute_input": "2024-01-21T00:22:37.441983Z",
     "iopub.status.busy": "2024-01-21T00:22:37.441652Z",
     "iopub.status.idle": "2024-01-21T00:24:09.175668Z",
     "shell.execute_reply": "2024-01-21T00:24:09.174497Z",
     "shell.execute_reply.started": "2024-01-21T00:22:37.441889Z"
    }
   },
   "outputs": [
    {
     "data": {
      "application/vnd.jupyter.widget-view+json": {
       "model_id": "",
       "version_major": 2,
       "version_minor": 0
      },
      "text/plain": [
       "FloatProgress(value=0.0, bar_style='info', description='Progress:', layout=Layout(height='25px', width='50%'),…"
      ]
     },
     "metadata": {},
     "output_type": "display_data"
    },
    {
     "data": {
      "application/vnd.jupyter.widget-view+json": {
       "model_id": "461c3f1b35d5446e847340b7eb803181",
       "version_major": 2,
       "version_minor": 0
      },
      "text/plain": [
       "VBox(children=(HBox(children=(HTML(value='Type:'), Button(description='Table', layout=Layout(width='70px'), st…"
      ]
     },
     "metadata": {},
     "output_type": "display_data"
    },
    {
     "data": {
      "application/vnd.jupyter.widget-view+json": {
       "model_id": "2150e26a946b4e919c1853aece54f044",
       "version_major": 2,
       "version_minor": 0
      },
      "text/plain": [
       "Output()"
      ]
     },
     "metadata": {},
     "output_type": "display_data"
    }
   ],
   "source": [
    "%%sql\n",
    "--#q68\n",
    "\n",
    "select  c_last_name\n",
    "       ,c_first_name\n",
    "       ,ca_city\n",
    "       ,bought_city\n",
    "       ,ss_ticket_number\n",
    "       ,extended_price\n",
    "       ,extended_tax\n",
    "       ,list_price\n",
    " from (select ss_ticket_number\n",
    "             ,ss_customer_sk\n",
    "             ,ca_city bought_city\n",
    "             ,sum(ss_ext_sales_price) extended_price\n",
    "             ,sum(ss_ext_list_price) list_price\n",
    "             ,sum(ss_ext_tax) extended_tax\n",
    "       from dev.iceberg100.store_sales\n",
    "           ,dev.iceberg100.date_dim\n",
    "           ,dev.iceberg100.store\n",
    "           ,dev.iceberg100.household_demographics\n",
    "           ,dev.iceberg100.customer_address\n",
    "       where dev.iceberg100.store_sales.ss_sold_date_sk = dev.iceberg100.date_dim.d_date_sk\n",
    "         and dev.iceberg100.store_sales.ss_store_sk = dev.iceberg100.store.s_store_sk\n",
    "        and dev.iceberg100.store_sales.ss_hdemo_sk = dev.iceberg100.household_demographics.hd_demo_sk\n",
    "        and dev.iceberg100.store_sales.ss_addr_sk = dev.iceberg100.customer_address.ca_address_sk\n",
    "        and dev.iceberg100.date_dim.d_dom between 1 and 2\n",
    "        and (dev.iceberg100.household_demographics.hd_dep_count = 1 or\n",
    "             dev.iceberg100.household_demographics.hd_vehicle_count= -1)\n",
    "        and dev.iceberg100.date_dim.d_year in (1998,1998+1,1998+2)\n",
    "        and dev.iceberg100.store.s_city in ('Bethel','Summit')\n",
    "       group by ss_ticket_number\n",
    "               ,ss_customer_sk\n",
    "               ,ss_addr_sk,ca_city) dn\n",
    "      ,dev.iceberg100.customer\n",
    "      ,dev.iceberg100.customer_address current_addr\n",
    " where ss_customer_sk = c_customer_sk\n",
    "   and dev.iceberg100.customer.c_current_addr_sk = current_addr.ca_address_sk\n",
    "   and current_addr.ca_city <> bought_city\n",
    " order by c_last_name\n",
    "         ,ss_ticket_number\n",
    " limit 100"
   ]
  },
  {
   "cell_type": "code",
   "execution_count": 99,
   "id": "dc0a57f9-0425-4a52-8ff3-a0cfb79af6b2",
   "metadata": {
    "execution": {
     "iopub.execute_input": "2024-01-21T01:58:50.427290Z",
     "iopub.status.busy": "2024-01-21T01:58:50.427074Z",
     "iopub.status.idle": "2024-01-21T02:03:22.780692Z",
     "shell.execute_reply": "2024-01-21T02:03:22.779684Z",
     "shell.execute_reply.started": "2024-01-21T01:58:50.427259Z"
    },
    "tags": []
   },
   "outputs": [
    {
     "data": {
      "application/vnd.jupyter.widget-view+json": {
       "model_id": "",
       "version_major": 2,
       "version_minor": 0
      },
      "text/plain": [
       "FloatProgress(value=0.0, bar_style='info', description='Progress:', layout=Layout(height='25px', width='50%'),…"
      ]
     },
     "metadata": {},
     "output_type": "display_data"
    },
    {
     "data": {
      "application/vnd.jupyter.widget-view+json": {
       "model_id": "3b2e94e9afce470bbfa257d4a71da47f",
       "version_major": 2,
       "version_minor": 0
      },
      "text/plain": [
       "VBox(children=(HBox(), EncodingWidget(children=(VBox(children=(HTML(value='Encoding:'), Dropdown(description='…"
      ]
     },
     "metadata": {},
     "output_type": "display_data"
    },
    {
     "data": {
      "application/vnd.jupyter.widget-view+json": {
       "model_id": "ca85cb1b885f4b50bb140712e607b6ff",
       "version_major": 2,
       "version_minor": 0
      },
      "text/plain": [
       "Output()"
      ]
     },
     "metadata": {},
     "output_type": "display_data"
    }
   ],
   "source": [
    "%%sql\n",
    "--#q69 --Achtung\n",
    "\n",
    "select\n",
    "  cd_gender,\n",
    "  cd_marital_status,\n",
    "  cd_education_status,\n",
    "  count(*) cnt1,\n",
    "  cd_purchase_estimate,\n",
    "  count(*) cnt2,\n",
    "  cd_credit_rating,\n",
    "  count(*) cnt3\n",
    " from\n",
    "  dev.iceberg100.customer c,dev.iceberg100.customer_address ca,dev.iceberg100.customer_demographics\n",
    " where\n",
    "  c.c_current_addr_sk = ca.ca_address_sk and\n",
    "  (ca_state like 'OK' or ca_state like 'GA' or ca_state like 'VA') and\n",
    "  cd_demo_sk = c.c_current_cdemo_sk and\n",
    "  exists (select *\n",
    "          from dev.iceberg100.store_sales,dev.iceberg100.date_dim\n",
    "          where c.c_customer_sk = ss_customer_sk and\n",
    "                ss_sold_date_sk = d_date_sk and\n",
    "                d_year = 2004 and\n",
    "                d_moy between 4 and 4+2) and\n",
    "   (not exists (select *\n",
    "            from dev.iceberg100.web_sales,dev.iceberg100.date_dim\n",
    "            where c.c_customer_sk = ws_bill_customer_sk and\n",
    "                  ws_sold_date_sk = d_date_sk and\n",
    "                  d_year = 2004 and\n",
    "                  d_moy between 4 and 4+2) and\n",
    "    not exists (select *\n",
    "            from dev.iceberg100.catalog_sales,dev.iceberg100.date_dim\n",
    "            where c.c_customer_sk = cs_ship_customer_sk and\n",
    "                  cs_sold_date_sk = d_date_sk and\n",
    "                  d_year = 2004 and\n",
    "                  d_moy between 4 and 4+2))\n",
    " group by cd_gender,\n",
    "          cd_marital_status,\n",
    "          cd_education_status,\n",
    "          cd_purchase_estimate,\n",
    "          cd_credit_rating\n",
    " order by cd_gender,\n",
    "          cd_marital_status,\n",
    "          cd_education_status,\n",
    "          cd_purchase_estimate,\n",
    "          cd_credit_rating\n",
    " limit 100"
   ]
  },
  {
   "cell_type": "code",
   "execution_count": 60,
   "id": "e566b3bd-173f-4fe8-9247-62f11e69b284",
   "metadata": {
    "execution": {
     "iopub.execute_input": "2024-01-21T00:28:49.442456Z",
     "iopub.status.busy": "2024-01-21T00:28:49.442141Z",
     "iopub.status.idle": "2024-01-21T00:29:57.019342Z",
     "shell.execute_reply": "2024-01-21T00:29:57.018405Z",
     "shell.execute_reply.started": "2024-01-21T00:28:49.442410Z"
    }
   },
   "outputs": [
    {
     "data": {
      "application/vnd.jupyter.widget-view+json": {
       "model_id": "",
       "version_major": 2,
       "version_minor": 0
      },
      "text/plain": [
       "FloatProgress(value=0.0, bar_style='info', description='Progress:', layout=Layout(height='25px', width='50%'),…"
      ]
     },
     "metadata": {},
     "output_type": "display_data"
    },
    {
     "data": {
      "application/vnd.jupyter.widget-view+json": {
       "model_id": "8fc054bcd3cd4578a7047248fb9621e3",
       "version_major": 2,
       "version_minor": 0
      },
      "text/plain": [
       "VBox(children=(HBox(children=(HTML(value='Type:'), Button(description='Table', layout=Layout(width='70px'), st…"
      ]
     },
     "metadata": {},
     "output_type": "display_data"
    },
    {
     "data": {
      "application/vnd.jupyter.widget-view+json": {
       "model_id": "d97ca60f569e4919a22e0c6d2aa42abe",
       "version_major": 2,
       "version_minor": 0
      },
      "text/plain": [
       "Output()"
      ]
     },
     "metadata": {},
     "output_type": "display_data"
    }
   ],
   "source": [
    "%%sql\n",
    "--#q70\n",
    "\n",
    "select\n",
    "    sum(ss_net_profit) as total_sum\n",
    "   ,s_state\n",
    "   ,s_county\n",
    "   ,grouping(s_state)+grouping(s_county) as lochierarchy\n",
    "   ,rank() over (\n",
    " \tpartition by grouping(s_state)+grouping(s_county),\n",
    " \tcase when grouping(s_county) = 0 then s_state end\n",
    " \torder by sum(ss_net_profit) desc) as rank_within_parent\n",
    " from\n",
    "    dev.iceberg100.store_sales\n",
    "   ,dev.iceberg100.date_dim       d1\n",
    "   ,dev.iceberg100.store\n",
    " where\n",
    "    d1.d_month_seq between 1197 and 1197+11\n",
    " and d1.d_date_sk = ss_sold_date_sk\n",
    " and s_store_sk  = ss_store_sk\n",
    " and s_state in\n",
    "             ( select s_state\n",
    "               from  (select s_state as s_state,\n",
    " \t\t\t    rank() over ( partition by s_state order by sum(ss_net_profit) desc) as ranking\n",
    "                      from   dev.iceberg100.store_sales, dev.iceberg100.store, dev.iceberg100.date_dim\n",
    "                      where  d_month_seq between 1197 and 1197+11\n",
    " \t\t\t    and d_date_sk = ss_sold_date_sk\n",
    " \t\t\t    and s_store_sk  = ss_store_sk\n",
    "                      group by s_state\n",
    "                     ) tmp1\n",
    "               where ranking <= 5\n",
    "             )\n",
    " group by rollup(s_state,s_county)\n",
    " order by\n",
    "   lochierarchy desc\n",
    "  ,case when lochierarchy = 0 then s_state end\n",
    "  ,rank_within_parent\n",
    " limit 100"
   ]
  },
  {
   "cell_type": "code",
   "execution_count": 61,
   "id": "efa37ee7-eb49-48ef-90ab-b530f929cafe",
   "metadata": {
    "execution": {
     "iopub.execute_input": "2024-01-21T00:29:57.020953Z",
     "iopub.status.busy": "2024-01-21T00:29:57.020694Z",
     "iopub.status.idle": "2024-01-21T00:31:46.791646Z",
     "shell.execute_reply": "2024-01-21T00:31:46.790505Z",
     "shell.execute_reply.started": "2024-01-21T00:29:57.020895Z"
    }
   },
   "outputs": [
    {
     "data": {
      "application/vnd.jupyter.widget-view+json": {
       "model_id": "",
       "version_major": 2,
       "version_minor": 0
      },
      "text/plain": [
       "FloatProgress(value=0.0, bar_style='info', description='Progress:', layout=Layout(height='25px', width='50%'),…"
      ]
     },
     "metadata": {},
     "output_type": "display_data"
    },
    {
     "data": {
      "application/vnd.jupyter.widget-view+json": {
       "model_id": "bb72c4a57b79408aac893930e6bbfc8d",
       "version_major": 2,
       "version_minor": 0
      },
      "text/plain": [
       "VBox(children=(HBox(children=(HTML(value='Type:'), Button(description='Table', layout=Layout(width='70px'), st…"
      ]
     },
     "metadata": {},
     "output_type": "display_data"
    },
    {
     "data": {
      "application/vnd.jupyter.widget-view+json": {
       "model_id": "3cf0ca759b334231b8fb1c2ce8ac611f",
       "version_major": 2,
       "version_minor": 0
      },
      "text/plain": [
       "Output()"
      ]
     },
     "metadata": {},
     "output_type": "display_data"
    }
   ],
   "source": [
    "%%sql\n",
    "--#q71\n",
    "\n",
    "select i_brand_id brand_id, i_brand brand,t_hour,t_minute,\n",
    " \tsum(ext_price) ext_price\n",
    " from dev.iceberg100.item, (select ws_ext_sales_price as ext_price,\n",
    "                        ws_sold_date_sk as sold_date_sk,\n",
    "                        ws_item_sk as sold_item_sk,\n",
    "                        ws_sold_time_sk as time_sk\n",
    "                 from dev.iceberg100.web_sales,dev.iceberg100.date_dim\n",
    "                 where d_date_sk = ws_sold_date_sk\n",
    "                   and d_moy=12\n",
    "                   and d_year=1999\n",
    "                 union all\n",
    "                 select cs_ext_sales_price as ext_price,\n",
    "                        cs_sold_date_sk as sold_date_sk,\n",
    "                        cs_item_sk as sold_item_sk,\n",
    "                        cs_sold_time_sk as time_sk\n",
    "                 from dev.iceberg100.catalog_sales,dev.iceberg100.date_dim\n",
    "                 where d_date_sk = cs_sold_date_sk\n",
    "                   and d_moy=12\n",
    "                   and d_year=1999\n",
    "                 union all\n",
    "                 select ss_ext_sales_price as ext_price,\n",
    "                        ss_sold_date_sk as sold_date_sk,\n",
    "                        ss_item_sk as sold_item_sk,\n",
    "                        ss_sold_time_sk as time_sk\n",
    "                 from dev.iceberg100.store_sales,dev.iceberg100.date_dim\n",
    "                 where d_date_sk = ss_sold_date_sk\n",
    "                   and d_moy=12\n",
    "                   and d_year=1999\n",
    "                 ) tmp,dev.iceberg100.time_dim\n",
    " where\n",
    "   sold_item_sk = i_item_sk\n",
    "   and i_manager_id=1\n",
    "   and time_sk = t_time_sk\n",
    "   and (t_meal_time = 'breakfast' or t_meal_time = 'dinner')\n",
    " group by i_brand, i_brand_id,t_hour,t_minute\n",
    " order by ext_price desc, i_brand_id"
   ]
  },
  {
   "cell_type": "code",
   "execution_count": 62,
   "id": "c46e191b-3ccd-43bb-acff-fc0753f6202b",
   "metadata": {
    "execution": {
     "iopub.execute_input": "2024-01-21T00:31:46.793085Z",
     "iopub.status.busy": "2024-01-21T00:31:46.792868Z",
     "iopub.status.idle": "2024-01-21T00:35:18.928619Z",
     "shell.execute_reply": "2024-01-21T00:35:18.927659Z",
     "shell.execute_reply.started": "2024-01-21T00:31:46.793055Z"
    }
   },
   "outputs": [
    {
     "data": {
      "application/vnd.jupyter.widget-view+json": {
       "model_id": "",
       "version_major": 2,
       "version_minor": 0
      },
      "text/plain": [
       "FloatProgress(value=0.0, bar_style='info', description='Progress:', layout=Layout(height='25px', width='50%'),…"
      ]
     },
     "metadata": {},
     "output_type": "display_data"
    },
    {
     "data": {
      "application/vnd.jupyter.widget-view+json": {
       "model_id": "04e1bc3001f949049cecd06ba17a5e7d",
       "version_major": 2,
       "version_minor": 0
      },
      "text/plain": [
       "VBox(children=(HBox(children=(HTML(value='Type:'), Button(description='Table', layout=Layout(width='70px'), st…"
      ]
     },
     "metadata": {},
     "output_type": "display_data"
    },
    {
     "data": {
      "application/vnd.jupyter.widget-view+json": {
       "model_id": "66baa0797b7147f2a8a435c621072ad0",
       "version_major": 2,
       "version_minor": 0
      },
      "text/plain": [
       "Output()"
      ]
     },
     "metadata": {},
     "output_type": "display_data"
    }
   ],
   "source": [
    "%%sql\n",
    "--#q72\n",
    "\n",
    "select  i_item_desc\n",
    "      ,w_warehouse_name\n",
    "      ,d1.d_week_seq\n",
    "      ,sum(case when p_promo_sk is null then 1 else 0 end) no_promo\n",
    "      ,sum(case when p_promo_sk is not null then 1 else 0 end) promo\n",
    "      ,count(*) total_cnt\n",
    "from dev.iceberg100.catalog_sales\n",
    "join dev.iceberg100.inventory on (cs_item_sk = inv_item_sk)\n",
    "join dev.iceberg100.warehouse on (w_warehouse_sk=inv_warehouse_sk)\n",
    "join dev.iceberg100.item on (i_item_sk = cs_item_sk)\n",
    "join dev.iceberg100.customer_demographics on (cs_bill_cdemo_sk = cd_demo_sk)\n",
    "join dev.iceberg100.household_demographics on (cs_bill_hdemo_sk = hd_demo_sk)\n",
    "join dev.iceberg100.date_dim d1 on (cs_sold_date_sk = d1.d_date_sk)\n",
    "join dev.iceberg100.date_dim d2 on (inv_date_sk = d2.d_date_sk)\n",
    "join dev.iceberg100.date_dim d3 on (cs_ship_date_sk = d3.d_date_sk)\n",
    "left outer join dev.iceberg100.promotion on (cs_promo_sk=p_promo_sk)\n",
    "left outer join dev.iceberg100.catalog_returns on (cr_item_sk = cs_item_sk and cr_order_number = cs_order_number)\n",
    "where d1.d_week_seq = d2.d_week_seq\n",
    "  and inv_quantity_on_hand < cs_quantity\n",
    "  and d3.d_date > d1.d_date + interval 5 days\n",
    "  and hd_buy_potential = '>10000'\n",
    "  and d1.d_year = 2002\n",
    "  and cd_marital_status = 'D'\n",
    "group by i_item_desc,w_warehouse_name,d1.d_week_seq\n",
    "order by total_cnt desc, i_item_desc, w_warehouse_name, d_week_seq\n",
    "limit 100"
   ]
  },
  {
   "cell_type": "code",
   "execution_count": 63,
   "id": "cbddae85-2cb3-4227-bbb5-ca51d15993ff",
   "metadata": {
    "execution": {
     "iopub.execute_input": "2024-01-21T00:35:18.930202Z",
     "iopub.status.busy": "2024-01-21T00:35:18.929937Z",
     "iopub.status.idle": "2024-01-21T00:36:12.512233Z",
     "shell.execute_reply": "2024-01-21T00:36:12.511137Z",
     "shell.execute_reply.started": "2024-01-21T00:35:18.930172Z"
    }
   },
   "outputs": [
    {
     "data": {
      "application/vnd.jupyter.widget-view+json": {
       "model_id": "",
       "version_major": 2,
       "version_minor": 0
      },
      "text/plain": [
       "FloatProgress(value=0.0, bar_style='info', description='Progress:', layout=Layout(height='25px', width='50%'),…"
      ]
     },
     "metadata": {},
     "output_type": "display_data"
    },
    {
     "data": {
      "application/vnd.jupyter.widget-view+json": {
       "model_id": "79cf8d0b0ff94f869a1d5d3a4f22623a",
       "version_major": 2,
       "version_minor": 0
      },
      "text/plain": [
       "VBox(children=(HBox(children=(HTML(value='Type:'), Button(description='Table', layout=Layout(width='70px'), st…"
      ]
     },
     "metadata": {},
     "output_type": "display_data"
    },
    {
     "data": {
      "application/vnd.jupyter.widget-view+json": {
       "model_id": "93d67755f475471ead1491ad864e9486",
       "version_major": 2,
       "version_minor": 0
      },
      "text/plain": [
       "Output()"
      ]
     },
     "metadata": {},
     "output_type": "display_data"
    }
   ],
   "source": [
    "%%sql\n",
    "--#q73\n",
    "\n",
    "select c_last_name\n",
    "       ,c_first_name\n",
    "       ,c_salutation\n",
    "       ,c_preferred_cust_flag\n",
    "       ,ss_ticket_number\n",
    "       ,cnt from\n",
    "   (select ss_ticket_number\n",
    "          ,ss_customer_sk\n",
    "          ,count(*) cnt\n",
    "    from dev.iceberg100.store_sales,dev.iceberg100.date_dim,dev.iceberg100.store,dev.iceberg100.household_demographics\n",
    "    where dev.iceberg100.store_sales.ss_sold_date_sk = dev.iceberg100.date_dim.d_date_sk\n",
    "    and dev.iceberg100.store_sales.ss_store_sk = dev.iceberg100.store.s_store_sk\n",
    "    and dev.iceberg100.store_sales.ss_hdemo_sk = dev.iceberg100.household_demographics.hd_demo_sk\n",
    "    and dev.iceberg100.date_dim.d_dom between 1 and 2\n",
    "    and (dev.iceberg100.household_demographics.hd_buy_potential = '501-1000' or\n",
    "         dev.iceberg100.household_demographics.hd_buy_potential = 'Unknown')\n",
    "    and dev.iceberg100.household_demographics.hd_vehicle_count > 0\n",
    "    and case when dev.iceberg100.household_demographics.hd_vehicle_count > 0 then\n",
    "             dev.iceberg100.household_demographics.hd_dep_count/ dev.iceberg100.household_demographics.hd_vehicle_count else null end > 1\n",
    "    and dev.iceberg100.date_dim.d_year in (1999,1999+1,1999+2)\n",
    "    and dev.iceberg100.store.s_county in ('Franklin Parish','Ziebach County','Luce County','Williamson County')\n",
    "    group by ss_ticket_number,ss_customer_sk) dj,dev.iceberg100.customer\n",
    "    where ss_customer_sk = c_customer_sk\n",
    "      and cnt between 1 and 5\n",
    "    order by cnt desc, c_last_name asc"
   ]
  },
  {
   "cell_type": "code",
   "execution_count": 64,
   "id": "714b5397-1127-455e-bbc6-4ae779248584",
   "metadata": {
    "execution": {
     "iopub.execute_input": "2024-01-21T00:36:12.515757Z",
     "iopub.status.busy": "2024-01-21T00:36:12.515513Z",
     "iopub.status.idle": "2024-01-21T00:39:40.804975Z",
     "shell.execute_reply": "2024-01-21T00:39:40.803842Z",
     "shell.execute_reply.started": "2024-01-21T00:36:12.515723Z"
    }
   },
   "outputs": [
    {
     "data": {
      "application/vnd.jupyter.widget-view+json": {
       "model_id": "",
       "version_major": 2,
       "version_minor": 0
      },
      "text/plain": [
       "FloatProgress(value=0.0, bar_style='info', description='Progress:', layout=Layout(height='25px', width='50%'),…"
      ]
     },
     "metadata": {},
     "output_type": "display_data"
    },
    {
     "data": {
      "application/vnd.jupyter.widget-view+json": {
       "model_id": "7c63fc89c2fc45b2a386864b0a1339c4",
       "version_major": 2,
       "version_minor": 0
      },
      "text/plain": [
       "VBox(children=(HBox(children=(HTML(value='Type:'), Button(description='Table', layout=Layout(width='70px'), st…"
      ]
     },
     "metadata": {},
     "output_type": "display_data"
    },
    {
     "data": {
      "application/vnd.jupyter.widget-view+json": {
       "model_id": "c4d8fb12667647429b189ecabfd5bf07",
       "version_major": 2,
       "version_minor": 0
      },
      "text/plain": [
       "Output()"
      ]
     },
     "metadata": {},
     "output_type": "display_data"
    }
   ],
   "source": [
    "%%sql\n",
    "--#q74\n",
    "\n",
    "with year_total as (\n",
    " select c_customer_id customer_id\n",
    "       ,c_first_name customer_first_name\n",
    "       ,c_last_name customer_last_name\n",
    "       ,d_year as year\n",
    "       ,max(ss_net_paid) year_total\n",
    "       ,'s' sale_type\n",
    " from dev.iceberg100.customer\n",
    "     ,dev.iceberg100.store_sales\n",
    "     ,dev.iceberg100.date_dim\n",
    " where c_customer_sk = ss_customer_sk\n",
    "   and ss_sold_date_sk = d_date_sk\n",
    "   and d_year in (2001,2001+1)\n",
    " group by c_customer_id\n",
    "         ,c_first_name\n",
    "         ,c_last_name\n",
    "         ,d_year\n",
    " union all\n",
    " select c_customer_id customer_id\n",
    "       ,c_first_name customer_first_name\n",
    "       ,c_last_name customer_last_name\n",
    "       ,d_year as year\n",
    "       ,max(ws_net_paid) year_total\n",
    "       ,'w' sale_type\n",
    " from dev.iceberg100.customer\n",
    "     ,dev.iceberg100.web_sales\n",
    "     ,dev.iceberg100.date_dim\n",
    " where c_customer_sk = ws_bill_customer_sk\n",
    "   and ws_sold_date_sk = d_date_sk\n",
    "   and d_year in (2001,2001+1)\n",
    " group by c_customer_id\n",
    "         ,c_first_name\n",
    "         ,c_last_name\n",
    "         ,d_year\n",
    "         )\n",
    "  select\n",
    "        t_s_secyear.customer_id, t_s_secyear.customer_first_name, t_s_secyear.customer_last_name\n",
    " from year_total t_s_firstyear\n",
    "     ,year_total t_s_secyear\n",
    "     ,year_total t_w_firstyear\n",
    "     ,year_total t_w_secyear\n",
    " where t_s_secyear.customer_id = t_s_firstyear.customer_id\n",
    "         and t_s_firstyear.customer_id = t_w_secyear.customer_id\n",
    "         and t_s_firstyear.customer_id = t_w_firstyear.customer_id\n",
    "         and t_s_firstyear.sale_type = 's'\n",
    "         and t_w_firstyear.sale_type = 'w'\n",
    "         and t_s_secyear.sale_type = 's'\n",
    "         and t_w_secyear.sale_type = 'w'\n",
    "         and t_s_firstyear.year = 2001\n",
    "         and t_s_secyear.year = 2001+1\n",
    "         and t_w_firstyear.year = 2001\n",
    "         and t_w_secyear.year = 2001+1\n",
    "         and t_s_firstyear.year_total > 0\n",
    "         and t_w_firstyear.year_total > 0\n",
    "         and case when t_w_firstyear.year_total > 0 then t_w_secyear.year_total / t_w_firstyear.year_total else null end\n",
    "           > case when t_s_firstyear.year_total > 0 then t_s_secyear.year_total / t_s_firstyear.year_total else null end\n",
    " order by 3,1,2\n",
    "limit 100"
   ]
  },
  {
   "cell_type": "code",
   "execution_count": 65,
   "id": "b383a42c-0e78-4569-a907-1d04210c3769",
   "metadata": {
    "execution": {
     "iopub.execute_input": "2024-01-21T00:39:40.807350Z",
     "iopub.status.busy": "2024-01-21T00:39:40.807065Z",
     "iopub.status.idle": "2024-01-21T00:45:05.706007Z",
     "shell.execute_reply": "2024-01-21T00:45:05.704357Z",
     "shell.execute_reply.started": "2024-01-21T00:39:40.807321Z"
    }
   },
   "outputs": [
    {
     "data": {
      "application/vnd.jupyter.widget-view+json": {
       "model_id": "",
       "version_major": 2,
       "version_minor": 0
      },
      "text/plain": [
       "FloatProgress(value=0.0, bar_style='info', description='Progress:', layout=Layout(height='25px', width='50%'),…"
      ]
     },
     "metadata": {},
     "output_type": "display_data"
    },
    {
     "data": {
      "application/vnd.jupyter.widget-view+json": {
       "model_id": "080a92c392f442e39bf8aa34a558d8a4",
       "version_major": 2,
       "version_minor": 0
      },
      "text/plain": [
       "VBox(children=(HBox(children=(HTML(value='Type:'), Button(description='Table', layout=Layout(width='70px'), st…"
      ]
     },
     "metadata": {},
     "output_type": "display_data"
    },
    {
     "data": {
      "application/vnd.jupyter.widget-view+json": {
       "model_id": "05ba7d3e9f52459c9bf43193ff3b7ef8",
       "version_major": 2,
       "version_minor": 0
      },
      "text/plain": [
       "Output()"
      ]
     },
     "metadata": {},
     "output_type": "display_data"
    }
   ],
   "source": [
    "%%sql\n",
    "--#q75\n",
    "\n",
    "WITH all_sales AS (\n",
    " SELECT d_year\n",
    "       ,i_brand_id\n",
    "       ,i_class_id\n",
    "       ,i_category_id\n",
    "       ,i_manufact_id\n",
    "       ,SUM(sales_cnt) AS sales_cnt\n",
    "       ,SUM(sales_amt) AS sales_amt\n",
    " FROM (SELECT d_year\n",
    "             ,i_brand_id\n",
    "             ,i_class_id\n",
    "             ,i_category_id\n",
    "             ,i_manufact_id\n",
    "             ,cs_quantity - COALESCE(cr_return_quantity,0) AS sales_cnt\n",
    "             ,cs_ext_sales_price - COALESCE(cr_return_amount,0.0) AS sales_amt\n",
    "       FROM dev.iceberg100.catalog_sales JOIN dev.iceberg100.item ON i_item_sk=cs_item_sk\n",
    "                          JOIN dev.iceberg100.date_dim ON d_date_sk=cs_sold_date_sk\n",
    "                          LEFT JOIN dev.iceberg100.catalog_returns ON (cs_order_number=cr_order_number\n",
    "                                                    AND cs_item_sk=cr_item_sk)\n",
    "       WHERE i_category='Sports'\n",
    "       UNION\n",
    "       SELECT d_year\n",
    "             ,i_brand_id\n",
    "             ,i_class_id\n",
    "             ,i_category_id\n",
    "             ,i_manufact_id\n",
    "             ,ss_quantity - COALESCE(sr_return_quantity,0) AS sales_cnt\n",
    "             ,ss_ext_sales_price - COALESCE(sr_return_amt,0.0) AS sales_amt\n",
    "       FROM dev.iceberg100.store_sales JOIN dev.iceberg100.item ON i_item_sk=ss_item_sk\n",
    "                        JOIN dev.iceberg100.date_dim ON d_date_sk=ss_sold_date_sk\n",
    "                        LEFT JOIN dev.iceberg100.store_returns ON (ss_ticket_number=sr_ticket_number\n",
    "                                                AND ss_item_sk=sr_item_sk)\n",
    "       WHERE i_category='Sports'\n",
    "       UNION\n",
    "       SELECT d_year\n",
    "             ,i_brand_id\n",
    "             ,i_class_id\n",
    "             ,i_category_id\n",
    "             ,i_manufact_id\n",
    "             ,ws_quantity - COALESCE(wr_return_quantity,0) AS sales_cnt\n",
    "             ,ws_ext_sales_price - COALESCE(wr_return_amt,0.0) AS sales_amt\n",
    "       FROM dev.iceberg100.web_sales JOIN dev.iceberg100.item ON i_item_sk=ws_item_sk\n",
    "                      JOIN dev.iceberg100.date_dim ON d_date_sk=ws_sold_date_sk\n",
    "                      LEFT JOIN dev.iceberg100.web_returns ON (ws_order_number=wr_order_number\n",
    "                                            AND ws_item_sk=wr_item_sk)\n",
    "       WHERE i_category='Sports') sales_detail\n",
    " GROUP BY d_year, i_brand_id, i_class_id, i_category_id, i_manufact_id)\n",
    " SELECT  prev_yr.d_year AS prev_year\n",
    "                          ,curr_yr.d_year AS year\n",
    "                          ,curr_yr.i_brand_id\n",
    "                          ,curr_yr.i_class_id\n",
    "                          ,curr_yr.i_category_id\n",
    "                          ,curr_yr.i_manufact_id\n",
    "                          ,prev_yr.sales_cnt AS prev_yr_cnt\n",
    "                          ,curr_yr.sales_cnt AS curr_yr_cnt\n",
    "                          ,curr_yr.sales_cnt-prev_yr.sales_cnt AS sales_cnt_diff\n",
    "                          ,curr_yr.sales_amt-prev_yr.sales_amt AS sales_amt_diff\n",
    " FROM all_sales curr_yr, all_sales prev_yr\n",
    " WHERE curr_yr.i_brand_id=prev_yr.i_brand_id\n",
    "   AND curr_yr.i_class_id=prev_yr.i_class_id\n",
    "   AND curr_yr.i_category_id=prev_yr.i_category_id\n",
    "   AND curr_yr.i_manufact_id=prev_yr.i_manufact_id\n",
    "   AND curr_yr.d_year=2001\n",
    "   AND prev_yr.d_year=2001-1\n",
    "   AND CAST(curr_yr.sales_cnt AS DECIMAL(17,2))/CAST(prev_yr.sales_cnt AS DECIMAL(17,2))<0.9\n",
    " ORDER BY sales_cnt_diff,sales_amt_diff\n",
    " limit 100"
   ]
  },
  {
   "cell_type": "code",
   "execution_count": 66,
   "id": "27ab2e91-bca9-43cf-a784-7df38c9247f1",
   "metadata": {
    "execution": {
     "iopub.execute_input": "2024-01-21T00:45:05.708783Z",
     "iopub.status.busy": "2024-01-21T00:45:05.708019Z",
     "iopub.status.idle": "2024-01-21T00:46:44.329207Z",
     "shell.execute_reply": "2024-01-21T00:46:44.328114Z",
     "shell.execute_reply.started": "2024-01-21T00:45:05.708731Z"
    }
   },
   "outputs": [
    {
     "data": {
      "application/vnd.jupyter.widget-view+json": {
       "model_id": "",
       "version_major": 2,
       "version_minor": 0
      },
      "text/plain": [
       "FloatProgress(value=0.0, bar_style='info', description='Progress:', layout=Layout(height='25px', width='50%'),…"
      ]
     },
     "metadata": {},
     "output_type": "display_data"
    },
    {
     "data": {
      "application/vnd.jupyter.widget-view+json": {
       "model_id": "de9966fe66ba409ebd2c6d4151231c20",
       "version_major": 2,
       "version_minor": 0
      },
      "text/plain": [
       "VBox(children=(HBox(children=(HTML(value='Type:'), Button(description='Table', layout=Layout(width='70px'), st…"
      ]
     },
     "metadata": {},
     "output_type": "display_data"
    },
    {
     "data": {
      "application/vnd.jupyter.widget-view+json": {
       "model_id": "4f45e77aaa1a472ab27e5ab34a9a190d",
       "version_major": 2,
       "version_minor": 0
      },
      "text/plain": [
       "Output()"
      ]
     },
     "metadata": {},
     "output_type": "display_data"
    }
   ],
   "source": [
    "%%sql\n",
    "--#q76\n",
    "\n",
    "select  channel, col_name, d_year, d_qoy, i_category, COUNT(*) sales_cnt, SUM(ext_sales_price) sales_amt FROM (\n",
    "        SELECT 'store' as channel, 'ss_cdemo_sk' col_name, d_year, d_qoy, i_category, ss_ext_sales_price ext_sales_price\n",
    "         FROM dev.iceberg100.store_sales, dev.iceberg100.item, dev.iceberg100.date_dim\n",
    "         WHERE ss_cdemo_sk IS NULL\n",
    "           AND ss_sold_date_sk=d_date_sk\n",
    "           AND ss_item_sk=i_item_sk\n",
    "        UNION ALL\n",
    "        SELECT 'web' as channel, 'ws_ship_hdemo_sk' col_name, d_year, d_qoy, i_category, ws_ext_sales_price ext_sales_price\n",
    "         FROM dev.iceberg100.web_sales, dev.iceberg100.item, dev.iceberg100.date_dim\n",
    "         WHERE ws_ship_hdemo_sk IS NULL\n",
    "           AND ws_sold_date_sk=d_date_sk\n",
    "           AND ws_item_sk=i_item_sk\n",
    "        UNION ALL\n",
    "        SELECT 'catalog' as channel, 'cs_ship_customer_sk' col_name, d_year, d_qoy, i_category, cs_ext_sales_price ext_sales_price\n",
    "         FROM dev.iceberg100.catalog_sales, dev.iceberg100.item, dev.iceberg100.date_dim\n",
    "         WHERE cs_ship_customer_sk IS NULL\n",
    "           AND cs_sold_date_sk=d_date_sk\n",
    "           AND cs_item_sk=i_item_sk) foo\n",
    "GROUP BY channel, col_name, d_year, d_qoy, i_category\n",
    "ORDER BY channel, col_name, d_year, d_qoy, i_category\n",
    "limit 100"
   ]
  },
  {
   "cell_type": "code",
   "execution_count": 67,
   "id": "6c7381bb-bdd2-4f40-a9a1-89c75e7ec18b",
   "metadata": {
    "execution": {
     "iopub.execute_input": "2024-01-21T00:46:44.331361Z",
     "iopub.status.busy": "2024-01-21T00:46:44.331047Z",
     "iopub.status.idle": "2024-01-21T00:52:35.168424Z",
     "shell.execute_reply": "2024-01-21T00:52:35.167414Z",
     "shell.execute_reply.started": "2024-01-21T00:46:44.331314Z"
    }
   },
   "outputs": [
    {
     "data": {
      "application/vnd.jupyter.widget-view+json": {
       "model_id": "",
       "version_major": 2,
       "version_minor": 0
      },
      "text/plain": [
       "FloatProgress(value=0.0, bar_style='info', description='Progress:', layout=Layout(height='25px', width='50%'),…"
      ]
     },
     "metadata": {},
     "output_type": "display_data"
    },
    {
     "data": {
      "application/vnd.jupyter.widget-view+json": {
       "model_id": "7e1e039f5fcf4feb9656a1104d764d77",
       "version_major": 2,
       "version_minor": 0
      },
      "text/plain": [
       "VBox(children=(HBox(children=(HTML(value='Type:'), Button(description='Table', layout=Layout(width='70px'), st…"
      ]
     },
     "metadata": {},
     "output_type": "display_data"
    },
    {
     "data": {
      "application/vnd.jupyter.widget-view+json": {
       "model_id": "958c273dd1684ebea5ecf7d3d2aee372",
       "version_major": 2,
       "version_minor": 0
      },
      "text/plain": [
       "Output()"
      ]
     },
     "metadata": {},
     "output_type": "display_data"
    }
   ],
   "source": [
    "%%sql\n",
    "--#q77\n",
    "\n",
    "with ss as\n",
    " (select s_store_sk,\n",
    "         sum(ss_ext_sales_price) as sales,\n",
    "         sum(ss_net_profit) as profit\n",
    " from dev.iceberg100.store_sales,\n",
    "      dev.iceberg100.date_dim,\n",
    "      dev.iceberg100.store\n",
    " where ss_sold_date_sk = d_date_sk\n",
    "       and d_date between cast('2001-08-27' as date)\n",
    "                  and (cast('2001-08-27' as date) +  INTERVAL 30 days)\n",
    "       and ss_store_sk = s_store_sk\n",
    " group by s_store_sk)\n",
    " ,\n",
    " sr as\n",
    " (select s_store_sk,\n",
    "         sum(sr_return_amt) as returns,\n",
    "         sum(sr_net_loss) as profit_loss\n",
    " from dev.iceberg100.store_returns,\n",
    "      dev.iceberg100.date_dim,\n",
    "      dev.iceberg100.store\n",
    " where sr_returned_date_sk = d_date_sk\n",
    "       and d_date between cast('2001-08-27' as date)\n",
    "                  and (cast('2001-08-27' as date) +  INTERVAL 30 days)\n",
    "       and sr_store_sk = s_store_sk\n",
    " group by s_store_sk),\n",
    " cs as\n",
    " (select cs_call_center_sk,\n",
    "        sum(cs_ext_sales_price) as sales,\n",
    "        sum(cs_net_profit) as profit\n",
    " from dev.iceberg100.catalog_sales,\n",
    "      dev.iceberg100.date_dim\n",
    " where cs_sold_date_sk = d_date_sk\n",
    "       and d_date between cast('2001-08-27' as date)\n",
    "                  and (cast('2001-08-27' as date) +  INTERVAL 30 days)\n",
    " group by cs_call_center_sk\n",
    " ),\n",
    " cr as\n",
    " (select cr_call_center_sk,\n",
    "         sum(cr_return_amount) as returns,\n",
    "         sum(cr_net_loss) as profit_loss\n",
    " from dev.iceberg100.catalog_returns,\n",
    "      dev.iceberg100.date_dim\n",
    " where cr_returned_date_sk = d_date_sk\n",
    "       and d_date between cast('2001-08-27' as date)\n",
    "                  and (cast('2001-08-27' as date) +  INTERVAL 30 days)\n",
    " group by cr_call_center_sk\n",
    " ),\n",
    " ws as\n",
    " ( select wp_web_page_sk,\n",
    "        sum(ws_ext_sales_price) as sales,\n",
    "        sum(ws_net_profit) as profit\n",
    " from dev.iceberg100.web_sales,\n",
    "      dev.iceberg100.date_dim,\n",
    "      dev.iceberg100.web_page\n",
    " where ws_sold_date_sk = d_date_sk\n",
    "       and d_date between cast('2001-08-27' as date)\n",
    "                  and (cast('2001-08-27' as date) +  INTERVAL 30 days)\n",
    "       and ws_web_page_sk = wp_web_page_sk\n",
    " group by wp_web_page_sk),\n",
    " wr as\n",
    " (select wp_web_page_sk,\n",
    "        sum(wr_return_amt) as returns,\n",
    "        sum(wr_net_loss) as profit_loss\n",
    " from dev.iceberg100.web_returns,\n",
    "      dev.iceberg100.date_dim,\n",
    "      dev.iceberg100.web_page\n",
    " where wr_returned_date_sk = d_date_sk\n",
    "       and d_date between cast('2001-08-27' as date)\n",
    "                  and (cast('2001-08-27' as date) +  INTERVAL 30 days)\n",
    "       and wr_web_page_sk = wp_web_page_sk\n",
    " group by wp_web_page_sk)\n",
    "  select  channel\n",
    "        , id\n",
    "        , sum(sales) as sales\n",
    "        , sum(returns) as returns\n",
    "        , sum(profit) as profit\n",
    " from\n",
    " (select 'store channel' as channel\n",
    "        , ss.s_store_sk as id\n",
    "        , sales\n",
    "        , coalesce(returns, 0) as returns\n",
    "        , (profit - coalesce(profit_loss,0)) as profit\n",
    " from   ss left join sr\n",
    "        on  ss.s_store_sk = sr.s_store_sk\n",
    " union all\n",
    " select 'catalog channel' as channel\n",
    "        , cs_call_center_sk as id\n",
    "        , sales\n",
    "        , returns\n",
    "        , (profit - profit_loss) as profit\n",
    " from  cs\n",
    "       , cr\n",
    " union all\n",
    " select 'web channel' as channel\n",
    "        , ws.wp_web_page_sk as id\n",
    "        , sales\n",
    "        , coalesce(returns, 0) returns\n",
    "        , (profit - coalesce(profit_loss,0)) as profit\n",
    " from   ws left join wr\n",
    "        on  ws.wp_web_page_sk = wr.wp_web_page_sk\n",
    " ) x\n",
    " group by rollup (channel, id)\n",
    " order by channel\n",
    "         ,id\n",
    " limit 100"
   ]
  },
  {
   "cell_type": "code",
   "execution_count": 68,
   "id": "a3bed0d1-d431-462d-a643-e58932c38f00",
   "metadata": {
    "execution": {
     "iopub.execute_input": "2024-01-21T00:52:35.170122Z",
     "iopub.status.busy": "2024-01-21T00:52:35.169798Z",
     "iopub.status.idle": "2024-01-21T01:01:02.694894Z",
     "shell.execute_reply": "2024-01-21T01:01:02.693304Z",
     "shell.execute_reply.started": "2024-01-21T00:52:35.170077Z"
    }
   },
   "outputs": [
    {
     "data": {
      "application/vnd.jupyter.widget-view+json": {
       "model_id": "",
       "version_major": 2,
       "version_minor": 0
      },
      "text/plain": [
       "FloatProgress(value=0.0, bar_style='info', description='Progress:', layout=Layout(height='25px', width='50%'),…"
      ]
     },
     "metadata": {},
     "output_type": "display_data"
    },
    {
     "data": {
      "application/vnd.jupyter.widget-view+json": {
       "model_id": "d2b52e40c5814cb4ba473cb6f32eb6aa",
       "version_major": 2,
       "version_minor": 0
      },
      "text/plain": [
       "VBox(children=(HBox(children=(HTML(value='Type:'), Button(description='Table', layout=Layout(width='70px'), st…"
      ]
     },
     "metadata": {},
     "output_type": "display_data"
    },
    {
     "data": {
      "application/vnd.jupyter.widget-view+json": {
       "model_id": "223b3f42c8f74d39be7d693d915b8a14",
       "version_major": 2,
       "version_minor": 0
      },
      "text/plain": [
       "Output()"
      ]
     },
     "metadata": {},
     "output_type": "display_data"
    }
   ],
   "source": [
    "%%sql\n",
    "--#q78\n",
    "\n",
    "with ws as\n",
    "  (select d_year AS ws_sold_year, ws_item_sk,\n",
    "    ws_bill_customer_sk ws_customer_sk,\n",
    "    sum(ws_quantity) ws_qty,\n",
    "    sum(ws_wholesale_cost) ws_wc,\n",
    "    sum(ws_sales_price) ws_sp\n",
    "   from dev.iceberg100.web_sales\n",
    "   left join dev.iceberg100.web_returns on wr_order_number=ws_order_number and ws_item_sk=wr_item_sk\n",
    "   join dev.iceberg100.date_dim on ws_sold_date_sk = d_date_sk\n",
    "   where wr_order_number is null\n",
    "   group by d_year, ws_item_sk, ws_bill_customer_sk\n",
    "   ),\n",
    "cs as\n",
    "  (select d_year AS cs_sold_year, cs_item_sk,\n",
    "    cs_bill_customer_sk cs_customer_sk,\n",
    "    sum(cs_quantity) cs_qty,\n",
    "    sum(cs_wholesale_cost) cs_wc,\n",
    "    sum(cs_sales_price) cs_sp\n",
    "   from dev.iceberg100.catalog_sales\n",
    "   left join dev.iceberg100.catalog_returns on cr_order_number=cs_order_number and cs_item_sk=cr_item_sk\n",
    "   join dev.iceberg100.date_dim on cs_sold_date_sk = d_date_sk\n",
    "   where cr_order_number is null\n",
    "   group by d_year, cs_item_sk, cs_bill_customer_sk\n",
    "   ),\n",
    "ss as\n",
    "  (select d_year AS ss_sold_year, ss_item_sk,\n",
    "    ss_customer_sk,\n",
    "    sum(ss_quantity) ss_qty,\n",
    "    sum(ss_wholesale_cost) ss_wc,\n",
    "    sum(ss_sales_price) ss_sp\n",
    "   from dev.iceberg100.store_sales\n",
    "   left join dev.iceberg100.store_returns on sr_ticket_number=ss_ticket_number and ss_item_sk=sr_item_sk\n",
    "   join dev.iceberg100.date_dim on ss_sold_date_sk = d_date_sk\n",
    "   where sr_ticket_number is null\n",
    "   group by d_year, ss_item_sk, ss_customer_sk\n",
    "   )\n",
    " select\n",
    "ss_sold_year, ss_item_sk, ss_customer_sk,\n",
    "round(ss_qty/(coalesce(ws_qty,0)+coalesce(cs_qty,0)),2) ratio,\n",
    "ss_qty store_qty, ss_wc store_wholesale_cost, ss_sp store_sales_price,\n",
    "coalesce(ws_qty,0)+coalesce(cs_qty,0) other_chan_qty,\n",
    "coalesce(ws_wc,0)+coalesce(cs_wc,0) other_chan_wholesale_cost,\n",
    "coalesce(ws_sp,0)+coalesce(cs_sp,0) other_chan_sales_price\n",
    "from ss\n",
    "left join ws on (ws_sold_year=ss_sold_year and ws_item_sk=ss_item_sk and ws_customer_sk=ss_customer_sk)\n",
    "left join cs on (cs_sold_year=ss_sold_year and cs_item_sk=ss_item_sk and cs_customer_sk=ss_customer_sk)\n",
    "where (coalesce(ws_qty,0)>0 or coalesce(cs_qty, 0)>0) and ss_sold_year=2002\n",
    "order by\n",
    "  ss_sold_year, ss_item_sk, ss_customer_sk,\n",
    "  ss_qty desc, ss_wc desc, ss_sp desc,\n",
    "  other_chan_qty,\n",
    "  other_chan_wholesale_cost,\n",
    "  other_chan_sales_price,\n",
    "  ratio\n",
    "limit 100"
   ]
  },
  {
   "cell_type": "code",
   "execution_count": 69,
   "id": "ce205326-fa39-4bcc-8484-5b0bf748b868",
   "metadata": {
    "execution": {
     "iopub.execute_input": "2024-01-21T01:01:02.696683Z",
     "iopub.status.busy": "2024-01-21T01:01:02.696453Z",
     "iopub.status.idle": "2024-01-21T01:02:28.404101Z",
     "shell.execute_reply": "2024-01-21T01:02:28.403124Z",
     "shell.execute_reply.started": "2024-01-21T01:01:02.696653Z"
    }
   },
   "outputs": [
    {
     "data": {
      "application/vnd.jupyter.widget-view+json": {
       "model_id": "",
       "version_major": 2,
       "version_minor": 0
      },
      "text/plain": [
       "FloatProgress(value=0.0, bar_style='info', description='Progress:', layout=Layout(height='25px', width='50%'),…"
      ]
     },
     "metadata": {},
     "output_type": "display_data"
    },
    {
     "data": {
      "application/vnd.jupyter.widget-view+json": {
       "model_id": "d95eb4b374ab4a6ca28f74c43d4172f6",
       "version_major": 2,
       "version_minor": 0
      },
      "text/plain": [
       "VBox(children=(HBox(children=(HTML(value='Type:'), Button(description='Table', layout=Layout(width='70px'), st…"
      ]
     },
     "metadata": {},
     "output_type": "display_data"
    },
    {
     "data": {
      "application/vnd.jupyter.widget-view+json": {
       "model_id": "55fe5aea8aeb45169597b15874fcf896",
       "version_major": 2,
       "version_minor": 0
      },
      "text/plain": [
       "Output()"
      ]
     },
     "metadata": {},
     "output_type": "display_data"
    }
   ],
   "source": [
    "%%sql\n",
    "--#q79\n",
    "\n",
    "select\n",
    "  c_last_name,c_first_name,substr(s_city,1,30),ss_ticket_number,amt,profit\n",
    "  from\n",
    "   (select ss_ticket_number\n",
    "          ,ss_customer_sk\n",
    "          ,dev.iceberg100.store.s_city\n",
    "          ,sum(ss_coupon_amt) amt\n",
    "          ,sum(ss_net_profit) profit\n",
    "    from dev.iceberg100.store_sales,dev.iceberg100.date_dim,dev.iceberg100.store,dev.iceberg100.household_demographics\n",
    "    where dev.iceberg100.store_sales.ss_sold_date_sk = dev.iceberg100.date_dim.d_date_sk\n",
    "    and dev.iceberg100.store_sales.ss_store_sk = dev.iceberg100.store.s_store_sk\n",
    "    and dev.iceberg100.store_sales.ss_hdemo_sk = dev.iceberg100.household_demographics.hd_demo_sk\n",
    "    and (dev.iceberg100.household_demographics.hd_dep_count = 0 or dev.iceberg100.household_demographics.hd_vehicle_count > 0)\n",
    "    and dev.iceberg100.date_dim.d_dow = 1\n",
    "    and dev.iceberg100.date_dim.d_year in (2000,2000+1,2000+2)\n",
    "    and dev.iceberg100.store.s_number_employees between 200 and 295\n",
    "    group by ss_ticket_number,ss_customer_sk,ss_addr_sk,dev.iceberg100.store.s_city) ms,dev.iceberg100.customer\n",
    "    where ss_customer_sk = c_customer_sk\n",
    " order by c_last_name,c_first_name,substr(s_city,1,30), profit\n",
    "limit 100"
   ]
  },
  {
   "cell_type": "code",
   "execution_count": 70,
   "id": "e8348c34-7f7a-44d8-aec9-35aae61834fc",
   "metadata": {
    "execution": {
     "iopub.execute_input": "2024-01-21T01:02:28.405729Z",
     "iopub.status.busy": "2024-01-21T01:02:28.405426Z",
     "iopub.status.idle": "2024-01-21T01:12:00.241100Z",
     "shell.execute_reply": "2024-01-21T01:12:00.240102Z",
     "shell.execute_reply.started": "2024-01-21T01:02:28.405677Z"
    }
   },
   "outputs": [
    {
     "data": {
      "application/vnd.jupyter.widget-view+json": {
       "model_id": "",
       "version_major": 2,
       "version_minor": 0
      },
      "text/plain": [
       "FloatProgress(value=0.0, bar_style='info', description='Progress:', layout=Layout(height='25px', width='50%'),…"
      ]
     },
     "metadata": {},
     "output_type": "display_data"
    },
    {
     "data": {
      "application/vnd.jupyter.widget-view+json": {
       "model_id": "88c9d6e18cea4a37bfca820c7deff68e",
       "version_major": 2,
       "version_minor": 0
      },
      "text/plain": [
       "VBox(children=(HBox(children=(HTML(value='Type:'), Button(description='Table', layout=Layout(width='70px'), st…"
      ]
     },
     "metadata": {},
     "output_type": "display_data"
    },
    {
     "data": {
      "application/vnd.jupyter.widget-view+json": {
       "model_id": "4025d8ea930645769047d0e46c35251b",
       "version_major": 2,
       "version_minor": 0
      },
      "text/plain": [
       "Output()"
      ]
     },
     "metadata": {},
     "output_type": "display_data"
    }
   ],
   "source": [
    "%%sql\n",
    "--#q80\n",
    "\n",
    "with ssr as\n",
    " (select  s_store_id as store_id,\n",
    "          sum(ss_ext_sales_price) as sales,\n",
    "          sum(coalesce(sr_return_amt, 0)) as returns,\n",
    "          sum(ss_net_profit - coalesce(sr_net_loss, 0)) as profit\n",
    "  from dev.iceberg100.store_sales left outer join dev.iceberg100.store_returns on\n",
    "         (ss_item_sk = sr_item_sk and ss_ticket_number = sr_ticket_number),\n",
    "     dev.iceberg100.date_dim,\n",
    "     dev.iceberg100.store,\n",
    "     dev.iceberg100.item,\n",
    "     dev.iceberg100.promotion\n",
    " where ss_sold_date_sk = d_date_sk\n",
    "       and d_date between cast('1999-08-12' as date)\n",
    "                  and (cast('1999-08-12' as date) +  INTERVAL 60 days)\n",
    "       and ss_store_sk = s_store_sk\n",
    "       and ss_item_sk = i_item_sk\n",
    "       and i_current_price > 50\n",
    "       and ss_promo_sk = p_promo_sk\n",
    "       and p_channel_tv = 'N'\n",
    " group by s_store_id)\n",
    " ,\n",
    " csr as\n",
    " (select  cp_catalog_page_id as catalog_page_id,\n",
    "          sum(cs_ext_sales_price) as sales,\n",
    "          sum(coalesce(cr_return_amount, 0)) as returns,\n",
    "          sum(cs_net_profit - coalesce(cr_net_loss, 0)) as profit\n",
    "  from dev.iceberg100.catalog_sales left outer join dev.iceberg100.catalog_returns on\n",
    "         (cs_item_sk = cr_item_sk and cs_order_number = cr_order_number),\n",
    "     dev.iceberg100.date_dim,\n",
    "     dev.iceberg100.catalog_page,\n",
    "     dev.iceberg100.item,\n",
    "     dev.iceberg100.promotion\n",
    " where cs_sold_date_sk = d_date_sk\n",
    "       and d_date between cast('1999-08-12' as date)\n",
    "                  and (cast('1999-08-12' as date) +  INTERVAL 60 days)\n",
    "        and cs_catalog_page_sk = cp_catalog_page_sk\n",
    "       and cs_item_sk = i_item_sk\n",
    "       and i_current_price > 50\n",
    "       and cs_promo_sk = p_promo_sk\n",
    "       and p_channel_tv = 'N'\n",
    "group by cp_catalog_page_id)\n",
    " ,\n",
    " wsr as\n",
    " (select  web_site_id,\n",
    "          sum(ws_ext_sales_price) as sales,\n",
    "          sum(coalesce(wr_return_amt, 0)) as returns,\n",
    "          sum(ws_net_profit - coalesce(wr_net_loss, 0)) as profit\n",
    "  from dev.iceberg100.web_sales left outer join dev.iceberg100.web_returns on\n",
    "         (ws_item_sk = wr_item_sk and ws_order_number = wr_order_number),\n",
    "     dev.iceberg100.date_dim,\n",
    "     dev.iceberg100.web_site,\n",
    "     dev.iceberg100.item,\n",
    "     dev.iceberg100.promotion\n",
    " where ws_sold_date_sk = d_date_sk\n",
    "       and d_date between cast('1999-08-12' as date)\n",
    "                  and (cast('1999-08-12' as date) +  INTERVAL 60 days)\n",
    "        and ws_web_site_sk = web_site_sk\n",
    "       and ws_item_sk = i_item_sk\n",
    "       and i_current_price > 50\n",
    "       and ws_promo_sk = p_promo_sk\n",
    "       and p_channel_tv = 'N'\n",
    "group by web_site_id)\n",
    "  select  channel\n",
    "        , id\n",
    "        , sum(sales) as sales\n",
    "        , sum(returns) as returns\n",
    "        , sum(profit) as profit\n",
    " from\n",
    " (select 'store channel' as channel\n",
    "        , 'store' || store_id as id\n",
    "        , sales\n",
    "        , returns\n",
    "        , profit\n",
    " from   ssr\n",
    " union all\n",
    " select 'catalog channel' as channel\n",
    "        , 'catalog_page' || catalog_page_id as id\n",
    "        , sales\n",
    "        , returns\n",
    "        , profit\n",
    " from  csr\n",
    " union all\n",
    " select 'web channel' as channel\n",
    "        , 'web_site' || web_site_id as id\n",
    "        , sales\n",
    "        , returns\n",
    "        , profit\n",
    " from   wsr\n",
    " ) x\n",
    " group by rollup (channel, id)\n",
    " order by channel\n",
    "         ,id\n",
    " limit 100"
   ]
  },
  {
   "cell_type": "code",
   "execution_count": 71,
   "id": "9e30b1f8-d21c-40b6-bdc1-fa6ae116c500",
   "metadata": {
    "execution": {
     "iopub.execute_input": "2024-01-21T01:12:00.243233Z",
     "iopub.status.busy": "2024-01-21T01:12:00.242873Z",
     "iopub.status.idle": "2024-01-21T01:12:35.820275Z",
     "shell.execute_reply": "2024-01-21T01:12:35.819132Z",
     "shell.execute_reply.started": "2024-01-21T01:12:00.243184Z"
    }
   },
   "outputs": [
    {
     "data": {
      "application/vnd.jupyter.widget-view+json": {
       "model_id": "",
       "version_major": 2,
       "version_minor": 0
      },
      "text/plain": [
       "FloatProgress(value=0.0, bar_style='info', description='Progress:', layout=Layout(height='25px', width='50%'),…"
      ]
     },
     "metadata": {},
     "output_type": "display_data"
    },
    {
     "data": {
      "application/vnd.jupyter.widget-view+json": {
       "model_id": "911144817c5e4742a9d5e6fce690072e",
       "version_major": 2,
       "version_minor": 0
      },
      "text/plain": [
       "VBox(children=(HBox(children=(HTML(value='Type:'), Button(description='Table', layout=Layout(width='70px'), st…"
      ]
     },
     "metadata": {},
     "output_type": "display_data"
    },
    {
     "data": {
      "application/vnd.jupyter.widget-view+json": {
       "model_id": "cc922899af6b4169ab5580f04dbba25a",
       "version_major": 2,
       "version_minor": 0
      },
      "text/plain": [
       "Output()"
      ]
     },
     "metadata": {},
     "output_type": "display_data"
    }
   ],
   "source": [
    "%%sql\n",
    "--#q81\n",
    "\n",
    "with customer_total_return as\n",
    " (select cr_returning_customer_sk as ctr_customer_sk\n",
    "        ,ca_state as ctr_state,\n",
    " \tsum(cr_return_amt_inc_tax) as ctr_total_return\n",
    " from dev.iceberg100.catalog_returns\n",
    "     ,dev.iceberg100.date_dim\n",
    "     ,dev.iceberg100.customer_address\n",
    " where cr_returned_date_sk = d_date_sk\n",
    "   and d_year =2001\n",
    "   and cr_returning_addr_sk = ca_address_sk\n",
    " group by cr_returning_customer_sk\n",
    "         ,ca_state )\n",
    "  select  c_customer_id,c_salutation,c_first_name,c_last_name,ca_street_number,ca_street_name\n",
    "                   ,ca_street_type,ca_suite_number,ca_city,ca_county,ca_state,ca_zip,ca_country,ca_gmt_offset\n",
    "                  ,ca_location_type,ctr_total_return\n",
    " from customer_total_return ctr1\n",
    "     ,dev.iceberg100.customer_address\n",
    "     ,dev.iceberg100.customer\n",
    " where ctr1.ctr_total_return > (select avg(ctr_total_return)*1.2\n",
    " \t\t\t  from customer_total_return ctr2\n",
    "                  \t  where ctr1.ctr_state = ctr2.ctr_state)\n",
    "       and ca_address_sk = c_current_addr_sk\n",
    "       and ca_state = 'NC'\n",
    "       and ctr1.ctr_customer_sk = c_customer_sk\n",
    " order by c_customer_id,c_salutation,c_first_name,c_last_name,ca_street_number,ca_street_name\n",
    "                   ,ca_street_type,ca_suite_number,ca_city,ca_county,ca_state,ca_zip,ca_country,ca_gmt_offset\n",
    "                  ,ca_location_type,ctr_total_return\n",
    " limit 100"
   ]
  },
  {
   "cell_type": "code",
   "execution_count": 72,
   "id": "42a52188-1595-4aec-b92e-29eaee37e2c8",
   "metadata": {
    "execution": {
     "iopub.execute_input": "2024-01-21T01:12:35.821792Z",
     "iopub.status.busy": "2024-01-21T01:12:35.821537Z",
     "iopub.status.idle": "2024-01-21T01:13:59.556687Z",
     "shell.execute_reply": "2024-01-21T01:13:59.555489Z",
     "shell.execute_reply.started": "2024-01-21T01:12:35.821761Z"
    }
   },
   "outputs": [
    {
     "data": {
      "application/vnd.jupyter.widget-view+json": {
       "model_id": "",
       "version_major": 2,
       "version_minor": 0
      },
      "text/plain": [
       "FloatProgress(value=0.0, bar_style='info', description='Progress:', layout=Layout(height='25px', width='50%'),…"
      ]
     },
     "metadata": {},
     "output_type": "display_data"
    },
    {
     "data": {
      "application/vnd.jupyter.widget-view+json": {
       "model_id": "a42680ca081540b8b9e429b3d5b88cfb",
       "version_major": 2,
       "version_minor": 0
      },
      "text/plain": [
       "VBox(children=(HBox(children=(HTML(value='Type:'), Button(description='Table', layout=Layout(width='70px'), st…"
      ]
     },
     "metadata": {},
     "output_type": "display_data"
    },
    {
     "data": {
      "application/vnd.jupyter.widget-view+json": {
       "model_id": "11af29221cb94c21bce8e52654ae2ed6",
       "version_major": 2,
       "version_minor": 0
      },
      "text/plain": [
       "Output()"
      ]
     },
     "metadata": {},
     "output_type": "display_data"
    }
   ],
   "source": [
    "%%sql\n",
    "--#q82\n",
    "\n",
    "select  i_item_id\n",
    "       ,i_item_desc\n",
    "       ,i_current_price\n",
    " from dev.iceberg100.item, dev.iceberg100.inventory, dev.iceberg100.date_dim, dev.iceberg100.store_sales\n",
    " where i_current_price between 82 and 82+30\n",
    " and inv_item_sk = i_item_sk\n",
    " and d_date_sk=inv_date_sk\n",
    " and d_date between cast('2002-03-10' as date) and (cast('2002-03-10' as date) +  INTERVAL 60 days)\n",
    " and i_manufact_id in (941,920,105,693)\n",
    " and inv_quantity_on_hand between 100 and 500\n",
    " and ss_item_sk = i_item_sk\n",
    " group by i_item_id,i_item_desc,i_current_price\n",
    " order by i_item_id\n",
    " limit 100"
   ]
  },
  {
   "cell_type": "code",
   "execution_count": 73,
   "id": "fdf0f83d-25f7-4d5b-84bc-3d9a19aaaf0b",
   "metadata": {
    "execution": {
     "iopub.execute_input": "2024-01-21T01:13:59.558922Z",
     "iopub.status.busy": "2024-01-21T01:13:59.558358Z",
     "iopub.status.idle": "2024-01-21T01:14:19.031942Z",
     "shell.execute_reply": "2024-01-21T01:14:19.030969Z",
     "shell.execute_reply.started": "2024-01-21T01:13:59.558852Z"
    }
   },
   "outputs": [
    {
     "data": {
      "application/vnd.jupyter.widget-view+json": {
       "model_id": "",
       "version_major": 2,
       "version_minor": 0
      },
      "text/plain": [
       "FloatProgress(value=0.0, bar_style='info', description='Progress:', layout=Layout(height='25px', width='50%'),…"
      ]
     },
     "metadata": {},
     "output_type": "display_data"
    },
    {
     "data": {
      "application/vnd.jupyter.widget-view+json": {
       "model_id": "ec2a5890bb1547588275aa1e5748132f",
       "version_major": 2,
       "version_minor": 0
      },
      "text/plain": [
       "VBox(children=(HBox(children=(HTML(value='Type:'), Button(description='Table', layout=Layout(width='70px'), st…"
      ]
     },
     "metadata": {},
     "output_type": "display_data"
    },
    {
     "data": {
      "application/vnd.jupyter.widget-view+json": {
       "model_id": "cd2e79f3d0e4406395b43fb4d1898f82",
       "version_major": 2,
       "version_minor": 0
      },
      "text/plain": [
       "Output()"
      ]
     },
     "metadata": {},
     "output_type": "display_data"
    }
   ],
   "source": [
    "%%sql\n",
    "--#q83\n",
    "\n",
    "with sr_items as\n",
    " (select i_item_id item_id,\n",
    "        sum(sr_return_quantity) sr_item_qty\n",
    " from dev.iceberg100.store_returns,\n",
    "      dev.iceberg100.item,\n",
    "      dev.iceberg100.date_dim\n",
    " where sr_item_sk = i_item_sk\n",
    " and   d_date    in\n",
    "\t(select d_date\n",
    "\tfrom dev.iceberg100.date_dim\n",
    "\twhere d_week_seq in\n",
    "\t\t(select d_week_seq\n",
    "\t\tfrom dev.iceberg100.date_dim\n",
    "\t  where d_date in ('1999-04-14','1999-09-28','1999-11-12')))\n",
    " and   sr_returned_date_sk   = d_date_sk\n",
    " group by i_item_id),\n",
    " cr_items as\n",
    " (select i_item_id item_id,\n",
    "        sum(cr_return_quantity) cr_item_qty\n",
    " from dev.iceberg100.catalog_returns,\n",
    "      dev.iceberg100.item,\n",
    "      dev.iceberg100.date_dim\n",
    " where cr_item_sk = i_item_sk\n",
    " and   d_date    in\n",
    "\t(select d_date\n",
    "\tfrom dev.iceberg100.date_dim\n",
    "\twhere d_week_seq in\n",
    "\t\t(select d_week_seq\n",
    "\t\tfrom dev.iceberg100.date_dim\n",
    "\t  where d_date in ('1999-04-14','1999-09-28','1999-11-12')))\n",
    " and   cr_returned_date_sk   = d_date_sk\n",
    " group by i_item_id),\n",
    " wr_items as\n",
    " (select i_item_id item_id,\n",
    "        sum(wr_return_quantity) wr_item_qty\n",
    " from dev.iceberg100.web_returns,\n",
    "      dev.iceberg100.item,\n",
    "      dev.iceberg100.date_dim\n",
    " where wr_item_sk = i_item_sk\n",
    " and   d_date    in\n",
    "\t(select d_date\n",
    "\tfrom dev.iceberg100.date_dim\n",
    "\twhere d_week_seq in\n",
    "\t\t(select d_week_seq\n",
    "\t\tfrom dev.iceberg100.date_dim\n",
    "\t\twhere d_date in ('1999-04-14','1999-09-28','1999-11-12')))\n",
    " and   wr_returned_date_sk   = d_date_sk\n",
    " group by i_item_id)\n",
    "  select  sr_items.item_id\n",
    "       ,sr_item_qty\n",
    "       ,sr_item_qty/(sr_item_qty+cr_item_qty+wr_item_qty)/3.0 * 100 sr_dev\n",
    "       ,cr_item_qty\n",
    "       ,cr_item_qty/(sr_item_qty+cr_item_qty+wr_item_qty)/3.0 * 100 cr_dev\n",
    "       ,wr_item_qty\n",
    "       ,wr_item_qty/(sr_item_qty+cr_item_qty+wr_item_qty)/3.0 * 100 wr_dev\n",
    "       ,(sr_item_qty+cr_item_qty+wr_item_qty)/3.0 average\n",
    " from sr_items\n",
    "     ,cr_items\n",
    "     ,wr_items\n",
    " where sr_items.item_id=cr_items.item_id\n",
    "   and sr_items.item_id=wr_items.item_id\n",
    " order by sr_items.item_id\n",
    "         ,sr_item_qty\n",
    " limit 100"
   ]
  },
  {
   "cell_type": "code",
   "execution_count": 74,
   "id": "6fa933b4-a37c-4682-9902-5f14f7535b9f",
   "metadata": {
    "execution": {
     "iopub.execute_input": "2024-01-21T01:14:19.033508Z",
     "iopub.status.busy": "2024-01-21T01:14:19.033282Z",
     "iopub.status.idle": "2024-01-21T01:14:36.483081Z",
     "shell.execute_reply": "2024-01-21T01:14:36.482007Z",
     "shell.execute_reply.started": "2024-01-21T01:14:19.033478Z"
    }
   },
   "outputs": [
    {
     "data": {
      "application/vnd.jupyter.widget-view+json": {
       "model_id": "",
       "version_major": 2,
       "version_minor": 0
      },
      "text/plain": [
       "FloatProgress(value=0.0, bar_style='info', description='Progress:', layout=Layout(height='25px', width='50%'),…"
      ]
     },
     "metadata": {},
     "output_type": "display_data"
    },
    {
     "data": {
      "application/vnd.jupyter.widget-view+json": {
       "model_id": "1dc1f85d33e84b2a894a583c5cea0100",
       "version_major": 2,
       "version_minor": 0
      },
      "text/plain": [
       "VBox(children=(HBox(children=(HTML(value='Type:'), Button(description='Table', layout=Layout(width='70px'), st…"
      ]
     },
     "metadata": {},
     "output_type": "display_data"
    },
    {
     "data": {
      "application/vnd.jupyter.widget-view+json": {
       "model_id": "cd3def9fca89448aa204001f6477b140",
       "version_major": 2,
       "version_minor": 0
      },
      "text/plain": [
       "Output()"
      ]
     },
     "metadata": {},
     "output_type": "display_data"
    }
   ],
   "source": [
    "%%sql\n",
    "--#q84\n",
    "\n",
    "select  c_customer_id as customer_id\n",
    "       , coalesce(c_last_name,'') || ', ' || coalesce(c_first_name,'') as customername\n",
    " from dev.iceberg100.customer\n",
    "     ,dev.iceberg100.customer_address\n",
    "     ,dev.iceberg100.customer_demographics\n",
    "     ,dev.iceberg100.household_demographics\n",
    "     ,dev.iceberg100.income_band\n",
    "     ,dev.iceberg100.store_returns\n",
    " where ca_city\t        =  'Antioch'\n",
    "   and c_current_addr_sk = ca_address_sk\n",
    "   and ib_lower_bound   >=  55019\n",
    "   and ib_upper_bound   <=  55019 + 50000\n",
    "   and ib_income_band_sk = hd_income_band_sk\n",
    "   and cd_demo_sk = c_current_cdemo_sk\n",
    "   and hd_demo_sk = c_current_hdemo_sk\n",
    "   and sr_cdemo_sk = cd_demo_sk\n",
    " order by c_customer_id\n",
    " limit 100"
   ]
  },
  {
   "cell_type": "code",
   "execution_count": 97,
   "id": "f901d722-49ac-4686-b9a7-1f9f23a5968a",
   "metadata": {
    "execution": {
     "iopub.execute_input": "2024-01-21T01:53:20.026467Z",
     "iopub.status.busy": "2024-01-21T01:53:20.026133Z",
     "iopub.status.idle": "2024-01-21T01:54:07.587890Z",
     "shell.execute_reply": "2024-01-21T01:54:07.586731Z",
     "shell.execute_reply.started": "2024-01-21T01:53:20.026418Z"
    },
    "tags": []
   },
   "outputs": [
    {
     "data": {
      "application/vnd.jupyter.widget-view+json": {
       "model_id": "",
       "version_major": 2,
       "version_minor": 0
      },
      "text/plain": [
       "FloatProgress(value=0.0, bar_style='info', description='Progress:', layout=Layout(height='25px', width='50%'),…"
      ]
     },
     "metadata": {},
     "output_type": "display_data"
    },
    {
     "data": {
      "application/vnd.jupyter.widget-view+json": {
       "model_id": "5feb8ea11dcc4ac09136e944600db3db",
       "version_major": 2,
       "version_minor": 0
      },
      "text/plain": [
       "VBox(children=(HBox(children=(HTML(value='Type:'), Button(description='Table', layout=Layout(width='70px'), st…"
      ]
     },
     "metadata": {},
     "output_type": "display_data"
    },
    {
     "data": {
      "application/vnd.jupyter.widget-view+json": {
       "model_id": "5925f215a6c84f56a849ac6131d14b30",
       "version_major": 2,
       "version_minor": 0
      },
      "text/plain": [
       "Output()"
      ]
     },
     "metadata": {},
     "output_type": "display_data"
    }
   ],
   "source": [
    "%%sql\n",
    "--#q85\n",
    "\n",
    "select  substr(r_reason_desc,1,20)\n",
    "       ,avg(ws_quantity)\n",
    "       ,avg(wr_refunded_cash)\n",
    "       ,avg(wr_fee)\n",
    " from dev.iceberg100.web_sales, dev.iceberg100.web_returns, dev.iceberg100.web_page, dev.iceberg100.customer_demographics cd1,\n",
    "      dev.iceberg100.customer_demographics cd2, dev.iceberg100.customer_address, dev.iceberg100.date_dim, dev.iceberg100.reason\n",
    " where ws_web_page_sk = wp_web_page_sk\n",
    "   and ws_item_sk = wr_item_sk\n",
    "   and ws_order_number = wr_order_number\n",
    "   and ws_sold_date_sk = d_date_sk and d_year = 2001\n",
    "   and cd1.cd_demo_sk = wr_refunded_cdemo_sk\n",
    "   and cd2.cd_demo_sk = wr_returning_cdemo_sk\n",
    "   and ca_address_sk = wr_refunded_addr_sk\n",
    "   and r_reason_sk = wr_reason_sk\n",
    "   and\n",
    "   (\n",
    "    (\n",
    "     cd1.cd_marital_status = 'S'\n",
    "     and\n",
    "     cd1.cd_marital_status = cd2.cd_marital_status\n",
    "     and\n",
    "     cd1.cd_education_status = '2 yr Degree'\n",
    "     and\n",
    "     cd1.cd_education_status = cd2.cd_education_status\n",
    "     and\n",
    "     ws_sales_price between 100.00 and 150.00\n",
    "    )\n",
    "   or\n",
    "    (\n",
    "     cd1.cd_marital_status = 'D'\n",
    "     and\n",
    "     cd1.cd_marital_status = cd2.cd_marital_status\n",
    "     and\n",
    "     cd1.cd_education_status = 'Advanced Degree'\n",
    "     and\n",
    "     cd1.cd_education_status = cd2.cd_education_status\n",
    "     and\n",
    "     ws_sales_price between 50.00 and 100.00\n",
    "    )\n",
    "   or\n",
    "    (\n",
    "     cd1.cd_marital_status = 'W'\n",
    "     and\n",
    "     cd1.cd_marital_status = cd2.cd_marital_status\n",
    "     and\n",
    "     cd1.cd_education_status = '4 yr Degree'\n",
    "     and\n",
    "     cd1.cd_education_status = cd2.cd_education_status\n",
    "     and\n",
    "     ws_sales_price between 150.00 and 200.00\n",
    "    )\n",
    "   )\n",
    "   and\n",
    "   (\n",
    "    (\n",
    "     ca_country = 'United States'\n",
    "     and\n",
    "     ca_state in ('OK', 'TX', 'MO')\n",
    "     and ws_net_profit between 100 and 200\n",
    "    )\n",
    "    or\n",
    "    (\n",
    "     ca_country = 'United States'\n",
    "     and\n",
    "     ca_state in ('GA', 'KS', 'NC')\n",
    "     and ws_net_profit between 150 and 300\n",
    "    )\n",
    "    or\n",
    "    (\n",
    "     ca_country = 'United States'\n",
    "     and\n",
    "     ca_state in ('VA', 'WI', 'WV')\n",
    "     and ws_net_profit between 50 and 250\n",
    "    )\n",
    "   )\n",
    "group by r_reason_desc\n",
    "order by substr(r_reason_desc,1,20)\n",
    "        ,avg(ws_quantity)\n",
    "        ,avg(wr_refunded_cash)\n",
    "        ,avg(wr_fee)\n",
    "limit 100"
   ]
  },
  {
   "cell_type": "code",
   "execution_count": 76,
   "id": "69d8102b-6bea-43fd-95c3-e8084ece0cd7",
   "metadata": {
    "execution": {
     "iopub.execute_input": "2024-01-21T01:14:36.723756Z",
     "iopub.status.busy": "2024-01-21T01:14:36.723167Z",
     "iopub.status.idle": "2024-01-21T01:15:02.231589Z",
     "shell.execute_reply": "2024-01-21T01:15:02.230682Z",
     "shell.execute_reply.started": "2024-01-21T01:14:36.723724Z"
    }
   },
   "outputs": [
    {
     "data": {
      "application/vnd.jupyter.widget-view+json": {
       "model_id": "",
       "version_major": 2,
       "version_minor": 0
      },
      "text/plain": [
       "FloatProgress(value=0.0, bar_style='info', description='Progress:', layout=Layout(height='25px', width='50%'),…"
      ]
     },
     "metadata": {},
     "output_type": "display_data"
    },
    {
     "data": {
      "application/vnd.jupyter.widget-view+json": {
       "model_id": "3eb0183cbb81479c8fd650fb23fcd1e5",
       "version_major": 2,
       "version_minor": 0
      },
      "text/plain": [
       "VBox(children=(HBox(children=(HTML(value='Type:'), Button(description='Table', layout=Layout(width='70px'), st…"
      ]
     },
     "metadata": {},
     "output_type": "display_data"
    },
    {
     "data": {
      "application/vnd.jupyter.widget-view+json": {
       "model_id": "6fa4939a42864d78abd0ca6fdbf294dc",
       "version_major": 2,
       "version_minor": 0
      },
      "text/plain": [
       "Output()"
      ]
     },
     "metadata": {},
     "output_type": "display_data"
    }
   ],
   "source": [
    "%%sql\n",
    "--#q86\n",
    "\n",
    "select\n",
    "    sum(ws_net_paid) as total_sum\n",
    "   ,i_category\n",
    "   ,i_class\n",
    "   ,grouping(i_category)+grouping(i_class) as lochierarchy\n",
    "   ,rank() over (\n",
    " \tpartition by grouping(i_category)+grouping(i_class),\n",
    " \tcase when grouping(i_class) = 0 then i_category end\n",
    " \torder by sum(ws_net_paid) desc) as rank_within_parent\n",
    " from\n",
    "    dev.iceberg100.web_sales\n",
    "   ,dev.iceberg100.date_dim       d1\n",
    "   ,dev.iceberg100.item\n",
    " where\n",
    "    d1.d_month_seq between 1215 and 1215+11\n",
    " and d1.d_date_sk = ws_sold_date_sk\n",
    " and i_item_sk  = ws_item_sk\n",
    " group by rollup(i_category,i_class)\n",
    " order by\n",
    "   lochierarchy desc,\n",
    "   case when lochierarchy = 0 then i_category end,\n",
    "   rank_within_parent\n",
    " limit 100"
   ]
  },
  {
   "cell_type": "code",
   "execution_count": 77,
   "id": "29aed95e-5579-4641-a97b-58367ae255ad",
   "metadata": {
    "execution": {
     "iopub.execute_input": "2024-01-21T01:15:02.233768Z",
     "iopub.status.busy": "2024-01-21T01:15:02.233355Z",
     "iopub.status.idle": "2024-01-21T01:17:28.744432Z",
     "shell.execute_reply": "2024-01-21T01:17:28.743383Z",
     "shell.execute_reply.started": "2024-01-21T01:15:02.233688Z"
    }
   },
   "outputs": [
    {
     "data": {
      "application/vnd.jupyter.widget-view+json": {
       "model_id": "",
       "version_major": 2,
       "version_minor": 0
      },
      "text/plain": [
       "FloatProgress(value=0.0, bar_style='info', description='Progress:', layout=Layout(height='25px', width='50%'),…"
      ]
     },
     "metadata": {},
     "output_type": "display_data"
    },
    {
     "data": {
      "application/vnd.jupyter.widget-view+json": {
       "model_id": "3c59dfc41a514cdda5f9104d5efac94c",
       "version_major": 2,
       "version_minor": 0
      },
      "text/plain": [
       "VBox(children=(HBox(children=(HTML(value='Type:'), Button(description='Table', layout=Layout(width='70px'), st…"
      ]
     },
     "metadata": {},
     "output_type": "display_data"
    },
    {
     "data": {
      "application/vnd.jupyter.widget-view+json": {
       "model_id": "c032ba108915435ca90773600393d83f",
       "version_major": 2,
       "version_minor": 0
      },
      "text/plain": [
       "Output()"
      ]
     },
     "metadata": {},
     "output_type": "display_data"
    }
   ],
   "source": [
    "%%sql\n",
    "--#q87\n",
    "\n",
    "select count(*)\n",
    "from ((select distinct c_last_name, c_first_name, d_date\n",
    "       from dev.iceberg100.store_sales, dev.iceberg100.date_dim, dev.iceberg100.customer\n",
    "       where store_sales.ss_sold_date_sk = dev.iceberg100.date_dim.d_date_sk\n",
    "         and store_sales.ss_customer_sk = dev.iceberg100.customer.c_customer_sk\n",
    "         and d_month_seq between 1221 and 1221+11)\n",
    "       except\n",
    "      (select distinct c_last_name, c_first_name, d_date\n",
    "       from dev.iceberg100.catalog_sales, dev.iceberg100.date_dim, dev.iceberg100.customer\n",
    "       where dev.iceberg100.catalog_sales.cs_sold_date_sk = dev.iceberg100.date_dim.d_date_sk\n",
    "         and dev.iceberg100.catalog_sales.cs_bill_customer_sk = dev.iceberg100.customer.c_customer_sk\n",
    "         and d_month_seq between 1221 and 1221+11)\n",
    "       except\n",
    "      (select distinct c_last_name, c_first_name, d_date\n",
    "       from dev.iceberg100.web_sales, dev.iceberg100.date_dim, dev.iceberg100.customer\n",
    "       where dev.iceberg100.web_sales.ws_sold_date_sk = dev.iceberg100.date_dim.d_date_sk\n",
    "         and dev.iceberg100.web_sales.ws_bill_customer_sk = dev.iceberg100.customer.c_customer_sk\n",
    "         and d_month_seq between 1221 and 1221+11)\n",
    ") cool_cust"
   ]
  },
  {
   "cell_type": "code",
   "execution_count": 78,
   "id": "48d11222-1103-4d6b-a20a-d489360c9afc",
   "metadata": {
    "execution": {
     "iopub.execute_input": "2024-01-21T01:17:28.746078Z",
     "iopub.status.busy": "2024-01-21T01:17:28.745847Z",
     "iopub.status.idle": "2024-01-21T01:20:52.702705Z",
     "shell.execute_reply": "2024-01-21T01:20:52.701501Z",
     "shell.execute_reply.started": "2024-01-21T01:17:28.746046Z"
    }
   },
   "outputs": [
    {
     "data": {
      "application/vnd.jupyter.widget-view+json": {
       "model_id": "",
       "version_major": 2,
       "version_minor": 0
      },
      "text/plain": [
       "FloatProgress(value=0.0, bar_style='info', description='Progress:', layout=Layout(height='25px', width='50%'),…"
      ]
     },
     "metadata": {},
     "output_type": "display_data"
    },
    {
     "data": {
      "application/vnd.jupyter.widget-view+json": {
       "model_id": "1f571e79c15f40859ab6244db100cd09",
       "version_major": 2,
       "version_minor": 0
      },
      "text/plain": [
       "VBox(children=(HBox(children=(HTML(value='Type:'), Button(description='Table', layout=Layout(width='70px'), st…"
      ]
     },
     "metadata": {},
     "output_type": "display_data"
    },
    {
     "data": {
      "application/vnd.jupyter.widget-view+json": {
       "model_id": "cde276e9266c4413bcbaddd84d5f121d",
       "version_major": 2,
       "version_minor": 0
      },
      "text/plain": [
       "Output()"
      ]
     },
     "metadata": {},
     "output_type": "display_data"
    }
   ],
   "source": [
    "%%sql\n",
    "--#q88\n",
    "\n",
    "select  *\n",
    "from\n",
    " (select count(*) h8_30_to_9\n",
    " from dev.iceberg100.store_sales, dev.iceberg100.household_demographics , dev.iceberg100.time_dim, dev.iceberg100.store\n",
    " where ss_sold_time_sk = dev.iceberg100.time_dim.t_time_sk\n",
    "     and ss_hdemo_sk = dev.iceberg100.household_demographics.hd_demo_sk\n",
    "     and ss_store_sk = s_store_sk\n",
    "     and dev.iceberg100.time_dim.t_hour = 8\n",
    "     and dev.iceberg100.time_dim.t_minute >= 30\n",
    "     and ((dev.iceberg100.household_demographics.hd_dep_count = 1 and dev.iceberg100.household_demographics.hd_vehicle_count<=1+2) or\n",
    "          (dev.iceberg100.household_demographics.hd_dep_count = 2 and dev.iceberg100.household_demographics.hd_vehicle_count<=2+2) or\n",
    "          (dev.iceberg100.household_demographics.hd_dep_count = 0 and dev.iceberg100.household_demographics.hd_vehicle_count<=0+2))\n",
    "     and dev.iceberg100.store.s_store_name = 'ese') s1,\n",
    " (select count(*) h9_to_9_30\n",
    " from dev.iceberg100.store_sales, dev.iceberg100.household_demographics , dev.iceberg100.time_dim, dev.iceberg100.store\n",
    " where ss_sold_time_sk = dev.iceberg100.time_dim.t_time_sk\n",
    "     and ss_hdemo_sk = dev.iceberg100.household_demographics.hd_demo_sk\n",
    "     and ss_store_sk = s_store_sk\n",
    "     and dev.iceberg100.time_dim.t_hour = 9\n",
    "     and dev.iceberg100.time_dim.t_minute < 30\n",
    "     and ((dev.iceberg100.household_demographics.hd_dep_count = 1 and dev.iceberg100.household_demographics.hd_vehicle_count<=1+2) or\n",
    "          (dev.iceberg100.household_demographics.hd_dep_count = 2 and dev.iceberg100.household_demographics.hd_vehicle_count<=2+2) or\n",
    "          (dev.iceberg100.household_demographics.hd_dep_count = 0 and dev.iceberg100.household_demographics.hd_vehicle_count<=0+2))\n",
    "     and dev.iceberg100.store.s_store_name = 'ese') s2,\n",
    " (select count(*) h9_30_to_10\n",
    " from dev.iceberg100.store_sales, dev.iceberg100.household_demographics , dev.iceberg100.time_dim, dev.iceberg100.store\n",
    " where ss_sold_time_sk = dev.iceberg100.time_dim.t_time_sk\n",
    "     and ss_hdemo_sk = dev.iceberg100.household_demographics.hd_demo_sk\n",
    "     and ss_store_sk = s_store_sk\n",
    "     and dev.iceberg100.time_dim.t_hour = 9\n",
    "     and dev.iceberg100.time_dim.t_minute >= 30\n",
    "     and ((dev.iceberg100.household_demographics.hd_dep_count = 1 and dev.iceberg100.household_demographics.hd_vehicle_count<=1+2) or\n",
    "          (dev.iceberg100.household_demographics.hd_dep_count = 2 and dev.iceberg100.household_demographics.hd_vehicle_count<=2+2) or\n",
    "          (dev.iceberg100.household_demographics.hd_dep_count = 0 and dev.iceberg100.household_demographics.hd_vehicle_count<=0+2))\n",
    "     and dev.iceberg100.store.s_store_name = 'ese') s3,\n",
    " (select count(*) h10_to_10_30\n",
    " from dev.iceberg100.store_sales, dev.iceberg100.household_demographics , dev.iceberg100.time_dim, dev.iceberg100.store\n",
    " where ss_sold_time_sk = dev.iceberg100.time_dim.t_time_sk\n",
    "     and ss_hdemo_sk = dev.iceberg100.household_demographics.hd_demo_sk\n",
    "     and ss_store_sk = s_store_sk\n",
    "     and dev.iceberg100.time_dim.t_hour = 10\n",
    "     and dev.iceberg100.time_dim.t_minute < 30\n",
    "     and ((dev.iceberg100.household_demographics.hd_dep_count = 1 and dev.iceberg100.household_demographics.hd_vehicle_count<=1+2) or\n",
    "          (dev.iceberg100.household_demographics.hd_dep_count = 2 and dev.iceberg100.household_demographics.hd_vehicle_count<=2+2) or\n",
    "          (dev.iceberg100.household_demographics.hd_dep_count = 0 and dev.iceberg100.household_demographics.hd_vehicle_count<=0+2))\n",
    "     and dev.iceberg100.store.s_store_name = 'ese') s4,\n",
    " (select count(*) h10_30_to_11\n",
    " from dev.iceberg100.store_sales, dev.iceberg100.household_demographics , dev.iceberg100.time_dim, dev.iceberg100.store\n",
    " where ss_sold_time_sk = dev.iceberg100.time_dim.t_time_sk\n",
    "     and ss_hdemo_sk = dev.iceberg100.household_demographics.hd_demo_sk\n",
    "     and ss_store_sk = s_store_sk\n",
    "     and dev.iceberg100.time_dim.t_hour = 10\n",
    "     and dev.iceberg100.time_dim.t_minute >= 30\n",
    "     and ((dev.iceberg100.household_demographics.hd_dep_count = 1 and dev.iceberg100.household_demographics.hd_vehicle_count<=1+2) or\n",
    "          (dev.iceberg100.household_demographics.hd_dep_count = 2 and dev.iceberg100.household_demographics.hd_vehicle_count<=2+2) or\n",
    "          (dev.iceberg100.household_demographics.hd_dep_count = 0 and dev.iceberg100.household_demographics.hd_vehicle_count<=0+2))\n",
    "     and dev.iceberg100.store.s_store_name = 'ese') s5,\n",
    " (select count(*) h11_to_11_30\n",
    " from dev.iceberg100.store_sales, dev.iceberg100.household_demographics , dev.iceberg100.time_dim, dev.iceberg100.store\n",
    " where ss_sold_time_sk = dev.iceberg100.time_dim.t_time_sk\n",
    "     and ss_hdemo_sk = dev.iceberg100.household_demographics.hd_demo_sk\n",
    "     and ss_store_sk = s_store_sk\n",
    "     and dev.iceberg100.time_dim.t_hour = 11\n",
    "     and dev.iceberg100.time_dim.t_minute < 30\n",
    "     and ((dev.iceberg100.household_demographics.hd_dep_count = 1 and dev.iceberg100.household_demographics.hd_vehicle_count<=1+2) or\n",
    "          (dev.iceberg100.household_demographics.hd_dep_count = 2 and dev.iceberg100.household_demographics.hd_vehicle_count<=2+2) or\n",
    "          (dev.iceberg100.household_demographics.hd_dep_count = 0 and dev.iceberg100.household_demographics.hd_vehicle_count<=0+2))\n",
    "     and dev.iceberg100.store.s_store_name = 'ese') s6,\n",
    " (select count(*) h11_30_to_12\n",
    " from dev.iceberg100.store_sales, dev.iceberg100.household_demographics , dev.iceberg100.time_dim, dev.iceberg100.store\n",
    " where ss_sold_time_sk = dev.iceberg100.time_dim.t_time_sk\n",
    "     and ss_hdemo_sk = dev.iceberg100.household_demographics.hd_demo_sk\n",
    "     and ss_store_sk = s_store_sk\n",
    "     and dev.iceberg100.time_dim.t_hour = 11\n",
    "     and dev.iceberg100.time_dim.t_minute >= 30\n",
    "     and ((dev.iceberg100.household_demographics.hd_dep_count = 1 and dev.iceberg100.household_demographics.hd_vehicle_count<=1+2) or\n",
    "          (dev.iceberg100.household_demographics.hd_dep_count = 2 and dev.iceberg100.household_demographics.hd_vehicle_count<=2+2) or\n",
    "          (dev.iceberg100.household_demographics.hd_dep_count = 0 and dev.iceberg100.household_demographics.hd_vehicle_count<=0+2))\n",
    "     and dev.iceberg100.store.s_store_name = 'ese') s7,\n",
    " (select count(*) h12_to_12_30\n",
    " from dev.iceberg100.store_sales, dev.iceberg100.household_demographics , dev.iceberg100.time_dim, dev.iceberg100.store\n",
    " where ss_sold_time_sk = dev.iceberg100.time_dim.t_time_sk\n",
    "     and ss_hdemo_sk = dev.iceberg100.household_demographics.hd_demo_sk\n",
    "     and ss_store_sk = s_store_sk\n",
    "     and dev.iceberg100.time_dim.t_hour = 12\n",
    "     and dev.iceberg100.time_dim.t_minute < 30\n",
    "     and ((dev.iceberg100.household_demographics.hd_dep_count = 1 and dev.iceberg100.household_demographics.hd_vehicle_count<=1+2) or\n",
    "          (dev.iceberg100.household_demographics.hd_dep_count = 2 and dev.iceberg100.household_demographics.hd_vehicle_count<=2+2) or\n",
    "          (dev.iceberg100.household_demographics.hd_dep_count = 0 and dev.iceberg100.household_demographics.hd_vehicle_count<=0+2))\n",
    "     and dev.iceberg100.store.s_store_name = 'ese') s8"
   ]
  },
  {
   "cell_type": "code",
   "execution_count": 79,
   "id": "1edbbcd2-cb20-40d7-b7ea-abd481d5c7d0",
   "metadata": {
    "execution": {
     "iopub.execute_input": "2024-01-21T01:20:52.708537Z",
     "iopub.status.busy": "2024-01-21T01:20:52.708293Z",
     "iopub.status.idle": "2024-01-21T01:21:48.310232Z",
     "shell.execute_reply": "2024-01-21T01:21:48.309187Z",
     "shell.execute_reply.started": "2024-01-21T01:20:52.708490Z"
    }
   },
   "outputs": [
    {
     "data": {
      "application/vnd.jupyter.widget-view+json": {
       "model_id": "",
       "version_major": 2,
       "version_minor": 0
      },
      "text/plain": [
       "FloatProgress(value=0.0, bar_style='info', description='Progress:', layout=Layout(height='25px', width='50%'),…"
      ]
     },
     "metadata": {},
     "output_type": "display_data"
    },
    {
     "data": {
      "application/vnd.jupyter.widget-view+json": {
       "model_id": "58491f4eda1a45039524773ff63dfb22",
       "version_major": 2,
       "version_minor": 0
      },
      "text/plain": [
       "VBox(children=(HBox(children=(HTML(value='Type:'), Button(description='Table', layout=Layout(width='70px'), st…"
      ]
     },
     "metadata": {},
     "output_type": "display_data"
    },
    {
     "data": {
      "application/vnd.jupyter.widget-view+json": {
       "model_id": "d53e4cc8918942a98233828f95ec5e0b",
       "version_major": 2,
       "version_minor": 0
      },
      "text/plain": [
       "Output()"
      ]
     },
     "metadata": {},
     "output_type": "display_data"
    }
   ],
   "source": [
    "%%sql\n",
    "--#q89\n",
    "\n",
    "select  *\n",
    "from(\n",
    "select i_category, i_class, i_brand,\n",
    "       s_store_name, s_company_name,\n",
    "       d_moy,\n",
    "       sum(ss_sales_price) sum_sales,\n",
    "       avg(sum(ss_sales_price)) over\n",
    "         (partition by i_category, i_brand, s_store_name, s_company_name)\n",
    "         avg_monthly_sales\n",
    "from dev.iceberg100.item, dev.iceberg100.store_sales, dev.iceberg100.date_dim, dev.iceberg100.store\n",
    "where ss_item_sk = i_item_sk and\n",
    "      ss_sold_date_sk = d_date_sk and\n",
    "      ss_store_sk = s_store_sk and\n",
    "      d_year in (2001) and\n",
    "        ((i_category in ('Women','Music','Home') and\n",
    "          i_class in ('fragrances','pop','bedding')\n",
    "         )\n",
    "      or (i_category in ('Books','Men','Children') and\n",
    "          i_class in ('home repair','sports-apparel','infants')\n",
    "        ))\n",
    "group by i_category, i_class, i_brand,\n",
    "         s_store_name, s_company_name, d_moy) tmp1\n",
    "where case when (avg_monthly_sales <> 0) then (abs(sum_sales - avg_monthly_sales) / avg_monthly_sales) else null end > 0.1\n",
    "order by sum_sales - avg_monthly_sales, s_store_name\n",
    "limit 100"
   ]
  },
  {
   "cell_type": "code",
   "execution_count": 80,
   "id": "119bf93a-9513-49ac-ae30-504aab5215dd",
   "metadata": {
    "execution": {
     "iopub.execute_input": "2024-01-21T01:21:48.312939Z",
     "iopub.status.busy": "2024-01-21T01:21:48.312697Z",
     "iopub.status.idle": "2024-01-21T01:22:09.769997Z",
     "shell.execute_reply": "2024-01-21T01:22:09.768890Z",
     "shell.execute_reply.started": "2024-01-21T01:21:48.312907Z"
    },
    "tags": []
   },
   "outputs": [
    {
     "data": {
      "application/vnd.jupyter.widget-view+json": {
       "model_id": "",
       "version_major": 2,
       "version_minor": 0
      },
      "text/plain": [
       "FloatProgress(value=0.0, bar_style='info', description='Progress:', layout=Layout(height='25px', width='50%'),…"
      ]
     },
     "metadata": {},
     "output_type": "display_data"
    },
    {
     "data": {
      "application/vnd.jupyter.widget-view+json": {
       "model_id": "1383237b8b78440bba4344774d4270a9",
       "version_major": 2,
       "version_minor": 0
      },
      "text/plain": [
       "VBox(children=(HBox(children=(HTML(value='Type:'), Button(description='Table', layout=Layout(width='70px'), st…"
      ]
     },
     "metadata": {},
     "output_type": "display_data"
    },
    {
     "data": {
      "application/vnd.jupyter.widget-view+json": {
       "model_id": "1f0ca595a3074413bb623a58fd4b290f",
       "version_major": 2,
       "version_minor": 0
      },
      "text/plain": [
       "Output()"
      ]
     },
     "metadata": {},
     "output_type": "display_data"
    }
   ],
   "source": [
    "%%sql\n",
    "--#q90\n",
    "\n",
    "select  cast(amc as decimal(15,4))/cast(pmc as decimal(15,4)) am_pm_ratio\n",
    " from ( select count(*) amc\n",
    "       from dev.iceberg100.web_sales, dev.iceberg100.household_demographics , dev.iceberg100.time_dim, dev.iceberg100.web_page\n",
    "       where ws_sold_time_sk = dev.iceberg100.time_dim.t_time_sk\n",
    "         and ws_ship_hdemo_sk = dev.iceberg100.household_demographics.hd_demo_sk\n",
    "         and ws_web_page_sk = dev.iceberg100.web_page.wp_web_page_sk\n",
    "         and dev.iceberg100.time_dim.t_hour between 8 and 8+1\n",
    "         and dev.iceberg100.household_demographics.hd_dep_count = 4\n",
    "         and dev.iceberg100.web_page.wp_char_count between 5000 and 5200) at,\n",
    "      ( select count(*) pmc\n",
    "       from dev.iceberg100.web_sales, dev.iceberg100.household_demographics , dev.iceberg100.time_dim, dev.iceberg100.web_page\n",
    "       where ws_sold_time_sk = dev.iceberg100.time_dim.t_time_sk\n",
    "         and ws_ship_hdemo_sk = dev.iceberg100.household_demographics.hd_demo_sk\n",
    "         and ws_web_page_sk = dev.iceberg100.web_page.wp_web_page_sk\n",
    "         and dev.iceberg100.time_dim.t_hour between 19 and 19+1\n",
    "         and dev.iceberg100.household_demographics.hd_dep_count = 4\n",
    "         and dev.iceberg100.web_page.wp_char_count between 5000 and 5200) pt\n",
    " order by am_pm_ratio\n",
    " limit 100"
   ]
  },
  {
   "cell_type": "code",
   "execution_count": 81,
   "id": "8cd28746-7b41-49b8-942f-1923a8ae7b7d",
   "metadata": {
    "execution": {
     "iopub.execute_input": "2024-01-21T01:22:09.772104Z",
     "iopub.status.busy": "2024-01-21T01:22:09.771789Z",
     "iopub.status.idle": "2024-01-21T01:22:23.280808Z",
     "shell.execute_reply": "2024-01-21T01:22:23.279591Z",
     "shell.execute_reply.started": "2024-01-21T01:22:09.772057Z"
    },
    "tags": []
   },
   "outputs": [
    {
     "data": {
      "application/vnd.jupyter.widget-view+json": {
       "model_id": "",
       "version_major": 2,
       "version_minor": 0
      },
      "text/plain": [
       "FloatProgress(value=0.0, bar_style='info', description='Progress:', layout=Layout(height='25px', width='50%'),…"
      ]
     },
     "metadata": {},
     "output_type": "display_data"
    },
    {
     "data": {
      "application/vnd.jupyter.widget-view+json": {
       "model_id": "9a0802a30925434eb703a78431e99606",
       "version_major": 2,
       "version_minor": 0
      },
      "text/plain": [
       "VBox(children=(HBox(children=(HTML(value='Type:'), Button(description='Table', layout=Layout(width='70px'), st…"
      ]
     },
     "metadata": {},
     "output_type": "display_data"
    },
    {
     "data": {
      "application/vnd.jupyter.widget-view+json": {
       "model_id": "727739a5e6ff48159236f291cb2afdc7",
       "version_major": 2,
       "version_minor": 0
      },
      "text/plain": [
       "Output()"
      ]
     },
     "metadata": {},
     "output_type": "display_data"
    }
   ],
   "source": [
    "%%sql\n",
    "--#q91\n",
    "\n",
    "select\n",
    "        cc_call_center_id Call_Center,\n",
    "        cc_name Call_Center_Name,\n",
    "        cc_manager Manager,\n",
    "        sum(cr_net_loss) Returns_Loss\n",
    "from\n",
    "        dev.iceberg100.call_center,\n",
    "        dev.iceberg100.catalog_returns,\n",
    "        dev.iceberg100.date_dim,\n",
    "        dev.iceberg100.customer,\n",
    "        dev.iceberg100.customer_address,\n",
    "        dev.iceberg100.customer_demographics,\n",
    "        dev.iceberg100.household_demographics\n",
    "where\n",
    "        cr_call_center_sk       = cc_call_center_sk\n",
    "and     cr_returned_date_sk     = d_date_sk\n",
    "and     cr_returning_customer_sk= c_customer_sk\n",
    "and     cd_demo_sk              = c_current_cdemo_sk\n",
    "and     hd_demo_sk              = c_current_hdemo_sk\n",
    "and     ca_address_sk           = c_current_addr_sk\n",
    "and     d_year                  = 2002\n",
    "and     d_moy                   = 11\n",
    "and     ( (cd_marital_status       = 'M' and cd_education_status     = 'Unknown')\n",
    "        or(cd_marital_status       = 'W' and cd_education_status     = 'Advanced Degree'))\n",
    "and     hd_buy_potential like '5001-10000%'\n",
    "and     ca_gmt_offset           = -6\n",
    "group by cc_call_center_id,cc_name,cc_manager,cd_marital_status,cd_education_status\n",
    "order by sum(cr_net_loss) desc"
   ]
  },
  {
   "cell_type": "code",
   "execution_count": 82,
   "id": "4c8b5f0a-495a-45eb-bb87-71952481f41e",
   "metadata": {
    "execution": {
     "iopub.execute_input": "2024-01-21T01:22:23.282855Z",
     "iopub.status.busy": "2024-01-21T01:22:23.282521Z",
     "iopub.status.idle": "2024-01-21T01:22:58.790890Z",
     "shell.execute_reply": "2024-01-21T01:22:58.789874Z",
     "shell.execute_reply.started": "2024-01-21T01:22:23.282806Z"
    },
    "tags": []
   },
   "outputs": [
    {
     "data": {
      "application/vnd.jupyter.widget-view+json": {
       "model_id": "",
       "version_major": 2,
       "version_minor": 0
      },
      "text/plain": [
       "FloatProgress(value=0.0, bar_style='info', description='Progress:', layout=Layout(height='25px', width='50%'),…"
      ]
     },
     "metadata": {},
     "output_type": "display_data"
    },
    {
     "data": {
      "application/vnd.jupyter.widget-view+json": {
       "model_id": "9524a5fdcc8e4d0eb14417301eb16929",
       "version_major": 2,
       "version_minor": 0
      },
      "text/plain": [
       "VBox(children=(HBox(children=(HTML(value='Type:'), Button(description='Table', layout=Layout(width='70px'), st…"
      ]
     },
     "metadata": {},
     "output_type": "display_data"
    },
    {
     "data": {
      "application/vnd.jupyter.widget-view+json": {
       "model_id": "4b186f5b65474002b6c0f25aeff43a1d",
       "version_major": 2,
       "version_minor": 0
      },
      "text/plain": [
       "Output()"
      ]
     },
     "metadata": {},
     "output_type": "display_data"
    }
   ],
   "source": [
    "%%sql\n",
    "--#q92\n",
    "\n",
    "select\n",
    "   sum(ws_ext_discount_amt)  as `Excess Discount Amount`\n",
    "from\n",
    "    dev.iceberg100.web_sales\n",
    "   ,dev.iceberg100.item\n",
    "   ,dev.iceberg100.date_dim\n",
    "where\n",
    "i_manufact_id = 561\n",
    "and i_item_sk = ws_item_sk\n",
    "and d_date between '2001-03-13' and\n",
    "        (cast('2001-03-13' as date) + INTERVAL 90 days)\n",
    "and d_date_sk = ws_sold_date_sk\n",
    "and ws_ext_discount_amt\n",
    "     > (\n",
    "         SELECT\n",
    "            1.3 * avg(ws_ext_discount_amt)\n",
    "         FROM\n",
    "            dev.iceberg100.web_sales\n",
    "           ,dev.iceberg100.date_dim\n",
    "         WHERE\n",
    "              ws_item_sk = i_item_sk\n",
    "          and d_date between '2001-03-13' and\n",
    "                             (cast('2001-03-13' as date) + INTERVAL 90 days)\n",
    "          and d_date_sk = ws_sold_date_sk\n",
    "      )\n",
    "order by sum(ws_ext_discount_amt)\n",
    "limit 100"
   ]
  },
  {
   "cell_type": "code",
   "execution_count": 98,
   "id": "2079b30e-a1c4-4c91-9cff-4537e56d5e5f",
   "metadata": {
    "execution": {
     "iopub.execute_input": "2024-01-21T01:54:08.044491Z",
     "iopub.status.busy": "2024-01-21T01:54:08.044258Z",
     "iopub.status.idle": "2024-01-21T01:58:50.341028Z",
     "shell.execute_reply": "2024-01-21T01:58:50.340050Z",
     "shell.execute_reply.started": "2024-01-21T01:54:08.044459Z"
    },
    "tags": []
   },
   "outputs": [
    {
     "data": {
      "application/vnd.jupyter.widget-view+json": {
       "model_id": "",
       "version_major": 2,
       "version_minor": 0
      },
      "text/plain": [
       "FloatProgress(value=0.0, bar_style='info', description='Progress:', layout=Layout(height='25px', width='50%'),…"
      ]
     },
     "metadata": {},
     "output_type": "display_data"
    },
    {
     "data": {
      "application/vnd.jupyter.widget-view+json": {
       "model_id": "654db1c113db4e38bc1fedfb8ef76aa6",
       "version_major": 2,
       "version_minor": 0
      },
      "text/plain": [
       "VBox(children=(HBox(), EncodingWidget(children=(VBox(children=(HTML(value='Encoding:'), Dropdown(description='…"
      ]
     },
     "metadata": {},
     "output_type": "display_data"
    },
    {
     "data": {
      "application/vnd.jupyter.widget-view+json": {
       "model_id": "a0090b8bdc2d46ce86805dbc9c648ec5",
       "version_major": 2,
       "version_minor": 0
      },
      "text/plain": [
       "Output()"
      ]
     },
     "metadata": {},
     "output_type": "display_data"
    }
   ],
   "source": [
    "%%sql\n",
    "--#q93 ACHTUNG!!\n",
    "\n",
    "select  ss_customer_sk\n",
    "            ,sum(act_sales) sumsales\n",
    "      from (select ss_item_sk\n",
    "                  ,ss_ticket_number\n",
    "                  ,ss_customer_sk\n",
    "                  ,case when sr_return_quantity is not null then (ss_quantity-sr_return_quantity)*ss_sales_price\n",
    "                                                            else (ss_quantity*ss_sales_price) end act_sales\n",
    "            from dev.iceberg100.store_sales left outer join dev.iceberg100.store_returns on (sr_item_sk = ss_item_sk\n",
    "                                                               and sr_ticket_number = ss_ticket_number)\n",
    "                ,dev.iceberg100.reason\n",
    "            where sr_reason_sk = r_reason_sk\n",
    "              and r_reason_desc like 'reason 64') t\n",
    "      group by ss_customer_sk\n",
    "      order by sumsales, ss_customer_sk\n",
    "limit 100"
   ]
  },
  {
   "cell_type": "code",
   "execution_count": 84,
   "id": "bbfaff3e-cb44-4752-aa4a-4b81838be2ca",
   "metadata": {
    "execution": {
     "iopub.execute_input": "2024-01-21T01:27:45.102135Z",
     "iopub.status.busy": "2024-01-21T01:27:45.101885Z",
     "iopub.status.idle": "2024-01-21T01:29:53.060135Z",
     "shell.execute_reply": "2024-01-21T01:29:53.058415Z",
     "shell.execute_reply.started": "2024-01-21T01:27:45.102075Z"
    },
    "tags": []
   },
   "outputs": [
    {
     "data": {
      "application/vnd.jupyter.widget-view+json": {
       "model_id": "",
       "version_major": 2,
       "version_minor": 0
      },
      "text/plain": [
       "FloatProgress(value=0.0, bar_style='info', description='Progress:', layout=Layout(height='25px', width='50%'),…"
      ]
     },
     "metadata": {},
     "output_type": "display_data"
    },
    {
     "data": {
      "application/vnd.jupyter.widget-view+json": {
       "model_id": "fe9d308e42064112a6c832ab1feed2da",
       "version_major": 2,
       "version_minor": 0
      },
      "text/plain": [
       "VBox(children=(HBox(children=(HTML(value='Type:'), Button(description='Table', layout=Layout(width='70px'), st…"
      ]
     },
     "metadata": {},
     "output_type": "display_data"
    },
    {
     "data": {
      "application/vnd.jupyter.widget-view+json": {
       "model_id": "e5659a9f22d64349a29f97f1690abc99",
       "version_major": 2,
       "version_minor": 0
      },
      "text/plain": [
       "Output()"
      ]
     },
     "metadata": {},
     "output_type": "display_data"
    }
   ],
   "source": [
    "%%sql\n",
    "--#q94\n",
    "\n",
    "select\n",
    "   count(distinct ws_order_number) as `order count`\n",
    "  ,sum(ws_ext_ship_cost) as `total shipping cost`\n",
    "  ,sum(ws_net_profit) as `total net profit`\n",
    "from\n",
    "   dev.iceberg100.web_sales ws1\n",
    "  ,dev.iceberg100.date_dim\n",
    "  ,dev.iceberg100.customer_address\n",
    "  ,dev.iceberg100.web_site\n",
    "where\n",
    "    d_date between '2001-5-01' and\n",
    "           (cast('2001-5-01' as date) + INTERVAL 60 days)\n",
    "and ws1.ws_ship_date_sk = d_date_sk\n",
    "and ws1.ws_ship_addr_sk = ca_address_sk\n",
    "and ca_state = 'TX'\n",
    "and ws1.ws_web_site_sk = web_site_sk\n",
    "and web_company_name = 'pri'\n",
    "and exists (select *\n",
    "            from dev.iceberg100.web_sales ws2\n",
    "            where ws1.ws_order_number = ws2.ws_order_number\n",
    "              and ws1.ws_warehouse_sk <> ws2.ws_warehouse_sk)\n",
    "and not exists(select *\n",
    "               from dev.iceberg100.web_returns wr1\n",
    "               where ws1.ws_order_number = wr1.wr_order_number)\n",
    "order by count(distinct ws_order_number)\n",
    "limit 100"
   ]
  },
  {
   "cell_type": "code",
   "execution_count": 85,
   "id": "e28715a9-0332-4af8-a218-252035094397",
   "metadata": {
    "execution": {
     "iopub.execute_input": "2024-01-21T01:29:53.062044Z",
     "iopub.status.busy": "2024-01-21T01:29:53.061682Z",
     "iopub.status.idle": "2024-01-21T01:31:58.901708Z",
     "shell.execute_reply": "2024-01-21T01:31:58.900717Z",
     "shell.execute_reply.started": "2024-01-21T01:29:53.061995Z"
    },
    "tags": []
   },
   "outputs": [
    {
     "data": {
      "application/vnd.jupyter.widget-view+json": {
       "model_id": "",
       "version_major": 2,
       "version_minor": 0
      },
      "text/plain": [
       "FloatProgress(value=0.0, bar_style='info', description='Progress:', layout=Layout(height='25px', width='50%'),…"
      ]
     },
     "metadata": {},
     "output_type": "display_data"
    },
    {
     "data": {
      "application/vnd.jupyter.widget-view+json": {
       "model_id": "066bffb9930a4270894d5127813ae07f",
       "version_major": 2,
       "version_minor": 0
      },
      "text/plain": [
       "VBox(children=(HBox(children=(HTML(value='Type:'), Button(description='Table', layout=Layout(width='70px'), st…"
      ]
     },
     "metadata": {},
     "output_type": "display_data"
    },
    {
     "data": {
      "application/vnd.jupyter.widget-view+json": {
       "model_id": "d27ec5976e82411a92232f087a02e8df",
       "version_major": 2,
       "version_minor": 0
      },
      "text/plain": [
       "Output()"
      ]
     },
     "metadata": {},
     "output_type": "display_data"
    }
   ],
   "source": [
    "%%sql\n",
    "--#q95\n",
    "\n",
    "with ws_wh as\n",
    "(select ws1.ws_order_number,ws1.ws_warehouse_sk wh1,ws2.ws_warehouse_sk wh2\n",
    " from dev.iceberg100.web_sales ws1,dev.iceberg100.web_sales ws2\n",
    " where ws1.ws_order_number = ws2.ws_order_number\n",
    "   and ws1.ws_warehouse_sk <> ws2.ws_warehouse_sk)\n",
    " select\n",
    "   count(distinct ws_order_number) as `order count`\n",
    "  ,sum(ws_ext_ship_cost) as `total shipping cost`\n",
    "  ,sum(ws_net_profit) as `total net profit`\n",
    "from\n",
    "   dev.iceberg100.web_sales ws1\n",
    "  ,dev.iceberg100.date_dim\n",
    "  ,dev.iceberg100.customer_address\n",
    "  ,dev.iceberg100.web_site\n",
    "where\n",
    "    d_date between '2000-3-01' and\n",
    "           (cast('2000-3-01' as date) + INTERVAL 60 days)\n",
    "and ws1.ws_ship_date_sk = d_date_sk\n",
    "and ws1.ws_ship_addr_sk = ca_address_sk\n",
    "and ca_state = 'TN'\n",
    "and ws1.ws_web_site_sk = web_site_sk\n",
    "and web_company_name = 'pri'\n",
    "and ws1.ws_order_number in (select ws_order_number\n",
    "                            from ws_wh)\n",
    "and ws1.ws_order_number in (select wr_order_number\n",
    "                            from dev.iceberg100.web_returns,ws_wh\n",
    "                            where wr_order_number = ws_wh.ws_order_number)\n",
    "order by count(distinct ws_order_number)\n",
    "limit 100"
   ]
  },
  {
   "cell_type": "code",
   "execution_count": 86,
   "id": "2799c218-1bb4-40aa-901d-d7be696f9b56",
   "metadata": {
    "execution": {
     "iopub.execute_input": "2024-01-21T01:31:58.903285Z",
     "iopub.status.busy": "2024-01-21T01:31:58.903030Z",
     "iopub.status.idle": "2024-01-21T01:32:34.396226Z",
     "shell.execute_reply": "2024-01-21T01:32:34.395223Z",
     "shell.execute_reply.started": "2024-01-21T01:31:58.903254Z"
    },
    "tags": []
   },
   "outputs": [
    {
     "data": {
      "application/vnd.jupyter.widget-view+json": {
       "model_id": "",
       "version_major": 2,
       "version_minor": 0
      },
      "text/plain": [
       "FloatProgress(value=0.0, bar_style='info', description='Progress:', layout=Layout(height='25px', width='50%'),…"
      ]
     },
     "metadata": {},
     "output_type": "display_data"
    },
    {
     "data": {
      "application/vnd.jupyter.widget-view+json": {
       "model_id": "b9d12fb31d364c6490f2553ce697e779",
       "version_major": 2,
       "version_minor": 0
      },
      "text/plain": [
       "VBox(children=(HBox(children=(HTML(value='Type:'), Button(description='Table', layout=Layout(width='70px'), st…"
      ]
     },
     "metadata": {},
     "output_type": "display_data"
    },
    {
     "data": {
      "application/vnd.jupyter.widget-view+json": {
       "model_id": "e71fe355af484054b6b79da978739e7a",
       "version_major": 2,
       "version_minor": 0
      },
      "text/plain": [
       "Output()"
      ]
     },
     "metadata": {},
     "output_type": "display_data"
    }
   ],
   "source": [
    "%%sql\n",
    "--#q96\n",
    "\n",
    "select  count(*)\n",
    "from dev.iceberg100.store_sales\n",
    "    ,dev.iceberg100.household_demographics\n",
    "    ,dev.iceberg100.time_dim, dev.iceberg100.store\n",
    "where ss_sold_time_sk = dev.iceberg100.time_dim.t_time_sk\n",
    "    and ss_hdemo_sk = dev.iceberg100.household_demographics.hd_demo_sk\n",
    "    and ss_store_sk = s_store_sk\n",
    "    and dev.iceberg100.time_dim.t_hour = 16\n",
    "    and dev.iceberg100.time_dim.t_minute >= 30\n",
    "    and dev.iceberg100.household_demographics.hd_dep_count = 4\n",
    "    and dev.iceberg100.store.s_store_name = 'ese'\n",
    "order by count(*)\n",
    "limit 100"
   ]
  },
  {
   "cell_type": "code",
   "execution_count": 88,
   "id": "f7a1d0cd-e137-4933-a5c7-6db4993c818a",
   "metadata": {
    "execution": {
     "iopub.execute_input": "2024-01-21T01:32:36.122683Z",
     "iopub.status.busy": "2024-01-21T01:32:36.122367Z",
     "iopub.status.idle": "2024-01-21T01:34:45.967365Z",
     "shell.execute_reply": "2024-01-21T01:34:45.966307Z",
     "shell.execute_reply.started": "2024-01-21T01:32:36.122637Z"
    },
    "tags": []
   },
   "outputs": [
    {
     "data": {
      "application/vnd.jupyter.widget-view+json": {
       "model_id": "",
       "version_major": 2,
       "version_minor": 0
      },
      "text/plain": [
       "FloatProgress(value=0.0, bar_style='info', description='Progress:', layout=Layout(height='25px', width='50%'),…"
      ]
     },
     "metadata": {},
     "output_type": "display_data"
    },
    {
     "data": {
      "application/vnd.jupyter.widget-view+json": {
       "model_id": "0b7d86c11c884f119f4702be4978c4a7",
       "version_major": 2,
       "version_minor": 0
      },
      "text/plain": [
       "VBox(children=(HBox(children=(HTML(value='Type:'), Button(description='Table', layout=Layout(width='70px'), st…"
      ]
     },
     "metadata": {},
     "output_type": "display_data"
    },
    {
     "data": {
      "application/vnd.jupyter.widget-view+json": {
       "model_id": "f78a21349e0e4bb88b25a6d6197a4b17",
       "version_major": 2,
       "version_minor": 0
      },
      "text/plain": [
       "Output()"
      ]
     },
     "metadata": {},
     "output_type": "display_data"
    }
   ],
   "source": [
    "%%sql\n",
    "--#q97\n",
    "\n",
    "with ssci as (\n",
    "select ss_customer_sk customer_sk\n",
    "      ,ss_item_sk item_sk\n",
    "from dev.iceberg100.store_sales,dev.iceberg100.date_dim\n",
    "where ss_sold_date_sk = d_date_sk\n",
    "  and d_month_seq between 1209 and 1209 + 11\n",
    "group by ss_customer_sk\n",
    "        ,ss_item_sk),\n",
    "csci as(\n",
    " select cs_bill_customer_sk customer_sk\n",
    "      ,cs_item_sk item_sk\n",
    "from dev.iceberg100.catalog_sales,dev.iceberg100.date_dim\n",
    "where cs_sold_date_sk = d_date_sk\n",
    "  and d_month_seq between 1209 and 1209 + 11\n",
    "group by cs_bill_customer_sk\n",
    "        ,cs_item_sk)\n",
    " select  sum(case when ssci.customer_sk is not null and csci.customer_sk is null then 1 else 0 end) store_only\n",
    "      ,sum(case when ssci.customer_sk is null and csci.customer_sk is not null then 1 else 0 end) catalog_only\n",
    "      ,sum(case when ssci.customer_sk is not null and csci.customer_sk is not null then 1 else 0 end) store_and_catalog\n",
    "from ssci full outer join csci on (ssci.customer_sk=csci.customer_sk\n",
    "                               and ssci.item_sk = csci.item_sk)\n",
    "limit 100"
   ]
  },
  {
   "cell_type": "code",
   "execution_count": 89,
   "id": "d267c739-0f8d-4aff-bb96-c31a0846fa9a",
   "metadata": {
    "execution": {
     "iopub.execute_input": "2024-01-21T01:34:45.969520Z",
     "iopub.status.busy": "2024-01-21T01:34:45.969192Z",
     "iopub.status.idle": "2024-01-21T01:35:41.775444Z",
     "shell.execute_reply": "2024-01-21T01:35:41.774301Z",
     "shell.execute_reply.started": "2024-01-21T01:34:45.969471Z"
    },
    "tags": []
   },
   "outputs": [
    {
     "data": {
      "application/vnd.jupyter.widget-view+json": {
       "model_id": "",
       "version_major": 2,
       "version_minor": 0
      },
      "text/plain": [
       "FloatProgress(value=0.0, bar_style='info', description='Progress:', layout=Layout(height='25px', width='50%'),…"
      ]
     },
     "metadata": {},
     "output_type": "display_data"
    },
    {
     "data": {
      "application/vnd.jupyter.widget-view+json": {
       "model_id": "c35e282a81664ae88fe2fb973645d37f",
       "version_major": 2,
       "version_minor": 0
      },
      "text/plain": [
       "VBox(children=(HBox(children=(HTML(value='Type:'), Button(description='Table', layout=Layout(width='70px'), st…"
      ]
     },
     "metadata": {},
     "output_type": "display_data"
    },
    {
     "data": {
      "application/vnd.jupyter.widget-view+json": {
       "model_id": "242aee48cf2542d583c296251c6978ef",
       "version_major": 2,
       "version_minor": 0
      },
      "text/plain": [
       "Output()"
      ]
     },
     "metadata": {},
     "output_type": "display_data"
    }
   ],
   "source": [
    "%%sql\n",
    "--#q98\n",
    "\n",
    "select i_item_id\n",
    "      ,i_item_desc\n",
    "      ,i_category\n",
    "      ,i_class\n",
    "      ,i_current_price\n",
    "      ,sum(ss_ext_sales_price) as itemrevenue\n",
    "      ,sum(ss_ext_sales_price)*100/sum(sum(ss_ext_sales_price)) over\n",
    "          (partition by i_class) as revenueratio\n",
    "from\n",
    "\tdev.iceberg100.store_sales\n",
    "    \t,dev.iceberg100.item\n",
    "    \t,dev.iceberg100.date_dim\n",
    "where\n",
    "\tss_item_sk = i_item_sk\n",
    "  \tand i_category in ('Jewelry', 'Home', 'Shoes')\n",
    "  \tand ss_sold_date_sk = d_date_sk\n",
    "\tand d_date between cast('2001-04-12' as date)\n",
    "\t\t\t\tand (cast('2001-04-12' as date) + interval 30 days)\n",
    "group by\n",
    "\ti_item_id\n",
    "        ,i_item_desc\n",
    "        ,i_category\n",
    "        ,i_class\n",
    "        ,i_current_price\n",
    "order by\n",
    "\ti_category\n",
    "        ,i_class\n",
    "        ,i_item_id\n",
    "        ,i_item_desc\n",
    "        ,revenueratio"
   ]
  },
  {
   "cell_type": "code",
   "execution_count": 20,
   "id": "c40d8e26-06eb-4467-a610-fff88c84f5a8",
   "metadata": {
    "execution": {
     "iopub.execute_input": "2024-01-21T11:05:48.200462Z",
     "iopub.status.busy": "2024-01-21T11:05:48.200196Z",
     "iopub.status.idle": "2024-01-21T11:05:49.534468Z",
     "shell.execute_reply": "2024-01-21T11:05:49.533440Z",
     "shell.execute_reply.started": "2024-01-21T11:05:48.200429Z"
    },
    "tags": []
   },
   "outputs": [
    {
     "data": {
      "application/vnd.jupyter.widget-view+json": {
       "model_id": "",
       "version_major": 2,
       "version_minor": 0
      },
      "text/plain": [
       "FloatProgress(value=0.0, bar_style='info', description='Progress:', layout=Layout(height='25px', width='50%'),…"
      ]
     },
     "metadata": {},
     "output_type": "display_data"
    },
    {
     "data": {
      "application/vnd.jupyter.widget-view+json": {
       "model_id": "d84c68efaa8644cea73a3d9f0a261fec",
       "version_major": 2,
       "version_minor": 0
      },
      "text/plain": [
       "VBox(children=(HBox(), EncodingWidget(children=(VBox(children=(HTML(value='Encoding:'), Dropdown(description='…"
      ]
     },
     "metadata": {},
     "output_type": "display_data"
    },
    {
     "data": {
      "application/vnd.jupyter.widget-view+json": {
       "model_id": "048c3d5fd2df45bbbc8812ffebfc20b9",
       "version_major": 2,
       "version_minor": 0
      },
      "text/plain": [
       "Output()"
      ]
     },
     "metadata": {},
     "output_type": "display_data"
    }
   ],
   "source": [
    "%%sql\n",
    "--#q99\n",
    "\n",
    "CREATE OR REPLACE TEMPORARY VIEW query_result_q99 AS \n",
    "select\n",
    "   substr(w_warehouse_name,1,20)\n",
    "  ,sm_type\n",
    "  ,cc_name\n",
    "  ,sum(case when (cs_ship_date_sk - cs_sold_date_sk <= 30 ) then 1 else 0 end)  as `30 days`\n",
    "  ,sum(case when (cs_ship_date_sk - cs_sold_date_sk > 30) and\n",
    "                 (cs_ship_date_sk - cs_sold_date_sk <= 60) then 1 else 0 end )  as `31-60 days`\n",
    "  ,sum(case when (cs_ship_date_sk - cs_sold_date_sk > 60) and\n",
    "                 (cs_ship_date_sk - cs_sold_date_sk <= 90) then 1 else 0 end)  as `61-90 days`\n",
    "  ,sum(case when (cs_ship_date_sk - cs_sold_date_sk > 90) and\n",
    "                 (cs_ship_date_sk - cs_sold_date_sk <= 120) then 1 else 0 end)  as `91-120 days`\n",
    "  ,sum(case when (cs_ship_date_sk - cs_sold_date_sk  > 120) then 1 else 0 end)  as `>120 days`\n",
    "from\n",
    "   dev.iceberg100.catalog_sales\n",
    "  ,dev.iceberg100.warehouse\n",
    "  ,dev.iceberg100.ship_mode\n",
    "  ,dev.iceberg100.call_center\n",
    "  ,dev.iceberg100.date_dim\n",
    "where\n",
    "    d_month_seq between 1203 and 1203 + 11\n",
    "and cs_ship_date_sk   = d_date_sk\n",
    "and cs_warehouse_sk   = w_warehouse_sk\n",
    "and cs_ship_mode_sk   = sm_ship_mode_sk\n",
    "and cs_call_center_sk = cc_call_center_sk\n",
    "group by\n",
    "   substr(w_warehouse_name,1,20)\n",
    "  ,sm_type\n",
    "  ,cc_name\n",
    "order by substr(w_warehouse_name,1,20)\n",
    "        ,sm_type\n",
    "        ,cc_name\n",
    "limit 100"
   ]
  },
  {
   "cell_type": "code",
   "execution_count": 19,
   "id": "005777c7-ed2c-48d7-ad98-264bc1392d89",
   "metadata": {
    "execution": {
     "iopub.execute_input": "2024-01-21T11:05:47.945561Z",
     "iopub.status.busy": "2024-01-21T11:05:47.945286Z",
     "iopub.status.idle": "2024-01-21T11:05:48.039001Z",
     "shell.execute_reply": "2024-01-21T11:05:48.037372Z",
     "shell.execute_reply.started": "2024-01-21T11:05:47.945532Z"
    },
    "tags": []
   },
   "outputs": [
    {
     "data": {
      "application/vnd.jupyter.widget-view+json": {
       "model_id": "842796b1d8c548909ca66f2528c2cb47",
       "version_major": 2,
       "version_minor": 0
      },
      "text/plain": [
       "VBox()"
      ]
     },
     "metadata": {},
     "output_type": "display_data"
    },
    {
     "data": {
      "application/vnd.jupyter.widget-view+json": {
       "model_id": "",
       "version_major": 2,
       "version_minor": 0
      },
      "text/plain": [
       "FloatProgress(value=0.0, bar_style='info', description='Progress:', layout=Layout(height='25px', width='50%'),…"
      ]
     },
     "metadata": {},
     "output_type": "display_data"
    }
   ],
   "source": [
    "from datetime import datetime\n",
    "from pyspark.sql import SparkSession\n",
    "\n",
    "# Start time\n",
    "start_time = datetime.now()\n"
   ]
  },
  {
   "cell_type": "code",
   "execution_count": 20,
   "id": "28867b79-0095-4e04-8680-f26a48b8707d",
   "metadata": {
    "execution": {
     "iopub.execute_input": "2024-01-21T11:05:48.200462Z",
     "iopub.status.busy": "2024-01-21T11:05:48.200196Z",
     "iopub.status.idle": "2024-01-21T11:05:49.534468Z",
     "shell.execute_reply": "2024-01-21T11:05:49.533440Z",
     "shell.execute_reply.started": "2024-01-21T11:05:48.200429Z"
    },
    "tags": []
   },
   "outputs": [
    {
     "data": {
      "application/vnd.jupyter.widget-view+json": {
       "model_id": "",
       "version_major": 2,
       "version_minor": 0
      },
      "text/plain": [
       "FloatProgress(value=0.0, bar_style='info', description='Progress:', layout=Layout(height='25px', width='50%'),…"
      ]
     },
     "metadata": {},
     "output_type": "display_data"
    },
    {
     "data": {
      "application/vnd.jupyter.widget-view+json": {
       "model_id": "d84c68efaa8644cea73a3d9f0a261fec",
       "version_major": 2,
       "version_minor": 0
      },
      "text/plain": [
       "VBox(children=(HBox(), EncodingWidget(children=(VBox(children=(HTML(value='Encoding:'), Dropdown(description='…"
      ]
     },
     "metadata": {},
     "output_type": "display_data"
    },
    {
     "data": {
      "application/vnd.jupyter.widget-view+json": {
       "model_id": "048c3d5fd2df45bbbc8812ffebfc20b9",
       "version_major": 2,
       "version_minor": 0
      },
      "text/plain": [
       "Output()"
      ]
     },
     "metadata": {},
     "output_type": "display_data"
    }
   ],
   "source": [
    "%%sql\n",
    "--#q99\n",
    "\n",
    "CREATE OR REPLACE TEMPORARY VIEW query_result_q99 AS \n",
    "select\n",
    "   substr(w_warehouse_name,1,20)\n",
    "  ,sm_type\n",
    "  ,cc_name\n",
    "  ,sum(case when (cs_ship_date_sk - cs_sold_date_sk <= 30 ) then 1 else 0 end)  as `30 days`\n",
    "  ,sum(case when (cs_ship_date_sk - cs_sold_date_sk > 30) and\n",
    "                 (cs_ship_date_sk - cs_sold_date_sk <= 60) then 1 else 0 end )  as `31-60 days`\n",
    "  ,sum(case when (cs_ship_date_sk - cs_sold_date_sk > 60) and\n",
    "                 (cs_ship_date_sk - cs_sold_date_sk <= 90) then 1 else 0 end)  as `61-90 days`\n",
    "  ,sum(case when (cs_ship_date_sk - cs_sold_date_sk > 90) and\n",
    "                 (cs_ship_date_sk - cs_sold_date_sk <= 120) then 1 else 0 end)  as `91-120 days`\n",
    "  ,sum(case when (cs_ship_date_sk - cs_sold_date_sk  > 120) then 1 else 0 end)  as `>120 days`\n",
    "from\n",
    "   dev.iceberg100.catalog_sales\n",
    "  ,dev.iceberg100.warehouse\n",
    "  ,dev.iceberg100.ship_mode\n",
    "  ,dev.iceberg100.call_center\n",
    "  ,dev.iceberg100.date_dim\n",
    "where\n",
    "    d_month_seq between 1203 and 1203 + 11\n",
    "and cs_ship_date_sk   = d_date_sk\n",
    "and cs_warehouse_sk   = w_warehouse_sk\n",
    "and cs_ship_mode_sk   = sm_ship_mode_sk\n",
    "and cs_call_center_sk = cc_call_center_sk\n",
    "group by\n",
    "   substr(w_warehouse_name,1,20)\n",
    "  ,sm_type\n",
    "  ,cc_name\n",
    "order by substr(w_warehouse_name,1,20)\n",
    "        ,sm_type\n",
    "        ,cc_name\n",
    "limit 100"
   ]
  },
  {
   "cell_type": "code",
   "execution_count": 21,
   "id": "94739ef3-23ec-475d-927e-c692e8828d4c",
   "metadata": {
    "execution": {
     "iopub.execute_input": "2024-01-21T11:05:49.536736Z",
     "iopub.status.busy": "2024-01-21T11:05:49.536345Z",
     "iopub.status.idle": "2024-01-21T11:05:49.631955Z",
     "shell.execute_reply": "2024-01-21T11:05:49.630404Z",
     "shell.execute_reply.started": "2024-01-21T11:05:49.536687Z"
    },
    "tags": []
   },
   "outputs": [
    {
     "data": {
      "application/vnd.jupyter.widget-view+json": {
       "model_id": "a5304f5e765e429c86666425374c9008",
       "version_major": 2,
       "version_minor": 0
      },
      "text/plain": [
       "VBox()"
      ]
     },
     "metadata": {},
     "output_type": "display_data"
    },
    {
     "data": {
      "application/vnd.jupyter.widget-view+json": {
       "model_id": "",
       "version_major": 2,
       "version_minor": 0
      },
      "text/plain": [
       "FloatProgress(value=0.0, bar_style='info', description='Progress:', layout=Layout(height='25px', width='50%'),…"
      ]
     },
     "metadata": {},
     "output_type": "display_data"
    },
    {
     "name": "stdout",
     "output_type": "stream",
     "text": [
      "Elapsed Time: 0:00:01.602798"
     ]
    }
   ],
   "source": [
    "# End time\n",
    "end_time = datetime.now()\n",
    "\n",
    "# Calculate elapsed time\n",
    "elapsed_time = end_time - start_time\n",
    "\n",
    "# Print and save the elapsed time\n",
    "print(f\"Elapsed Time: {elapsed_time}\")"
   ]
  },
  {
   "cell_type": "code",
   "execution_count": 13,
   "id": "68fef78b-bbb7-48e8-b173-b94c1675728b",
   "metadata": {
    "execution": {
     "iopub.execute_input": "2024-01-21T10:59:33.025968Z",
     "iopub.status.busy": "2024-01-21T10:59:33.025715Z",
     "iopub.status.idle": "2024-01-21T11:00:38.748479Z",
     "shell.execute_reply": "2024-01-21T11:00:38.746969Z",
     "shell.execute_reply.started": "2024-01-21T10:59:33.025937Z"
    },
    "tags": []
   },
   "outputs": [
    {
     "data": {
      "application/vnd.jupyter.widget-view+json": {
       "model_id": "",
       "version_major": 2,
       "version_minor": 0
      },
      "text/plain": [
       "FloatProgress(value=0.0, bar_style='info', description='Progress:', layout=Layout(height='25px', width='50%'),…"
      ]
     },
     "metadata": {},
     "output_type": "display_data"
    },
    {
     "data": {
      "application/vnd.jupyter.widget-view+json": {
       "model_id": "30f98c60f5584c0980e50271c128b2fb",
       "version_major": 2,
       "version_minor": 0
      },
      "text/plain": [
       "VBox(children=(HBox(children=(HTML(value='Type:'), Button(description='Table', layout=Layout(width='70px'), st…"
      ]
     },
     "metadata": {},
     "output_type": "display_data"
    },
    {
     "data": {
      "application/vnd.jupyter.widget-view+json": {
       "model_id": "46a2d9d6e310438a8e097673f0953719",
       "version_major": 2,
       "version_minor": 0
      },
      "text/plain": [
       "Output()"
      ]
     },
     "metadata": {},
     "output_type": "display_data"
    }
   ],
   "source": [
    "# Read the temporary view into a DataFrame\n",
    "result_df = spark.sql(\"SELECT * FROM query_result_q99\")\n",
    "\n",
    "# Specify the output path where you want to save the DataFrame\n",
    "output_path = \"s3://lhworkspace/queryresults/\"\n",
    "\n",
    "# Save the DataFrame to a Parquet file\n",
    "result_df.write.parquet(output_path)\n"
   ]
  },
  {
   "cell_type": "code",
   "execution_count": null,
   "id": "92acd0f0-4229-4b87-a317-fb8b2d64f23b",
   "metadata": {},
   "outputs": [],
   "source": []
  }
 ],
 "metadata": {
  "kernelspec": {
   "display_name": "PySpark",
   "language": "python",
   "name": "pysparkkernel"
  },
  "language_info": {
   "codemirror_mode": {
    "name": "python",
    "version": 3
   },
   "file_extension": ".py",
   "mimetype": "text/x-python",
   "name": "pyspark",
   "pygments_lexer": "python3"
  }
 },
 "nbformat": 4,
 "nbformat_minor": 5
}
